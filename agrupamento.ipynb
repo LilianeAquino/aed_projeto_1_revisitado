{
 "cells": [
  {
   "cell_type": "markdown",
   "metadata": {
    "id": "CEtG6c4koygW"
   },
   "source": [
    "# Projeto #1 - Mineração de agrupamentos\n",
    "\n",
    "<p style='text-align: justify;'><font size=3.>Análise de acidentes nas rodovias federais brasileira entre 2007 e 2021.</font></p>"
   ]
  },
  {
   "cell_type": "markdown",
   "metadata": {
    "id": "IGJiaCUD1ncA"
   },
   "source": [
    "### Bibliotecas básicas e outros imports"
   ]
  },
  {
   "cell_type": "code",
   "execution_count": 1,
   "metadata": {
    "ExecuteTime": {
     "end_time": "2021-12-24T13:59:56.581302Z",
     "start_time": "2021-12-24T13:59:54.552507Z"
    },
    "id": "4bG6r2Bwoyge"
   },
   "outputs": [],
   "source": [
    "import warnings\n",
    "import matplotlib\n",
    "import numpy as np\n",
    "import pandas as pd\n",
    "import seaborn as sns\n",
    "import matplotlib.pyplot as plt\n",
    "from sklearn.cluster import KMeans\n",
    "from sklearn.preprocessing import LabelEncoder\n",
    "\n",
    "%run modules/text.py\n",
    "\n",
    "%matplotlib inline\n",
    "plt.rcParams['font.family'] = 'Arial, Helvetica, sans-serif'\n",
    "\n",
    "warnings.filterwarnings('ignore')\n",
    "pd.set_option('display.max_rows', 1000)\n",
    "pd.set_option('display.max_columns', 200)\n",
    "np.set_printoptions(suppress=True, precision=3)"
   ]
  },
  {
   "cell_type": "markdown",
   "metadata": {
    "id": "rjtF8niV1ncF"
   },
   "source": [
    "### Carregamento dos dados"
   ]
  },
  {
   "cell_type": "code",
   "execution_count": 2,
   "metadata": {
    "ExecuteTime": {
     "end_time": "2021-12-24T14:00:09.194464Z",
     "start_time": "2021-12-24T13:59:56.585180Z"
    },
    "colab": {
     "base_uri": "https://localhost:8080/",
     "height": 134
    },
    "id": "H8Xxqiwcoygh",
    "outputId": "948da79f-e337-4029-b318-a0ef40832d18"
   },
   "outputs": [
    {
     "name": "stdout",
     "output_type": "stream",
     "text": [
      "Linhas: 1707393 | Coluna:  27\n"
     ]
    },
    {
     "data": {
      "text/html": [
       "<div>\n",
       "<style scoped>\n",
       "    .dataframe tbody tr th:only-of-type {\n",
       "        vertical-align: middle;\n",
       "    }\n",
       "\n",
       "    .dataframe tbody tr th {\n",
       "        vertical-align: top;\n",
       "    }\n",
       "\n",
       "    .dataframe thead th {\n",
       "        text-align: right;\n",
       "    }\n",
       "</style>\n",
       "<table border=\"1\" class=\"dataframe\">\n",
       "  <thead>\n",
       "    <tr style=\"text-align: right;\">\n",
       "      <th></th>\n",
       "      <th>id</th>\n",
       "      <th>dia_semana</th>\n",
       "      <th>uf</th>\n",
       "      <th>br</th>\n",
       "      <th>municipio</th>\n",
       "      <th>causa_acidente</th>\n",
       "      <th>tipo_acidente</th>\n",
       "      <th>classificacao_acidente</th>\n",
       "      <th>fase_dia</th>\n",
       "      <th>sentido_via</th>\n",
       "      <th>condicao_metereologica</th>\n",
       "      <th>tipo_pista</th>\n",
       "      <th>tracado_via</th>\n",
       "      <th>uso_solo</th>\n",
       "      <th>tipo_veiculo</th>\n",
       "      <th>tipo_envolvido</th>\n",
       "      <th>estado_fisico</th>\n",
       "      <th>idade</th>\n",
       "      <th>sexo</th>\n",
       "      <th>data</th>\n",
       "      <th>mes</th>\n",
       "      <th>ano</th>\n",
       "      <th>tipo_acidente_agrupado</th>\n",
       "      <th>fase_dia_agrupado</th>\n",
       "      <th>dia_semana_agrupado</th>\n",
       "      <th>condicao_metereologica_agrupado</th>\n",
       "      <th>porte_veiculo</th>\n",
       "    </tr>\n",
       "  </thead>\n",
       "  <tbody>\n",
       "    <tr>\n",
       "      <th>0</th>\n",
       "      <td>83123216.0</td>\n",
       "      <td>quarta</td>\n",
       "      <td>SC</td>\n",
       "      <td>101</td>\n",
       "      <td>Balneario Camboriu</td>\n",
       "      <td>nao guardar distancia de seguranca</td>\n",
       "      <td>colisao traseira</td>\n",
       "      <td>sem vitimas</td>\n",
       "      <td>plena noite</td>\n",
       "      <td>decrescente</td>\n",
       "      <td>chuva</td>\n",
       "      <td>simples</td>\n",
       "      <td>reta</td>\n",
       "      <td>urbano</td>\n",
       "      <td>automovel</td>\n",
       "      <td>condutor</td>\n",
       "      <td>ileso</td>\n",
       "      <td>29</td>\n",
       "      <td>masculino</td>\n",
       "      <td>2014-01-01</td>\n",
       "      <td>1</td>\n",
       "      <td>2014</td>\n",
       "      <td>colisão</td>\n",
       "      <td>noite</td>\n",
       "      <td>dia útil</td>\n",
       "      <td>tempo ruim</td>\n",
       "      <td>pequeno porte</td>\n",
       "    </tr>\n",
       "  </tbody>\n",
       "</table>\n",
       "</div>"
      ],
      "text/plain": [
       "           id dia_semana  uf   br           municipio  \\\n",
       "0  83123216.0     quarta  SC  101  Balneario Camboriu   \n",
       "\n",
       "                       causa_acidente     tipo_acidente  \\\n",
       "0  nao guardar distancia de seguranca  colisao traseira   \n",
       "\n",
       "  classificacao_acidente     fase_dia  sentido_via condicao_metereologica  \\\n",
       "0            sem vitimas  plena noite  decrescente                  chuva   \n",
       "\n",
       "  tipo_pista tracado_via uso_solo tipo_veiculo tipo_envolvido estado_fisico  \\\n",
       "0    simples        reta   urbano    automovel       condutor         ileso   \n",
       "\n",
       "   idade       sexo        data  mes   ano tipo_acidente_agrupado  \\\n",
       "0     29  masculino  2014-01-01    1  2014                colisão   \n",
       "\n",
       "  fase_dia_agrupado dia_semana_agrupado condicao_metereologica_agrupado  \\\n",
       "0             noite            dia útil                      tempo ruim   \n",
       "\n",
       "   porte_veiculo  \n",
       "0  pequeno porte  "
      ]
     },
     "execution_count": 2,
     "metadata": {},
     "output_type": "execute_result"
    }
   ],
   "source": [
    "df = pd.read_csv('dataset/cluster_acidentes_rodovias_brasileiras_2007_a_2021.csv', low_memory=False, encoding='utf-8')\n",
    "print(f'Linhas: {df.shape[0]} | Coluna:  {df.shape[1]}')\n",
    "df.head(1)"
   ]
  },
  {
   "cell_type": "markdown",
   "metadata": {},
   "source": [
    "### Categorização da variável idade\n",
    "\n",
    "> <p style='text-align: justify;'><font size=2.85>Categorização realizada de acordo com o estatuto da criança e adolescente (ECA).</font></p>\n",
    "\n",
    "| faixa | categoria |\n",
    "| --- | --- |\n",
    "| 0-11 | criança |\n",
    "| 12-17  | adolescente |\n",
    "| 18-29 | jovem |\n",
    "| 30-59 | adulto |\n",
    "| acima de 60 | idoso |"
   ]
  },
  {
   "cell_type": "code",
   "execution_count": 3,
   "metadata": {
    "ExecuteTime": {
     "end_time": "2021-12-24T14:00:09.269545Z",
     "start_time": "2021-12-24T14:00:09.198451Z"
    }
   },
   "outputs": [],
   "source": [
    "labels = ['criança', 'adolescente', 'jovem', 'adulto', 'idoso']\n",
    "classes = [0, 11, 17, 29, 59, 99]\n",
    "df['faixa_etaria'] = pd.cut(x=df['idade'], bins=classes, labels=labels, include_lowest=True)"
   ]
  },
  {
   "cell_type": "markdown",
   "metadata": {},
   "source": [
    "### Categorização variável data"
   ]
  },
  {
   "cell_type": "code",
   "execution_count": 4,
   "metadata": {
    "ExecuteTime": {
     "end_time": "2021-12-24T14:00:22.823948Z",
     "start_time": "2021-12-24T14:00:09.273396Z"
    }
   },
   "outputs": [],
   "source": [
    "df['data'] = pd.to_datetime(df['data'])\n",
    "df['estacao_do_ano'] = df['data'].apply(mapEstacaoAno)"
   ]
  },
  {
   "cell_type": "markdown",
   "metadata": {},
   "source": [
    "### Seleção de features"
   ]
  },
  {
   "cell_type": "code",
   "execution_count": 5,
   "metadata": {
    "ExecuteTime": {
     "end_time": "2021-12-24T14:00:24.119209Z",
     "start_time": "2021-12-24T14:00:22.826520Z"
    }
   },
   "outputs": [
    {
     "data": {
      "text/html": [
       "<div>\n",
       "<style scoped>\n",
       "    .dataframe tbody tr th:only-of-type {\n",
       "        vertical-align: middle;\n",
       "    }\n",
       "\n",
       "    .dataframe tbody tr th {\n",
       "        vertical-align: top;\n",
       "    }\n",
       "\n",
       "    .dataframe thead th {\n",
       "        text-align: right;\n",
       "    }\n",
       "</style>\n",
       "<table border=\"1\" class=\"dataframe\">\n",
       "  <thead>\n",
       "    <tr style=\"text-align: right;\">\n",
       "      <th></th>\n",
       "      <th>fase_dia</th>\n",
       "      <th>tipo_acidente_agrupado</th>\n",
       "      <th>causa_acidente</th>\n",
       "      <th>condicao_metereologica_agrupado</th>\n",
       "      <th>tracado_via</th>\n",
       "      <th>sexo</th>\n",
       "      <th>faixa_etaria</th>\n",
       "      <th>estado_fisico</th>\n",
       "      <th>estacao_do_ano</th>\n",
       "      <th>dia_semana_agrupado</th>\n",
       "      <th>tipo_pista</th>\n",
       "      <th>porte_veiculo</th>\n",
       "    </tr>\n",
       "  </thead>\n",
       "  <tbody>\n",
       "    <tr>\n",
       "      <th>0</th>\n",
       "      <td>plena noite</td>\n",
       "      <td>colisão</td>\n",
       "      <td>nao guardar distancia de seguranca</td>\n",
       "      <td>tempo ruim</td>\n",
       "      <td>reta</td>\n",
       "      <td>masculino</td>\n",
       "      <td>jovem</td>\n",
       "      <td>ileso</td>\n",
       "      <td>verão</td>\n",
       "      <td>dia útil</td>\n",
       "      <td>simples</td>\n",
       "      <td>pequeno porte</td>\n",
       "    </tr>\n",
       "  </tbody>\n",
       "</table>\n",
       "</div>"
      ],
      "text/plain": [
       "      fase_dia tipo_acidente_agrupado                      causa_acidente  \\\n",
       "0  plena noite                colisão  nao guardar distancia de seguranca   \n",
       "\n",
       "  condicao_metereologica_agrupado tracado_via       sexo faixa_etaria  \\\n",
       "0                      tempo ruim        reta  masculino        jovem   \n",
       "\n",
       "  estado_fisico estacao_do_ano dia_semana_agrupado tipo_pista  porte_veiculo  \n",
       "0         ileso          verão            dia útil    simples  pequeno porte  "
      ]
     },
     "execution_count": 5,
     "metadata": {},
     "output_type": "execute_result"
    }
   ],
   "source": [
    "colunas = [\n",
    "    'fase_dia',\n",
    "    'tipo_acidente_agrupado',\n",
    "    'causa_acidente',\n",
    "    'condicao_metereologica_agrupado',\n",
    "    'tracado_via',\n",
    "    'sexo',\n",
    "    'faixa_etaria',\n",
    "    'estado_fisico',\n",
    "    'estacao_do_ano',\n",
    "    'dia_semana_agrupado',\n",
    "    'tipo_pista',\n",
    "    'porte_veiculo'\n",
    "]\n",
    "\n",
    "dados = df[colunas]\n",
    "dados.head(1)"
   ]
  },
  {
   "cell_type": "markdown",
   "metadata": {},
   "source": [
    "### Mineração de agrupamento"
   ]
  },
  {
   "cell_type": "markdown",
   "metadata": {
    "lang": "en"
   },
   "source": [
    "Conversão para valores numéricos"
   ]
  },
  {
   "cell_type": "code",
   "execution_count": 6,
   "metadata": {
    "ExecuteTime": {
     "end_time": "2021-12-24T14:00:30.251738Z",
     "start_time": "2021-12-24T14:00:24.122228Z"
    }
   },
   "outputs": [],
   "source": [
    "le = LabelEncoder()\n",
    "for col in dados.columns:\n",
    "    dados[col+'_encoder'] = le.fit_transform(dados[col].astype(str))"
   ]
  },
  {
   "cell_type": "markdown",
   "metadata": {},
   "source": [
    "Método do cotovelo"
   ]
  },
  {
   "cell_type": "code",
   "execution_count": 7,
   "metadata": {
    "ExecuteTime": {
     "end_time": "2021-12-24T14:05:17.277376Z",
     "start_time": "2021-12-24T14:00:30.254299Z"
    }
   },
   "outputs": [
    {
     "data": {
      "image/png": "[encoded data removed]",
      "text/plain": [
       "<Figure size 864x432 with 1 Axes>"
      ]
     },
     "metadata": {
      "needs_background": "light"
     },
     "output_type": "display_data"
    }
   ],
   "source": [
    "X = dados.iloc[:, 12:]\n",
    "inertias = []\n",
    "ks = range(1, 11)\n",
    "\n",
    "for k in ks:\n",
    "    model = KMeans(n_clusters=k, init='random')\n",
    "    model.fit(X)\n",
    "    inertias.append(model.inertia_)\n",
    "\n",
    "plt.figure(figsize=(12, 6))\n",
    "plt.gca().spines['top'].set_visible(False)\n",
    "plt.gca().spines['right'].set_visible(False)\n",
    "plt.plot(ks, inertias, '-o', color='#191970')\n",
    "plt.xlabel(None)\n",
    "plt.ylabel('Distâncias', fontsize=14, horizontalalignment='left', y=0.80)\n",
    "plt.xticks(ks)\n",
    "plt.grid(False)\n",
    "plt.show()"
   ]
  },
  {
   "cell_type": "markdown",
   "metadata": {
    "lang": "fr"
   },
   "source": [
    "Agrupamento"
   ]
  },
  {
   "cell_type": "code",
   "execution_count": 8,
   "metadata": {
    "ExecuteTime": {
     "end_time": "2021-12-24T14:05:40.994412Z",
     "start_time": "2021-12-24T14:05:17.296037Z"
    }
   },
   "outputs": [
    {
     "data": {
      "text/html": [
       "<div>\n",
       "<style scoped>\n",
       "    .dataframe tbody tr th:only-of-type {\n",
       "        vertical-align: middle;\n",
       "    }\n",
       "\n",
       "    .dataframe tbody tr th {\n",
       "        vertical-align: top;\n",
       "    }\n",
       "\n",
       "    .dataframe thead th {\n",
       "        text-align: right;\n",
       "    }\n",
       "</style>\n",
       "<table border=\"1\" class=\"dataframe\">\n",
       "  <thead>\n",
       "    <tr style=\"text-align: right;\">\n",
       "      <th></th>\n",
       "      <th>fase_dia</th>\n",
       "      <th>tipo_acidente_agrupado</th>\n",
       "      <th>causa_acidente</th>\n",
       "      <th>condicao_metereologica_agrupado</th>\n",
       "      <th>tracado_via</th>\n",
       "      <th>sexo</th>\n",
       "      <th>faixa_etaria</th>\n",
       "      <th>estado_fisico</th>\n",
       "      <th>estacao_do_ano</th>\n",
       "      <th>dia_semana_agrupado</th>\n",
       "      <th>tipo_pista</th>\n",
       "      <th>porte_veiculo</th>\n",
       "      <th>fase_dia_encoder</th>\n",
       "      <th>tipo_acidente_agrupado_encoder</th>\n",
       "      <th>causa_acidente_encoder</th>\n",
       "      <th>condicao_metereologica_agrupado_encoder</th>\n",
       "      <th>tracado_via_encoder</th>\n",
       "      <th>sexo_encoder</th>\n",
       "      <th>faixa_etaria_encoder</th>\n",
       "      <th>estado_fisico_encoder</th>\n",
       "      <th>estacao_do_ano_encoder</th>\n",
       "      <th>dia_semana_agrupado_encoder</th>\n",
       "      <th>tipo_pista_encoder</th>\n",
       "      <th>porte_veiculo_encoder</th>\n",
       "      <th>cluster</th>\n",
       "    </tr>\n",
       "  </thead>\n",
       "  <tbody>\n",
       "    <tr>\n",
       "      <th>1235196</th>\n",
       "      <td>pleno dia</td>\n",
       "      <td>colisão</td>\n",
       "      <td>falta de atencao</td>\n",
       "      <td>ensolarado</td>\n",
       "      <td>reta</td>\n",
       "      <td>feminino</td>\n",
       "      <td>jovem</td>\n",
       "      <td>ileso</td>\n",
       "      <td>primavera</td>\n",
       "      <td>dia útil</td>\n",
       "      <td>dupla</td>\n",
       "      <td>pequeno porte</td>\n",
       "      <td>3</td>\n",
       "      <td>2</td>\n",
       "      <td>39</td>\n",
       "      <td>0</td>\n",
       "      <td>6</td>\n",
       "      <td>0</td>\n",
       "      <td>4</td>\n",
       "      <td>2</td>\n",
       "      <td>2</td>\n",
       "      <td>0</td>\n",
       "      <td>0</td>\n",
       "      <td>3</td>\n",
       "      <td>1</td>\n",
       "    </tr>\n",
       "  </tbody>\n",
       "</table>\n",
       "</div>"
      ],
      "text/plain": [
       "          fase_dia tipo_acidente_agrupado    causa_acidente  \\\n",
       "1235196  pleno dia                colisão  falta de atencao   \n",
       "\n",
       "        condicao_metereologica_agrupado tracado_via      sexo faixa_etaria  \\\n",
       "1235196                      ensolarado        reta  feminino        jovem   \n",
       "\n",
       "        estado_fisico estacao_do_ano dia_semana_agrupado tipo_pista  \\\n",
       "1235196         ileso      primavera            dia útil      dupla   \n",
       "\n",
       "         porte_veiculo  fase_dia_encoder  tipo_acidente_agrupado_encoder  \\\n",
       "1235196  pequeno porte                 3                               2   \n",
       "\n",
       "         causa_acidente_encoder  condicao_metereologica_agrupado_encoder  \\\n",
       "1235196                      39                                        0   \n",
       "\n",
       "         tracado_via_encoder  sexo_encoder  faixa_etaria_encoder  \\\n",
       "1235196                    6             0                     4   \n",
       "\n",
       "         estado_fisico_encoder  estacao_do_ano_encoder  \\\n",
       "1235196                      2                       2   \n",
       "\n",
       "         dia_semana_agrupado_encoder  tipo_pista_encoder  \\\n",
       "1235196                            0                   0   \n",
       "\n",
       "         porte_veiculo_encoder  cluster  \n",
       "1235196                      3        1  "
      ]
     },
     "execution_count": 8,
     "metadata": {},
     "output_type": "execute_result"
    }
   ],
   "source": [
    "kmeans= KMeans(n_clusters=4, random_state=85, init='random')\n",
    "kmeans.fit(X)\n",
    "dados['cluster'] = kmeans.labels_\n",
    "dados.sample()"
   ]
  },
  {
   "cell_type": "markdown",
   "metadata": {},
   "source": [
    "### Análise do agrupamento"
   ]
  },
  {
   "cell_type": "code",
   "execution_count": 9,
   "metadata": {
    "ExecuteTime": {
     "end_time": "2021-12-24T14:05:41.067326Z",
     "start_time": "2021-12-24T14:05:40.998683Z"
    }
   },
   "outputs": [
    {
     "name": "stdout",
     "output_type": "stream",
     "text": [
      "1    699070\n",
      "3    641834\n",
      "2    197712\n",
      "0    168777\n",
      "Name: cluster, dtype: int64\n"
     ]
    }
   ],
   "source": [
    "print(dados['cluster'].value_counts())"
   ]
  },
  {
   "cell_type": "markdown",
   "metadata": {},
   "source": [
    "Cluster 1"
   ]
  },
  {
   "cell_type": "code",
   "execution_count": 34,
   "metadata": {
    "ExecuteTime": {
     "end_time": "2021-12-24T14:15:26.819084Z",
     "start_time": "2021-12-24T14:15:26.380141Z"
    }
   },
   "outputs": [
    {
     "name": "stdout",
     "output_type": "stream",
     "text": [
      "Coluna fase_dia: pleno dia\n",
      "Coluna tipo_acidente_agrupado: colisão\n",
      "Coluna causa_acidente: defeito mecanico no veiculo\n",
      "Coluna condicao_metereologica_agrupado: ensolarado\n",
      "Coluna tracado_via: reta\n",
      "Coluna sexo: masculino\n",
      "Coluna faixa_etaria: adulto\n",
      "Coluna estado_fisico: ileso\n",
      "Coluna estacao_do_ano: inverno\n",
      "Coluna dia_semana_agrupado: dia útil\n",
      "Coluna tipo_pista: simples\n",
      "Coluna porte_veiculo: pequeno porte\n"
     ]
    }
   ],
   "source": [
    "cluster_um = dados.query('cluster==0')\n",
    "cluster_um.drop(X.columns, axis=1, inplace=True)\n",
    "\n",
    "for col in cluster_um.iloc[:, :12]:\n",
    "    print(f'Coluna {col}: {cluster_um[col].value_counts().index[0]}')"
   ]
  },
  {
   "cell_type": "markdown",
   "metadata": {},
   "source": [
    "Cluster 2"
   ]
  },
  {
   "cell_type": "code",
   "execution_count": 35,
   "metadata": {
    "ExecuteTime": {
     "end_time": "2021-12-24T14:15:43.339974Z",
     "start_time": "2021-12-24T14:15:41.595364Z"
    }
   },
   "outputs": [
    {
     "name": "stdout",
     "output_type": "stream",
     "text": [
      "Coluna fase_dia: pleno dia\n",
      "Coluna tipo_acidente_agrupado: colisão\n",
      "Coluna causa_acidente: falta de atencao\n",
      "Coluna condicao_metereologica_agrupado: ensolarado\n",
      "Coluna tracado_via: reta\n",
      "Coluna sexo: masculino\n",
      "Coluna faixa_etaria: adulto\n",
      "Coluna estado_fisico: ileso\n",
      "Coluna estacao_do_ano: inverno\n",
      "Coluna dia_semana_agrupado: dia útil\n",
      "Coluna tipo_pista: simples\n",
      "Coluna porte_veiculo: pequeno porte\n"
     ]
    }
   ],
   "source": [
    "cluster_dois = dados.query('cluster==1')\n",
    "cluster_dois.drop(X.columns, axis=1, inplace=True)\n",
    "\n",
    "for col in cluster_dois.iloc[:, :12]:\n",
    "    print(f'Coluna {col}: {cluster_dois[col].value_counts().index[0]}')"
   ]
  },
  {
   "cell_type": "markdown",
   "metadata": {},
   "source": [
    "Cluster 3"
   ]
  },
  {
   "cell_type": "code",
   "execution_count": 36,
   "metadata": {
    "ExecuteTime": {
     "end_time": "2021-12-24T14:16:11.145933Z",
     "start_time": "2021-12-24T14:16:10.638503Z"
    }
   },
   "outputs": [
    {
     "name": "stdout",
     "output_type": "stream",
     "text": [
      "Coluna fase_dia: pleno dia\n",
      "Coluna tipo_acidente_agrupado: colisão\n",
      "Coluna causa_acidente: velocidade incompativel\n",
      "Coluna condicao_metereologica_agrupado: ensolarado\n",
      "Coluna tracado_via: curva\n",
      "Coluna sexo: masculino\n",
      "Coluna faixa_etaria: adulto\n",
      "Coluna estado_fisico: ileso\n",
      "Coluna estacao_do_ano: verão\n",
      "Coluna dia_semana_agrupado: dia útil\n",
      "Coluna tipo_pista: simples\n",
      "Coluna porte_veiculo: pequeno porte\n"
     ]
    }
   ],
   "source": [
    "cluster_tres = dados.query('cluster==2')\n",
    "cluster_tres.drop(X.columns, axis=1, inplace=True)\n",
    "\n",
    "for col in cluster_tres.iloc[:, :12]:\n",
    "    print(f'Coluna {col}: {cluster_tres[col].value_counts().index[0]}')"
   ]
  },
  {
   "cell_type": "markdown",
   "metadata": {},
   "source": [
    "Cluster 4"
   ]
  },
  {
   "cell_type": "code",
   "execution_count": 37,
   "metadata": {
    "ExecuteTime": {
     "end_time": "2021-12-24T14:16:31.440566Z",
     "start_time": "2021-12-24T14:16:29.840713Z"
    }
   },
   "outputs": [
    {
     "name": "stdout",
     "output_type": "stream",
     "text": [
      "Coluna fase_dia: pleno dia\n",
      "Coluna tipo_acidente_agrupado: colisão\n",
      "Coluna causa_acidente: outras\n",
      "Coluna condicao_metereologica_agrupado: ensolarado\n",
      "Coluna tracado_via: reta\n",
      "Coluna sexo: masculino\n",
      "Coluna faixa_etaria: adulto\n",
      "Coluna estado_fisico: ileso\n",
      "Coluna estacao_do_ano: inverno\n",
      "Coluna dia_semana_agrupado: dia útil\n",
      "Coluna tipo_pista: simples\n",
      "Coluna porte_veiculo: pequeno porte\n"
     ]
    }
   ],
   "source": [
    "cluster_quatro = dados.query('cluster==3')\n",
    "cluster_quatro.drop(X.columns, axis=1, inplace=True)\n",
    "\n",
    "for col in cluster_quatro.iloc[:, :12]:\n",
    "    print(f'Coluna {col}: {cluster_quatro[col].value_counts().index[0]}')"
   ]
  }
 ],
 "metadata": {
  "colab": {
   "collapsed_sections": [],
   "name": "regra_associação.ipynb",
   "provenance": []
  },
  "file_extension": ".py",
  "hide_input": false,
  "kernelspec": {
   "display_name": "Python 3 (ipykernel)",
   "language": "python",
   "name": "python3"
  },
  "language_info": {
   "codemirror_mode": {
    "name": "ipython",
    "version": 3
   },
   "file_extension": ".py",
   "mimetype": "text/x-python",
   "name": "python",
   "nbconvert_exporter": "python",
   "pygments_lexer": "ipython3",
   "version": "3.7.9"
  },
  "mimetype": "text/x-python",
  "name": "python",
  "nbTranslate": {
   "displayLangs": [
    "*"
   ],
   "hotkey": "alt-t",
   "langInMainMenu": true,
   "sourceLang": "en",
   "targetLang": "fr",
   "useGoogleTranslate": true
  },
  "npconvert_exporter": "python",
  "pygments_lexer": "ipython3",
  "toc": {
   "base_numbering": 1,
   "nav_menu": {},
   "number_sections": true,
   "sideBar": true,
   "skip_h1_title": false,
   "title_cell": "Table of Contents",
   "title_sidebar": "Contents",
   "toc_cell": false,
   "toc_position": {},
   "toc_section_display": true,
   "toc_window_display": false
  },
  "varInspector": {
   "cols": {
    "lenName": 16,
    "lenType": 16,
    "lenVar": 40
   },
   "kernels_config": {
    "python": {
     "delete_cmd_postfix": "",
     "delete_cmd_prefix": "del ",
     "library": "var_list.py",
     "varRefreshCmd": "print(var_dic_list())"
    },
    "r": {
     "delete_cmd_postfix": ") ",
     "delete_cmd_prefix": "rm(",
     "library": "var_list.r",
     "varRefreshCmd": "cat(var_dic_list()) "
    }
   },
   "types_to_exclude": [
    "module",
    "function",
    "builtin_function_or_method",
    "instance",
    "_Feature"
   ],
   "window_display": false
  },
  "version": 3
 },
 "nbformat": 4,
 "nbformat_minor": 1
}
