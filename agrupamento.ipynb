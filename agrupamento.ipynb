{
 "cells": [
  {
   "cell_type": "markdown",
   "metadata": {
    "id": "CEtG6c4koygW"
   },
   "source": [
    "# Projeto #1 - Mineração de agrupamentos\n",
    "\n",
    "<p style='text-align: justify;'><font size=3.>Análise de acidentes nas rodovias federais brasileira entre 2007 e 2021.</font></p>"
   ]
  },
  {
   "cell_type": "markdown",
   "metadata": {
    "id": "IGJiaCUD1ncA"
   },
   "source": [
    "### Bibliotecas básicas e outros imports"
   ]
  },
  {
   "cell_type": "code",
   "execution_count": 1,
   "metadata": {
    "ExecuteTime": {
     "end_time": "2022-02-14T21:14:59.838244Z",
     "start_time": "2022-02-14T21:14:58.306502Z"
    },
    "id": "4bG6r2Bwoyge"
   },
   "outputs": [],
   "source": [
    "import warnings\n",
    "import matplotlib\n",
    "import numpy as np\n",
    "import pandas as pd\n",
    "import seaborn as sns\n",
    "import matplotlib.pyplot as plt\n",
    "from sklearn.cluster import KMeans\n",
    "from sklearn.metrics import silhouette_score\n",
    "from sklearn.preprocessing import Normalizer\n",
    "from sklearn.preprocessing import LabelEncoder\n",
    "from pyclustertend import hopkins\n",
    "from sklearn.preprocessing import StandardScaler\n",
    "\n",
    "%run modules/text.py\n",
    "\n",
    "%matplotlib inline\n",
    "plt.rcParams['font.family'] = 'Arial, Helvetica, sans-serif'\n",
    "\n",
    "warnings.filterwarnings('ignore')\n",
    "pd.set_option('display.max_rows', 1000)\n",
    "pd.set_option('display.max_columns', 200)\n",
    "np.set_printoptions(suppress=True, precision=3)"
   ]
  },
  {
   "cell_type": "markdown",
   "metadata": {
    "id": "rjtF8niV1ncF"
   },
   "source": [
    "### Carregamento dos dados"
   ]
  },
  {
   "cell_type": "code",
   "execution_count": 2,
   "metadata": {
    "ExecuteTime": {
     "end_time": "2022-02-14T21:15:05.946553Z",
     "start_time": "2022-02-14T21:14:59.840755Z"
    },
    "colab": {
     "base_uri": "https://localhost:8080/",
     "height": 134
    },
    "id": "H8Xxqiwcoygh",
    "outputId": "948da79f-e337-4029-b318-a0ef40832d18"
   },
   "outputs": [
    {
     "name": "stdout",
     "output_type": "stream",
     "text": [
      "Linhas: 1707393 | Coluna:  27\n"
     ]
    },
    {
     "data": {
      "text/html": [
       "<div>\n",
       "<style scoped>\n",
       "    .dataframe tbody tr th:only-of-type {\n",
       "        vertical-align: middle;\n",
       "    }\n",
       "\n",
       "    .dataframe tbody tr th {\n",
       "        vertical-align: top;\n",
       "    }\n",
       "\n",
       "    .dataframe thead th {\n",
       "        text-align: right;\n",
       "    }\n",
       "</style>\n",
       "<table border=\"1\" class=\"dataframe\">\n",
       "  <thead>\n",
       "    <tr style=\"text-align: right;\">\n",
       "      <th></th>\n",
       "      <th>id</th>\n",
       "      <th>dia_semana</th>\n",
       "      <th>uf</th>\n",
       "      <th>br</th>\n",
       "      <th>municipio</th>\n",
       "      <th>causa_acidente</th>\n",
       "      <th>tipo_acidente</th>\n",
       "      <th>classificacao_acidente</th>\n",
       "      <th>fase_dia</th>\n",
       "      <th>sentido_via</th>\n",
       "      <th>condicao_metereologica</th>\n",
       "      <th>tipo_pista</th>\n",
       "      <th>tracado_via</th>\n",
       "      <th>uso_solo</th>\n",
       "      <th>tipo_veiculo</th>\n",
       "      <th>tipo_envolvido</th>\n",
       "      <th>estado_fisico</th>\n",
       "      <th>idade</th>\n",
       "      <th>sexo</th>\n",
       "      <th>data</th>\n",
       "      <th>mes</th>\n",
       "      <th>ano</th>\n",
       "      <th>tipo_acidente_agrupado</th>\n",
       "      <th>fase_dia_agrupado</th>\n",
       "      <th>dia_semana_agrupado</th>\n",
       "      <th>condicao_metereologica_agrupado</th>\n",
       "      <th>porte_veiculo</th>\n",
       "    </tr>\n",
       "  </thead>\n",
       "  <tbody>\n",
       "    <tr>\n",
       "      <th>0</th>\n",
       "      <td>83123216.0</td>\n",
       "      <td>quarta</td>\n",
       "      <td>SC</td>\n",
       "      <td>101</td>\n",
       "      <td>Balneario Camboriu</td>\n",
       "      <td>nao guardar distancia de seguranca</td>\n",
       "      <td>colisao traseira</td>\n",
       "      <td>sem vitimas</td>\n",
       "      <td>plena noite</td>\n",
       "      <td>decrescente</td>\n",
       "      <td>chuva</td>\n",
       "      <td>simples</td>\n",
       "      <td>reta</td>\n",
       "      <td>urbano</td>\n",
       "      <td>automovel</td>\n",
       "      <td>condutor</td>\n",
       "      <td>ileso</td>\n",
       "      <td>29</td>\n",
       "      <td>masculino</td>\n",
       "      <td>2014-01-01</td>\n",
       "      <td>1</td>\n",
       "      <td>2014</td>\n",
       "      <td>colisão</td>\n",
       "      <td>noite</td>\n",
       "      <td>dia útil</td>\n",
       "      <td>tempo ruim</td>\n",
       "      <td>pequeno porte</td>\n",
       "    </tr>\n",
       "  </tbody>\n",
       "</table>\n",
       "</div>"
      ],
      "text/plain": [
       "           id dia_semana  uf   br           municipio  \\\n",
       "0  83123216.0     quarta  SC  101  Balneario Camboriu   \n",
       "\n",
       "                       causa_acidente     tipo_acidente  \\\n",
       "0  nao guardar distancia de seguranca  colisao traseira   \n",
       "\n",
       "  classificacao_acidente     fase_dia  sentido_via condicao_metereologica  \\\n",
       "0            sem vitimas  plena noite  decrescente                  chuva   \n",
       "\n",
       "  tipo_pista tracado_via uso_solo tipo_veiculo tipo_envolvido estado_fisico  \\\n",
       "0    simples        reta   urbano    automovel       condutor         ileso   \n",
       "\n",
       "   idade       sexo        data  mes   ano tipo_acidente_agrupado  \\\n",
       "0     29  masculino  2014-01-01    1  2014                colisão   \n",
       "\n",
       "  fase_dia_agrupado dia_semana_agrupado condicao_metereologica_agrupado  \\\n",
       "0             noite            dia útil                      tempo ruim   \n",
       "\n",
       "   porte_veiculo  \n",
       "0  pequeno porte  "
      ]
     },
     "execution_count": 2,
     "metadata": {},
     "output_type": "execute_result"
    }
   ],
   "source": [
    "df = pd.read_csv('dataset/cluster_acidentes_rodovias_brasileiras_2007_a_2021.csv', low_memory=False, encoding='utf-8')\n",
    "print(f'Linhas: {df.shape[0]} | Coluna:  {df.shape[1]}')\n",
    "df.head(1)"
   ]
  },
  {
   "cell_type": "markdown",
   "metadata": {},
   "source": [
    "### Categorização da variável idade\n",
    "\n",
    "> <p style='text-align: justify;'><font size=2.85>Categorização realizada de acordo com o estatuto da criança e adolescente (ECA).</font></p>\n",
    "\n",
    "| faixa | categoria |\n",
    "| --- | --- |\n",
    "| 0-11 | criança |\n",
    "| 12-17  | adolescente |\n",
    "| 18-29 | jovem |\n",
    "| 30-59 | adulto |\n",
    "| acima de 60 | idoso |"
   ]
  },
  {
   "cell_type": "code",
   "execution_count": 3,
   "metadata": {
    "ExecuteTime": {
     "end_time": "2022-02-14T21:15:06.002904Z",
     "start_time": "2022-02-14T21:15:05.948534Z"
    }
   },
   "outputs": [],
   "source": [
    "labels = ['criança', 'adolescente', 'jovem', 'adulto', 'idoso']\n",
    "classes = [0, 11, 17, 29, 59, 99]\n",
    "df['faixa_etaria'] = pd.cut(x=df['idade'], bins=classes, labels=labels, include_lowest=True)"
   ]
  },
  {
   "cell_type": "markdown",
   "metadata": {},
   "source": [
    "### Seleção de features"
   ]
  },
  {
   "cell_type": "code",
   "execution_count": 4,
   "metadata": {
    "ExecuteTime": {
     "end_time": "2022-02-14T21:15:06.116097Z",
     "start_time": "2022-02-14T21:15:06.005407Z"
    },
    "scrolled": true
   },
   "outputs": [
    {
     "data": {
      "text/html": [
       "<div>\n",
       "<style scoped>\n",
       "    .dataframe tbody tr th:only-of-type {\n",
       "        vertical-align: middle;\n",
       "    }\n",
       "\n",
       "    .dataframe tbody tr th {\n",
       "        vertical-align: top;\n",
       "    }\n",
       "\n",
       "    .dataframe thead th {\n",
       "        text-align: right;\n",
       "    }\n",
       "</style>\n",
       "<table border=\"1\" class=\"dataframe\">\n",
       "  <thead>\n",
       "    <tr style=\"text-align: right;\">\n",
       "      <th></th>\n",
       "      <th>fase_dia_agrupado</th>\n",
       "      <th>tipo_acidente</th>\n",
       "      <th>causa_acidente</th>\n",
       "      <th>condicao_metereologica</th>\n",
       "      <th>tracado_via</th>\n",
       "      <th>classificacao_acidente</th>\n",
       "      <th>dia_semana</th>\n",
       "      <th>tipo_pista</th>\n",
       "      <th>porte_veiculo</th>\n",
       "    </tr>\n",
       "  </thead>\n",
       "  <tbody>\n",
       "    <tr>\n",
       "      <th>0</th>\n",
       "      <td>noite</td>\n",
       "      <td>colisao traseira</td>\n",
       "      <td>nao guardar distancia de seguranca</td>\n",
       "      <td>chuva</td>\n",
       "      <td>reta</td>\n",
       "      <td>sem vitimas</td>\n",
       "      <td>quarta</td>\n",
       "      <td>simples</td>\n",
       "      <td>pequeno porte</td>\n",
       "    </tr>\n",
       "  </tbody>\n",
       "</table>\n",
       "</div>"
      ],
      "text/plain": [
       "  fase_dia_agrupado     tipo_acidente                      causa_acidente  \\\n",
       "0             noite  colisao traseira  nao guardar distancia de seguranca   \n",
       "\n",
       "  condicao_metereologica tracado_via classificacao_acidente dia_semana  \\\n",
       "0                  chuva        reta            sem vitimas     quarta   \n",
       "\n",
       "  tipo_pista  porte_veiculo  \n",
       "0    simples  pequeno porte  "
      ]
     },
     "execution_count": 4,
     "metadata": {},
     "output_type": "execute_result"
    }
   ],
   "source": [
    "colunas = [\n",
    "    'fase_dia_agrupado',\n",
    "    'tipo_acidente',\n",
    "    'causa_acidente',\n",
    "    'condicao_metereologica',\n",
    "    'tracado_via',\n",
    "    'classificacao_acidente',\n",
    "    'dia_semana',\n",
    "    'tipo_pista',\n",
    "    'porte_veiculo',\n",
    "]\n",
    "\n",
    "dados = df[colunas]\n",
    "dados.head(1)"
   ]
  },
  {
   "cell_type": "markdown",
   "metadata": {
    "lang": "en"
   },
   "source": [
    "### Conversão para valores numéricos"
   ]
  },
  {
   "cell_type": "code",
   "execution_count": 5,
   "metadata": {
    "ExecuteTime": {
     "end_time": "2022-02-14T21:15:08.402702Z",
     "start_time": "2022-02-14T21:15:06.117747Z"
    }
   },
   "outputs": [],
   "source": [
    "le = LabelEncoder()\n",
    "dados_copy = pd.DataFrame()\n",
    "for col in dados.columns:\n",
    "    dados_copy[col+'_encoder'] = le.fit_transform(dados[col].astype(str))"
   ]
  },
  {
   "cell_type": "markdown",
   "metadata": {},
   "source": [
    "### Normalização dos dados"
   ]
  },
  {
   "cell_type": "code",
   "execution_count": 6,
   "metadata": {
    "ExecuteTime": {
     "end_time": "2022-02-14T21:15:08.670219Z",
     "start_time": "2022-02-14T21:15:08.405655Z"
    }
   },
   "outputs": [],
   "source": [
    "norm = Normalizer(norm='l2')\n",
    "scaled = norm.fit_transform(dados_copy)"
   ]
  },
  {
   "cell_type": "markdown",
   "metadata": {},
   "source": [
    "### Tendência de agrupamento - Estatística de Hopkins\n",
    "\n",
    "<p style='text-align: justify;'><font size=2.85>H⁰: conjunto de dados é uniformemente distribuído e não contém clusters significativos.</font></p>\n",
    "\n",
    "<p style='text-align: justify;'><font size=2.85>H¹: conjunto de dados não está uniformemente distribuído e contém clusters significativos.</font></p>\n",
    "\n",
    "> <p style='text-align: justify;'><font size=2.85>Se H < 0.5, então não rejeita H⁰, pois é improvável que o conjunto tenha clusters estatisticamente significativos. Se o valor da estatística de Hopkins for próximo a 1, então podemos rejeitar a H⁰ e concluir que o conjunto de dados é significativamente um dado agrupável.</font></p>"
   ]
  },
  {
   "cell_type": "code",
   "execution_count": 7,
   "metadata": {
    "ExecuteTime": {
     "end_time": "2022-02-14T21:16:25.118448Z",
     "start_time": "2022-02-14T21:15:08.672441Z"
    },
    "scrolled": false
   },
   "outputs": [
    {
     "name": "stdout",
     "output_type": "stream",
     "text": [
      "Estatística de hopkins: 0.31 +/- 0.01\n"
     ]
    }
   ],
   "source": [
    "scaled = pd.DataFrame(scaled)\n",
    "scaled.columns = dados_copy.columns\n",
    "\n",
    "stats = []\n",
    "for i in range(0, 1025):\n",
    "    sample = dados_copy.sample(n=500, replace=False)\n",
    "    stats.append(hopkins(sample, sample.shape[0]))\n",
    "print(f'Estatística de hopkins: {np.mean(stats).round(2)} +/- {np.std(stats).round(2)}')"
   ]
  },
  {
   "cell_type": "markdown",
   "metadata": {},
   "source": [
    "<p style='text-align: justify;'><font size=2.85>Pelo que podemos perceber pela estatística de hopkins, é improvável que esse conjunto de dados seja agrupável, ou seja, tenha clusters significativos. Nesse caso, a clusterização não é a técnica ideal para lidar com esse problema, mas para fins didáticos seguiremos com as análises.</font></p>"
   ]
  },
  {
   "cell_type": "markdown",
   "metadata": {},
   "source": [
    "### Mineração de agrupamento"
   ]
  },
  {
   "cell_type": "markdown",
   "metadata": {},
   "source": [
    "Método Elbow (cotovelo)"
   ]
  },
  {
   "cell_type": "code",
   "execution_count": 8,
   "metadata": {
    "ExecuteTime": {
     "end_time": "2022-02-14T21:19:42.367178Z",
     "start_time": "2022-02-14T21:16:25.120058Z"
    }
   },
   "outputs": [
    {
     "data": {
      "image/png": "[encoded data removed]",
      "text/plain": [
       "<Figure size 864x432 with 1 Axes>"
      ]
     },
     "metadata": {
      "needs_background": "light"
     },
     "output_type": "display_data"
    }
   ],
   "source": [
    "inertias = []\n",
    "ks = range(1, 11)\n",
    "\n",
    "for k in ks:\n",
    "    model = KMeans(n_clusters=k, init='k-means++', random_state=42)\n",
    "    model.fit(scaled)\n",
    "    inertias.append(model.inertia_)\n",
    "    \n",
    "\n",
    "suptitle = 'Método Elbow'\n",
    "title = 'Seleção do número de clusters para o algoritmo K-means'\n",
    "\n",
    "plt.figure(figsize=(12, 6))\n",
    "plt.gca().spines['top'].set_visible(False)\n",
    "plt.gca().spines['right'].set_visible(False)\n",
    "plt.plot(ks, inertias, '-o', color='#191970')\n",
    "plt.suptitle(suptitle, fontsize=18, y=1.02, horizontalalignment='left', x=0.12, color='black', weight='bold')\n",
    "plt.title(title, fontsize=14, color='#646464', y=1.05, loc='left', x=-0.01)\n",
    "plt.xlabel(None)\n",
    "plt.ylabel('soma das distâncias quadradas', fontsize=14, horizontalalignment='left', y=0.32)\n",
    "plt.xticks(ks)\n",
    "plt.grid(False)\n",
    "plt.show()"
   ]
  },
  {
   "cell_type": "markdown",
   "metadata": {},
   "source": [
    "Coeficiente de Silhouette\n",
    "\n",
    "> <p style='text-align: justify;'><font size=2.85>É uma medida de quão semelhante um ponto de dados é dentro do cluster (coesão) em comparação com outros clusters (separação). O melhor valor é 1 e o pior valor é -1. Valores próximos a 0 indicam clusters sobrepostos. Valores negativos geralmente indicam que uma amostra foi atribuída ao cluster errado, pois um cluster diferente é mais semelhante.</font></p>"
   ]
  },
  {
   "cell_type": "code",
   "execution_count": 9,
   "metadata": {
    "ExecuteTime": {
     "end_time": "2022-02-14T21:31:00.991093Z",
     "start_time": "2022-02-14T21:19:42.369223Z"
    }
   },
   "outputs": [
    {
     "name": "stdout",
     "output_type": "stream",
     "text": [
      "Para n_clusters = 2 a média do silhouette_score é : 0.5207287977268694\n",
      "Para n_clusters = 3 a média do silhouette_score é : 0.5351882784915003\n",
      "Para n_clusters = 4 a média do silhouette_score é : 0.3140714673105126\n",
      "Para n_clusters = 5 a média do silhouette_score é : 0.27341211368336504\n"
     ]
    },
    {
     "data": {
      "image/png": "[encoded data removed]",
      "text/plain": [
       "<Figure size 864x432 with 1 Axes>"
      ]
     },
     "metadata": {
      "needs_background": "light"
     },
     "output_type": "display_data"
    }
   ],
   "source": [
    "randomized = dados_copy.iloc[np.random.permutation(dados_copy.index)].reset_index(drop=True)\n",
    "sample = randomized.sample(n=100000)\n",
    "X = norm.fit_transform(sample)\n",
    "\n",
    "range_n_clusters = range(2, 6)\n",
    "silhouette_avg = []\n",
    "\n",
    "for k in range_n_clusters:\n",
    "    model = KMeans(n_clusters=k, init='k-means++', random_state=0)\n",
    "    cluster_labels = model.fit_predict(X)\n",
    "    score = silhouette_score(X, cluster_labels)\n",
    "    silhouette_avg.append(score)\n",
    "    print('Para n_clusters =', k, 'a média do silhouette_score é :', score)\n",
    "\n",
    "\n",
    "suptitle = 'Coeficiente de Silhouette'\n",
    "title = 'Seleção do número de clusters para o algoritmo K-means'\n",
    "\n",
    "plt.figure(figsize=(12, 6))\n",
    "plt.suptitle(suptitle, fontsize=18, y=1.02, horizontalalignment='left', x=0.12, color='black', weight='bold')\n",
    "plt.title(title, fontsize=14, color='#646464', y=1.05, loc='left', x=-0.01)\n",
    "plt.plot(range_n_clusters, silhouette_avg, 'bx-', color='#191970')\n",
    "plt.gca().spines['top'].set_visible(False)\n",
    "plt.gca().spines['right'].set_visible(False)\n",
    "plt.xlabel(None)\n",
    "plt.ylabel('Coeficiente Silhouette', fontsize=14, horizontalalignment='left', y=0.51) \n",
    "plt.grid(False)\n",
    "plt.show()"
   ]
  },
  {
   "cell_type": "markdown",
   "metadata": {},
   "source": [
    "<p style='text-align: justify;'><font size=2.85>A maior média do coeficiente de silhouette é 0.53 para três grupos. Esse valor é um indicativo da existência de clusters sobrepostos. Um valor baixo já era esperado, uma vez que na análise anterior percebemos que os dados não são agrupáveis.</font></p>"
   ]
  },
  {
   "cell_type": "markdown",
   "metadata": {
    "lang": "fr"
   },
   "source": [
    "Agrupamento"
   ]
  },
  {
   "cell_type": "code",
   "execution_count": 10,
   "metadata": {
    "ExecuteTime": {
     "end_time": "2022-02-14T21:31:18.904726Z",
     "start_time": "2022-02-14T21:31:00.992607Z"
    }
   },
   "outputs": [],
   "source": [
    "kmeans= KMeans(n_clusters=3, init='k-means++', random_state=0).fit(scaled)\n",
    "dados['cluster'] = kmeans.labels_"
   ]
  },
  {
   "cell_type": "markdown",
   "metadata": {},
   "source": [
    "### Análise do agrupamento"
   ]
  },
  {
   "cell_type": "code",
   "execution_count": 11,
   "metadata": {
    "ExecuteTime": {
     "end_time": "2022-02-14T21:31:18.925287Z",
     "start_time": "2022-02-14T21:31:18.906260Z"
    }
   },
   "outputs": [
    {
     "name": "stdout",
     "output_type": "stream",
     "text": [
      "0    1475185\n",
      "1     194348\n",
      "2      37860\n",
      "Name: cluster, dtype: int64\n"
     ]
    }
   ],
   "source": [
    "print(dados['cluster'].value_counts())"
   ]
  },
  {
   "cell_type": "markdown",
   "metadata": {},
   "source": [
    "Cluster 1"
   ]
  },
  {
   "cell_type": "code",
   "execution_count": 12,
   "metadata": {
    "ExecuteTime": {
     "end_time": "2022-02-14T21:31:19.985273Z",
     "start_time": "2022-02-14T21:31:18.926501Z"
    }
   },
   "outputs": [
    {
     "name": "stdout",
     "output_type": "stream",
     "text": [
      "Coluna fase_dia_agrupado: dia\n",
      "Coluna tipo_acidente: colisao traseira\n",
      "Coluna causa_acidente: falta de atencao\n",
      "Coluna condicao_metereologica: ceu claro\n",
      "Coluna tracado_via: reta\n",
      "Coluna classificacao_acidente: sem vitimas\n",
      "Coluna dia_semana: sexta\n",
      "Coluna tipo_pista: simples\n",
      "Coluna porte_veiculo: pequeno porte\n",
      "Coluna cluster: 0\n"
     ]
    }
   ],
   "source": [
    "cluster_um = dados.query('cluster==0')\n",
    "for col in cluster_um:\n",
    "    print(f'Coluna {col}: {cluster_um[col].value_counts().index[0]}')"
   ]
  },
  {
   "cell_type": "markdown",
   "metadata": {},
   "source": [
    "Cluster 2"
   ]
  },
  {
   "cell_type": "code",
   "execution_count": 13,
   "metadata": {
    "ExecuteTime": {
     "end_time": "2022-02-14T21:31:20.166828Z",
     "start_time": "2022-02-14T21:31:19.986614Z"
    }
   },
   "outputs": [
    {
     "name": "stdout",
     "output_type": "stream",
     "text": [
      "Coluna fase_dia_agrupado: dia\n",
      "Coluna tipo_acidente: saida de pista\n",
      "Coluna causa_acidente: falta de atencao\n",
      "Coluna condicao_metereologica: ceu claro\n",
      "Coluna tracado_via: reta\n",
      "Coluna classificacao_acidente: com vitimas feridas\n",
      "Coluna dia_semana: domingo\n",
      "Coluna tipo_pista: simples\n",
      "Coluna porte_veiculo: pequeno porte\n",
      "Coluna cluster: 1\n"
     ]
    }
   ],
   "source": [
    "cluster_dois = dados.query('cluster==1')\n",
    "for col in cluster_dois:\n",
    "    print(f'Coluna {col}: {cluster_dois[col].value_counts().index[0]}')"
   ]
  },
  {
   "cell_type": "markdown",
   "metadata": {},
   "source": [
    "Cluster 3"
   ]
  },
  {
   "cell_type": "code",
   "execution_count": 14,
   "metadata": {
    "ExecuteTime": {
     "end_time": "2022-02-14T21:31:20.222161Z",
     "start_time": "2022-02-14T21:31:20.168071Z"
    }
   },
   "outputs": [
    {
     "name": "stdout",
     "output_type": "stream",
     "text": [
      "Coluna fase_dia_agrupado: noite\n",
      "Coluna tipo_acidente: atropelamento de animal\n",
      "Coluna causa_acidente: animais na pista\n",
      "Coluna condicao_metereologica: ceu claro\n",
      "Coluna tracado_via: reta\n",
      "Coluna classificacao_acidente: sem vitimas\n",
      "Coluna dia_semana: sexta\n",
      "Coluna tipo_pista: simples\n",
      "Coluna porte_veiculo: pequeno porte\n",
      "Coluna cluster: 2\n"
     ]
    }
   ],
   "source": [
    "cluster_tres = dados.query('cluster==2')\n",
    "for col in cluster_tres:\n",
    "    print(f'Coluna {col}: {cluster_tres[col].value_counts().index[0]}')"
   ]
  }
 ],
 "metadata": {
  "colab": {
   "collapsed_sections": [],
   "name": "regra_associação.ipynb",
   "provenance": []
  },
  "file_extension": ".py",
  "hide_input": false,
  "kernelspec": {
   "display_name": "Python 3 (ipykernel)",
   "language": "python",
   "name": "python3"
  },
  "language_info": {
   "codemirror_mode": {
    "name": "ipython",
    "version": 3
   },
   "file_extension": ".py",
   "mimetype": "text/x-python",
   "name": "python",
   "nbconvert_exporter": "python",
   "pygments_lexer": "ipython3",
   "version": "3.7.9"
  },
  "mimetype": "text/x-python",
  "name": "python",
  "nbTranslate": {
   "displayLangs": [
    "*"
   ],
   "hotkey": "alt-t",
   "langInMainMenu": true,
   "sourceLang": "en",
   "targetLang": "fr",
   "useGoogleTranslate": true
  },
  "npconvert_exporter": "python",
  "pygments_lexer": "ipython3",
  "toc": {
   "base_numbering": 1,
   "nav_menu": {},
   "number_sections": true,
   "sideBar": true,
   "skip_h1_title": false,
   "title_cell": "Table of Contents",
   "title_sidebar": "Contents",
   "toc_cell": false,
   "toc_position": {},
   "toc_section_display": true,
   "toc_window_display": false
  },
  "varInspector": {
   "cols": {
    "lenName": 16,
    "lenType": 16,
    "lenVar": 40
   },
   "kernels_config": {
    "python": {
     "delete_cmd_postfix": "",
     "delete_cmd_prefix": "del ",
     "library": "var_list.py",
     "varRefreshCmd": "print(var_dic_list())"
    },
    "r": {
     "delete_cmd_postfix": ") ",
     "delete_cmd_prefix": "rm(",
     "library": "var_list.r",
     "varRefreshCmd": "cat(var_dic_list()) "
    }
   },
   "types_to_exclude": [
    "module",
    "function",
    "builtin_function_or_method",
    "instance",
    "_Feature"
   ],
   "window_display": false
  },
  "version": 3
 },
 "nbformat": 4,
 "nbformat_minor": 1
}
