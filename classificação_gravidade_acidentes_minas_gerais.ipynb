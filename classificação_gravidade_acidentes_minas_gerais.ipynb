{
 "cells": [
  {
   "cell_type": "markdown",
   "metadata": {
    "id": "CEtG6c4koygW"
   },
   "source": [
    "# Projeto #1 - Classificação\n",
    "\n",
    "<p style='text-align: justify;'><font size=3.>Análise de acidentes nas rodovias federais brasileira entre 2007 e 2021.</font></p>"
   ]
  },
  {
   "cell_type": "markdown",
   "metadata": {
    "id": "IGJiaCUD1ncA"
   },
   "source": [
    "### Bibliotecas básicas e outros imports"
   ]
  },
  {
   "cell_type": "code",
   "execution_count": 2,
   "metadata": {
    "ExecuteTime": {
     "end_time": "2022-01-31T14:02:01.998603Z",
     "start_time": "2022-01-31T14:02:00.270389Z"
    },
    "id": "4bG6r2Bwoyge"
   },
   "outputs": [],
   "source": [
    "import random\n",
    "import warnings\n",
    "import numpy as np\n",
    "import pandas as pd\n",
    "from scipy import stats\n",
    "import matplotlib.pyplot as plt\n",
    "from xgboost import XGBClassifier\n",
    "from imblearn.over_sampling import SMOTE\n",
    "from sklearn.preprocessing import LabelEncoder\n",
    "from sklearn.neural_network import MLPClassifier\n",
    "from sklearn.neighbors import KNeighborsClassifier\n",
    "from sklearn.model_selection import cross_val_score\n",
    "from sklearn.model_selection import train_test_split\n",
    "from sklearn.ensemble import ExtraTreesClassifier, RandomForestClassifier\n",
    "from sklearn.metrics import plot_confusion_matrix, classification_report, accuracy_score\n",
    "\n",
    "%run modules/text.py\n",
    "%matplotlib inline\n",
    "plt.rcParams['font.family'] = 'Arial, Helvetica, sans-serif'\n",
    "\n",
    "warnings.filterwarnings('ignore')\n",
    "pd.set_option('display.max_rows', 1000)\n",
    "pd.set_option('display.max_columns', 200)\n",
    "np.set_printoptions(suppress=True, precision=3)"
   ]
  },
  {
   "cell_type": "markdown",
   "metadata": {
    "id": "rjtF8niV1ncF"
   },
   "source": [
    "### Carregamento dos dados"
   ]
  },
  {
   "cell_type": "code",
   "execution_count": 3,
   "metadata": {
    "ExecuteTime": {
     "end_time": "2022-01-31T14:02:08.593186Z",
     "start_time": "2022-01-31T14:02:02.000806Z"
    },
    "colab": {
     "base_uri": "https://localhost:8080/",
     "height": 134
    },
    "id": "H8Xxqiwcoygh",
    "outputId": "948da79f-e337-4029-b318-a0ef40832d18"
   },
   "outputs": [
    {
     "name": "stdout",
     "output_type": "stream",
     "text": [
      "Linhas: 1674465 | Coluna:  30\n"
     ]
    }
   ],
   "source": [
    "df = pd.read_csv('dataset/classifier_acidentes_rodovias_brasileiras_2007_a_2021.csv', low_memory=False, encoding='utf-8')\n",
    "print(f'Linhas: {df.shape[0]} | Coluna:  {df.shape[1]}')"
   ]
  },
  {
   "cell_type": "markdown",
   "metadata": {},
   "source": [
    "### Seleção dos dados para o estado MG"
   ]
  },
  {
   "cell_type": "code",
   "execution_count": 4,
   "metadata": {
    "ExecuteTime": {
     "end_time": "2022-01-31T14:02:08.799885Z",
     "start_time": "2022-01-31T14:02:08.594637Z"
    }
   },
   "outputs": [
    {
     "name": "stdout",
     "output_type": "stream",
     "text": [
      "Linhas: 247397 | Coluna:  30\n"
     ]
    },
    {
     "data": {
      "text/html": [
       "<div>\n",
       "<style scoped>\n",
       "    .dataframe tbody tr th:only-of-type {\n",
       "        vertical-align: middle;\n",
       "    }\n",
       "\n",
       "    .dataframe tbody tr th {\n",
       "        vertical-align: top;\n",
       "    }\n",
       "\n",
       "    .dataframe thead th {\n",
       "        text-align: right;\n",
       "    }\n",
       "</style>\n",
       "<table border=\"1\" class=\"dataframe\">\n",
       "  <thead>\n",
       "    <tr style=\"text-align: right;\">\n",
       "      <th></th>\n",
       "      <th>id</th>\n",
       "      <th>dia_semana</th>\n",
       "      <th>uf</th>\n",
       "      <th>br</th>\n",
       "      <th>km</th>\n",
       "      <th>municipio</th>\n",
       "      <th>causa_acidente</th>\n",
       "      <th>tipo_acidente</th>\n",
       "      <th>classe</th>\n",
       "      <th>fase_dia</th>\n",
       "      <th>sentido_via</th>\n",
       "      <th>condicao_metereologica</th>\n",
       "      <th>tipo_pista</th>\n",
       "      <th>tracado_via</th>\n",
       "      <th>uso_solo</th>\n",
       "      <th>tipo_veiculo</th>\n",
       "      <th>tipo_envolvido</th>\n",
       "      <th>estado_fisico</th>\n",
       "      <th>idade</th>\n",
       "      <th>sexo</th>\n",
       "      <th>data</th>\n",
       "      <th>mes</th>\n",
       "      <th>ano</th>\n",
       "      <th>feriado</th>\n",
       "      <th>faixa_etaria</th>\n",
       "      <th>porte_veiculo</th>\n",
       "      <th>condicao_clima</th>\n",
       "      <th>estacao_do_ano</th>\n",
       "      <th>regiao_pais</th>\n",
       "      <th>feriado_agrupado</th>\n",
       "    </tr>\n",
       "  </thead>\n",
       "  <tbody>\n",
       "    <tr>\n",
       "      <th>0</th>\n",
       "      <td>83123235.0</td>\n",
       "      <td>quarta</td>\n",
       "      <td>MG</td>\n",
       "      <td>381</td>\n",
       "      <td>491.0</td>\n",
       "      <td>Betim</td>\n",
       "      <td>falta de atencao</td>\n",
       "      <td>colisao traseira</td>\n",
       "      <td>sem vitimas</td>\n",
       "      <td>plena noite</td>\n",
       "      <td>crescente</td>\n",
       "      <td>nublado</td>\n",
       "      <td>dupla</td>\n",
       "      <td>reta</td>\n",
       "      <td>urbano</td>\n",
       "      <td>automovel</td>\n",
       "      <td>condutor</td>\n",
       "      <td>ileso</td>\n",
       "      <td>24</td>\n",
       "      <td>masculino</td>\n",
       "      <td>2014-01-01</td>\n",
       "      <td>1</td>\n",
       "      <td>2014</td>\n",
       "      <td>ano novo</td>\n",
       "      <td>jovem</td>\n",
       "      <td>pequeno porte</td>\n",
       "      <td>nublado</td>\n",
       "      <td>verão</td>\n",
       "      <td>sudeste</td>\n",
       "      <td>feriado</td>\n",
       "    </tr>\n",
       "  </tbody>\n",
       "</table>\n",
       "</div>"
      ],
      "text/plain": [
       "           id dia_semana  uf   br     km municipio    causa_acidente  \\\n",
       "0  83123235.0     quarta  MG  381  491.0     Betim  falta de atencao   \n",
       "\n",
       "      tipo_acidente       classe     fase_dia sentido_via  \\\n",
       "0  colisao traseira  sem vitimas  plena noite   crescente   \n",
       "\n",
       "  condicao_metereologica tipo_pista tracado_via uso_solo tipo_veiculo  \\\n",
       "0                nublado      dupla        reta   urbano    automovel   \n",
       "\n",
       "  tipo_envolvido estado_fisico  idade       sexo        data  mes   ano  \\\n",
       "0       condutor         ileso     24  masculino  2014-01-01    1  2014   \n",
       "\n",
       "    feriado faixa_etaria  porte_veiculo condicao_clima estacao_do_ano  \\\n",
       "0  ano novo        jovem  pequeno porte        nublado          verão   \n",
       "\n",
       "  regiao_pais feriado_agrupado  \n",
       "0     sudeste          feriado  "
      ]
     },
     "execution_count": 4,
     "metadata": {},
     "output_type": "execute_result"
    }
   ],
   "source": [
    "acidentes_minas = df.query('uf==\"MG\"').reset_index(drop=True)\n",
    "acidentes_minas.rename(columns={'classificacao_acidente': 'classe'}, inplace=True)\n",
    "print(f'Linhas: {acidentes_minas.shape[0]} | Coluna:  {acidentes_minas.shape[1]}')\n",
    "acidentes_minas.head(1)"
   ]
  },
  {
   "cell_type": "markdown",
   "metadata": {},
   "source": [
    "### Contagem dos dados"
   ]
  },
  {
   "cell_type": "code",
   "execution_count": 5,
   "metadata": {
    "ExecuteTime": {
     "end_time": "2022-01-31T14:02:08.825595Z",
     "start_time": "2022-01-31T14:02:08.801809Z"
    }
   },
   "outputs": [
    {
     "name": "stdout",
     "output_type": "stream",
     "text": [
      "Proporção de dados na base:\n",
      "sem vitimas            51.8\n",
      "com vitimas feridas    44.1\n",
      "com vitimas fatais      4.1\n",
      "Name: classe, dtype: float64\n"
     ]
    }
   ],
   "source": [
    "print('Proporção de dados na base:')\n",
    "print((acidentes_minas['classe'].value_counts(normalize=True)*100).round(1))"
   ]
  },
  {
   "cell_type": "markdown",
   "metadata": {},
   "source": [
    "### Seleção de features"
   ]
  },
  {
   "cell_type": "code",
   "execution_count": 6,
   "metadata": {
    "ExecuteTime": {
     "end_time": "2022-01-31T14:02:08.866101Z",
     "start_time": "2022-01-31T14:02:08.826759Z"
    },
    "scrolled": true
   },
   "outputs": [
    {
     "data": {
      "text/html": [
       "<div>\n",
       "<style scoped>\n",
       "    .dataframe tbody tr th:only-of-type {\n",
       "        vertical-align: middle;\n",
       "    }\n",
       "\n",
       "    .dataframe tbody tr th {\n",
       "        vertical-align: top;\n",
       "    }\n",
       "\n",
       "    .dataframe thead th {\n",
       "        text-align: right;\n",
       "    }\n",
       "</style>\n",
       "<table border=\"1\" class=\"dataframe\">\n",
       "  <thead>\n",
       "    <tr style=\"text-align: right;\">\n",
       "      <th></th>\n",
       "      <th>dia_semana</th>\n",
       "      <th>fase_dia</th>\n",
       "      <th>tipo_pista</th>\n",
       "      <th>sentido_via</th>\n",
       "      <th>tracado_via</th>\n",
       "      <th>condicao_metereologica</th>\n",
       "      <th>tipo_acidente</th>\n",
       "      <th>tipo_veiculo</th>\n",
       "      <th>br</th>\n",
       "      <th>km</th>\n",
       "      <th>sexo</th>\n",
       "      <th>faixa_etaria</th>\n",
       "      <th>classe</th>\n",
       "    </tr>\n",
       "  </thead>\n",
       "  <tbody>\n",
       "    <tr>\n",
       "      <th>0</th>\n",
       "      <td>quarta</td>\n",
       "      <td>plena noite</td>\n",
       "      <td>dupla</td>\n",
       "      <td>crescente</td>\n",
       "      <td>reta</td>\n",
       "      <td>nublado</td>\n",
       "      <td>colisao traseira</td>\n",
       "      <td>automovel</td>\n",
       "      <td>381</td>\n",
       "      <td>491.0</td>\n",
       "      <td>masculino</td>\n",
       "      <td>jovem</td>\n",
       "      <td>sem vitimas</td>\n",
       "    </tr>\n",
       "  </tbody>\n",
       "</table>\n",
       "</div>"
      ],
      "text/plain": [
       "  dia_semana     fase_dia tipo_pista sentido_via tracado_via  \\\n",
       "0     quarta  plena noite      dupla   crescente        reta   \n",
       "\n",
       "  condicao_metereologica     tipo_acidente tipo_veiculo   br     km  \\\n",
       "0                nublado  colisao traseira    automovel  381  491.0   \n",
       "\n",
       "        sexo faixa_etaria       classe  \n",
       "0  masculino        jovem  sem vitimas  "
      ]
     },
     "execution_count": 6,
     "metadata": {},
     "output_type": "execute_result"
    }
   ],
   "source": [
    "colunas = [\n",
    "    'dia_semana',\n",
    "    'fase_dia',\n",
    "    'tipo_pista',\n",
    "    'sentido_via',\n",
    "    'tracado_via',\n",
    "    'condicao_metereologica',\n",
    "    'tipo_acidente',\n",
    "    'tipo_veiculo',\n",
    "    'br',\n",
    "    'km',\n",
    "    'sexo',\n",
    "    'faixa_etaria',\n",
    "    'classe'\n",
    "]\n",
    "dados = acidentes_minas[colunas]\n",
    "dados.head(1)"
   ]
  },
  {
   "cell_type": "markdown",
   "metadata": {},
   "source": [
    "### Separação dos dados"
   ]
  },
  {
   "cell_type": "code",
   "execution_count": 7,
   "metadata": {
    "ExecuteTime": {
     "end_time": "2022-01-31T14:02:08.894814Z",
     "start_time": "2022-01-31T14:02:08.867350Z"
    }
   },
   "outputs": [],
   "source": [
    "X = dados.drop(['classe'], axis=1)\n",
    "y = dados['classe']"
   ]
  },
  {
   "cell_type": "markdown",
   "metadata": {
    "lang": "en"
   },
   "source": [
    "### Label encoder"
   ]
  },
  {
   "cell_type": "code",
   "execution_count": 8,
   "metadata": {
    "ExecuteTime": {
     "end_time": "2022-01-31T14:02:08.947038Z",
     "start_time": "2022-01-31T14:02:08.896853Z"
    }
   },
   "outputs": [],
   "source": [
    "le = LabelEncoder()\n",
    "y = le.fit_transform(y)"
   ]
  },
  {
   "cell_type": "markdown",
   "metadata": {},
   "source": [
    "### Vetorização dos dados categóricos"
   ]
  },
  {
   "cell_type": "code",
   "execution_count": 9,
   "metadata": {
    "ExecuteTime": {
     "end_time": "2022-01-31T14:02:09.411490Z",
     "start_time": "2022-01-31T14:02:08.948378Z"
    }
   },
   "outputs": [],
   "source": [
    "encoder = LabelEncoder()\n",
    "for col in X.columns:\n",
    "    if col != 'br' and col!='km':\n",
    "        X[col] = encoder.fit_transform(X[col].astype(str))"
   ]
  },
  {
   "cell_type": "markdown",
   "metadata": {},
   "source": [
    "### Balanceamento da base"
   ]
  },
  {
   "cell_type": "code",
   "execution_count": 10,
   "metadata": {
    "ExecuteTime": {
     "end_time": "2022-01-31T14:02:12.353764Z",
     "start_time": "2022-01-31T14:02:09.412763Z"
    }
   },
   "outputs": [
    {
     "name": "stdout",
     "output_type": "stream",
     "text": [
      "384504\n"
     ]
    }
   ],
   "source": [
    "smote = SMOTE(random_state=32)\n",
    "X_smote_res, y_smote_res = smote.fit_resample(X, y)\n",
    "print(len(X_smote_res))"
   ]
  },
  {
   "cell_type": "markdown",
   "metadata": {},
   "source": [
    "### Divisão treino e teste"
   ]
  },
  {
   "cell_type": "code",
   "execution_count": 11,
   "metadata": {
    "ExecuteTime": {
     "end_time": "2022-01-31T14:02:12.405205Z",
     "start_time": "2022-01-31T14:02:12.357118Z"
    }
   },
   "outputs": [
    {
     "name": "stdout",
     "output_type": "stream",
     "text": [
      "Shape treino: 269152 | Shape teste: 115352\n"
     ]
    }
   ],
   "source": [
    "X_train, X_test, y_train, y_test = train_test_split(X_smote_res, y_smote_res, test_size=0.3, shuffle=True)\n",
    "print(f'Shape treino: {X_train.shape[0]} | Shape teste: {X_test.shape[0]}')"
   ]
  },
  {
   "cell_type": "markdown",
   "metadata": {},
   "source": [
    "### Testando famílias de algoritmos"
   ]
  },
  {
   "cell_type": "code",
   "execution_count": 11,
   "metadata": {
    "ExecuteTime": {
     "end_time": "2022-01-31T10:33:48.744378Z",
     "start_time": "2022-01-31T10:01:11.995055Z"
    },
    "scrolled": false
   },
   "outputs": [
    {
     "name": "stdout",
     "output_type": "stream",
     "text": [
      "Resultado para o classificador RandomForestClassifier(max_depth=3, n_estimators=700)\n",
      "0.578654899785006\n",
      "----------------------------------------------\n",
      "Resultado para o classificador ExtraTreesClassifier(max_depth=3, n_estimators=700)\n",
      "0.5543033497468618\n",
      "----------------------------------------------\n",
      "Resultado para o classificador KNeighborsClassifier(n_neighbors=10)\n",
      "0.656000762882308\n",
      "----------------------------------------------\n",
      "Resultado para o classificador XGBClassifier(base_score=0.5, booster=None, colsample_bylevel=1,\n",
      "              colsample_bynode=1, colsample_bytree=1, gamma=0, gpu_id=-1,\n",
      "              importance_type='gain', interaction_constraints=None,\n",
      "              learning_rate=0.5, max_delta_step=0, max_depth=4,\n",
      "              min_child_weight=8, missing=nan, monotone_constraints=None,\n",
      "              n_estimators=100, n_jobs=1, nthread=1, num_parallel_tree=1,\n",
      "              objective='multi:softprob', random_state=0, reg_alpha=0,\n",
      "              reg_lambda=1, scale_pos_weight=None, subsample=0.8,\n",
      "              tree_method=None, validate_parameters=False, verbosity=None)\n",
      "0.7072525833969069\n",
      "----------------------------------------------\n",
      "Resultado para o classificador MLPClassifier(alpha=1e-05, batch_size=100, hidden_layer_sizes=[512, 256, 128],\n",
      "              max_iter=35)\n",
      "0.6268465219502046\n",
      "----------------------------------------------\n"
     ]
    }
   ],
   "source": [
    "estimators = [\n",
    "    RandomForestClassifier(n_estimators=700, max_depth=3),\n",
    "    ExtraTreesClassifier(n_estimators=700, max_depth=3),\n",
    "    KNeighborsClassifier(n_neighbors=10),\n",
    "    XGBClassifier(learning_rate=0.5, max_depth=4, min_child_weight=8, nthread=1, subsample=0.8),   \n",
    "    MLPClassifier(hidden_layer_sizes=[512, 256, 128], activation='relu', solver='adam', alpha=1e-5, max_iter=35, batch_size=100, shuffle=True, verbose=False)\n",
    "]\n",
    "\n",
    "for clf in estimators:\n",
    "    clf.fit(X_train, y_train)\n",
    "    y_pred = clf.predict(X_test)\n",
    "    print(f'Resultado para o classificador {clf}')\n",
    "    print(accuracy_score(y_test, y_pred))\n",
    "    print('----------------------------------------------')"
   ]
  },
  {
   "cell_type": "markdown",
   "metadata": {},
   "source": [
    "### Teste pareado Student’s t-test \n",
    "> Para comparação do desempenho dos modelos de ML\n",
    "\n",
    "\n",
    "**H0**: Não há diferença entre o desempenho dos dois modelos\n",
    "\n",
    "**H1**: Há diferença entre o desempenho dos dois modelos"
   ]
  },
  {
   "cell_type": "code",
   "execution_count": null,
   "metadata": {
    "ExecuteTime": {
     "start_time": "2022-01-31T10:00:59.176Z"
    }
   },
   "outputs": [],
   "source": [
    "clf_mlp = MLPClassifier(hidden_layer_sizes=[512, 256, 128], max_iter=35, activation='relu', solver='adam', alpha=1e-5, batch_size=100, shuffle=True, verbose=False)\n",
    "clf_xgb = XGBClassifier(learning_rate=0.5, max_depth=4, min_child_weight=8, nthread=1, subsample=0.8)\n",
    "\n",
    "XGB_score, RF_score = [], []\n",
    "\n",
    "for i in range(10):\n",
    "    print(f'Iniciando idx: {i}')\n",
    "    random_state = random.randint(42, 950)\n",
    "    print(f'Random state: {random_state}')\n",
    "    \n",
    "    X_train, X_test, y_train, y_test = train_test_split(X_smote_res, \n",
    "                                                        y_smote_res, \n",
    "                                                        test_size=0.3,\n",
    "                                                        shuffle=True,\n",
    "                                                        random_state=random_state)\n",
    "    \n",
    "    scores_mlp = cross_val_score(clf_mlp, X, y, cv=5, scoring='accuracy', verbose=False, n_jobs=2)\n",
    "    RF_score.append(scores_mlp.mean())\n",
    "    scores_xgb = cross_val_score(clf_xgb, X, y, cv=5, scoring='accuracy', verbose=False, n_jobs=2)\n",
    "    XGB_score.append(scores_xgb.mean())"
   ]
  },
  {
   "cell_type": "markdown",
   "metadata": {
    "ExecuteTime": {
     "end_time": "2022-01-28T17:53:51.217081Z",
     "start_time": "2022-01-28T17:53:51.211118Z"
    }
   },
   "source": [
    "Comparando o desempenho"
   ]
  },
  {
   "cell_type": "code",
   "execution_count": null,
   "metadata": {
    "ExecuteTime": {
     "start_time": "2022-01-31T10:00:59.178Z"
    }
   },
   "outputs": [],
   "source": [
    "alpha = 0.05\n",
    "_, p_value = stats.ttest_rel(XGB_score, MLP_score)\n",
    "print(f'Teste pareado Student’s t-test: {p_value}')\n",
    "\n",
    "if p_value < alpha:\n",
    "    print(f'Rejeita H0. Temos evidências estatísticas de que a floresta aleatória e o XGB têm desempenho diferente.')\n",
    "else:\n",
    "    print(f'Não rejeita H0. Não há diferença de desempenho entre os modelos.')"
   ]
  },
  {
   "cell_type": "markdown",
   "metadata": {},
   "source": [
    "### Modelagem dos dados"
   ]
  },
  {
   "cell_type": "markdown",
   "metadata": {},
   "source": [
    "Modelo"
   ]
  },
  {
   "cell_type": "code",
   "execution_count": 12,
   "metadata": {
    "ExecuteTime": {
     "end_time": "2022-01-31T14:02:13.601763Z",
     "start_time": "2022-01-31T14:02:13.598517Z"
    }
   },
   "outputs": [],
   "source": [
    "clf = XGBClassifier(learning_rate=0.5, max_depth=4, min_child_weight=8, nthread=1, subsample=0.8)"
   ]
  },
  {
   "cell_type": "markdown",
   "metadata": {},
   "source": [
    "Validação cruzada"
   ]
  },
  {
   "cell_type": "code",
   "execution_count": 13,
   "metadata": {
    "ExecuteTime": {
     "end_time": "2022-01-31T14:04:51.220812Z",
     "start_time": "2022-01-31T14:02:13.603318Z"
    }
   },
   "outputs": [
    {
     "name": "stderr",
     "output_type": "stream",
     "text": [
      "[Parallel(n_jobs=2)]: Using backend LokyBackend with 2 concurrent workers.\n"
     ]
    },
    {
     "name": "stdout",
     "output_type": "stream",
     "text": [
      "Accuracy: 0.69 (+/- 0.06)\n"
     ]
    },
    {
     "name": "stderr",
     "output_type": "stream",
     "text": [
      "[Parallel(n_jobs=2)]: Done   5 out of   5 | elapsed:  2.6min finished\n"
     ]
    }
   ],
   "source": [
    "scores = cross_val_score(clf, X_smote_res, y_smote_res, cv=5, scoring='accuracy', verbose=True, n_jobs=2)\n",
    "print('Accuracy: %0.2f (+/- %0.2f)' % (scores.mean(), scores.std() * 2))"
   ]
  },
  {
   "cell_type": "markdown",
   "metadata": {},
   "source": [
    "Relatório de classificação"
   ]
  },
  {
   "cell_type": "code",
   "execution_count": 14,
   "metadata": {
    "ExecuteTime": {
     "end_time": "2022-01-31T14:05:34.163508Z",
     "start_time": "2022-01-31T14:04:51.223107Z"
    }
   },
   "outputs": [
    {
     "name": "stdout",
     "output_type": "stream",
     "text": [
      "                     precision    recall  f1-score   support\n",
      "\n",
      " com vitimas fatais       0.81      0.82      0.82     38336\n",
      "com vitimas feridas       0.65      0.51      0.57     38465\n",
      "        sem vitimas       0.66      0.79      0.72     38551\n",
      "\n",
      "           accuracy                           0.71    115352\n",
      "          macro avg       0.71      0.71      0.70    115352\n",
      "       weighted avg       0.71      0.71      0.70    115352\n",
      "\n"
     ]
    }
   ],
   "source": [
    "clf.fit(X_train, y_train)\n",
    "y_pred = clf.predict(X_test)\n",
    "print(classification_report(y_test, y_pred, target_names=le.classes_.tolist()))"
   ]
  },
  {
   "cell_type": "markdown",
   "metadata": {},
   "source": [
    "Matriz de confusão"
   ]
  },
  {
   "cell_type": "code",
   "execution_count": 15,
   "metadata": {
    "ExecuteTime": {
     "end_time": "2022-01-31T14:05:35.956713Z",
     "start_time": "2022-01-31T14:05:34.165426Z"
    }
   },
   "outputs": [
    {
     "data": {
      "image/png": "[encoded data removed]",
      "text/plain": [
       "<Figure size 720x360 with 2 Axes>"
      ]
     },
     "metadata": {
      "needs_background": "light"
     },
     "output_type": "display_data"
    }
   ],
   "source": [
    "labels = ['vítimas fatais', 'vítimas feridas', 'sem vítimas']\n",
    "np.set_printoptions(precision=2)\n",
    "plt.rcParams['figure.figsize'] = [10, 5]\n",
    "disp = plot_confusion_matrix(clf, X_test, y_test,\n",
    "                                 display_labels=labels,\n",
    "                                 cmap=plt.cm.Blues,\n",
    "                                 normalize='true'\n",
    "                                 )\n",
    "disp.ax_.set_title('Matriz de confusão normalizada', fontsize=14, y=1.05, loc='left', x=-0.01)\n",
    "plt.grid(False)\n",
    "plt.savefig('matriz_confusao_acidentes_minas_gerais.png')\n",
    "plt.show()"
   ]
  }
 ],
 "metadata": {
  "colab": {
   "collapsed_sections": [],
   "name": "regra_associação.ipynb",
   "provenance": []
  },
  "file_extension": ".py",
  "hide_input": false,
  "kernelspec": {
   "display_name": "Python 3 (ipykernel)",
   "language": "python",
   "name": "python3"
  },
  "language_info": {
   "codemirror_mode": {
    "name": "ipython",
    "version": 3
   },
   "file_extension": ".py",
   "mimetype": "text/x-python",
   "name": "python",
   "nbconvert_exporter": "python",
   "pygments_lexer": "ipython3",
   "version": "3.7.9"
  },
  "mimetype": "text/x-python",
  "name": "python",
  "nbTranslate": {
   "displayLangs": [
    "*"
   ],
   "hotkey": "alt-t",
   "langInMainMenu": true,
   "sourceLang": "en",
   "targetLang": "fr",
   "useGoogleTranslate": true
  },
  "npconvert_exporter": "python",
  "pygments_lexer": "ipython3",
  "toc": {
   "base_numbering": 1,
   "nav_menu": {},
   "number_sections": true,
   "sideBar": true,
   "skip_h1_title": false,
   "title_cell": "Table of Contents",
   "title_sidebar": "Contents",
   "toc_cell": false,
   "toc_position": {},
   "toc_section_display": true,
   "toc_window_display": false
  },
  "varInspector": {
   "cols": {
    "lenName": 16,
    "lenType": 16,
    "lenVar": 40
   },
   "kernels_config": {
    "python": {
     "delete_cmd_postfix": "",
     "delete_cmd_prefix": "del ",
     "library": "var_list.py",
     "varRefreshCmd": "print(var_dic_list())"
    },
    "r": {
     "delete_cmd_postfix": ") ",
     "delete_cmd_prefix": "rm(",
     "library": "var_list.r",
     "varRefreshCmd": "cat(var_dic_list()) "
    }
   },
   "types_to_exclude": [
    "module",
    "function",
    "builtin_function_or_method",
    "instance",
    "_Feature"
   ],
   "window_display": false
  },
  "version": 3
 },
 "nbformat": 4,
 "nbformat_minor": 1
}
