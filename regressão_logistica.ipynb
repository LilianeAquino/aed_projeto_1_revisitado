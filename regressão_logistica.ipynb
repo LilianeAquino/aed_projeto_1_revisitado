{
 "cells": [
  {
   "cell_type": "markdown",
   "metadata": {
    "id": "CEtG6c4koygW"
   },
   "source": [
    "# Projeto #1 - Regressão\n",
    "\n",
    "<p style='text-align: justify;'><font size=3.>Análise de acidentes nas rodovias federais brasileira entre 2007 e 2021.</font></p>"
   ]
  },
  {
   "cell_type": "markdown",
   "metadata": {
    "id": "IGJiaCUD1ncA"
   },
   "source": [
    "### Bibliotecas básicas e outros imports"
   ]
  },
  {
   "cell_type": "code",
   "execution_count": 1,
   "metadata": {
    "ExecuteTime": {
     "end_time": "2022-02-15T09:40:59.466251Z",
     "start_time": "2022-02-15T09:40:57.705366Z"
    },
    "id": "4bG6r2Bwoyge"
   },
   "outputs": [],
   "source": [
    "import random\n",
    "import warnings\n",
    "import numpy as np\n",
    "import pandas as pd\n",
    "from scipy import stats\n",
    "import matplotlib.pyplot as plt\n",
    "import seaborn as sns\n",
    "import scipy.stats as stats\n",
    "import statsmodels.api as sm\n",
    "import statsmodels.formula.api as smf\n",
    "from sklearn.model_selection import train_test_split\n",
    "\n",
    "%run modules/text.py\n",
    "\n",
    "%matplotlib inline\n",
    "plt.rcParams['font.family'] = 'Arial, Helvetica, sans-serif'\n",
    "\n",
    "warnings.filterwarnings('ignore')\n",
    "pd.set_option('display.max_rows', 1000)\n",
    "pd.set_option('display.max_columns', 200)\n",
    "np.set_printoptions(suppress=True, precision=3)"
   ]
  },
  {
   "cell_type": "markdown",
   "metadata": {
    "id": "rjtF8niV1ncF"
   },
   "source": [
    "### Carregamento dos dados"
   ]
  },
  {
   "cell_type": "code",
   "execution_count": 2,
   "metadata": {
    "ExecuteTime": {
     "end_time": "2022-02-15T09:41:03.774738Z",
     "start_time": "2022-02-15T09:40:59.467680Z"
    },
    "colab": {
     "base_uri": "https://localhost:8080/",
     "height": 134
    },
    "id": "H8Xxqiwcoygh",
    "outputId": "948da79f-e337-4029-b318-a0ef40832d18"
   },
   "outputs": [
    {
     "name": "stdout",
     "output_type": "stream",
     "text": [
      "Linhas: 1635078 | Coluna:  24\n"
     ]
    }
   ],
   "source": [
    "df = pd.read_csv('dataset/regressor_acidentes_rodovias_brasileiras_2007_a_2021.csv', low_memory=False, encoding='utf-8')\n",
    "print(f'Linhas: {df.shape[0]} | Coluna:  {df.shape[1]}')"
   ]
  },
  {
   "cell_type": "markdown",
   "metadata": {},
   "source": [
    "### Remove variáveis possíveis outliers\n",
    "> Condutores com mais de 100 e menos de 10 anos"
   ]
  },
  {
   "cell_type": "code",
   "execution_count": 3,
   "metadata": {
    "ExecuteTime": {
     "end_time": "2022-02-15T09:41:31.870785Z",
     "start_time": "2022-02-15T09:41:03.776206Z"
    }
   },
   "outputs": [],
   "source": [
    "df['outlier'] = df.apply(lambda x: identifierConductorsOver100OrUnder10YearsOld(x.tipo_envolvido, x.idade), axis=1)\n",
    "df.drop(df[df['outlier'] == 'outlier'].index, inplace=True)"
   ]
  },
  {
   "cell_type": "markdown",
   "metadata": {
    "cell_style": "center"
   },
   "source": [
    "### Remove os indivíduos não expostos ao risco de morte"
   ]
  },
  {
   "cell_type": "code",
   "execution_count": 4,
   "metadata": {
    "ExecuteTime": {
     "end_time": "2022-02-15T09:41:32.577917Z",
     "start_time": "2022-02-15T09:41:31.872433Z"
    }
   },
   "outputs": [
    {
     "name": "stdout",
     "output_type": "stream",
     "text": [
      "Linhas: 495313 | Coluna:  25\n"
     ]
    }
   ],
   "source": [
    "df.drop(df[df['estado_fisico'] == 'ileso'].index, inplace=True)\n",
    "print(f'Linhas: {df.shape[0]} | Coluna:  {df.shape[1]}')"
   ]
  },
  {
   "cell_type": "markdown",
   "metadata": {
    "ExecuteTime": {
     "end_time": "2022-02-05T13:14:42.729177Z",
     "start_time": "2022-02-05T13:14:42.681896Z"
    }
   },
   "source": [
    "### Definição da variável resposta"
   ]
  },
  {
   "cell_type": "code",
   "execution_count": 5,
   "metadata": {
    "ExecuteTime": {
     "end_time": "2022-02-15T09:41:32.673030Z",
     "start_time": "2022-02-15T09:41:32.579115Z"
    }
   },
   "outputs": [
    {
     "data": {
      "text/plain": [
       "sobrevivente    93.87\n",
       "morto            6.13\n",
       "Name: estado_fisico, dtype: float64"
      ]
     },
     "execution_count": 5,
     "metadata": {},
     "output_type": "execute_result"
    }
   ],
   "source": [
    "df['estado_fisico'] = df['estado_fisico'].map({'morto': 'morto', 'ferido leve': 'sobrevivente', 'ferido grave': 'sobrevivente'})\n",
    "round(df['estado_fisico'].value_counts(normalize=True)*100, 2)"
   ]
  },
  {
   "cell_type": "markdown",
   "metadata": {},
   "source": [
    "### Geração de features"
   ]
  },
  {
   "cell_type": "markdown",
   "metadata": {},
   "source": [
    "Causa presumível do acidente com base nas características"
   ]
  },
  {
   "cell_type": "code",
   "execution_count": 6,
   "metadata": {
    "ExecuteTime": {
     "end_time": "2022-02-15T09:41:32.960518Z",
     "start_time": "2022-02-15T09:41:32.674448Z"
    }
   },
   "outputs": [],
   "source": [
    "df['causa_presumivel_acidente'] = df['causa_acidente'].apply(mapCausaAcidentes)"
   ]
  },
  {
   "cell_type": "markdown",
   "metadata": {},
   "source": [
    "Define o horário do acidente"
   ]
  },
  {
   "cell_type": "code",
   "execution_count": 7,
   "metadata": {
    "ExecuteTime": {
     "end_time": "2022-02-15T09:41:33.064096Z",
     "start_time": "2022-02-15T09:41:32.961818Z"
    }
   },
   "outputs": [],
   "source": [
    "df['horario_acidente'] = df['horario'].apply(mapHorarioAcidentes)"
   ]
  },
  {
   "cell_type": "markdown",
   "metadata": {
    "ExecuteTime": {
     "end_time": "2022-02-05T14:28:09.231486Z",
     "start_time": "2022-02-05T14:28:09.225981Z"
    }
   },
   "source": [
    "Categorização do ano de fabricação do veículo com base na data do acidente"
   ]
  },
  {
   "cell_type": "code",
   "execution_count": 8,
   "metadata": {
    "ExecuteTime": {
     "end_time": "2022-02-15T09:41:33.082911Z",
     "start_time": "2022-02-15T09:41:33.065455Z"
    }
   },
   "outputs": [],
   "source": [
    "labels = ['ate dez anos', 'mais de dez anos']\n",
    "classes = [0, 10, 170]\n",
    "\n",
    "df['tempo_fabricacao_no_ano_do_acidente'] = df['ano'] - df['ano_fabricacao_veiculo']\n",
    "df['faixa_ano_fabricacao'] = pd.cut(x=df['tempo_fabricacao_no_ano_do_acidente'], bins=classes, labels=labels, include_lowest=True)"
   ]
  },
  {
   "cell_type": "markdown",
   "metadata": {},
   "source": [
    "Agrupamento tipo de envolvido"
   ]
  },
  {
   "cell_type": "code",
   "execution_count": 9,
   "metadata": {
    "ExecuteTime": {
     "end_time": "2022-02-15T09:41:41.890563Z",
     "start_time": "2022-02-15T09:41:33.084224Z"
    }
   },
   "outputs": [],
   "source": [
    "df['tipo_envolvido'] = df.apply(lambda x: mapTipoEnvolvido(x.tipo_veiculo, x.tipo_envolvido), axis=1)"
   ]
  },
  {
   "cell_type": "markdown",
   "metadata": {
    "ExecuteTime": {
     "end_time": "2022-02-06T11:48:11.208743Z",
     "start_time": "2022-02-06T11:48:10.564076Z"
    }
   },
   "source": [
    "Combinação das variáveis tipo de veículo e tipo de envolvido\n",
    "\n",
    "> Identifica a forma como se deu a participação da vítima no acidente"
   ]
  },
  {
   "cell_type": "code",
   "execution_count": 10,
   "metadata": {
    "ExecuteTime": {
     "end_time": "2022-02-15T09:41:50.700926Z",
     "start_time": "2022-02-15T09:41:41.892918Z"
    }
   },
   "outputs": [],
   "source": [
    "df['condicao_envolvimento'] = df.apply(lambda x: mapCondicaoEnvolvimento(x.tipo_envolvido, x.tipo_veiculo), axis=1)\n",
    "df.drop(df[df['condicao_envolvimento'] == 'outros'].index, inplace=True)"
   ]
  },
  {
   "cell_type": "markdown",
   "metadata": {
    "ExecuteTime": {
     "end_time": "2022-02-06T12:19:56.673663Z",
     "start_time": "2022-02-06T12:19:56.666923Z"
    }
   },
   "source": [
    "Agrupamento dos tipos de acidentes"
   ]
  },
  {
   "cell_type": "code",
   "execution_count": 11,
   "metadata": {
    "ExecuteTime": {
     "end_time": "2022-02-15T09:41:50.835627Z",
     "start_time": "2022-02-15T09:41:50.702198Z"
    }
   },
   "outputs": [],
   "source": [
    "df['tipo_acidente'] = df['tipo_acidente'].apply(mapTiposDeAcidentes)"
   ]
  },
  {
   "cell_type": "markdown",
   "metadata": {},
   "source": [
    "Agrupamento traçado da via"
   ]
  },
  {
   "cell_type": "code",
   "execution_count": 12,
   "metadata": {
    "ExecuteTime": {
     "end_time": "2022-02-15T09:41:50.908062Z",
     "start_time": "2022-02-15T09:41:50.836736Z"
    }
   },
   "outputs": [],
   "source": [
    "df['tracado_via'] = df['tracado_via'].apply(mapTracadoVia)"
   ]
  },
  {
   "cell_type": "markdown",
   "metadata": {},
   "source": [
    "Agrupamento idade"
   ]
  },
  {
   "cell_type": "code",
   "execution_count": 13,
   "metadata": {
    "ExecuteTime": {
     "end_time": "2022-02-15T09:41:50.928270Z",
     "start_time": "2022-02-15T09:41:50.910263Z"
    }
   },
   "outputs": [],
   "source": [
    "labels = ['0-14', '15-30', '30-44', '45-59', '60+']\n",
    "classes = [0, 14, 30, 44, 59, 99]\n",
    "df['faixa_etaria'] = pd.cut(x=df['idade'], bins=classes, labels=labels, include_lowest=True)"
   ]
  },
  {
   "cell_type": "markdown",
   "metadata": {},
   "source": [
    "### Seleção de features"
   ]
  },
  {
   "cell_type": "code",
   "execution_count": 14,
   "metadata": {
    "ExecuteTime": {
     "end_time": "2022-02-15T09:41:50.977029Z",
     "start_time": "2022-02-15T09:41:50.929799Z"
    },
    "scrolled": true
   },
   "outputs": [
    {
     "name": "stdout",
     "output_type": "stream",
     "text": [
      "Linhas: 495173 | Coluna:  13\n"
     ]
    },
    {
     "data": {
      "text/html": [
       "<div>\n",
       "<style scoped>\n",
       "    .dataframe tbody tr th:only-of-type {\n",
       "        vertical-align: middle;\n",
       "    }\n",
       "\n",
       "    .dataframe tbody tr th {\n",
       "        vertical-align: top;\n",
       "    }\n",
       "\n",
       "    .dataframe thead th {\n",
       "        text-align: right;\n",
       "    }\n",
       "</style>\n",
       "<table border=\"1\" class=\"dataframe\">\n",
       "  <thead>\n",
       "    <tr style=\"text-align: right;\">\n",
       "      <th></th>\n",
       "      <th>sexo</th>\n",
       "      <th>faixa_etaria</th>\n",
       "      <th>condicao_envolvimento</th>\n",
       "      <th>tipo_acidente</th>\n",
       "      <th>tipo_pista</th>\n",
       "      <th>tracado_via</th>\n",
       "      <th>dia_semana</th>\n",
       "      <th>horario_acidente</th>\n",
       "      <th>uso_solo</th>\n",
       "      <th>regiao_pais</th>\n",
       "      <th>faixa_ano_fabricacao</th>\n",
       "      <th>causa_presumivel_acidente</th>\n",
       "      <th>estado_fisico</th>\n",
       "    </tr>\n",
       "  </thead>\n",
       "  <tbody>\n",
       "    <tr>\n",
       "      <th>8</th>\n",
       "      <td>masculino</td>\n",
       "      <td>30-44</td>\n",
       "      <td>ocupante de motocicleta</td>\n",
       "      <td>colisao traseira</td>\n",
       "      <td>simples</td>\n",
       "      <td>reta</td>\n",
       "      <td>quarta</td>\n",
       "      <td>madrugada</td>\n",
       "      <td>urbano</td>\n",
       "      <td>centro-oeste</td>\n",
       "      <td>ate dez anos</td>\n",
       "      <td>outros aspectos não identificados</td>\n",
       "      <td>sobrevivente</td>\n",
       "    </tr>\n",
       "  </tbody>\n",
       "</table>\n",
       "</div>"
      ],
      "text/plain": [
       "        sexo faixa_etaria    condicao_envolvimento     tipo_acidente  \\\n",
       "8  masculino        30-44  ocupante de motocicleta  colisao traseira   \n",
       "\n",
       "  tipo_pista tracado_via dia_semana horario_acidente uso_solo   regiao_pais  \\\n",
       "8    simples        reta     quarta        madrugada   urbano  centro-oeste   \n",
       "\n",
       "  faixa_ano_fabricacao          causa_presumivel_acidente estado_fisico  \n",
       "8         ate dez anos  outros aspectos não identificados  sobrevivente  "
      ]
     },
     "execution_count": 14,
     "metadata": {},
     "output_type": "execute_result"
    }
   ],
   "source": [
    "colunas = [\n",
    "    'sexo',\n",
    "    'faixa_etaria',\n",
    "    'condicao_envolvimento',\n",
    "    'tipo_acidente',\n",
    "    'tipo_pista',\n",
    "    'tracado_via',    \n",
    "    'dia_semana',\n",
    "    'horario_acidente',\n",
    "    'uso_solo',\n",
    "    'regiao_pais',\n",
    "    'faixa_ano_fabricacao',\n",
    "    'causa_presumivel_acidente',\n",
    "    'estado_fisico'\n",
    "]\n",
    "dados = df[colunas]\n",
    "print(f'Linhas: {dados.shape[0]} | Coluna:  {dados.shape[1]}')\n",
    "dados.head(1)"
   ]
  },
  {
   "cell_type": "markdown",
   "metadata": {},
   "source": [
    "### Distribuição das variáveis explicativas"
   ]
  },
  {
   "cell_type": "code",
   "execution_count": 15,
   "metadata": {
    "ExecuteTime": {
     "end_time": "2022-02-15T09:41:51.400240Z",
     "start_time": "2022-02-15T09:41:50.978294Z"
    },
    "scrolled": false
   },
   "outputs": [
    {
     "name": "stdout",
     "output_type": "stream",
     "text": [
      "masculino    84.58\n",
      "feminino     15.42\n",
      "Name: sexo, dtype: float64\n",
      "---------------------------------\n",
      "15-30    40.11\n",
      "30-44    34.52\n",
      "45-59    18.65\n",
      "60+       6.27\n",
      "0-14      0.45\n",
      "Name: faixa_etaria, dtype: float64\n",
      "---------------------------------\n",
      "ocupante de motocicleta              37.14\n",
      "ocupante de automóveis               35.28\n",
      "ocupante de caminhão                 13.38\n",
      "ocupante de caminhonete/camioneta     7.94\n",
      "ocupante de motoneta                  4.05\n",
      "pedestre                              1.33\n",
      "ocupante de micro-ônibus/ônibus       0.80\n",
      "ciclista                              0.08\n",
      "Name: condicao_envolvimento, dtype: float64\n",
      "---------------------------------\n",
      "saída da pista              20.10\n",
      "capotamento/tombamento      16.53\n",
      "colisao traseira            12.79\n",
      "colisao transversal         10.77\n",
      "queda de veículo             9.89\n",
      "colisao lateral              9.71\n",
      "outros                       7.52\n",
      "colisao frontal              7.48\n",
      "atropelamento de pessoas     2.54\n",
      "atropelamento de animal      2.17\n",
      "colisao com bicicleta        0.49\n",
      "Name: tipo_acidente, dtype: float64\n",
      "---------------------------------\n",
      "simples     57.55\n",
      "dupla       36.62\n",
      "multipla     5.84\n",
      "Name: tipo_pista, dtype: float64\n",
      "---------------------------------\n",
      "reta          66.85\n",
      "curva         25.48\n",
      "outros         4.07\n",
      "cruzamento     3.59\n",
      "Name: tracado_via, dtype: float64\n",
      "---------------------------------\n",
      "domingo    17.68\n",
      "sabado     17.25\n",
      "sexta      15.03\n",
      "segunda    13.26\n",
      "quinta     12.70\n",
      "quarta     12.17\n",
      "terca      11.92\n",
      "Name: dia_semana, dtype: float64\n",
      "---------------------------------\n",
      "tarde        31.62\n",
      "manhã        27.07\n",
      "noite        26.87\n",
      "madrugada    14.45\n",
      "Name: horario_acidente, dtype: float64\n",
      "---------------------------------\n",
      "rural     56.62\n",
      "urbano    43.38\n",
      "Name: uso_solo, dtype: float64\n",
      "---------------------------------\n",
      "sudeste         32.50\n",
      "sul             29.24\n",
      "nordeste        20.79\n",
      "centro-oeste    11.78\n",
      "norte            5.69\n",
      "Name: regiao_pais, dtype: float64\n",
      "---------------------------------\n",
      "ate dez anos        74.68\n",
      "mais de dez anos    25.32\n",
      "Name: faixa_ano_fabricacao, dtype: float64\n",
      "---------------------------------\n",
      "aspectos relacionados ao comportamento do condutor    52.95\n",
      "outros aspectos não identificados                     34.73\n",
      "aspectos relacionados ao veículo                       7.24\n",
      "aspectos relacionados a via ou ambiente                5.09\n",
      "Name: causa_presumivel_acidente, dtype: float64\n",
      "---------------------------------\n",
      "sobrevivente    93.87\n",
      "morto            6.13\n",
      "Name: estado_fisico, dtype: float64\n",
      "---------------------------------\n"
     ]
    }
   ],
   "source": [
    "for col in dados.columns:\n",
    "    print(round(dados[col].value_counts(normalize=True)*100, 2))\n",
    "    print('---------------------------------')"
   ]
  },
  {
   "cell_type": "markdown",
   "metadata": {},
   "source": [
    "### Regressão logística binomial\n",
    "\n",
    "> Para todos os testes será empregado o nível de confiança de 95%, ou seja, p-valor < 0.05 indica que os coeficientes estimados foram estatisticamente significativos"
   ]
  },
  {
   "cell_type": "markdown",
   "metadata": {},
   "source": [
    "Testando interação entre sexo e idade"
   ]
  },
  {
   "cell_type": "code",
   "execution_count": 16,
   "metadata": {
    "ExecuteTime": {
     "end_time": "2022-02-15T09:42:28.030045Z",
     "start_time": "2022-02-15T09:41:51.401577Z"
    }
   },
   "outputs": [
    {
     "data": {
      "text/html": [
       "<table class=\"simpletable\">\n",
       "<caption>Generalized Linear Model Regression Results</caption>\n",
       "<tr>\n",
       "  <th>Dep. Variable:</th>   <td>['estado_fisico[morto]', 'estado_fisico[sobrevivente]']</td> <th>  No. Observations:  </th>   <td>495173</td>  \n",
       "</tr>\n",
       "<tr>\n",
       "  <th>Model:</th>                                     <td>GLM</td>                           <th>  Df Residuals:      </th>   <td>495123</td>  \n",
       "</tr>\n",
       "<tr>\n",
       "  <th>Model Family:</th>                           <td>Binomial</td>                         <th>  Df Model:          </th>   <td>    49</td>  \n",
       "</tr>\n",
       "<tr>\n",
       "  <th>Link Function:</th>                            <td>Logit</td>                          <th>  Scale:             </th>  <td>  1.0000</td> \n",
       "</tr>\n",
       "<tr>\n",
       "  <th>Method:</th>                                   <td>IRLS</td>                           <th>  Log-Likelihood:    </th>  <td> -99211.</td> \n",
       "</tr>\n",
       "<tr>\n",
       "  <th>Date:</th>                               <td>Tue, 15 Feb 2022</td>                     <th>  Deviance:          </th> <td>1.9842e+05</td>\n",
       "</tr>\n",
       "<tr>\n",
       "  <th>Time:</th>                                   <td>06:42:27</td>                         <th>  Pearson chi2:      </th>  <td>4.82e+05</td> \n",
       "</tr>\n",
       "<tr>\n",
       "  <th>No. Iterations:</th>                             <td>7</td>                            <th>  Pseudo R-squ. (CS):</th>   <td>0.05854</td> \n",
       "</tr>\n",
       "<tr>\n",
       "  <th>Covariance Type:</th>                        <td>nonrobust</td>                        <th>                     </th>      <td> </td>    \n",
       "</tr>\n",
       "</table>\n",
       "<table class=\"simpletable\">\n",
       "<tr>\n",
       "                                         <td></td>                                            <th>coef</th>     <th>std err</th>      <th>z</th>      <th>P>|z|</th>  <th>[0.025</th>    <th>0.975]</th>  \n",
       "</tr>\n",
       "<tr>\n",
       "  <th>Intercept</th>                                                                       <td>   -2.5725</td> <td>    0.274</td> <td>   -9.399</td> <td> 0.000</td> <td>   -3.109</td> <td>   -2.036</td>\n",
       "</tr>\n",
       "<tr>\n",
       "  <th>sexo[T.masculino]</th>                                                               <td>    0.0624</td> <td>    0.258</td> <td>    0.242</td> <td> 0.808</td> <td>   -0.442</td> <td>    0.567</td>\n",
       "</tr>\n",
       "<tr>\n",
       "  <th>faixa_etaria[T.15-30]</th>                                                           <td>    0.1326</td> <td>    0.200</td> <td>    0.664</td> <td> 0.506</td> <td>   -0.259</td> <td>    0.524</td>\n",
       "</tr>\n",
       "<tr>\n",
       "  <th>faixa_etaria[T.30-44]</th>                                                           <td>    0.3026</td> <td>    0.200</td> <td>    1.515</td> <td> 0.130</td> <td>   -0.089</td> <td>    0.694</td>\n",
       "</tr>\n",
       "<tr>\n",
       "  <th>faixa_etaria[T.45-59]</th>                                                           <td>    0.4982</td> <td>    0.202</td> <td>    2.467</td> <td> 0.014</td> <td>    0.102</td> <td>    0.894</td>\n",
       "</tr>\n",
       "<tr>\n",
       "  <th>faixa_etaria[T.60+]</th>                                                             <td>    0.8914</td> <td>    0.208</td> <td>    4.290</td> <td> 0.000</td> <td>    0.484</td> <td>    1.299</td>\n",
       "</tr>\n",
       "<tr>\n",
       "  <th>condicao_envolvimento[T.ocupante de automóveis]</th>                                 <td>   -1.4537</td> <td>    0.179</td> <td>   -8.138</td> <td> 0.000</td> <td>   -1.804</td> <td>   -1.104</td>\n",
       "</tr>\n",
       "<tr>\n",
       "  <th>condicao_envolvimento[T.ocupante de caminhonete/camioneta]</th>                      <td>   -1.4665</td> <td>    0.180</td> <td>   -8.163</td> <td> 0.000</td> <td>   -1.819</td> <td>   -1.114</td>\n",
       "</tr>\n",
       "<tr>\n",
       "  <th>condicao_envolvimento[T.ocupante de caminhão]</th>                                   <td>   -1.0797</td> <td>    0.179</td> <td>   -6.031</td> <td> 0.000</td> <td>   -1.431</td> <td>   -0.729</td>\n",
       "</tr>\n",
       "<tr>\n",
       "  <th>condicao_envolvimento[T.ocupante de micro-ônibus/ônibus]</th>                        <td>   -1.6495</td> <td>    0.192</td> <td>   -8.590</td> <td> 0.000</td> <td>   -2.026</td> <td>   -1.273</td>\n",
       "</tr>\n",
       "<tr>\n",
       "  <th>condicao_envolvimento[T.ocupante de motocicleta]</th>                                <td>   -0.8320</td> <td>    0.178</td> <td>   -4.663</td> <td> 0.000</td> <td>   -1.182</td> <td>   -0.482</td>\n",
       "</tr>\n",
       "<tr>\n",
       "  <th>condicao_envolvimento[T.ocupante de motoneta]</th>                                   <td>   -1.0682</td> <td>    0.183</td> <td>   -5.832</td> <td> 0.000</td> <td>   -1.427</td> <td>   -0.709</td>\n",
       "</tr>\n",
       "<tr>\n",
       "  <th>condicao_envolvimento[T.pedestre]</th>                                               <td>    1.0603</td> <td>    0.188</td> <td>    5.629</td> <td> 0.000</td> <td>    0.691</td> <td>    1.430</td>\n",
       "</tr>\n",
       "<tr>\n",
       "  <th>tipo_acidente[T.atropelamento de pessoas]</th>                                       <td>   -0.4162</td> <td>    0.080</td> <td>   -5.201</td> <td> 0.000</td> <td>   -0.573</td> <td>   -0.259</td>\n",
       "</tr>\n",
       "<tr>\n",
       "  <th>tipo_acidente[T.capotamento/tombamento]</th>                                         <td>   -0.5225</td> <td>    0.059</td> <td>   -8.860</td> <td> 0.000</td> <td>   -0.638</td> <td>   -0.407</td>\n",
       "</tr>\n",
       "<tr>\n",
       "  <th>tipo_acidente[T.colisao com bicicleta]</th>                                          <td>   -1.2984</td> <td>    0.157</td> <td>   -8.277</td> <td> 0.000</td> <td>   -1.606</td> <td>   -0.991</td>\n",
       "</tr>\n",
       "<tr>\n",
       "  <th>tipo_acidente[T.colisao frontal]</th>                                                <td>    1.4685</td> <td>    0.058</td> <td>   25.474</td> <td> 0.000</td> <td>    1.355</td> <td>    1.581</td>\n",
       "</tr>\n",
       "<tr>\n",
       "  <th>tipo_acidente[T.colisao lateral]</th>                                                <td>   -0.1998</td> <td>    0.061</td> <td>   -3.295</td> <td> 0.001</td> <td>   -0.319</td> <td>   -0.081</td>\n",
       "</tr>\n",
       "<tr>\n",
       "  <th>tipo_acidente[T.colisao transversal]</th>                                            <td>    0.0098</td> <td>    0.061</td> <td>    0.162</td> <td> 0.871</td> <td>   -0.109</td> <td>    0.129</td>\n",
       "</tr>\n",
       "<tr>\n",
       "  <th>tipo_acidente[T.colisao traseira]</th>                                               <td>   -0.3250</td> <td>    0.060</td> <td>   -5.394</td> <td> 0.000</td> <td>   -0.443</td> <td>   -0.207</td>\n",
       "</tr>\n",
       "<tr>\n",
       "  <th>tipo_acidente[T.outros]</th>                                                         <td>    0.0918</td> <td>    0.060</td> <td>    1.531</td> <td> 0.126</td> <td>   -0.026</td> <td>    0.209</td>\n",
       "</tr>\n",
       "<tr>\n",
       "  <th>tipo_acidente[T.queda de veículo]</th>                                               <td>   -0.8793</td> <td>    0.062</td> <td>  -14.209</td> <td> 0.000</td> <td>   -1.001</td> <td>   -0.758</td>\n",
       "</tr>\n",
       "<tr>\n",
       "  <th>tipo_acidente[T.saída da pista]</th>                                                 <td>   -0.2065</td> <td>    0.058</td> <td>   -3.573</td> <td> 0.000</td> <td>   -0.320</td> <td>   -0.093</td>\n",
       "</tr>\n",
       "<tr>\n",
       "  <th>tipo_pista[T.multipla]</th>                                                          <td>   -0.0544</td> <td>    0.038</td> <td>   -1.436</td> <td> 0.151</td> <td>   -0.129</td> <td>    0.020</td>\n",
       "</tr>\n",
       "<tr>\n",
       "  <th>tipo_pista[T.simples]</th>                                                           <td>    0.3011</td> <td>    0.016</td> <td>   19.018</td> <td> 0.000</td> <td>    0.270</td> <td>    0.332</td>\n",
       "</tr>\n",
       "<tr>\n",
       "  <th>tracado_via[T.curva]</th>                                                            <td>    0.3728</td> <td>    0.047</td> <td>    7.961</td> <td> 0.000</td> <td>    0.281</td> <td>    0.465</td>\n",
       "</tr>\n",
       "<tr>\n",
       "  <th>tracado_via[T.outros]</th>                                                           <td>   -0.0540</td> <td>    0.060</td> <td>   -0.898</td> <td> 0.369</td> <td>   -0.172</td> <td>    0.064</td>\n",
       "</tr>\n",
       "<tr>\n",
       "  <th>tracado_via[T.reta]</th>                                                             <td>    0.3623</td> <td>    0.045</td> <td>    7.966</td> <td> 0.000</td> <td>    0.273</td> <td>    0.451</td>\n",
       "</tr>\n",
       "<tr>\n",
       "  <th>dia_semana[T.quarta]</th>                                                            <td>   -0.2052</td> <td>    0.023</td> <td>   -8.838</td> <td> 0.000</td> <td>   -0.251</td> <td>   -0.160</td>\n",
       "</tr>\n",
       "<tr>\n",
       "  <th>dia_semana[T.quinta]</th>                                                            <td>   -0.2002</td> <td>    0.023</td> <td>   -8.827</td> <td> 0.000</td> <td>   -0.245</td> <td>   -0.156</td>\n",
       "</tr>\n",
       "<tr>\n",
       "  <th>dia_semana[T.sabado]</th>                                                            <td>   -0.0992</td> <td>    0.020</td> <td>   -5.017</td> <td> 0.000</td> <td>   -0.138</td> <td>   -0.060</td>\n",
       "</tr>\n",
       "<tr>\n",
       "  <th>dia_semana[T.segunda]</th>                                                           <td>   -0.2192</td> <td>    0.023</td> <td>   -9.738</td> <td> 0.000</td> <td>   -0.263</td> <td>   -0.175</td>\n",
       "</tr>\n",
       "<tr>\n",
       "  <th>dia_semana[T.sexta]</th>                                                             <td>   -0.1958</td> <td>    0.021</td> <td>   -9.124</td> <td> 0.000</td> <td>   -0.238</td> <td>   -0.154</td>\n",
       "</tr>\n",
       "<tr>\n",
       "  <th>dia_semana[T.terca]</th>                                                             <td>   -0.2322</td> <td>    0.024</td> <td>   -9.863</td> <td> 0.000</td> <td>   -0.278</td> <td>   -0.186</td>\n",
       "</tr>\n",
       "<tr>\n",
       "  <th>horario_acidente[T.manhã]</th>                                                       <td>   -0.7492</td> <td>    0.020</td> <td>  -38.158</td> <td> 0.000</td> <td>   -0.788</td> <td>   -0.711</td>\n",
       "</tr>\n",
       "<tr>\n",
       "  <th>horario_acidente[T.noite]</th>                                                       <td>   -0.3944</td> <td>    0.018</td> <td>  -21.961</td> <td> 0.000</td> <td>   -0.430</td> <td>   -0.359</td>\n",
       "</tr>\n",
       "<tr>\n",
       "  <th>horario_acidente[T.tarde]</th>                                                       <td>   -0.7310</td> <td>    0.019</td> <td>  -39.105</td> <td> 0.000</td> <td>   -0.768</td> <td>   -0.694</td>\n",
       "</tr>\n",
       "<tr>\n",
       "  <th>uso_solo[T.urbano]</th>                                                              <td>   -0.6766</td> <td>    0.016</td> <td>  -43.029</td> <td> 0.000</td> <td>   -0.707</td> <td>   -0.646</td>\n",
       "</tr>\n",
       "<tr>\n",
       "  <th>regiao_pais[T.nordeste]</th>                                                         <td>    0.2343</td> <td>    0.021</td> <td>   11.163</td> <td> 0.000</td> <td>    0.193</td> <td>    0.275</td>\n",
       "</tr>\n",
       "<tr>\n",
       "  <th>regiao_pais[T.norte]</th>                                                            <td>    0.0136</td> <td>    0.031</td> <td>    0.440</td> <td> 0.660</td> <td>   -0.047</td> <td>    0.074</td>\n",
       "</tr>\n",
       "<tr>\n",
       "  <th>regiao_pais[T.sudeste]</th>                                                          <td>   -0.3436</td> <td>    0.021</td> <td>  -16.158</td> <td> 0.000</td> <td>   -0.385</td> <td>   -0.302</td>\n",
       "</tr>\n",
       "<tr>\n",
       "  <th>regiao_pais[T.sul]</th>                                                              <td>   -0.3390</td> <td>    0.022</td> <td>  -15.502</td> <td> 0.000</td> <td>   -0.382</td> <td>   -0.296</td>\n",
       "</tr>\n",
       "<tr>\n",
       "  <th>faixa_ano_fabricacao[T.mais de dez anos]</th>                                        <td>    0.2065</td> <td>    0.014</td> <td>   14.607</td> <td> 0.000</td> <td>    0.179</td> <td>    0.234</td>\n",
       "</tr>\n",
       "<tr>\n",
       "  <th>causa_presumivel_acidente[T.aspectos relacionados ao comportamento do condutor]</th> <td>    0.3082</td> <td>    0.044</td> <td>    6.996</td> <td> 0.000</td> <td>    0.222</td> <td>    0.395</td>\n",
       "</tr>\n",
       "<tr>\n",
       "  <th>causa_presumivel_acidente[T.aspectos relacionados ao veículo]</th>                   <td>    0.0342</td> <td>    0.053</td> <td>    0.643</td> <td> 0.520</td> <td>   -0.070</td> <td>    0.138</td>\n",
       "</tr>\n",
       "<tr>\n",
       "  <th>causa_presumivel_acidente[T.outros aspectos não identificados]</th>                  <td>    0.9956</td> <td>    0.044</td> <td>   22.724</td> <td> 0.000</td> <td>    0.910</td> <td>    1.081</td>\n",
       "</tr>\n",
       "<tr>\n",
       "  <th>sexo[T.masculino]:faixa_etaria[T.15-30]</th>                                         <td>    0.5458</td> <td>    0.261</td> <td>    2.094</td> <td> 0.036</td> <td>    0.035</td> <td>    1.057</td>\n",
       "</tr>\n",
       "<tr>\n",
       "  <th>sexo[T.masculino]:faixa_etaria[T.30-44]</th>                                         <td>    0.5210</td> <td>    0.261</td> <td>    1.998</td> <td> 0.046</td> <td>    0.010</td> <td>    1.032</td>\n",
       "</tr>\n",
       "<tr>\n",
       "  <th>sexo[T.masculino]:faixa_etaria[T.45-59]</th>                                         <td>    0.5177</td> <td>    0.263</td> <td>    1.971</td> <td> 0.049</td> <td>    0.003</td> <td>    1.032</td>\n",
       "</tr>\n",
       "<tr>\n",
       "  <th>sexo[T.masculino]:faixa_etaria[T.60+]</th>                                           <td>    0.3952</td> <td>    0.268</td> <td>    1.476</td> <td> 0.140</td> <td>   -0.129</td> <td>    0.920</td>\n",
       "</tr>\n",
       "</table>"
      ],
      "text/plain": [
       "<class 'statsmodels.iolib.summary.Summary'>\n",
       "\"\"\"\n",
       "                                    Generalized Linear Model Regression Results                                    \n",
       "===================================================================================================================\n",
       "Dep. Variable:     ['estado_fisico[morto]', 'estado_fisico[sobrevivente]']   No. Observations:               495173\n",
       "Model:                                                                 GLM   Df Residuals:                   495123\n",
       "Model Family:                                                     Binomial   Df Model:                           49\n",
       "Link Function:                                                       Logit   Scale:                          1.0000\n",
       "Method:                                                               IRLS   Log-Likelihood:                -99211.\n",
       "Date:                                                     Tue, 15 Feb 2022   Deviance:                   1.9842e+05\n",
       "Time:                                                             06:42:27   Pearson chi2:                 4.82e+05\n",
       "No. Iterations:                                                          7   Pseudo R-squ. (CS):            0.05854\n",
       "Covariance Type:                                                 nonrobust                                         \n",
       "===================================================================================================================================================\n",
       "                                                                                      coef    std err          z      P>|z|      [0.025      0.975]\n",
       "---------------------------------------------------------------------------------------------------------------------------------------------------\n",
       "Intercept                                                                          -2.5725      0.274     -9.399      0.000      -3.109      -2.036\n",
       "sexo[T.masculino]                                                                   0.0624      0.258      0.242      0.808      -0.442       0.567\n",
       "faixa_etaria[T.15-30]                                                               0.1326      0.200      0.664      0.506      -0.259       0.524\n",
       "faixa_etaria[T.30-44]                                                               0.3026      0.200      1.515      0.130      -0.089       0.694\n",
       "faixa_etaria[T.45-59]                                                               0.4982      0.202      2.467      0.014       0.102       0.894\n",
       "faixa_etaria[T.60+]                                                                 0.8914      0.208      4.290      0.000       0.484       1.299\n",
       "condicao_envolvimento[T.ocupante de automóveis]                                    -1.4537      0.179     -8.138      0.000      -1.804      -1.104\n",
       "condicao_envolvimento[T.ocupante de caminhonete/camioneta]                         -1.4665      0.180     -8.163      0.000      -1.819      -1.114\n",
       "condicao_envolvimento[T.ocupante de caminhão]                                      -1.0797      0.179     -6.031      0.000      -1.431      -0.729\n",
       "condicao_envolvimento[T.ocupante de micro-ônibus/ônibus]                           -1.6495      0.192     -8.590      0.000      -2.026      -1.273\n",
       "condicao_envolvimento[T.ocupante de motocicleta]                                   -0.8320      0.178     -4.663      0.000      -1.182      -0.482\n",
       "condicao_envolvimento[T.ocupante de motoneta]                                      -1.0682      0.183     -5.832      0.000      -1.427      -0.709\n",
       "condicao_envolvimento[T.pedestre]                                                   1.0603      0.188      5.629      0.000       0.691       1.430\n",
       "tipo_acidente[T.atropelamento de pessoas]                                          -0.4162      0.080     -5.201      0.000      -0.573      -0.259\n",
       "tipo_acidente[T.capotamento/tombamento]                                            -0.5225      0.059     -8.860      0.000      -0.638      -0.407\n",
       "tipo_acidente[T.colisao com bicicleta]                                             -1.2984      0.157     -8.277      0.000      -1.606      -0.991\n",
       "tipo_acidente[T.colisao frontal]                                                    1.4685      0.058     25.474      0.000       1.355       1.581\n",
       "tipo_acidente[T.colisao lateral]                                                   -0.1998      0.061     -3.295      0.001      -0.319      -0.081\n",
       "tipo_acidente[T.colisao transversal]                                                0.0098      0.061      0.162      0.871      -0.109       0.129\n",
       "tipo_acidente[T.colisao traseira]                                                  -0.3250      0.060     -5.394      0.000      -0.443      -0.207\n",
       "tipo_acidente[T.outros]                                                             0.0918      0.060      1.531      0.126      -0.026       0.209\n",
       "tipo_acidente[T.queda de veículo]                                                  -0.8793      0.062    -14.209      0.000      -1.001      -0.758\n",
       "tipo_acidente[T.saída da pista]                                                    -0.2065      0.058     -3.573      0.000      -0.320      -0.093\n",
       "tipo_pista[T.multipla]                                                             -0.0544      0.038     -1.436      0.151      -0.129       0.020\n",
       "tipo_pista[T.simples]                                                               0.3011      0.016     19.018      0.000       0.270       0.332\n",
       "tracado_via[T.curva]                                                                0.3728      0.047      7.961      0.000       0.281       0.465\n",
       "tracado_via[T.outros]                                                              -0.0540      0.060     -0.898      0.369      -0.172       0.064\n",
       "tracado_via[T.reta]                                                                 0.3623      0.045      7.966      0.000       0.273       0.451\n",
       "dia_semana[T.quarta]                                                               -0.2052      0.023     -8.838      0.000      -0.251      -0.160\n",
       "dia_semana[T.quinta]                                                               -0.2002      0.023     -8.827      0.000      -0.245      -0.156\n",
       "dia_semana[T.sabado]                                                               -0.0992      0.020     -5.017      0.000      -0.138      -0.060\n",
       "dia_semana[T.segunda]                                                              -0.2192      0.023     -9.738      0.000      -0.263      -0.175\n",
       "dia_semana[T.sexta]                                                                -0.1958      0.021     -9.124      0.000      -0.238      -0.154\n",
       "dia_semana[T.terca]                                                                -0.2322      0.024     -9.863      0.000      -0.278      -0.186\n",
       "horario_acidente[T.manhã]                                                          -0.7492      0.020    -38.158      0.000      -0.788      -0.711\n",
       "horario_acidente[T.noite]                                                          -0.3944      0.018    -21.961      0.000      -0.430      -0.359\n",
       "horario_acidente[T.tarde]                                                          -0.7310      0.019    -39.105      0.000      -0.768      -0.694\n",
       "uso_solo[T.urbano]                                                                 -0.6766      0.016    -43.029      0.000      -0.707      -0.646\n",
       "regiao_pais[T.nordeste]                                                             0.2343      0.021     11.163      0.000       0.193       0.275\n",
       "regiao_pais[T.norte]                                                                0.0136      0.031      0.440      0.660      -0.047       0.074\n",
       "regiao_pais[T.sudeste]                                                             -0.3436      0.021    -16.158      0.000      -0.385      -0.302\n",
       "regiao_pais[T.sul]                                                                 -0.3390      0.022    -15.502      0.000      -0.382      -0.296\n",
       "faixa_ano_fabricacao[T.mais de dez anos]                                            0.2065      0.014     14.607      0.000       0.179       0.234\n",
       "causa_presumivel_acidente[T.aspectos relacionados ao comportamento do condutor]     0.3082      0.044      6.996      0.000       0.222       0.395\n",
       "causa_presumivel_acidente[T.aspectos relacionados ao veículo]                       0.0342      0.053      0.643      0.520      -0.070       0.138\n",
       "causa_presumivel_acidente[T.outros aspectos não identificados]                      0.9956      0.044     22.724      0.000       0.910       1.081\n",
       "sexo[T.masculino]:faixa_etaria[T.15-30]                                             0.5458      0.261      2.094      0.036       0.035       1.057\n",
       "sexo[T.masculino]:faixa_etaria[T.30-44]                                             0.5210      0.261      1.998      0.046       0.010       1.032\n",
       "sexo[T.masculino]:faixa_etaria[T.45-59]                                             0.5177      0.263      1.971      0.049       0.003       1.032\n",
       "sexo[T.masculino]:faixa_etaria[T.60+]                                               0.3952      0.268      1.476      0.140      -0.129       0.920\n",
       "===================================================================================================================================================\n",
       "\"\"\""
      ]
     },
     "execution_count": 16,
     "metadata": {},
     "output_type": "execute_result"
    }
   ],
   "source": [
    "model = smf.glm(formula='estado_fisico ~ sexo+faixa_etaria+condicao_envolvimento+tipo_acidente+tipo_pista+tracado_via+dia_semana+horario_acidente+uso_solo+regiao_pais+faixa_ano_fabricacao+causa_presumivel_acidente+sexo*faixa_etaria', \n",
    "                 data=dados, family=sm.families.Binomial()).fit()\n",
    "model.summary()"
   ]
  },
  {
   "cell_type": "markdown",
   "metadata": {},
   "source": [
    "> <p style='text-align: justify;'><font size=2.85>O p-valor indica que não existe efeito de interação entre as variáveis sexo e idade.<font size=2.85></font></p>"
   ]
  },
  {
   "cell_type": "markdown",
   "metadata": {},
   "source": [
    "Testando interação entre condição de envolvimento e sexo"
   ]
  },
  {
   "cell_type": "code",
   "execution_count": 17,
   "metadata": {
    "ExecuteTime": {
     "end_time": "2022-02-15T09:43:01.215254Z",
     "start_time": "2022-02-15T09:42:28.031186Z"
    }
   },
   "outputs": [
    {
     "data": {
      "text/html": [
       "<table class=\"simpletable\">\n",
       "<caption>Generalized Linear Model Regression Results</caption>\n",
       "<tr>\n",
       "  <th>Dep. Variable:</th>   <td>['estado_fisico[morto]', 'estado_fisico[sobrevivente]']</td> <th>  No. Observations:  </th>   <td>495173</td>  \n",
       "</tr>\n",
       "<tr>\n",
       "  <th>Model:</th>                                     <td>GLM</td>                           <th>  Df Residuals:      </th>   <td>495124</td>  \n",
       "</tr>\n",
       "<tr>\n",
       "  <th>Model Family:</th>                           <td>Binomial</td>                         <th>  Df Model:          </th>   <td>    48</td>  \n",
       "</tr>\n",
       "<tr>\n",
       "  <th>Link Function:</th>                            <td>Logit</td>                          <th>  Scale:             </th>  <td>  1.0000</td> \n",
       "</tr>\n",
       "<tr>\n",
       "  <th>Method:</th>                                   <td>IRLS</td>                           <th>  Log-Likelihood:    </th>  <td> -99613.</td> \n",
       "</tr>\n",
       "<tr>\n",
       "  <th>Date:</th>                               <td>Tue, 15 Feb 2022</td>                     <th>  Deviance:          </th> <td>1.9923e+05</td>\n",
       "</tr>\n",
       "<tr>\n",
       "  <th>Time:</th>                                   <td>06:43:01</td>                         <th>  Pearson chi2:      </th>  <td>4.85e+05</td> \n",
       "</tr>\n",
       "<tr>\n",
       "  <th>No. Iterations:</th>                             <td>7</td>                            <th>  Pseudo R-squ. (CS):</th>   <td>0.05701</td> \n",
       "</tr>\n",
       "<tr>\n",
       "  <th>Covariance Type:</th>                        <td>nonrobust</td>                        <th>                     </th>      <td> </td>    \n",
       "</tr>\n",
       "</table>\n",
       "<table class=\"simpletable\">\n",
       "<tr>\n",
       "                                         <td></td>                                            <th>coef</th>     <th>std err</th>      <th>z</th>      <th>P>|z|</th>  <th>[0.025</th>    <th>0.975]</th>  \n",
       "</tr>\n",
       "<tr>\n",
       "  <th>Intercept</th>                                                                       <td>   -2.6206</td> <td>    1.028</td> <td>   -2.549</td> <td> 0.011</td> <td>   -4.636</td> <td>   -0.605</td>\n",
       "</tr>\n",
       "<tr>\n",
       "  <th>sexo[T.masculino]</th>                                                               <td>    0.9982</td> <td>    1.041</td> <td>    0.959</td> <td> 0.337</td> <td>   -1.041</td> <td>    3.038</td>\n",
       "</tr>\n",
       "<tr>\n",
       "  <th>condicao_envolvimento[T.ocupante de automóveis]</th>                                 <td>   -1.1232</td> <td>    1.026</td> <td>   -1.094</td> <td> 0.274</td> <td>   -3.135</td> <td>    0.889</td>\n",
       "</tr>\n",
       "<tr>\n",
       "  <th>condicao_envolvimento[T.ocupante de caminhonete/camioneta]</th>                      <td>   -0.9426</td> <td>    1.029</td> <td>   -0.916</td> <td> 0.360</td> <td>   -2.959</td> <td>    1.074</td>\n",
       "</tr>\n",
       "<tr>\n",
       "  <th>condicao_envolvimento[T.ocupante de caminhão]</th>                                   <td>   -0.4606</td> <td>    1.035</td> <td>   -0.445</td> <td> 0.656</td> <td>   -2.488</td> <td>    1.567</td>\n",
       "</tr>\n",
       "<tr>\n",
       "  <th>condicao_envolvimento[T.ocupante de micro-ônibus/ônibus]</th>                        <td>   -1.0522</td> <td>    1.050</td> <td>   -1.002</td> <td> 0.316</td> <td>   -3.110</td> <td>    1.006</td>\n",
       "</tr>\n",
       "<tr>\n",
       "  <th>condicao_envolvimento[T.ocupante de motocicleta]</th>                                <td>   -0.6659</td> <td>    1.027</td> <td>   -0.648</td> <td> 0.517</td> <td>   -2.679</td> <td>    1.348</td>\n",
       "</tr>\n",
       "<tr>\n",
       "  <th>condicao_envolvimento[T.ocupante de motoneta]</th>                                   <td>   -0.9144</td> <td>    1.030</td> <td>   -0.888</td> <td> 0.375</td> <td>   -2.933</td> <td>    1.104</td>\n",
       "</tr>\n",
       "<tr>\n",
       "  <th>condicao_envolvimento[T.pedestre]</th>                                               <td>    1.5868</td> <td>    1.030</td> <td>    1.541</td> <td> 0.123</td> <td>   -0.431</td> <td>    3.605</td>\n",
       "</tr>\n",
       "<tr>\n",
       "  <th>tipo_acidente[T.atropelamento de pessoas]</th>                                       <td>   -0.4188</td> <td>    0.080</td> <td>   -5.263</td> <td> 0.000</td> <td>   -0.575</td> <td>   -0.263</td>\n",
       "</tr>\n",
       "<tr>\n",
       "  <th>tipo_acidente[T.capotamento/tombamento]</th>                                         <td>   -0.5380</td> <td>    0.059</td> <td>   -9.130</td> <td> 0.000</td> <td>   -0.654</td> <td>   -0.423</td>\n",
       "</tr>\n",
       "<tr>\n",
       "  <th>tipo_acidente[T.colisao com bicicleta]</th>                                          <td>   -1.3040</td> <td>    0.157</td> <td>   -8.324</td> <td> 0.000</td> <td>   -1.611</td> <td>   -0.997</td>\n",
       "</tr>\n",
       "<tr>\n",
       "  <th>tipo_acidente[T.colisao frontal]</th>                                                <td>    1.4657</td> <td>    0.058</td> <td>   25.457</td> <td> 0.000</td> <td>    1.353</td> <td>    1.579</td>\n",
       "</tr>\n",
       "<tr>\n",
       "  <th>tipo_acidente[T.colisao lateral]</th>                                                <td>   -0.1966</td> <td>    0.061</td> <td>   -3.245</td> <td> 0.001</td> <td>   -0.315</td> <td>   -0.078</td>\n",
       "</tr>\n",
       "<tr>\n",
       "  <th>tipo_acidente[T.colisao transversal]</th>                                            <td>    0.0249</td> <td>    0.061</td> <td>    0.411</td> <td> 0.681</td> <td>   -0.094</td> <td>    0.144</td>\n",
       "</tr>\n",
       "<tr>\n",
       "  <th>tipo_acidente[T.colisao traseira]</th>                                               <td>   -0.3243</td> <td>    0.060</td> <td>   -5.389</td> <td> 0.000</td> <td>   -0.442</td> <td>   -0.206</td>\n",
       "</tr>\n",
       "<tr>\n",
       "  <th>tipo_acidente[T.outros]</th>                                                         <td>    0.0890</td> <td>    0.060</td> <td>    1.486</td> <td> 0.137</td> <td>   -0.028</td> <td>    0.206</td>\n",
       "</tr>\n",
       "<tr>\n",
       "  <th>tipo_acidente[T.queda de veículo]</th>                                               <td>   -0.8698</td> <td>    0.062</td> <td>  -14.071</td> <td> 0.000</td> <td>   -0.991</td> <td>   -0.749</td>\n",
       "</tr>\n",
       "<tr>\n",
       "  <th>tipo_acidente[T.saída da pista]</th>                                                 <td>   -0.2156</td> <td>    0.058</td> <td>   -3.735</td> <td> 0.000</td> <td>   -0.329</td> <td>   -0.102</td>\n",
       "</tr>\n",
       "<tr>\n",
       "  <th>tipo_pista[T.multipla]</th>                                                          <td>   -0.0535</td> <td>    0.038</td> <td>   -1.414</td> <td> 0.157</td> <td>   -0.128</td> <td>    0.021</td>\n",
       "</tr>\n",
       "<tr>\n",
       "  <th>tipo_pista[T.simples]</th>                                                           <td>    0.3067</td> <td>    0.016</td> <td>   19.393</td> <td> 0.000</td> <td>    0.276</td> <td>    0.338</td>\n",
       "</tr>\n",
       "<tr>\n",
       "  <th>tracado_via[T.curva]</th>                                                            <td>    0.3658</td> <td>    0.047</td> <td>    7.815</td> <td> 0.000</td> <td>    0.274</td> <td>    0.457</td>\n",
       "</tr>\n",
       "<tr>\n",
       "  <th>tracado_via[T.outros]</th>                                                           <td>   -0.0414</td> <td>    0.060</td> <td>   -0.689</td> <td> 0.491</td> <td>   -0.159</td> <td>    0.076</td>\n",
       "</tr>\n",
       "<tr>\n",
       "  <th>tracado_via[T.reta]</th>                                                             <td>    0.3622</td> <td>    0.045</td> <td>    7.969</td> <td> 0.000</td> <td>    0.273</td> <td>    0.451</td>\n",
       "</tr>\n",
       "<tr>\n",
       "  <th>dia_semana[T.quarta]</th>                                                            <td>   -0.1864</td> <td>    0.023</td> <td>   -8.040</td> <td> 0.000</td> <td>   -0.232</td> <td>   -0.141</td>\n",
       "</tr>\n",
       "<tr>\n",
       "  <th>dia_semana[T.quinta]</th>                                                            <td>   -0.1821</td> <td>    0.023</td> <td>   -8.042</td> <td> 0.000</td> <td>   -0.226</td> <td>   -0.138</td>\n",
       "</tr>\n",
       "<tr>\n",
       "  <th>dia_semana[T.sabado]</th>                                                            <td>   -0.0944</td> <td>    0.020</td> <td>   -4.783</td> <td> 0.000</td> <td>   -0.133</td> <td>   -0.056</td>\n",
       "</tr>\n",
       "<tr>\n",
       "  <th>dia_semana[T.segunda]</th>                                                           <td>   -0.2028</td> <td>    0.022</td> <td>   -9.027</td> <td> 0.000</td> <td>   -0.247</td> <td>   -0.159</td>\n",
       "</tr>\n",
       "<tr>\n",
       "  <th>dia_semana[T.sexta]</th>                                                             <td>   -0.1814</td> <td>    0.021</td> <td>   -8.469</td> <td> 0.000</td> <td>   -0.223</td> <td>   -0.139</td>\n",
       "</tr>\n",
       "<tr>\n",
       "  <th>dia_semana[T.terca]</th>                                                             <td>   -0.2146</td> <td>    0.024</td> <td>   -9.129</td> <td> 0.000</td> <td>   -0.261</td> <td>   -0.169</td>\n",
       "</tr>\n",
       "<tr>\n",
       "  <th>horario_acidente[T.manhã]</th>                                                       <td>   -0.6967</td> <td>    0.020</td> <td>  -35.729</td> <td> 0.000</td> <td>   -0.735</td> <td>   -0.659</td>\n",
       "</tr>\n",
       "<tr>\n",
       "  <th>horario_acidente[T.noite]</th>                                                       <td>   -0.3580</td> <td>    0.018</td> <td>  -20.021</td> <td> 0.000</td> <td>   -0.393</td> <td>   -0.323</td>\n",
       "</tr>\n",
       "<tr>\n",
       "  <th>horario_acidente[T.tarde]</th>                                                       <td>   -0.6742</td> <td>    0.019</td> <td>  -36.363</td> <td> 0.000</td> <td>   -0.711</td> <td>   -0.638</td>\n",
       "</tr>\n",
       "<tr>\n",
       "  <th>uso_solo[T.urbano]</th>                                                              <td>   -0.6905</td> <td>    0.016</td> <td>  -43.946</td> <td> 0.000</td> <td>   -0.721</td> <td>   -0.660</td>\n",
       "</tr>\n",
       "<tr>\n",
       "  <th>regiao_pais[T.nordeste]</th>                                                         <td>    0.2319</td> <td>    0.021</td> <td>   11.072</td> <td> 0.000</td> <td>    0.191</td> <td>    0.273</td>\n",
       "</tr>\n",
       "<tr>\n",
       "  <th>regiao_pais[T.norte]</th>                                                            <td>    0.0094</td> <td>    0.031</td> <td>    0.305</td> <td> 0.760</td> <td>   -0.051</td> <td>    0.070</td>\n",
       "</tr>\n",
       "<tr>\n",
       "  <th>regiao_pais[T.sudeste]</th>                                                          <td>   -0.3459</td> <td>    0.021</td> <td>  -16.295</td> <td> 0.000</td> <td>   -0.388</td> <td>   -0.304</td>\n",
       "</tr>\n",
       "<tr>\n",
       "  <th>regiao_pais[T.sul]</th>                                                              <td>   -0.3523</td> <td>    0.022</td> <td>  -16.148</td> <td> 0.000</td> <td>   -0.395</td> <td>   -0.310</td>\n",
       "</tr>\n",
       "<tr>\n",
       "  <th>faixa_ano_fabricacao[T.mais de dez anos]</th>                                        <td>    0.2298</td> <td>    0.014</td> <td>   16.297</td> <td> 0.000</td> <td>    0.202</td> <td>    0.257</td>\n",
       "</tr>\n",
       "<tr>\n",
       "  <th>causa_presumivel_acidente[T.aspectos relacionados ao comportamento do condutor]</th> <td>    0.3020</td> <td>    0.044</td> <td>    6.865</td> <td> 0.000</td> <td>    0.216</td> <td>    0.388</td>\n",
       "</tr>\n",
       "<tr>\n",
       "  <th>causa_presumivel_acidente[T.aspectos relacionados ao veículo]</th>                   <td>    0.0238</td> <td>    0.053</td> <td>    0.449</td> <td> 0.653</td> <td>   -0.080</td> <td>    0.128</td>\n",
       "</tr>\n",
       "<tr>\n",
       "  <th>causa_presumivel_acidente[T.outros aspectos não identificados]</th>                  <td>    0.9761</td> <td>    0.044</td> <td>   22.313</td> <td> 0.000</td> <td>    0.890</td> <td>    1.062</td>\n",
       "</tr>\n",
       "<tr>\n",
       "  <th>sexo[T.masculino]:condicao_envolvimento[T.ocupante de automóveis]</th>               <td>   -0.3864</td> <td>    1.041</td> <td>   -0.371</td> <td> 0.711</td> <td>   -2.427</td> <td>    1.654</td>\n",
       "</tr>\n",
       "<tr>\n",
       "  <th>sexo[T.masculino]:condicao_envolvimento[T.ocupante de caminhonete/camioneta]</th>    <td>   -0.5533</td> <td>    1.044</td> <td>   -0.530</td> <td> 0.596</td> <td>   -2.599</td> <td>    1.492</td>\n",
       "</tr>\n",
       "<tr>\n",
       "  <th>sexo[T.masculino]:condicao_envolvimento[T.ocupante de caminhão]</th>                 <td>   -0.6606</td> <td>    1.049</td> <td>   -0.630</td> <td> 0.529</td> <td>   -2.717</td> <td>    1.396</td>\n",
       "</tr>\n",
       "<tr>\n",
       "  <th>sexo[T.masculino]:condicao_envolvimento[T.ocupante de micro-ônibus/ônibus]</th>      <td>   -0.6286</td> <td>    1.067</td> <td>   -0.589</td> <td> 0.556</td> <td>   -2.720</td> <td>    1.463</td>\n",
       "</tr>\n",
       "<tr>\n",
       "  <th>sexo[T.masculino]:condicao_envolvimento[T.ocupante de motocicleta]</th>              <td>   -0.2935</td> <td>    1.042</td> <td>   -0.282</td> <td> 0.778</td> <td>   -2.336</td> <td>    1.749</td>\n",
       "</tr>\n",
       "<tr>\n",
       "  <th>sexo[T.masculino]:condicao_envolvimento[T.ocupante de motoneta]</th>                 <td>   -0.2470</td> <td>    1.045</td> <td>   -0.236</td> <td> 0.813</td> <td>   -2.296</td> <td>    1.802</td>\n",
       "</tr>\n",
       "<tr>\n",
       "  <th>sexo[T.masculino]:condicao_envolvimento[T.pedestre]</th>                             <td>   -0.5411</td> <td>    1.044</td> <td>   -0.518</td> <td> 0.604</td> <td>   -2.587</td> <td>    1.505</td>\n",
       "</tr>\n",
       "</table>"
      ],
      "text/plain": [
       "<class 'statsmodels.iolib.summary.Summary'>\n",
       "\"\"\"\n",
       "                                    Generalized Linear Model Regression Results                                    \n",
       "===================================================================================================================\n",
       "Dep. Variable:     ['estado_fisico[morto]', 'estado_fisico[sobrevivente]']   No. Observations:               495173\n",
       "Model:                                                                 GLM   Df Residuals:                   495124\n",
       "Model Family:                                                     Binomial   Df Model:                           48\n",
       "Link Function:                                                       Logit   Scale:                          1.0000\n",
       "Method:                                                               IRLS   Log-Likelihood:                -99613.\n",
       "Date:                                                     Tue, 15 Feb 2022   Deviance:                   1.9923e+05\n",
       "Time:                                                             06:43:01   Pearson chi2:                 4.85e+05\n",
       "No. Iterations:                                                          7   Pseudo R-squ. (CS):            0.05701\n",
       "Covariance Type:                                                 nonrobust                                         \n",
       "===================================================================================================================================================\n",
       "                                                                                      coef    std err          z      P>|z|      [0.025      0.975]\n",
       "---------------------------------------------------------------------------------------------------------------------------------------------------\n",
       "Intercept                                                                          -2.6206      1.028     -2.549      0.011      -4.636      -0.605\n",
       "sexo[T.masculino]                                                                   0.9982      1.041      0.959      0.337      -1.041       3.038\n",
       "condicao_envolvimento[T.ocupante de automóveis]                                    -1.1232      1.026     -1.094      0.274      -3.135       0.889\n",
       "condicao_envolvimento[T.ocupante de caminhonete/camioneta]                         -0.9426      1.029     -0.916      0.360      -2.959       1.074\n",
       "condicao_envolvimento[T.ocupante de caminhão]                                      -0.4606      1.035     -0.445      0.656      -2.488       1.567\n",
       "condicao_envolvimento[T.ocupante de micro-ônibus/ônibus]                           -1.0522      1.050     -1.002      0.316      -3.110       1.006\n",
       "condicao_envolvimento[T.ocupante de motocicleta]                                   -0.6659      1.027     -0.648      0.517      -2.679       1.348\n",
       "condicao_envolvimento[T.ocupante de motoneta]                                      -0.9144      1.030     -0.888      0.375      -2.933       1.104\n",
       "condicao_envolvimento[T.pedestre]                                                   1.5868      1.030      1.541      0.123      -0.431       3.605\n",
       "tipo_acidente[T.atropelamento de pessoas]                                          -0.4188      0.080     -5.263      0.000      -0.575      -0.263\n",
       "tipo_acidente[T.capotamento/tombamento]                                            -0.5380      0.059     -9.130      0.000      -0.654      -0.423\n",
       "tipo_acidente[T.colisao com bicicleta]                                             -1.3040      0.157     -8.324      0.000      -1.611      -0.997\n",
       "tipo_acidente[T.colisao frontal]                                                    1.4657      0.058     25.457      0.000       1.353       1.579\n",
       "tipo_acidente[T.colisao lateral]                                                   -0.1966      0.061     -3.245      0.001      -0.315      -0.078\n",
       "tipo_acidente[T.colisao transversal]                                                0.0249      0.061      0.411      0.681      -0.094       0.144\n",
       "tipo_acidente[T.colisao traseira]                                                  -0.3243      0.060     -5.389      0.000      -0.442      -0.206\n",
       "tipo_acidente[T.outros]                                                             0.0890      0.060      1.486      0.137      -0.028       0.206\n",
       "tipo_acidente[T.queda de veículo]                                                  -0.8698      0.062    -14.071      0.000      -0.991      -0.749\n",
       "tipo_acidente[T.saída da pista]                                                    -0.2156      0.058     -3.735      0.000      -0.329      -0.102\n",
       "tipo_pista[T.multipla]                                                             -0.0535      0.038     -1.414      0.157      -0.128       0.021\n",
       "tipo_pista[T.simples]                                                               0.3067      0.016     19.393      0.000       0.276       0.338\n",
       "tracado_via[T.curva]                                                                0.3658      0.047      7.815      0.000       0.274       0.457\n",
       "tracado_via[T.outros]                                                              -0.0414      0.060     -0.689      0.491      -0.159       0.076\n",
       "tracado_via[T.reta]                                                                 0.3622      0.045      7.969      0.000       0.273       0.451\n",
       "dia_semana[T.quarta]                                                               -0.1864      0.023     -8.040      0.000      -0.232      -0.141\n",
       "dia_semana[T.quinta]                                                               -0.1821      0.023     -8.042      0.000      -0.226      -0.138\n",
       "dia_semana[T.sabado]                                                               -0.0944      0.020     -4.783      0.000      -0.133      -0.056\n",
       "dia_semana[T.segunda]                                                              -0.2028      0.022     -9.027      0.000      -0.247      -0.159\n",
       "dia_semana[T.sexta]                                                                -0.1814      0.021     -8.469      0.000      -0.223      -0.139\n",
       "dia_semana[T.terca]                                                                -0.2146      0.024     -9.129      0.000      -0.261      -0.169\n",
       "horario_acidente[T.manhã]                                                          -0.6967      0.020    -35.729      0.000      -0.735      -0.659\n",
       "horario_acidente[T.noite]                                                          -0.3580      0.018    -20.021      0.000      -0.393      -0.323\n",
       "horario_acidente[T.tarde]                                                          -0.6742      0.019    -36.363      0.000      -0.711      -0.638\n",
       "uso_solo[T.urbano]                                                                 -0.6905      0.016    -43.946      0.000      -0.721      -0.660\n",
       "regiao_pais[T.nordeste]                                                             0.2319      0.021     11.072      0.000       0.191       0.273\n",
       "regiao_pais[T.norte]                                                                0.0094      0.031      0.305      0.760      -0.051       0.070\n",
       "regiao_pais[T.sudeste]                                                             -0.3459      0.021    -16.295      0.000      -0.388      -0.304\n",
       "regiao_pais[T.sul]                                                                 -0.3523      0.022    -16.148      0.000      -0.395      -0.310\n",
       "faixa_ano_fabricacao[T.mais de dez anos]                                            0.2298      0.014     16.297      0.000       0.202       0.257\n",
       "causa_presumivel_acidente[T.aspectos relacionados ao comportamento do condutor]     0.3020      0.044      6.865      0.000       0.216       0.388\n",
       "causa_presumivel_acidente[T.aspectos relacionados ao veículo]                       0.0238      0.053      0.449      0.653      -0.080       0.128\n",
       "causa_presumivel_acidente[T.outros aspectos não identificados]                      0.9761      0.044     22.313      0.000       0.890       1.062\n",
       "sexo[T.masculino]:condicao_envolvimento[T.ocupante de automóveis]                  -0.3864      1.041     -0.371      0.711      -2.427       1.654\n",
       "sexo[T.masculino]:condicao_envolvimento[T.ocupante de caminhonete/camioneta]       -0.5533      1.044     -0.530      0.596      -2.599       1.492\n",
       "sexo[T.masculino]:condicao_envolvimento[T.ocupante de caminhão]                    -0.6606      1.049     -0.630      0.529      -2.717       1.396\n",
       "sexo[T.masculino]:condicao_envolvimento[T.ocupante de micro-ônibus/ônibus]         -0.6286      1.067     -0.589      0.556      -2.720       1.463\n",
       "sexo[T.masculino]:condicao_envolvimento[T.ocupante de motocicleta]                 -0.2935      1.042     -0.282      0.778      -2.336       1.749\n",
       "sexo[T.masculino]:condicao_envolvimento[T.ocupante de motoneta]                    -0.2470      1.045     -0.236      0.813      -2.296       1.802\n",
       "sexo[T.masculino]:condicao_envolvimento[T.pedestre]                                -0.5411      1.044     -0.518      0.604      -2.587       1.505\n",
       "===================================================================================================================================================\n",
       "\"\"\""
      ]
     },
     "execution_count": 17,
     "metadata": {},
     "output_type": "execute_result"
    }
   ],
   "source": [
    "model = smf.glm(formula='estado_fisico ~ sexo+condicao_envolvimento+tipo_acidente+tipo_pista+tracado_via+dia_semana+horario_acidente+uso_solo+regiao_pais+faixa_ano_fabricacao+causa_presumivel_acidente+sexo*condicao_envolvimento', \n",
    "                 data=dados, family=sm.families.Binomial()).fit()\n",
    "model.summary()"
   ]
  },
  {
   "cell_type": "markdown",
   "metadata": {
    "ExecuteTime": {
     "start_time": "2022-02-07T22:07:54.775Z"
    }
   },
   "source": [
    "> <p style='text-align: justify;'><font size=2.85>O p-valor indica que o efeito de interação entre as variáveis condição de envolvimento e sexo não é estatisticamente significativo.</font></p>"
   ]
  },
  {
   "cell_type": "markdown",
   "metadata": {},
   "source": [
    "Testando interação entre tipo de pista e tipo de acidente"
   ]
  },
  {
   "cell_type": "code",
   "execution_count": 18,
   "metadata": {
    "ExecuteTime": {
     "end_time": "2022-02-15T09:43:34.902147Z",
     "start_time": "2022-02-15T09:43:01.216552Z"
    },
    "scrolled": false
   },
   "outputs": [
    {
     "data": {
      "text/html": [
       "<table class=\"simpletable\">\n",
       "<caption>Generalized Linear Model Regression Results</caption>\n",
       "<tr>\n",
       "  <th>Dep. Variable:</th>   <td>['estado_fisico[morto]', 'estado_fisico[sobrevivente]']</td> <th>  No. Observations:  </th>   <td>495173</td>   \n",
       "</tr>\n",
       "<tr>\n",
       "  <th>Model:</th>                                     <td>GLM</td>                           <th>  Df Residuals:      </th>   <td>495119</td>   \n",
       "</tr>\n",
       "<tr>\n",
       "  <th>Model Family:</th>                           <td>Binomial</td>                         <th>  Df Model:          </th>   <td>    53</td>   \n",
       "</tr>\n",
       "<tr>\n",
       "  <th>Link Function:</th>                            <td>Logit</td>                          <th>  Scale:             </th>  <td>  1.0000</td>  \n",
       "</tr>\n",
       "<tr>\n",
       "  <th>Method:</th>                                   <td>IRLS</td>                           <th>  Log-Likelihood:    </th> <td>-1.0130e+05</td>\n",
       "</tr>\n",
       "<tr>\n",
       "  <th>Date:</th>                               <td>Tue, 15 Feb 2022</td>                     <th>  Deviance:          </th> <td>2.0260e+05</td> \n",
       "</tr>\n",
       "<tr>\n",
       "  <th>Time:</th>                                   <td>06:43:34</td>                         <th>  Pearson chi2:      </th>  <td>4.82e+05</td>  \n",
       "</tr>\n",
       "<tr>\n",
       "  <th>No. Iterations:</th>                             <td>7</td>                            <th>  Pseudo R-squ. (CS):</th>   <td>0.05056</td>  \n",
       "</tr>\n",
       "<tr>\n",
       "  <th>Covariance Type:</th>                        <td>nonrobust</td>                        <th>                     </th>      <td> </td>     \n",
       "</tr>\n",
       "</table>\n",
       "<table class=\"simpletable\">\n",
       "<tr>\n",
       "                                         <td></td>                                            <th>coef</th>     <th>std err</th>      <th>z</th>      <th>P>|z|</th>  <th>[0.025</th>    <th>0.975]</th>  \n",
       "</tr>\n",
       "<tr>\n",
       "  <th>Intercept</th>                                                                       <td>   -2.8105</td> <td>    0.110</td> <td>  -25.549</td> <td> 0.000</td> <td>   -3.026</td> <td>   -2.595</td>\n",
       "</tr>\n",
       "<tr>\n",
       "  <th>tipo_acidente[T.atropelamento de pessoas]</th>                                       <td>    1.1748</td> <td>    0.111</td> <td>   10.582</td> <td> 0.000</td> <td>    0.957</td> <td>    1.392</td>\n",
       "</tr>\n",
       "<tr>\n",
       "  <th>tipo_acidente[T.capotamento/tombamento]</th>                                         <td>   -0.6880</td> <td>    0.108</td> <td>   -6.381</td> <td> 0.000</td> <td>   -0.899</td> <td>   -0.477</td>\n",
       "</tr>\n",
       "<tr>\n",
       "  <th>tipo_acidente[T.colisao com bicicleta]</th>                                          <td>   -1.5304</td> <td>    0.371</td> <td>   -4.128</td> <td> 0.000</td> <td>   -2.257</td> <td>   -0.804</td>\n",
       "</tr>\n",
       "<tr>\n",
       "  <th>tipo_acidente[T.colisao frontal]</th>                                                <td>    1.1548</td> <td>    0.117</td> <td>    9.906</td> <td> 0.000</td> <td>    0.926</td> <td>    1.383</td>\n",
       "</tr>\n",
       "<tr>\n",
       "  <th>tipo_acidente[T.colisao lateral]</th>                                                <td>   -0.7108</td> <td>    0.117</td> <td>   -6.095</td> <td> 0.000</td> <td>   -0.939</td> <td>   -0.482</td>\n",
       "</tr>\n",
       "<tr>\n",
       "  <th>tipo_acidente[T.colisao transversal]</th>                                            <td>   -0.2552</td> <td>    0.117</td> <td>   -2.186</td> <td> 0.029</td> <td>   -0.484</td> <td>   -0.026</td>\n",
       "</tr>\n",
       "<tr>\n",
       "  <th>tipo_acidente[T.colisao traseira]</th>                                               <td>   -0.4409</td> <td>    0.108</td> <td>   -4.070</td> <td> 0.000</td> <td>   -0.653</td> <td>   -0.229</td>\n",
       "</tr>\n",
       "<tr>\n",
       "  <th>tipo_acidente[T.outros]</th>                                                         <td>   -0.1913</td> <td>    0.108</td> <td>   -1.766</td> <td> 0.077</td> <td>   -0.404</td> <td>    0.021</td>\n",
       "</tr>\n",
       "<tr>\n",
       "  <th>tipo_acidente[T.queda de veículo]</th>                                               <td>   -0.7194</td> <td>    0.111</td> <td>   -6.458</td> <td> 0.000</td> <td>   -0.938</td> <td>   -0.501</td>\n",
       "</tr>\n",
       "<tr>\n",
       "  <th>tipo_acidente[T.saída da pista]</th>                                                 <td>   -0.4433</td> <td>    0.106</td> <td>   -4.165</td> <td> 0.000</td> <td>   -0.652</td> <td>   -0.235</td>\n",
       "</tr>\n",
       "<tr>\n",
       "  <th>tipo_pista[T.multipla]</th>                                                          <td>   -0.4360</td> <td>    0.464</td> <td>   -0.939</td> <td> 0.348</td> <td>   -1.346</td> <td>    0.474</td>\n",
       "</tr>\n",
       "<tr>\n",
       "  <th>tipo_pista[T.simples]</th>                                                           <td>    0.2449</td> <td>    0.107</td> <td>    2.284</td> <td> 0.022</td> <td>    0.035</td> <td>    0.455</td>\n",
       "</tr>\n",
       "<tr>\n",
       "  <th>tracado_via[T.curva]</th>                                                            <td>    0.3430</td> <td>    0.047</td> <td>    7.345</td> <td> 0.000</td> <td>    0.251</td> <td>    0.434</td>\n",
       "</tr>\n",
       "<tr>\n",
       "  <th>tracado_via[T.outros]</th>                                                           <td>   -0.0120</td> <td>    0.060</td> <td>   -0.201</td> <td> 0.841</td> <td>   -0.129</td> <td>    0.105</td>\n",
       "</tr>\n",
       "<tr>\n",
       "  <th>tracado_via[T.reta]</th>                                                             <td>    0.3359</td> <td>    0.045</td> <td>    7.402</td> <td> 0.000</td> <td>    0.247</td> <td>    0.425</td>\n",
       "</tr>\n",
       "<tr>\n",
       "  <th>dia_semana[T.quarta]</th>                                                            <td>   -0.1548</td> <td>    0.023</td> <td>   -6.759</td> <td> 0.000</td> <td>   -0.200</td> <td>   -0.110</td>\n",
       "</tr>\n",
       "<tr>\n",
       "  <th>dia_semana[T.quinta]</th>                                                            <td>   -0.1519</td> <td>    0.022</td> <td>   -6.786</td> <td> 0.000</td> <td>   -0.196</td> <td>   -0.108</td>\n",
       "</tr>\n",
       "<tr>\n",
       "  <th>dia_semana[T.sabado]</th>                                                            <td>   -0.0852</td> <td>    0.020</td> <td>   -4.348</td> <td> 0.000</td> <td>   -0.124</td> <td>   -0.047</td>\n",
       "</tr>\n",
       "<tr>\n",
       "  <th>dia_semana[T.segunda]</th>                                                           <td>   -0.1862</td> <td>    0.022</td> <td>   -8.363</td> <td> 0.000</td> <td>   -0.230</td> <td>   -0.143</td>\n",
       "</tr>\n",
       "<tr>\n",
       "  <th>dia_semana[T.sexta]</th>                                                             <td>   -0.1655</td> <td>    0.021</td> <td>   -7.801</td> <td> 0.000</td> <td>   -0.207</td> <td>   -0.124</td>\n",
       "</tr>\n",
       "<tr>\n",
       "  <th>dia_semana[T.terca]</th>                                                             <td>   -0.1827</td> <td>    0.023</td> <td>   -7.864</td> <td> 0.000</td> <td>   -0.228</td> <td>   -0.137</td>\n",
       "</tr>\n",
       "<tr>\n",
       "  <th>horario_acidente[T.manhã]</th>                                                       <td>   -0.7051</td> <td>    0.019</td> <td>  -36.467</td> <td> 0.000</td> <td>   -0.743</td> <td>   -0.667</td>\n",
       "</tr>\n",
       "<tr>\n",
       "  <th>horario_acidente[T.noite]</th>                                                       <td>   -0.3439</td> <td>    0.018</td> <td>  -19.491</td> <td> 0.000</td> <td>   -0.378</td> <td>   -0.309</td>\n",
       "</tr>\n",
       "<tr>\n",
       "  <th>horario_acidente[T.tarde]</th>                                                       <td>   -0.6896</td> <td>    0.018</td> <td>  -37.601</td> <td> 0.000</td> <td>   -0.726</td> <td>   -0.654</td>\n",
       "</tr>\n",
       "<tr>\n",
       "  <th>uso_solo[T.urbano]</th>                                                              <td>   -0.6276</td> <td>    0.015</td> <td>  -41.174</td> <td> 0.000</td> <td>   -0.657</td> <td>   -0.598</td>\n",
       "</tr>\n",
       "<tr>\n",
       "  <th>regiao_pais[T.nordeste]</th>                                                         <td>    0.2774</td> <td>    0.021</td> <td>   13.381</td> <td> 0.000</td> <td>    0.237</td> <td>    0.318</td>\n",
       "</tr>\n",
       "<tr>\n",
       "  <th>regiao_pais[T.norte]</th>                                                            <td>    0.0522</td> <td>    0.031</td> <td>    1.705</td> <td> 0.088</td> <td>   -0.008</td> <td>    0.112</td>\n",
       "</tr>\n",
       "<tr>\n",
       "  <th>regiao_pais[T.sudeste]</th>                                                          <td>   -0.3376</td> <td>    0.021</td> <td>  -15.999</td> <td> 0.000</td> <td>   -0.379</td> <td>   -0.296</td>\n",
       "</tr>\n",
       "<tr>\n",
       "  <th>regiao_pais[T.sul]</th>                                                              <td>   -0.3765</td> <td>    0.022</td> <td>  -17.389</td> <td> 0.000</td> <td>   -0.419</td> <td>   -0.334</td>\n",
       "</tr>\n",
       "<tr>\n",
       "  <th>faixa_ano_fabricacao[T.mais de dez anos]</th>                                        <td>    0.2032</td> <td>    0.014</td> <td>   14.750</td> <td> 0.000</td> <td>    0.176</td> <td>    0.230</td>\n",
       "</tr>\n",
       "<tr>\n",
       "  <th>causa_presumivel_acidente[T.aspectos relacionados ao comportamento do condutor]</th> <td>    0.3648</td> <td>    0.044</td> <td>    8.351</td> <td> 0.000</td> <td>    0.279</td> <td>    0.450</td>\n",
       "</tr>\n",
       "<tr>\n",
       "  <th>causa_presumivel_acidente[T.aspectos relacionados ao veículo]</th>                   <td>    0.0688</td> <td>    0.053</td> <td>    1.306</td> <td> 0.192</td> <td>   -0.034</td> <td>    0.172</td>\n",
       "</tr>\n",
       "<tr>\n",
       "  <th>causa_presumivel_acidente[T.outros aspectos não identificados]</th>                  <td>    0.9697</td> <td>    0.043</td> <td>   22.374</td> <td> 0.000</td> <td>    0.885</td> <td>    1.055</td>\n",
       "</tr>\n",
       "<tr>\n",
       "  <th>tipo_acidente[T.atropelamento de pessoas]:tipo_pista[T.multipla]</th>                <td>    0.0827</td> <td>    0.476</td> <td>    0.174</td> <td> 0.862</td> <td>   -0.850</td> <td>    1.016</td>\n",
       "</tr>\n",
       "<tr>\n",
       "  <th>tipo_acidente[T.capotamento/tombamento]:tipo_pista[T.multipla]</th>                  <td>    0.5039</td> <td>    0.480</td> <td>    1.050</td> <td> 0.294</td> <td>   -0.437</td> <td>    1.445</td>\n",
       "</tr>\n",
       "<tr>\n",
       "  <th>tipo_acidente[T.colisao com bicicleta]:tipo_pista[T.multipla]</th>                   <td>    0.7277</td> <td>    0.922</td> <td>    0.789</td> <td> 0.430</td> <td>   -1.080</td> <td>    2.535</td>\n",
       "</tr>\n",
       "<tr>\n",
       "  <th>tipo_acidente[T.colisao frontal]:tipo_pista[T.multipla]</th>                         <td>    0.3267</td> <td>    0.486</td> <td>    0.672</td> <td> 0.502</td> <td>   -0.626</td> <td>    1.280</td>\n",
       "</tr>\n",
       "<tr>\n",
       "  <th>tipo_acidente[T.colisao lateral]:tipo_pista[T.multipla]</th>                         <td>    0.3280</td> <td>    0.483</td> <td>    0.679</td> <td> 0.497</td> <td>   -0.618</td> <td>    1.274</td>\n",
       "</tr>\n",
       "<tr>\n",
       "  <th>tipo_acidente[T.colisao transversal]:tipo_pista[T.multipla]</th>                     <td>    0.0572</td> <td>    0.491</td> <td>    0.117</td> <td> 0.907</td> <td>   -0.904</td> <td>    1.019</td>\n",
       "</tr>\n",
       "<tr>\n",
       "  <th>tipo_acidente[T.colisao traseira]:tipo_pista[T.multipla]</th>                        <td>    0.2490</td> <td>    0.474</td> <td>    0.526</td> <td> 0.599</td> <td>   -0.679</td> <td>    1.177</td>\n",
       "</tr>\n",
       "<tr>\n",
       "  <th>tipo_acidente[T.outros]:tipo_pista[T.multipla]</th>                                  <td>    0.6989</td> <td>    0.473</td> <td>    1.479</td> <td> 0.139</td> <td>   -0.227</td> <td>    1.625</td>\n",
       "</tr>\n",
       "<tr>\n",
       "  <th>tipo_acidente[T.queda de veículo]:tipo_pista[T.multipla]</th>                        <td>    0.8512</td> <td>    0.476</td> <td>    1.788</td> <td> 0.074</td> <td>   -0.082</td> <td>    1.784</td>\n",
       "</tr>\n",
       "<tr>\n",
       "  <th>tipo_acidente[T.saída da pista]:tipo_pista[T.multipla]</th>                          <td>    0.6133</td> <td>    0.479</td> <td>    1.279</td> <td> 0.201</td> <td>   -0.326</td> <td>    1.553</td>\n",
       "</tr>\n",
       "<tr>\n",
       "  <th>tipo_acidente[T.atropelamento de pessoas]:tipo_pista[T.simples]</th>                 <td>   -0.5435</td> <td>    0.123</td> <td>   -4.425</td> <td> 0.000</td> <td>   -0.784</td> <td>   -0.303</td>\n",
       "</tr>\n",
       "<tr>\n",
       "  <th>tipo_acidente[T.capotamento/tombamento]:tipo_pista[T.simples]</th>                   <td>    0.0531</td> <td>    0.114</td> <td>    0.467</td> <td> 0.641</td> <td>   -0.170</td> <td>    0.276</td>\n",
       "</tr>\n",
       "<tr>\n",
       "  <th>tipo_acidente[T.colisao com bicicleta]:tipo_pista[T.simples]</th>                    <td>    0.5198</td> <td>    0.405</td> <td>    1.282</td> <td> 0.200</td> <td>   -0.275</td> <td>    1.314</td>\n",
       "</tr>\n",
       "<tr>\n",
       "  <th>tipo_acidente[T.colisao frontal]:tipo_pista[T.simples]</th>                          <td>    0.1428</td> <td>    0.121</td> <td>    1.181</td> <td> 0.238</td> <td>   -0.094</td> <td>    0.380</td>\n",
       "</tr>\n",
       "<tr>\n",
       "  <th>tipo_acidente[T.colisao lateral]:tipo_pista[T.simples]</th>                          <td>    0.6299</td> <td>    0.123</td> <td>    5.127</td> <td> 0.000</td> <td>    0.389</td> <td>    0.871</td>\n",
       "</tr>\n",
       "<tr>\n",
       "  <th>tipo_acidente[T.colisao transversal]:tipo_pista[T.simples]</th>                      <td>    0.2480</td> <td>    0.122</td> <td>    2.026</td> <td> 0.043</td> <td>    0.008</td> <td>    0.488</td>\n",
       "</tr>\n",
       "<tr>\n",
       "  <th>tipo_acidente[T.colisao traseira]:tipo_pista[T.simples]</th>                         <td>    0.1026</td> <td>    0.116</td> <td>    0.884</td> <td> 0.377</td> <td>   -0.125</td> <td>    0.330</td>\n",
       "</tr>\n",
       "<tr>\n",
       "  <th>tipo_acidente[T.outros]:tipo_pista[T.simples]</th>                                   <td>    0.1736</td> <td>    0.117</td> <td>    1.486</td> <td> 0.137</td> <td>   -0.055</td> <td>    0.402</td>\n",
       "</tr>\n",
       "<tr>\n",
       "  <th>tipo_acidente[T.queda de veículo]:tipo_pista[T.simples]</th>                         <td>   -0.0356</td> <td>    0.121</td> <td>   -0.295</td> <td> 0.768</td> <td>   -0.272</td> <td>    0.201</td>\n",
       "</tr>\n",
       "<tr>\n",
       "  <th>tipo_acidente[T.saída da pista]:tipo_pista[T.simples]</th>                           <td>    0.0334</td> <td>    0.112</td> <td>    0.298</td> <td> 0.766</td> <td>   -0.186</td> <td>    0.253</td>\n",
       "</tr>\n",
       "</table>"
      ],
      "text/plain": [
       "<class 'statsmodels.iolib.summary.Summary'>\n",
       "\"\"\"\n",
       "                                    Generalized Linear Model Regression Results                                    \n",
       "===================================================================================================================\n",
       "Dep. Variable:     ['estado_fisico[morto]', 'estado_fisico[sobrevivente]']   No. Observations:               495173\n",
       "Model:                                                                 GLM   Df Residuals:                   495119\n",
       "Model Family:                                                     Binomial   Df Model:                           53\n",
       "Link Function:                                                       Logit   Scale:                          1.0000\n",
       "Method:                                                               IRLS   Log-Likelihood:            -1.0130e+05\n",
       "Date:                                                     Tue, 15 Feb 2022   Deviance:                   2.0260e+05\n",
       "Time:                                                             06:43:34   Pearson chi2:                 4.82e+05\n",
       "No. Iterations:                                                          7   Pseudo R-squ. (CS):            0.05056\n",
       "Covariance Type:                                                 nonrobust                                         \n",
       "===================================================================================================================================================\n",
       "                                                                                      coef    std err          z      P>|z|      [0.025      0.975]\n",
       "---------------------------------------------------------------------------------------------------------------------------------------------------\n",
       "Intercept                                                                          -2.8105      0.110    -25.549      0.000      -3.026      -2.595\n",
       "tipo_acidente[T.atropelamento de pessoas]                                           1.1748      0.111     10.582      0.000       0.957       1.392\n",
       "tipo_acidente[T.capotamento/tombamento]                                            -0.6880      0.108     -6.381      0.000      -0.899      -0.477\n",
       "tipo_acidente[T.colisao com bicicleta]                                             -1.5304      0.371     -4.128      0.000      -2.257      -0.804\n",
       "tipo_acidente[T.colisao frontal]                                                    1.1548      0.117      9.906      0.000       0.926       1.383\n",
       "tipo_acidente[T.colisao lateral]                                                   -0.7108      0.117     -6.095      0.000      -0.939      -0.482\n",
       "tipo_acidente[T.colisao transversal]                                               -0.2552      0.117     -2.186      0.029      -0.484      -0.026\n",
       "tipo_acidente[T.colisao traseira]                                                  -0.4409      0.108     -4.070      0.000      -0.653      -0.229\n",
       "tipo_acidente[T.outros]                                                            -0.1913      0.108     -1.766      0.077      -0.404       0.021\n",
       "tipo_acidente[T.queda de veículo]                                                  -0.7194      0.111     -6.458      0.000      -0.938      -0.501\n",
       "tipo_acidente[T.saída da pista]                                                    -0.4433      0.106     -4.165      0.000      -0.652      -0.235\n",
       "tipo_pista[T.multipla]                                                             -0.4360      0.464     -0.939      0.348      -1.346       0.474\n",
       "tipo_pista[T.simples]                                                               0.2449      0.107      2.284      0.022       0.035       0.455\n",
       "tracado_via[T.curva]                                                                0.3430      0.047      7.345      0.000       0.251       0.434\n",
       "tracado_via[T.outros]                                                              -0.0120      0.060     -0.201      0.841      -0.129       0.105\n",
       "tracado_via[T.reta]                                                                 0.3359      0.045      7.402      0.000       0.247       0.425\n",
       "dia_semana[T.quarta]                                                               -0.1548      0.023     -6.759      0.000      -0.200      -0.110\n",
       "dia_semana[T.quinta]                                                               -0.1519      0.022     -6.786      0.000      -0.196      -0.108\n",
       "dia_semana[T.sabado]                                                               -0.0852      0.020     -4.348      0.000      -0.124      -0.047\n",
       "dia_semana[T.segunda]                                                              -0.1862      0.022     -8.363      0.000      -0.230      -0.143\n",
       "dia_semana[T.sexta]                                                                -0.1655      0.021     -7.801      0.000      -0.207      -0.124\n",
       "dia_semana[T.terca]                                                                -0.1827      0.023     -7.864      0.000      -0.228      -0.137\n",
       "horario_acidente[T.manhã]                                                          -0.7051      0.019    -36.467      0.000      -0.743      -0.667\n",
       "horario_acidente[T.noite]                                                          -0.3439      0.018    -19.491      0.000      -0.378      -0.309\n",
       "horario_acidente[T.tarde]                                                          -0.6896      0.018    -37.601      0.000      -0.726      -0.654\n",
       "uso_solo[T.urbano]                                                                 -0.6276      0.015    -41.174      0.000      -0.657      -0.598\n",
       "regiao_pais[T.nordeste]                                                             0.2774      0.021     13.381      0.000       0.237       0.318\n",
       "regiao_pais[T.norte]                                                                0.0522      0.031      1.705      0.088      -0.008       0.112\n",
       "regiao_pais[T.sudeste]                                                             -0.3376      0.021    -15.999      0.000      -0.379      -0.296\n",
       "regiao_pais[T.sul]                                                                 -0.3765      0.022    -17.389      0.000      -0.419      -0.334\n",
       "faixa_ano_fabricacao[T.mais de dez anos]                                            0.2032      0.014     14.750      0.000       0.176       0.230\n",
       "causa_presumivel_acidente[T.aspectos relacionados ao comportamento do condutor]     0.3648      0.044      8.351      0.000       0.279       0.450\n",
       "causa_presumivel_acidente[T.aspectos relacionados ao veículo]                       0.0688      0.053      1.306      0.192      -0.034       0.172\n",
       "causa_presumivel_acidente[T.outros aspectos não identificados]                      0.9697      0.043     22.374      0.000       0.885       1.055\n",
       "tipo_acidente[T.atropelamento de pessoas]:tipo_pista[T.multipla]                    0.0827      0.476      0.174      0.862      -0.850       1.016\n",
       "tipo_acidente[T.capotamento/tombamento]:tipo_pista[T.multipla]                      0.5039      0.480      1.050      0.294      -0.437       1.445\n",
       "tipo_acidente[T.colisao com bicicleta]:tipo_pista[T.multipla]                       0.7277      0.922      0.789      0.430      -1.080       2.535\n",
       "tipo_acidente[T.colisao frontal]:tipo_pista[T.multipla]                             0.3267      0.486      0.672      0.502      -0.626       1.280\n",
       "tipo_acidente[T.colisao lateral]:tipo_pista[T.multipla]                             0.3280      0.483      0.679      0.497      -0.618       1.274\n",
       "tipo_acidente[T.colisao transversal]:tipo_pista[T.multipla]                         0.0572      0.491      0.117      0.907      -0.904       1.019\n",
       "tipo_acidente[T.colisao traseira]:tipo_pista[T.multipla]                            0.2490      0.474      0.526      0.599      -0.679       1.177\n",
       "tipo_acidente[T.outros]:tipo_pista[T.multipla]                                      0.6989      0.473      1.479      0.139      -0.227       1.625\n",
       "tipo_acidente[T.queda de veículo]:tipo_pista[T.multipla]                            0.8512      0.476      1.788      0.074      -0.082       1.784\n",
       "tipo_acidente[T.saída da pista]:tipo_pista[T.multipla]                              0.6133      0.479      1.279      0.201      -0.326       1.553\n",
       "tipo_acidente[T.atropelamento de pessoas]:tipo_pista[T.simples]                    -0.5435      0.123     -4.425      0.000      -0.784      -0.303\n",
       "tipo_acidente[T.capotamento/tombamento]:tipo_pista[T.simples]                       0.0531      0.114      0.467      0.641      -0.170       0.276\n",
       "tipo_acidente[T.colisao com bicicleta]:tipo_pista[T.simples]                        0.5198      0.405      1.282      0.200      -0.275       1.314\n",
       "tipo_acidente[T.colisao frontal]:tipo_pista[T.simples]                              0.1428      0.121      1.181      0.238      -0.094       0.380\n",
       "tipo_acidente[T.colisao lateral]:tipo_pista[T.simples]                              0.6299      0.123      5.127      0.000       0.389       0.871\n",
       "tipo_acidente[T.colisao transversal]:tipo_pista[T.simples]                          0.2480      0.122      2.026      0.043       0.008       0.488\n",
       "tipo_acidente[T.colisao traseira]:tipo_pista[T.simples]                             0.1026      0.116      0.884      0.377      -0.125       0.330\n",
       "tipo_acidente[T.outros]:tipo_pista[T.simples]                                       0.1736      0.117      1.486      0.137      -0.055       0.402\n",
       "tipo_acidente[T.queda de veículo]:tipo_pista[T.simples]                            -0.0356      0.121     -0.295      0.768      -0.272       0.201\n",
       "tipo_acidente[T.saída da pista]:tipo_pista[T.simples]                               0.0334      0.112      0.298      0.766      -0.186       0.253\n",
       "===================================================================================================================================================\n",
       "\"\"\""
      ]
     },
     "execution_count": 18,
     "metadata": {},
     "output_type": "execute_result"
    }
   ],
   "source": [
    "model = smf.glm(formula='estado_fisico ~ tipo_acidente+tipo_pista+tracado_via+dia_semana+horario_acidente+uso_solo+regiao_pais+faixa_ano_fabricacao+causa_presumivel_acidente+tipo_acidente*tipo_pista', \n",
    "                 data=dados, family=sm.families.Binomial()).fit()\n",
    "model.summary()"
   ]
  },
  {
   "cell_type": "markdown",
   "metadata": {},
   "source": [
    "> <p style='text-align: justify;'>O p-valor indica que o efeito de interação entre as variáveis tipo de pista e tipo de acidente não é estatisticamente significativo.<font size=2.85></font></p>"
   ]
  },
  {
   "cell_type": "markdown",
   "metadata": {},
   "source": [
    "Modelo final"
   ]
  },
  {
   "cell_type": "code",
   "execution_count": 19,
   "metadata": {
    "ExecuteTime": {
     "end_time": "2022-02-15T09:44:06.196528Z",
     "start_time": "2022-02-15T09:43:34.903330Z"
    },
    "scrolled": false
   },
   "outputs": [
    {
     "data": {
      "text/html": [
       "<table class=\"simpletable\">\n",
       "<caption>Generalized Linear Model Regression Results</caption>\n",
       "<tr>\n",
       "  <th>Dep. Variable:</th>   <td>['estado_fisico[morto]', 'estado_fisico[sobrevivente]']</td> <th>  No. Observations:  </th>   <td>495173</td>  \n",
       "</tr>\n",
       "<tr>\n",
       "  <th>Model:</th>                                     <td>GLM</td>                           <th>  Df Residuals:      </th>   <td>495127</td>  \n",
       "</tr>\n",
       "<tr>\n",
       "  <th>Model Family:</th>                           <td>Binomial</td>                         <th>  Df Model:          </th>   <td>    45</td>  \n",
       "</tr>\n",
       "<tr>\n",
       "  <th>Link Function:</th>                            <td>Logit</td>                          <th>  Scale:             </th>  <td>  1.0000</td> \n",
       "</tr>\n",
       "<tr>\n",
       "  <th>Method:</th>                                   <td>IRLS</td>                           <th>  Log-Likelihood:    </th>  <td> -99214.</td> \n",
       "</tr>\n",
       "<tr>\n",
       "  <th>Date:</th>                               <td>Tue, 15 Feb 2022</td>                     <th>  Deviance:          </th> <td>1.9843e+05</td>\n",
       "</tr>\n",
       "<tr>\n",
       "  <th>Time:</th>                                   <td>06:44:06</td>                         <th>  Pearson chi2:      </th>  <td>4.82e+05</td> \n",
       "</tr>\n",
       "<tr>\n",
       "  <th>No. Iterations:</th>                             <td>7</td>                            <th>  Pseudo R-squ. (CS):</th>   <td>0.05853</td> \n",
       "</tr>\n",
       "<tr>\n",
       "  <th>Covariance Type:</th>                        <td>nonrobust</td>                        <th>                     </th>      <td> </td>    \n",
       "</tr>\n",
       "</table>\n",
       "<table class=\"simpletable\">\n",
       "<tr>\n",
       "                                         <td></td>                                            <th>coef</th>     <th>std err</th>      <th>z</th>      <th>P>|z|</th>  <th>[0.025</th>    <th>0.975]</th>  \n",
       "</tr>\n",
       "<tr>\n",
       "  <th>Intercept</th>                                                                       <td>   -2.8982</td> <td>    0.230</td> <td>  -12.596</td> <td> 0.000</td> <td>   -3.349</td> <td>   -2.447</td>\n",
       "</tr>\n",
       "<tr>\n",
       "  <th>sexo[T.masculino]</th>                                                               <td>    0.5749</td> <td>    0.024</td> <td>   24.075</td> <td> 0.000</td> <td>    0.528</td> <td>    0.622</td>\n",
       "</tr>\n",
       "<tr>\n",
       "  <th>faixa_etaria[T.15-30]</th>                                                           <td>    0.4863</td> <td>    0.128</td> <td>    3.787</td> <td> 0.000</td> <td>    0.235</td> <td>    0.738</td>\n",
       "</tr>\n",
       "<tr>\n",
       "  <th>faixa_etaria[T.30-44]</th>                                                           <td>    0.6336</td> <td>    0.128</td> <td>    4.936</td> <td> 0.000</td> <td>    0.382</td> <td>    0.885</td>\n",
       "</tr>\n",
       "<tr>\n",
       "  <th>faixa_etaria[T.45-59]</th>                                                           <td>    0.8263</td> <td>    0.129</td> <td>    6.428</td> <td> 0.000</td> <td>    0.574</td> <td>    1.078</td>\n",
       "</tr>\n",
       "<tr>\n",
       "  <th>faixa_etaria[T.60+]</th>                                                             <td>    1.1074</td> <td>    0.129</td> <td>    8.552</td> <td> 0.000</td> <td>    0.854</td> <td>    1.361</td>\n",
       "</tr>\n",
       "<tr>\n",
       "  <th>condicao_envolvimento[T.ocupante de automóveis]</th>                                 <td>   -1.4510</td> <td>    0.179</td> <td>   -8.124</td> <td> 0.000</td> <td>   -1.801</td> <td>   -1.101</td>\n",
       "</tr>\n",
       "<tr>\n",
       "  <th>condicao_envolvimento[T.ocupante de caminhonete/camioneta]</th>                      <td>   -1.4639</td> <td>    0.180</td> <td>   -8.149</td> <td> 0.000</td> <td>   -1.816</td> <td>   -1.112</td>\n",
       "</tr>\n",
       "<tr>\n",
       "  <th>condicao_envolvimento[T.ocupante de caminhão]</th>                                   <td>   -1.0769</td> <td>    0.179</td> <td>   -6.016</td> <td> 0.000</td> <td>   -1.428</td> <td>   -0.726</td>\n",
       "</tr>\n",
       "<tr>\n",
       "  <th>condicao_envolvimento[T.ocupante de micro-ônibus/ônibus]</th>                        <td>   -1.6458</td> <td>    0.192</td> <td>   -8.571</td> <td> 0.000</td> <td>   -2.022</td> <td>   -1.269</td>\n",
       "</tr>\n",
       "<tr>\n",
       "  <th>condicao_envolvimento[T.ocupante de motocicleta]</th>                                <td>   -0.8289</td> <td>    0.178</td> <td>   -4.646</td> <td> 0.000</td> <td>   -1.179</td> <td>   -0.479</td>\n",
       "</tr>\n",
       "<tr>\n",
       "  <th>condicao_envolvimento[T.ocupante de motoneta]</th>                                   <td>   -1.0692</td> <td>    0.183</td> <td>   -5.838</td> <td> 0.000</td> <td>   -1.428</td> <td>   -0.710</td>\n",
       "</tr>\n",
       "<tr>\n",
       "  <th>condicao_envolvimento[T.pedestre]</th>                                               <td>    1.0629</td> <td>    0.188</td> <td>    5.643</td> <td> 0.000</td> <td>    0.694</td> <td>    1.432</td>\n",
       "</tr>\n",
       "<tr>\n",
       "  <th>tipo_acidente[T.atropelamento de pessoas]</th>                                       <td>   -0.4147</td> <td>    0.080</td> <td>   -5.185</td> <td> 0.000</td> <td>   -0.571</td> <td>   -0.258</td>\n",
       "</tr>\n",
       "<tr>\n",
       "  <th>tipo_acidente[T.capotamento/tombamento]</th>                                         <td>   -0.5231</td> <td>    0.059</td> <td>   -8.869</td> <td> 0.000</td> <td>   -0.639</td> <td>   -0.407</td>\n",
       "</tr>\n",
       "<tr>\n",
       "  <th>tipo_acidente[T.colisao com bicicleta]</th>                                          <td>   -1.2981</td> <td>    0.157</td> <td>   -8.275</td> <td> 0.000</td> <td>   -1.606</td> <td>   -0.991</td>\n",
       "</tr>\n",
       "<tr>\n",
       "  <th>tipo_acidente[T.colisao frontal]</th>                                                <td>    1.4683</td> <td>    0.058</td> <td>   25.470</td> <td> 0.000</td> <td>    1.355</td> <td>    1.581</td>\n",
       "</tr>\n",
       "<tr>\n",
       "  <th>tipo_acidente[T.colisao lateral]</th>                                                <td>   -0.2002</td> <td>    0.061</td> <td>   -3.301</td> <td> 0.001</td> <td>   -0.319</td> <td>   -0.081</td>\n",
       "</tr>\n",
       "<tr>\n",
       "  <th>tipo_acidente[T.colisao transversal]</th>                                            <td>    0.0090</td> <td>    0.061</td> <td>    0.148</td> <td> 0.882</td> <td>   -0.110</td> <td>    0.128</td>\n",
       "</tr>\n",
       "<tr>\n",
       "  <th>tipo_acidente[T.colisao traseira]</th>                                               <td>   -0.3253</td> <td>    0.060</td> <td>   -5.399</td> <td> 0.000</td> <td>   -0.443</td> <td>   -0.207</td>\n",
       "</tr>\n",
       "<tr>\n",
       "  <th>tipo_acidente[T.outros]</th>                                                         <td>    0.0915</td> <td>    0.060</td> <td>    1.525</td> <td> 0.127</td> <td>   -0.026</td> <td>    0.209</td>\n",
       "</tr>\n",
       "<tr>\n",
       "  <th>tipo_acidente[T.queda de veículo]</th>                                               <td>   -0.8795</td> <td>    0.062</td> <td>  -14.213</td> <td> 0.000</td> <td>   -1.001</td> <td>   -0.758</td>\n",
       "</tr>\n",
       "<tr>\n",
       "  <th>tipo_acidente[T.saída da pista]</th>                                                 <td>   -0.2069</td> <td>    0.058</td> <td>   -3.580</td> <td> 0.000</td> <td>   -0.320</td> <td>   -0.094</td>\n",
       "</tr>\n",
       "<tr>\n",
       "  <th>tipo_pista[T.multipla]</th>                                                          <td>   -0.0543</td> <td>    0.038</td> <td>   -1.434</td> <td> 0.152</td> <td>   -0.129</td> <td>    0.020</td>\n",
       "</tr>\n",
       "<tr>\n",
       "  <th>tipo_pista[T.simples]</th>                                                           <td>    0.3011</td> <td>    0.016</td> <td>   19.019</td> <td> 0.000</td> <td>    0.270</td> <td>    0.332</td>\n",
       "</tr>\n",
       "<tr>\n",
       "  <th>tracado_via[T.curva]</th>                                                            <td>    0.3731</td> <td>    0.047</td> <td>    7.968</td> <td> 0.000</td> <td>    0.281</td> <td>    0.465</td>\n",
       "</tr>\n",
       "<tr>\n",
       "  <th>tracado_via[T.outros]</th>                                                           <td>   -0.0538</td> <td>    0.060</td> <td>   -0.895</td> <td> 0.371</td> <td>   -0.172</td> <td>    0.064</td>\n",
       "</tr>\n",
       "<tr>\n",
       "  <th>tracado_via[T.reta]</th>                                                             <td>    0.3625</td> <td>    0.045</td> <td>    7.972</td> <td> 0.000</td> <td>    0.273</td> <td>    0.452</td>\n",
       "</tr>\n",
       "<tr>\n",
       "  <th>dia_semana[T.quarta]</th>                                                            <td>   -0.2056</td> <td>    0.023</td> <td>   -8.852</td> <td> 0.000</td> <td>   -0.251</td> <td>   -0.160</td>\n",
       "</tr>\n",
       "<tr>\n",
       "  <th>dia_semana[T.quinta]</th>                                                            <td>   -0.2006</td> <td>    0.023</td> <td>   -8.842</td> <td> 0.000</td> <td>   -0.245</td> <td>   -0.156</td>\n",
       "</tr>\n",
       "<tr>\n",
       "  <th>dia_semana[T.sabado]</th>                                                            <td>   -0.0994</td> <td>    0.020</td> <td>   -5.026</td> <td> 0.000</td> <td>   -0.138</td> <td>   -0.061</td>\n",
       "</tr>\n",
       "<tr>\n",
       "  <th>dia_semana[T.segunda]</th>                                                           <td>   -0.2195</td> <td>    0.023</td> <td>   -9.754</td> <td> 0.000</td> <td>   -0.264</td> <td>   -0.175</td>\n",
       "</tr>\n",
       "<tr>\n",
       "  <th>dia_semana[T.sexta]</th>                                                             <td>   -0.1961</td> <td>    0.021</td> <td>   -9.137</td> <td> 0.000</td> <td>   -0.238</td> <td>   -0.154</td>\n",
       "</tr>\n",
       "<tr>\n",
       "  <th>dia_semana[T.terca]</th>                                                             <td>   -0.2326</td> <td>    0.024</td> <td>   -9.878</td> <td> 0.000</td> <td>   -0.279</td> <td>   -0.186</td>\n",
       "</tr>\n",
       "<tr>\n",
       "  <th>horario_acidente[T.manhã]</th>                                                       <td>   -0.7497</td> <td>    0.020</td> <td>  -38.182</td> <td> 0.000</td> <td>   -0.788</td> <td>   -0.711</td>\n",
       "</tr>\n",
       "<tr>\n",
       "  <th>horario_acidente[T.noite]</th>                                                       <td>   -0.3949</td> <td>    0.018</td> <td>  -21.991</td> <td> 0.000</td> <td>   -0.430</td> <td>   -0.360</td>\n",
       "</tr>\n",
       "<tr>\n",
       "  <th>horario_acidente[T.tarde]</th>                                                       <td>   -0.7315</td> <td>    0.019</td> <td>  -39.132</td> <td> 0.000</td> <td>   -0.768</td> <td>   -0.695</td>\n",
       "</tr>\n",
       "<tr>\n",
       "  <th>uso_solo[T.urbano]</th>                                                              <td>   -0.6767</td> <td>    0.016</td> <td>  -43.032</td> <td> 0.000</td> <td>   -0.707</td> <td>   -0.646</td>\n",
       "</tr>\n",
       "<tr>\n",
       "  <th>regiao_pais[T.nordeste]</th>                                                         <td>    0.2345</td> <td>    0.021</td> <td>   11.173</td> <td> 0.000</td> <td>    0.193</td> <td>    0.276</td>\n",
       "</tr>\n",
       "<tr>\n",
       "  <th>regiao_pais[T.norte]</th>                                                            <td>    0.0136</td> <td>    0.031</td> <td>    0.441</td> <td> 0.659</td> <td>   -0.047</td> <td>    0.074</td>\n",
       "</tr>\n",
       "<tr>\n",
       "  <th>regiao_pais[T.sudeste]</th>                                                          <td>   -0.3432</td> <td>    0.021</td> <td>  -16.141</td> <td> 0.000</td> <td>   -0.385</td> <td>   -0.302</td>\n",
       "</tr>\n",
       "<tr>\n",
       "  <th>regiao_pais[T.sul]</th>                                                              <td>   -0.3386</td> <td>    0.022</td> <td>  -15.486</td> <td> 0.000</td> <td>   -0.381</td> <td>   -0.296</td>\n",
       "</tr>\n",
       "<tr>\n",
       "  <th>faixa_ano_fabricacao[T.mais de dez anos]</th>                                        <td>    0.2061</td> <td>    0.014</td> <td>   14.583</td> <td> 0.000</td> <td>    0.178</td> <td>    0.234</td>\n",
       "</tr>\n",
       "<tr>\n",
       "  <th>causa_presumivel_acidente[T.aspectos relacionados ao comportamento do condutor]</th> <td>    0.3086</td> <td>    0.044</td> <td>    7.004</td> <td> 0.000</td> <td>    0.222</td> <td>    0.395</td>\n",
       "</tr>\n",
       "<tr>\n",
       "  <th>causa_presumivel_acidente[T.aspectos relacionados ao veículo]</th>                   <td>    0.0342</td> <td>    0.053</td> <td>    0.643</td> <td> 0.520</td> <td>   -0.070</td> <td>    0.138</td>\n",
       "</tr>\n",
       "<tr>\n",
       "  <th>causa_presumivel_acidente[T.outros aspectos não identificados]</th>                  <td>    0.9959</td> <td>    0.044</td> <td>   22.729</td> <td> 0.000</td> <td>    0.910</td> <td>    1.082</td>\n",
       "</tr>\n",
       "</table>"
      ],
      "text/plain": [
       "<class 'statsmodels.iolib.summary.Summary'>\n",
       "\"\"\"\n",
       "                                    Generalized Linear Model Regression Results                                    \n",
       "===================================================================================================================\n",
       "Dep. Variable:     ['estado_fisico[morto]', 'estado_fisico[sobrevivente]']   No. Observations:               495173\n",
       "Model:                                                                 GLM   Df Residuals:                   495127\n",
       "Model Family:                                                     Binomial   Df Model:                           45\n",
       "Link Function:                                                       Logit   Scale:                          1.0000\n",
       "Method:                                                               IRLS   Log-Likelihood:                -99214.\n",
       "Date:                                                     Tue, 15 Feb 2022   Deviance:                   1.9843e+05\n",
       "Time:                                                             06:44:06   Pearson chi2:                 4.82e+05\n",
       "No. Iterations:                                                          7   Pseudo R-squ. (CS):            0.05853\n",
       "Covariance Type:                                                 nonrobust                                         \n",
       "===================================================================================================================================================\n",
       "                                                                                      coef    std err          z      P>|z|      [0.025      0.975]\n",
       "---------------------------------------------------------------------------------------------------------------------------------------------------\n",
       "Intercept                                                                          -2.8982      0.230    -12.596      0.000      -3.349      -2.447\n",
       "sexo[T.masculino]                                                                   0.5749      0.024     24.075      0.000       0.528       0.622\n",
       "faixa_etaria[T.15-30]                                                               0.4863      0.128      3.787      0.000       0.235       0.738\n",
       "faixa_etaria[T.30-44]                                                               0.6336      0.128      4.936      0.000       0.382       0.885\n",
       "faixa_etaria[T.45-59]                                                               0.8263      0.129      6.428      0.000       0.574       1.078\n",
       "faixa_etaria[T.60+]                                                                 1.1074      0.129      8.552      0.000       0.854       1.361\n",
       "condicao_envolvimento[T.ocupante de automóveis]                                    -1.4510      0.179     -8.124      0.000      -1.801      -1.101\n",
       "condicao_envolvimento[T.ocupante de caminhonete/camioneta]                         -1.4639      0.180     -8.149      0.000      -1.816      -1.112\n",
       "condicao_envolvimento[T.ocupante de caminhão]                                      -1.0769      0.179     -6.016      0.000      -1.428      -0.726\n",
       "condicao_envolvimento[T.ocupante de micro-ônibus/ônibus]                           -1.6458      0.192     -8.571      0.000      -2.022      -1.269\n",
       "condicao_envolvimento[T.ocupante de motocicleta]                                   -0.8289      0.178     -4.646      0.000      -1.179      -0.479\n",
       "condicao_envolvimento[T.ocupante de motoneta]                                      -1.0692      0.183     -5.838      0.000      -1.428      -0.710\n",
       "condicao_envolvimento[T.pedestre]                                                   1.0629      0.188      5.643      0.000       0.694       1.432\n",
       "tipo_acidente[T.atropelamento de pessoas]                                          -0.4147      0.080     -5.185      0.000      -0.571      -0.258\n",
       "tipo_acidente[T.capotamento/tombamento]                                            -0.5231      0.059     -8.869      0.000      -0.639      -0.407\n",
       "tipo_acidente[T.colisao com bicicleta]                                             -1.2981      0.157     -8.275      0.000      -1.606      -0.991\n",
       "tipo_acidente[T.colisao frontal]                                                    1.4683      0.058     25.470      0.000       1.355       1.581\n",
       "tipo_acidente[T.colisao lateral]                                                   -0.2002      0.061     -3.301      0.001      -0.319      -0.081\n",
       "tipo_acidente[T.colisao transversal]                                                0.0090      0.061      0.148      0.882      -0.110       0.128\n",
       "tipo_acidente[T.colisao traseira]                                                  -0.3253      0.060     -5.399      0.000      -0.443      -0.207\n",
       "tipo_acidente[T.outros]                                                             0.0915      0.060      1.525      0.127      -0.026       0.209\n",
       "tipo_acidente[T.queda de veículo]                                                  -0.8795      0.062    -14.213      0.000      -1.001      -0.758\n",
       "tipo_acidente[T.saída da pista]                                                    -0.2069      0.058     -3.580      0.000      -0.320      -0.094\n",
       "tipo_pista[T.multipla]                                                             -0.0543      0.038     -1.434      0.152      -0.129       0.020\n",
       "tipo_pista[T.simples]                                                               0.3011      0.016     19.019      0.000       0.270       0.332\n",
       "tracado_via[T.curva]                                                                0.3731      0.047      7.968      0.000       0.281       0.465\n",
       "tracado_via[T.outros]                                                              -0.0538      0.060     -0.895      0.371      -0.172       0.064\n",
       "tracado_via[T.reta]                                                                 0.3625      0.045      7.972      0.000       0.273       0.452\n",
       "dia_semana[T.quarta]                                                               -0.2056      0.023     -8.852      0.000      -0.251      -0.160\n",
       "dia_semana[T.quinta]                                                               -0.2006      0.023     -8.842      0.000      -0.245      -0.156\n",
       "dia_semana[T.sabado]                                                               -0.0994      0.020     -5.026      0.000      -0.138      -0.061\n",
       "dia_semana[T.segunda]                                                              -0.2195      0.023     -9.754      0.000      -0.264      -0.175\n",
       "dia_semana[T.sexta]                                                                -0.1961      0.021     -9.137      0.000      -0.238      -0.154\n",
       "dia_semana[T.terca]                                                                -0.2326      0.024     -9.878      0.000      -0.279      -0.186\n",
       "horario_acidente[T.manhã]                                                          -0.7497      0.020    -38.182      0.000      -0.788      -0.711\n",
       "horario_acidente[T.noite]                                                          -0.3949      0.018    -21.991      0.000      -0.430      -0.360\n",
       "horario_acidente[T.tarde]                                                          -0.7315      0.019    -39.132      0.000      -0.768      -0.695\n",
       "uso_solo[T.urbano]                                                                 -0.6767      0.016    -43.032      0.000      -0.707      -0.646\n",
       "regiao_pais[T.nordeste]                                                             0.2345      0.021     11.173      0.000       0.193       0.276\n",
       "regiao_pais[T.norte]                                                                0.0136      0.031      0.441      0.659      -0.047       0.074\n",
       "regiao_pais[T.sudeste]                                                             -0.3432      0.021    -16.141      0.000      -0.385      -0.302\n",
       "regiao_pais[T.sul]                                                                 -0.3386      0.022    -15.486      0.000      -0.381      -0.296\n",
       "faixa_ano_fabricacao[T.mais de dez anos]                                            0.2061      0.014     14.583      0.000       0.178       0.234\n",
       "causa_presumivel_acidente[T.aspectos relacionados ao comportamento do condutor]     0.3086      0.044      7.004      0.000       0.222       0.395\n",
       "causa_presumivel_acidente[T.aspectos relacionados ao veículo]                       0.0342      0.053      0.643      0.520      -0.070       0.138\n",
       "causa_presumivel_acidente[T.outros aspectos não identificados]                      0.9959      0.044     22.729      0.000       0.910       1.082\n",
       "===================================================================================================================================================\n",
       "\"\"\""
      ]
     },
     "execution_count": 19,
     "metadata": {},
     "output_type": "execute_result"
    }
   ],
   "source": [
    "model = smf.glm(formula='estado_fisico ~ sexo+faixa_etaria+condicao_envolvimento+tipo_acidente+tipo_pista+tracado_via+dia_semana+horario_acidente+uso_solo+regiao_pais+faixa_ano_fabricacao+causa_presumivel_acidente', \n",
    "                 data=dados, family=sm.families.Binomial()).fit()\n",
    "model.summary()"
   ]
  },
  {
   "cell_type": "markdown",
   "metadata": {},
   "source": [
    "### Resultados"
   ]
  },
  {
   "cell_type": "code",
   "execution_count": 20,
   "metadata": {
    "ExecuteTime": {
     "end_time": "2022-02-15T09:44:06.205639Z",
     "start_time": "2022-02-15T09:44:06.197921Z"
    }
   },
   "outputs": [
    {
     "name": "stdout",
     "output_type": "stream",
     "text": [
      "sexo[T.masculino]                                                                   77.694424\n",
      "faixa_etaria[T.15-30]                                                               62.629913\n",
      "faixa_etaria[T.30-44]                                                               88.447142\n",
      "faixa_etaria[T.45-59]                                                              128.486215\n",
      "faixa_etaria[T.60+]                                                                202.657705\n",
      "condicao_envolvimento[T.ocupante de automóveis]                                    -76.566282\n",
      "condicao_envolvimento[T.ocupante de caminhonete/camioneta]                         -76.866149\n",
      "condicao_envolvimento[T.ocupante de caminhão]                                      -65.935036\n",
      "condicao_envolvimento[T.ocupante de micro-ônibus/ônibus]                           -80.714211\n",
      "condicao_envolvimento[T.ocupante de motocicleta]                                   -56.348438\n",
      "condicao_envolvimento[T.ocupante de motoneta]                                      -65.671329\n",
      "condicao_envolvimento[T.pedestre]                                                  189.485866\n",
      "tipo_acidente[T.atropelamento de pessoas]                                          -33.947148\n",
      "tipo_acidente[T.capotamento/tombamento]                                            -40.730801\n",
      "tipo_acidente[T.colisao com bicicleta]                                             -72.693871\n",
      "tipo_acidente[T.colisao frontal]                                                   334.171954\n",
      "tipo_acidente[T.colisao lateral]                                                   -18.144450\n",
      "tipo_acidente[T.colisao transversal]                                                 0.904340\n",
      "tipo_acidente[T.colisao traseira]                                                  -27.767500\n",
      "tipo_acidente[T.outros]                                                              9.578234\n",
      "tipo_acidente[T.queda de veículo]                                                  -58.501449\n",
      "tipo_acidente[T.saída da pista]                                                    -18.692141\n",
      "tipo_pista[T.multipla]                                                              -5.288639\n",
      "tipo_pista[T.simples]                                                               35.139393\n",
      "tracado_via[T.curva]                                                                45.227642\n",
      "tracado_via[T.outros]                                                               -5.240034\n",
      "tracado_via[T.reta]                                                                 43.692055\n",
      "dia_semana[T.quarta]                                                               -18.580894\n",
      "dia_semana[T.quinta]                                                               -18.172937\n",
      "dia_semana[T.sabado]                                                                -9.459361\n",
      "dia_semana[T.segunda]                                                              -19.709857\n",
      "dia_semana[T.sexta]                                                                -17.804014\n",
      "dia_semana[T.terca]                                                                -20.751973\n",
      "horario_acidente[T.manhã]                                                          -52.747848\n",
      "horario_acidente[T.noite]                                                          -32.624607\n",
      "horario_acidente[T.tarde]                                                          -51.879449\n",
      "uso_solo[T.urbano]                                                                 -49.169147\n",
      "regiao_pais[T.nordeste]                                                             26.422891\n",
      "regiao_pais[T.norte]                                                                 1.372617\n",
      "regiao_pais[T.sudeste]                                                             -29.049981\n",
      "regiao_pais[T.sul]                                                                 -28.725291\n",
      "faixa_ano_fabricacao[T.mais de dez anos]                                            22.893116\n",
      "causa_presumivel_acidente[T.aspectos relacionados ao comportamento do condutor]     36.146995\n",
      "causa_presumivel_acidente[T.aspectos relacionados ao veículo]                        3.474545\n",
      "causa_presumivel_acidente[T.outros aspectos não identificados]                     170.707777\n",
      "dtype: float64\n"
     ]
    }
   ],
   "source": [
    "print((np.exp(model.params[1:]) - 1) * 100 )"
   ]
  },
  {
   "cell_type": "markdown",
   "metadata": {},
   "source": [
    "> Análise dos resultados\n",
    "\n",
    "<p style='text-align: justify;'><font size=2.85>A razão de chances da variável sexo mostra que as chances de um acidente em uma rodovia federal ser fatal são, em média, 78% maiores para homens em relação às mulheres. Quanto à faixa etária, em média, essas chances são 63% maiores para vítimas entre 15 e 30 anos, 88% de 30 a 44 anos, 128,5% de 45 a 59 anos e 202,65% para 60 anos ou mais em comparação à faixa de 0 a 14 anos.</font></p>\n",
    "\n",
    "<p style='text-align: justify;'><font size=2.85>Quanto à condição de envolvimento das vítimas nos acidentes, em média, as chances de fatalidade são 76,57% menores para ocupantes de automóveis, 77% para os ocupantes de caminhonete, 66% para os ocupantes de caminhão, 81% para ocupantes de ônibus, 56,34% para motociclistas e 66% para ocupantes de motoneta em relação aos ciclistas. Já para pedestres, estas chances são 2,89 vezes maiores.</font></p>\n",
    "\n",
    "<p style='text-align: justify;'><font size=2.85>Verifica-se também que as chances de um acidente ser letal são em média 34% menores, em relação ao atropelamento de animal, para atropelamento de pessoas, 40,73% para capotamento ou tombamento, 72,7% para colisões com bicicletas, 18,14% para colisões laterais e 27,76% para as traseiras, 58,5% para queda de veículo e 19% para saída da pista. Para o tipo colisão frontal, as chances de morte aumentam em 334%.</font></p>\n",
    "\n",
    "\n",
    "<p style='text-align: justify;'><font size=2.85>Para os tipos de pistas e traçados da via temos que as chances de letalidade são 36% maiores para pistas simples em comparação às pistas duplas e temos um aumento de 45,22% para curvas e 44% para retas em relação aos cruzamentos.</font></p>\n",
    "\n",
    "<p style='text-align: justify;'><font size=2.85>Quanto ao horário, as ocorrências apresentam, em média, chances 52,74% menores de serem letais durante a manhã, 32,62% durante a noite e 51,87% durante a tarde, em relação à madrugada. Quanto ao uso do solo, verificou-se que, em média, as chances de um acidente de trânsito ser letal são 49,16% menores em áreas urbanas em comparação com as rurais. Para a faixa do ano de fabricação, veículos com mais de 10 anos têm 22,89% mais chances de morte em relação aos com até 10 anos de fabricação.</font></p>\n",
    "\n",
    "<p style='text-align: justify;'><font size=2.85>Para os dias da semana, as chances de um acidente de trânsito ser letal são, em média, 19% menores às quartas, 18,17% às quintas, 9,45% aos sábados, 19,70% às segundas, 18% às sextas e 21% às terças em comparação ao domingo. Percebe-se também que as chances de uma vítima falecer em uma ocorrência são, em média, 26,4% maiores para vítimas na região Nordeste e 29% menores no Sudeste e no Sul em comparação ao Centro-Oeste.</font></p>\n",
    "\n",
    "<p style='text-align: justify;'><font size=2.85>Por fim, comparados aos aspectos relacionados à via ou ao ambiente, as chances de óbito são 36,14% maiores para aspectos relacionados ao comportamento do condutor e 170,70% maiores para outros aspectos não identificados.</font></p>\n",
    "\n",
    "<p style='text-align: justify;'><font size=2.85> Vale ressaltar que, algumas variáveis, ao nível de significância de 5%, não apresentaram diferenças estatisticamente relevantes, sendo elas: os tipos de acidentes classificados como colisão transversal e outros, pistas múltiplas, outros traçados de vias, região Norte e aspectos relacionados ao veículos.</font></p>"
   ]
  },
  {
   "cell_type": "markdown",
   "metadata": {},
   "source": [
    "### Análise da adequação do modelo"
   ]
  },
  {
   "cell_type": "code",
   "execution_count": 21,
   "metadata": {
    "ExecuteTime": {
     "end_time": "2022-02-15T09:44:07.457096Z",
     "start_time": "2022-02-15T09:44:07.429129Z"
    }
   },
   "outputs": [],
   "source": [
    "X = model.fittedvalues\n",
    "Y_deviance = model.resid_deviance\n",
    "Y_person = model.resid_pearson"
   ]
  },
  {
   "cell_type": "code",
   "execution_count": 22,
   "metadata": {
    "ExecuteTime": {
     "end_time": "2022-02-15T10:51:56.998813Z",
     "start_time": "2022-02-15T09:44:07.458460Z"
    }
   },
   "outputs": [
    {
     "data": {
      "image/png": "[encoded data removed]",
      "text/plain": [
       "<Figure size 720x432 with 1 Axes>"
      ]
     },
     "metadata": {
      "needs_background": "light"
     },
     "output_type": "display_data"
    }
   ],
   "source": [
    "fig, axL = plt.subplots(figsize=(10, 6))\n",
    "suptitle = 'Verificação de suposição'\n",
    "title = 'Resíduos dos desvio em relação aos valores ajustados'\n",
    "\n",
    "sns.regplot(X, \n",
    "            Y_deviance, \n",
    "            ax= axL, \n",
    "            color='black', \n",
    "            scatter_kws={'s': 5}, \n",
    "            line_kws={'color':'r', 'alpha':1, 'lw':2}, \n",
    "            lowess=True)\n",
    "\n",
    "axL.text(x=-0.01, y=1.10, s=suptitle, color='black', fontsize=18, weight='bold', ha='left', va='bottom', transform=axL.transAxes)\n",
    "axL.text(x=-0.01, y=1.05, s=title, color='#646464', fontsize=16, alpha=0.9, ha='left', transform=axL.transAxes)\n",
    "axL.set_xlabel('Valores preditores', fontsize=12, x=0.089)\n",
    "axL.set_ylabel('Resíduos desvio', fontsize=12, y=0.798)\n",
    "sns.despine()\n",
    "plt.grid(False)\n",
    "plt.show()"
   ]
  },
  {
   "cell_type": "code",
   "execution_count": 23,
   "metadata": {
    "ExecuteTime": {
     "end_time": "2022-02-15T12:01:32.457122Z",
     "start_time": "2022-02-15T10:51:56.999987Z"
    }
   },
   "outputs": [
    {
     "data": {
      "image/png": "[encoded data removed]",
      "text/plain": [
       "<Figure size 720x432 with 1 Axes>"
      ]
     },
     "metadata": {
      "needs_background": "light"
     },
     "output_type": "display_data"
    }
   ],
   "source": [
    "fig, axR = plt.subplots(figsize=(10, 6))\n",
    "suptitle = 'Verificação de suposição'\n",
    "title = 'Resíduos Studentized Pearson em relação aos valores ajustados'\n",
    "\n",
    "sns.regplot(X, \n",
    "            Y_person,\n",
    "            ax= axR,\n",
    "            color='black', \n",
    "            scatter_kws={'s': 5},\n",
    "            line_kws={'color':'r', 'alpha':1, 'lw':2}, \n",
    "            lowess=True)\n",
    "\n",
    "axR.text(x=-0.01, y=1.10, s=suptitle, color='black', fontsize=18, weight='bold', ha='left', va='bottom', transform=axR.transAxes)\n",
    "axR.text(x=-0.01, y=1.05, s=title, color='#646464', fontsize=16, alpha=0.9, ha='left', transform=axR.transAxes)\n",
    "axR.set_xlabel('Valores preditores', fontsize=12, x=0.11)\n",
    "axR.set_ylabel('Resíduos de Pearson', fontsize=12, y=0.81)\n",
    "sns.despine()\n",
    "plt.grid(False)\n",
    "plt.show()"
   ]
  },
  {
   "cell_type": "markdown",
   "metadata": {},
   "source": [
    "> <p style='text-align: justify;'>Parece que os gráficos se aproximam da linha horizontal com 0 interceptação, o que sugere que não há inadequação significativa do modelo.<font size=2.85></font></p>"
   ]
  }
 ],
 "metadata": {
  "colab": {
   "collapsed_sections": [],
   "name": "regra_associação.ipynb",
   "provenance": []
  },
  "file_extension": ".py",
  "hide_input": false,
  "kernelspec": {
   "display_name": "Python 3 (ipykernel)",
   "language": "python",
   "name": "python3"
  },
  "language_info": {
   "codemirror_mode": {
    "name": "ipython",
    "version": 3
   },
   "file_extension": ".py",
   "mimetype": "text/x-python",
   "name": "python",
   "nbconvert_exporter": "python",
   "pygments_lexer": "ipython3",
   "version": "3.7.9"
  },
  "mimetype": "text/x-python",
  "name": "python",
  "nbTranslate": {
   "displayLangs": [
    "*"
   ],
   "hotkey": "alt-t",
   "langInMainMenu": true,
   "sourceLang": "en",
   "targetLang": "fr",
   "useGoogleTranslate": true
  },
  "npconvert_exporter": "python",
  "pygments_lexer": "ipython3",
  "toc": {
   "base_numbering": 1,
   "nav_menu": {},
   "number_sections": true,
   "sideBar": true,
   "skip_h1_title": false,
   "title_cell": "Table of Contents",
   "title_sidebar": "Contents",
   "toc_cell": false,
   "toc_position": {},
   "toc_section_display": true,
   "toc_window_display": false
  },
  "varInspector": {
   "cols": {
    "lenName": 16,
    "lenType": 16,
    "lenVar": 40
   },
   "kernels_config": {
    "python": {
     "delete_cmd_postfix": "",
     "delete_cmd_prefix": "del ",
     "library": "var_list.py",
     "varRefreshCmd": "print(var_dic_list())"
    },
    "r": {
     "delete_cmd_postfix": ") ",
     "delete_cmd_prefix": "rm(",
     "library": "var_list.r",
     "varRefreshCmd": "cat(var_dic_list()) "
    }
   },
   "types_to_exclude": [
    "module",
    "function",
    "builtin_function_or_method",
    "instance",
    "_Feature"
   ],
   "window_display": false
  },
  "version": 3
 },
 "nbformat": 4,
 "nbformat_minor": 1
}
