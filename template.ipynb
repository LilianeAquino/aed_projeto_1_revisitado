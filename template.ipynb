{
 "cells": [
  {
   "cell_type": "markdown",
   "metadata": {
    "colab_type": "text",
    "id": "CEtG6c4koygW"
   },
   "source": [
    "# [Revisitado] Projeto #1 - Análise Exploratória de Dados"
   ]
  },
  {
   "cell_type": "markdown",
   "metadata": {},
   "source": [
    "### Base de dados"
   ]
  },
  {
   "cell_type": "markdown",
   "metadata": {},
   "source": [
    "<p style='text-align: justify;'><font size=3.5>A base de dados escolhida foi <b>Acidentes rodovias federais Brasil Jan/07 a Set/21</b> do Portal da Polícia Rodoviária Federal que possui registros das ocorrências de acidentes entre os anos de 2007 a 2021.</font></p>\n",
    "\n",
    "<p style='text-align: justify;'><font size=3.5>Essa base foi selecionada com o objetivo de aplicar técnicas de mineração de padrões visando a descoberta de informações que possam auxiliar na prevenção de acidentes. A técnica de associação será usada para identificar a ocorrência de relações entre a classificação do acidente e as variáveis de risco na tentativa de descobrir relações entre esses fatores.</font></p>\n",
    "\n",
    "> Fonte: MINISTÉRIO DA JUSTIÇA E SEGURANÇA PÚBLICA (Brasil). Polícia Rodoviária\n",
    "Federal. **Dados Abertos: Acidentes**. [S. l.], 13 maio 2021. Disponível em:\n",
    "https://www.gov.br/prf/pt-br/acesso-a-informacao/dados-abertos/dados-abertos-acidentes. Acesso em: 13 nov. 2021."
   ]
  },
  {
   "cell_type": "markdown",
   "metadata": {},
   "source": [
    "### Dicionário dos dados"
   ]
  },
  {
   "cell_type": "markdown",
   "metadata": {
    "colab_type": "text",
    "id": "i-GPuu6Toygc",
    "lang": "en"
   },
   "source": [
    "| Atributo | Significado |\n",
    "| --- | --- |\n",
    "| id | identificador da ocorrência |\n",
    "| data_inversa | data da ocorrência |\n",
    "| dia_semana | dia da semana em que houve a ocorrência |\n",
    "| horario | horário do registro |\n",
    "| br  | números das BRs |\n",
    "| km | km em que houve a ocorrência |\n",
    "| municipio | cidades onde ocorreram os acidentes |\n",
    "| causa_acidente | causa do acidente |\n",
    "| tipo_acidente | tipo de acidente |\n",
    "| classificacao_acidente | se possui vítimas ou não |\n",
    "| fase_dia | período do dia |\n",
    "| sentido_via | se crescente ou decrescente |\n",
    "| condicao_metereologica | clima na data de ocorrência |\n",
    "| tipo_pista | se simples, dupla, etc. |\n",
    "| tracado_via | se reta, com curva, etc. |\n",
    "| uso_solo | uso rural ou urbano |\n",
    "| ano | ano da ocorrência |\n",
    "| pessoas | quantidade de pessoas envolvidas no acidente |\n",
    "| mortos | quantidade de mortos |\n",
    "| feridos_leves | quantidade de feridos leves |\n",
    "| feridos_graves | quantidade de feridos graves |\n",
    "| ilesos | quantidade de ilesos |\n",
    "| ignorados | registros ignorados, sem classificação |\n",
    "| feridos | quantidade de feridos leves e/ou graves |\n",
    "| veiculos | quantidade de veículos envolvidos na ocorrência |"
   ]
  },
  {
   "cell_type": "markdown",
   "metadata": {
    "lang": "fr"
   },
   "source": [
    "#### Observação\n",
    "> <p style='text-align: justify;'><font size=2.85>Os seguintes atributos foram descartados por não agregarem nenhum valor e possuir uma alta taxa de valores ausentes: uop, latitude, longitude, regional e delegacia.</font></p>"
   ]
  },
  {
   "cell_type": "markdown",
   "metadata": {},
   "source": [
    "### Bibliotecas básicas e outros imports"
   ]
  },
  {
   "cell_type": "code",
   "execution_count": 1,
   "metadata": {
    "ExecuteTime": {
     "end_time": "2021-11-24T23:09:09.842695Z",
     "start_time": "2021-11-24T23:09:08.143933Z"
    },
    "colab": {},
    "colab_type": "code",
    "id": "4bG6r2Bwoyge"
   },
   "outputs": [],
   "source": [
    "import warnings\n",
    "import numpy as np\n",
    "import pandas as pd\n",
    "import seaborn as sns\n",
    "import matplotlib\n",
    "import matplotlib.pyplot as plt\n",
    "\n",
    "%run modules/text.py\n",
    "\n",
    "%matplotlib inline\n",
    "plt.rcParams['font.family'] = 'Arial, Helvetica, sans-serif'\n",
    "\n",
    "warnings.filterwarnings('ignore')\n",
    "pd.set_option('display.max_rows', 1000)\n",
    "pd.set_option('display.max_columns', 200)\n",
    "np.set_printoptions(suppress=True, precision=3)"
   ]
  },
  {
   "cell_type": "markdown",
   "metadata": {},
   "source": [
    "### Carregamento dos dados"
   ]
  },
  {
   "cell_type": "code",
   "execution_count": 2,
   "metadata": {
    "ExecuteTime": {
     "end_time": "2021-11-24T23:09:23.358059Z",
     "start_time": "2021-11-24T23:09:09.846736Z"
    },
    "colab": {},
    "colab_type": "code",
    "id": "H8Xxqiwcoygh",
    "outputId": "eff81565-4230-4ba0-9ea0-e634e493df06"
   },
   "outputs": [
    {
     "name": "stdout",
     "output_type": "stream",
     "text": [
      "Linhas: 1899632 | Coluna:  25\n"
     ]
    },
    {
     "data": {
      "text/html": [
       "<div>\n",
       "<style scoped>\n",
       "    .dataframe tbody tr th:only-of-type {\n",
       "        vertical-align: middle;\n",
       "    }\n",
       "\n",
       "    .dataframe tbody tr th {\n",
       "        vertical-align: top;\n",
       "    }\n",
       "\n",
       "    .dataframe thead th {\n",
       "        text-align: right;\n",
       "    }\n",
       "</style>\n",
       "<table border=\"1\" class=\"dataframe\">\n",
       "  <thead>\n",
       "    <tr style=\"text-align: right;\">\n",
       "      <th></th>\n",
       "      <th>id</th>\n",
       "      <th>data_inversa</th>\n",
       "      <th>dia_semana</th>\n",
       "      <th>horario</th>\n",
       "      <th>uf</th>\n",
       "      <th>br</th>\n",
       "      <th>km</th>\n",
       "      <th>municipio</th>\n",
       "      <th>causa_acidente</th>\n",
       "      <th>tipo_acidente</th>\n",
       "      <th>classificacao_acidente</th>\n",
       "      <th>fase_dia</th>\n",
       "      <th>sentido_via</th>\n",
       "      <th>condicao_metereologica</th>\n",
       "      <th>tipo_pista</th>\n",
       "      <th>tracado_via</th>\n",
       "      <th>uso_solo</th>\n",
       "      <th>pessoas</th>\n",
       "      <th>mortos</th>\n",
       "      <th>feridos_leves</th>\n",
       "      <th>feridos_graves</th>\n",
       "      <th>ilesos</th>\n",
       "      <th>ignorados</th>\n",
       "      <th>feridos</th>\n",
       "      <th>veiculos</th>\n",
       "    </tr>\n",
       "  </thead>\n",
       "  <tbody>\n",
       "    <tr>\n",
       "      <th>0</th>\n",
       "      <td>1035523.0</td>\n",
       "      <td>2012-01-01</td>\n",
       "      <td>Domingo</td>\n",
       "      <td>15:45:00</td>\n",
       "      <td>SC</td>\n",
       "      <td>282</td>\n",
       "      <td>513.7</td>\n",
       "      <td>XAXIM</td>\n",
       "      <td>Velocidade incompatível</td>\n",
       "      <td>Saída de Pista</td>\n",
       "      <td>Com Vítimas Feridas</td>\n",
       "      <td>Pleno dia</td>\n",
       "      <td>Crescente</td>\n",
       "      <td>Sol</td>\n",
       "      <td>Simples</td>\n",
       "      <td>Curva</td>\n",
       "      <td>Rural</td>\n",
       "      <td>2</td>\n",
       "      <td>0</td>\n",
       "      <td>1</td>\n",
       "      <td>0</td>\n",
       "      <td>1</td>\n",
       "      <td>0</td>\n",
       "      <td>1</td>\n",
       "      <td>1</td>\n",
       "    </tr>\n",
       "    <tr>\n",
       "      <th>1</th>\n",
       "      <td>1035527.0</td>\n",
       "      <td>2012-01-01</td>\n",
       "      <td>Domingo</td>\n",
       "      <td>03:00:00</td>\n",
       "      <td>SC</td>\n",
       "      <td>280</td>\n",
       "      <td>188</td>\n",
       "      <td>MAFRA</td>\n",
       "      <td>Ingestão de álcool</td>\n",
       "      <td>Colisão lateral</td>\n",
       "      <td>Com Vítimas Feridas</td>\n",
       "      <td>Plena noite</td>\n",
       "      <td>Crescente</td>\n",
       "      <td>Chuva</td>\n",
       "      <td>Simples</td>\n",
       "      <td>Curva</td>\n",
       "      <td>Rural</td>\n",
       "      <td>3</td>\n",
       "      <td>0</td>\n",
       "      <td>1</td>\n",
       "      <td>0</td>\n",
       "      <td>2</td>\n",
       "      <td>0</td>\n",
       "      <td>1</td>\n",
       "      <td>2</td>\n",
       "    </tr>\n",
       "  </tbody>\n",
       "</table>\n",
       "</div>"
      ],
      "text/plain": [
       "          id data_inversa dia_semana   horario  uf   br     km municipio  \\\n",
       "0  1035523.0   2012-01-01    Domingo  15:45:00  SC  282  513.7     XAXIM   \n",
       "1  1035527.0   2012-01-01    Domingo  03:00:00  SC  280    188     MAFRA   \n",
       "\n",
       "            causa_acidente    tipo_acidente classificacao_acidente  \\\n",
       "0  Velocidade incompatível   Saída de Pista    Com Vítimas Feridas   \n",
       "1       Ingestão de álcool  Colisão lateral    Com Vítimas Feridas   \n",
       "\n",
       "      fase_dia sentido_via condicao_metereologica tipo_pista tracado_via  \\\n",
       "0    Pleno dia   Crescente                    Sol    Simples       Curva   \n",
       "1  Plena noite   Crescente                  Chuva    Simples       Curva   \n",
       "\n",
       "  uso_solo  pessoas  mortos  feridos_leves  feridos_graves  ilesos  ignorados  \\\n",
       "0    Rural        2       0              1               0       1          0   \n",
       "1    Rural        3       0              1               0       2          0   \n",
       "\n",
       "   feridos  veiculos  \n",
       "0        1         1  \n",
       "1        1         2  "
      ]
     },
     "execution_count": 2,
     "metadata": {},
     "output_type": "execute_result"
    }
   ],
   "source": [
    "df = pd.read_csv('dataset/acidentes_rodovias_brasileiras_2007_a_2021.csv', low_memory=False)\n",
    "print(f'Linhas: {df.shape[0]} | Coluna:  {df.shape[1]}')\n",
    "df.head(2)"
   ]
  },
  {
   "cell_type": "markdown",
   "metadata": {},
   "source": [
    "### Seleção de features"
   ]
  },
  {
   "cell_type": "code",
   "execution_count": 3,
   "metadata": {
    "ExecuteTime": {
     "end_time": "2021-11-24T23:09:23.619081Z",
     "start_time": "2021-11-24T23:09:23.360862Z"
    }
   },
   "outputs": [],
   "source": [
    "df.drop(['feridos', 'uso_solo', 'horario'], axis=1, inplace=True)"
   ]
  },
  {
   "cell_type": "markdown",
   "metadata": {
    "ExecuteTime": {
     "end_time": "2021-11-21T11:15:25.983964Z",
     "start_time": "2021-11-21T11:15:25.733994Z"
    }
   },
   "source": [
    "### Remoção registros com o valor igual a (null) e de valores nulos"
   ]
  },
  {
   "cell_type": "code",
   "execution_count": 4,
   "metadata": {
    "ExecuteTime": {
     "end_time": "2021-11-24T23:09:43.639086Z",
     "start_time": "2021-11-24T23:09:23.622933Z"
    },
    "colab": {},
    "colab_type": "code",
    "id": "1T7-yJrRoygl",
    "outputId": "09691e6c-6014-4819-cb6f-623de80b5483"
   },
   "outputs": [],
   "source": [
    "for col in df.columns:\n",
    "    df.drop(df[df[col] == '(null)'].index, inplace=True)\n",
    "    \n",
    "df.dropna(inplace=True)"
   ]
  },
  {
   "cell_type": "markdown",
   "metadata": {},
   "source": [
    "### Limpeza dos dados"
   ]
  },
  {
   "cell_type": "code",
   "execution_count": 5,
   "metadata": {
    "ExecuteTime": {
     "end_time": "2021-11-24T23:11:07.478094Z",
     "start_time": "2021-11-24T23:09:43.641752Z"
    }
   },
   "outputs": [],
   "source": [
    "cols = ['causa_acidente', 'tipo_acidente', 'classificacao_acidente', 'fase_dia', 'sentido_via', 'condicao_metereologica', 'tipo_pista', 'tracado_via']\n",
    "for c in cols:\n",
    "    df[c] = df[c].apply(cleaning)\n",
    "    \n",
    "df['km'] = df['km'].apply(padronizaTexto)\n",
    "df['dia_semana'] = df['dia_semana'].apply(padronizaDiaSemana)\n",
    "df['causa_acidente'] = df['causa_acidente'].apply(padronizaCausaAcidente)\n",
    "df['tipo_acidente'] = df['tipo_acidente'].apply(padronizaTipoAcidente)\n",
    "df['municipio'] = df['municipio'].apply(lambda x : x.capitalize())"
   ]
  },
  {
   "cell_type": "markdown",
   "metadata": {},
   "source": [
    "### Tratamento coluna data"
   ]
  },
  {
   "cell_type": "code",
   "execution_count": 6,
   "metadata": {
    "ExecuteTime": {
     "end_time": "2021-11-24T23:11:09.684484Z",
     "start_time": "2021-11-24T23:11:07.481878Z"
    },
    "colab": {},
    "colab_type": "code",
    "id": "p0jLB_BNoyg4",
    "outputId": "bc8133e8-8119-46f2-bea9-e7aa29b05aa7"
   },
   "outputs": [],
   "source": [
    "df['data'] = pd.to_datetime(df['data_inversa'])\n",
    "df['mes'] = df['data'].dt.month\n",
    "df['ano'] = df['data'].dt.year\n",
    "df.drop(['data_inversa'], axis=1, inplace=True)"
   ]
  },
  {
   "cell_type": "markdown",
   "metadata": {
    "ExecuteTime": {
     "end_time": "2021-11-21T11:18:44.057820Z",
     "start_time": "2021-11-21T11:18:43.811816Z"
    }
   },
   "source": [
    "### Verificação dados nulos"
   ]
  },
  {
   "cell_type": "code",
   "execution_count": 7,
   "metadata": {
    "ExecuteTime": {
     "end_time": "2021-11-24T23:11:11.768062Z",
     "start_time": "2021-11-24T23:11:09.687033Z"
    },
    "colab": {},
    "colab_type": "code",
    "id": "x1_IsStmoygs",
    "outputId": "341832b4-abd9-4b7e-b4d3-38dfdfe15ee9"
   },
   "outputs": [
    {
     "name": "stdout",
     "output_type": "stream",
     "text": [
      "Porcentagem de dados ausentes:  0\n"
     ]
    }
   ],
   "source": [
    "print('Porcentagem de dados ausentes: ', df.isnull().sum().sum())"
   ]
  },
  {
   "cell_type": "markdown",
   "metadata": {},
   "source": [
    "### Correção tipagem dados"
   ]
  },
  {
   "cell_type": "code",
   "execution_count": 8,
   "metadata": {
    "ExecuteTime": {
     "end_time": "2021-11-24T23:11:12.642002Z",
     "start_time": "2021-11-24T23:11:11.771328Z"
    },
    "colab": {},
    "colab_type": "code",
    "id": "QEi98pIQoyg1",
    "outputId": "14f71ecd-a121-426c-8841-2dd7827129bb"
   },
   "outputs": [],
   "source": [
    "cols = ['mortos', 'ilesos', 'pessoas', 'feridos_leves', 'feridos_graves', 'ignorados', 'veiculos', 'ano', 'mes']\n",
    "for c in cols:\n",
    "    df[c] = df[c].astype('int16')\n",
    "    \n",
    "df['id'] = df['id'].astype('float32')"
   ]
  },
  {
   "cell_type": "markdown",
   "metadata": {},
   "source": [
    "### Informação dos dados"
   ]
  },
  {
   "cell_type": "code",
   "execution_count": 9,
   "metadata": {
    "ExecuteTime": {
     "end_time": "2021-11-24T23:11:12.673892Z",
     "start_time": "2021-11-24T23:11:12.644598Z"
    }
   },
   "outputs": [
    {
     "name": "stdout",
     "output_type": "stream",
     "text": [
      "<class 'pandas.core.frame.DataFrame'>\n",
      "Int64Index: 1898820 entries, 0 to 1899631\n",
      "Data columns (total 24 columns):\n",
      " #   Column                  Dtype         \n",
      "---  ------                  -----         \n",
      " 0   id                      float32       \n",
      " 1   dia_semana              object        \n",
      " 2   uf                      object        \n",
      " 3   br                      object        \n",
      " 4   km                      object        \n",
      " 5   municipio               object        \n",
      " 6   causa_acidente          object        \n",
      " 7   tipo_acidente           object        \n",
      " 8   classificacao_acidente  object        \n",
      " 9   fase_dia                object        \n",
      " 10  sentido_via             object        \n",
      " 11  condicao_metereologica  object        \n",
      " 12  tipo_pista              object        \n",
      " 13  tracado_via             object        \n",
      " 14  pessoas                 int16         \n",
      " 15  mortos                  int16         \n",
      " 16  feridos_leves           int16         \n",
      " 17  feridos_graves          int16         \n",
      " 18  ilesos                  int16         \n",
      " 19  ignorados               int16         \n",
      " 20  veiculos                int16         \n",
      " 21  data                    datetime64[ns]\n",
      " 22  mes                     int16         \n",
      " 23  ano                     int16         \n",
      "dtypes: datetime64[ns](1), float32(1), int16(9), object(13)\n",
      "memory usage: 257.1+ MB\n"
     ]
    }
   ],
   "source": [
    "df.info()"
   ]
  },
  {
   "cell_type": "markdown",
   "metadata": {
    "colab": {},
    "colab_type": "code",
    "id": "imPY_mPMoyhA"
   },
   "source": [
    "### Análise exploratória dos dados"
   ]
  },
  {
   "cell_type": "markdown",
   "metadata": {
    "ExecuteTime": {
     "end_time": "2021-11-21T20:22:36.504291Z",
     "start_time": "2021-11-21T20:22:36.498860Z"
    }
   },
   "source": [
    "Classificação de acidentes"
   ]
  },
  {
   "cell_type": "code",
   "execution_count": 10,
   "metadata": {
    "ExecuteTime": {
     "end_time": "2021-11-24T23:11:13.583142Z",
     "start_time": "2021-11-24T23:11:12.681396Z"
    },
    "colab": {},
    "colab_type": "code",
    "id": "cbr12NG0oyhC",
    "outputId": "6f7e7d00-7138-4cb7-de55-b54189f6d147"
   },
   "outputs": [
    {
     "data": {
      "image/png": "[encoded data removed]",
      "text/plain": [
       "<Figure size 864x432 with 1 Axes>"
      ]
     },
     "metadata": {
      "needs_background": "light"
     },
     "output_type": "display_data"
    }
   ],
   "source": [
    "suptitle = 'Classificação de acidentes em relação às vítimas'\n",
    "title = '% de acidente por tipo de vítima'\n",
    "colors=['#191970', '#808080', '#808080', '#808080']\n",
    "\n",
    "percentual = round(df['classificacao_acidente'].value_counts(normalize=True) * 100, 2)\n",
    "percentual.plot.bar(width=0.993, alpha=0.5, figsize=(12, 6), rot=False, color=colors).spines[['top', 'right']].set_visible(False)\n",
    "plt.suptitle(suptitle, fontsize=18, y=1.02, horizontalalignment='left', x=0.12, color='black', weight='bold')\n",
    "plt.title(title, fontsize=14, color='#646464', y=1.05, loc='left', x=-0.01)\n",
    "plt.ylabel('% acidentes', fontsize=14, horizontalalignment='left', y=0.75)\n",
    "plt.grid(False)\n",
    "plt.text(0, 25, '51.86%', fontsize=14, weight='bold', horizontalalignment='center')\n",
    "plt.ylim(0, 60)\n",
    "plt.show()"
   ]
  },
  {
   "cell_type": "markdown",
   "metadata": {},
   "source": [
    "> <p style='text-align: justify;'><font size=2.85>51,86% dos acidentes ocorridos entre 2007 e 2021 foram sem vítimas</font></p>"
   ]
  },
  {
   "cell_type": "markdown",
   "metadata": {},
   "source": [
    "Ano"
   ]
  },
  {
   "cell_type": "code",
   "execution_count": 11,
   "metadata": {
    "ExecuteTime": {
     "end_time": "2021-11-24T23:11:14.032080Z",
     "start_time": "2021-11-24T23:11:13.586414Z"
    }
   },
   "outputs": [
    {
     "data": {
      "image/png": "[encoded data removed]",
      "text/plain": [
       "<Figure size 864x432 with 1 Axes>"
      ]
     },
     "metadata": {
      "needs_background": "light"
     },
     "output_type": "display_data"
    }
   ],
   "source": [
    "suptitle = 'Quantidade de acidentes por ano'\n",
    "title = 'Casos de acidente entre os anos 2007 a 2021'\n",
    "\n",
    "ticks = [2007, 2008, 2009, 2010, 2011, 2012, 2013, 2014, 2015, 2016, 2017, 2018, 2019, 2020, 2021]\n",
    "\n",
    "percentual = df.groupby(['ano'])['id'].count()\n",
    "percentual.plot.line(figsize=(12, 6), rot=False, color='#191970').spines[['top', 'right']].set_visible(False)\n",
    "plt.suptitle(suptitle, fontsize=18, y=1.02, horizontalalignment='left', x=0.12, color='black', weight='bold')\n",
    "plt.title(title, fontsize=14, color='#646464', y=1.05, loc='left', x=-0.01)\n",
    "plt.ylabel('total de acidentes', fontsize=14, horizontalalignment='left', y=0.63)\n",
    "plt.xlabel(None)\n",
    "plt.xticks(ticks)\n",
    "plt.ylim(0, 200000)\n",
    "plt.grid(False)\n",
    "plt.show()"
   ]
  },
  {
   "cell_type": "markdown",
   "metadata": {},
   "source": [
    "> <p style='text-align: justify;'><font size=2.85>Houve um aumento gradativo das ocorrências de acidentes entre 2007 e 2011. Tivemos uma pequena queda em 2012 e após um aumento em 2013, as ocorrências voltaram a cair e mativeram esse padrão de queda até o ano 2021. De 2011 até os dias atuais, houve um redução de 7,61% nas ocorrências de acidentes.</font></p>"
   ]
  },
  {
   "cell_type": "markdown",
   "metadata": {},
   "source": [
    "Estados"
   ]
  },
  {
   "cell_type": "code",
   "execution_count": 21,
   "metadata": {
    "ExecuteTime": {
     "end_time": "2021-11-24T23:12:08.557068Z",
     "start_time": "2021-11-24T23:12:07.720273Z"
    },
    "colab": {},
    "colab_type": "code",
    "id": "m3uqZKMmoyhF",
    "outputId": "7a4374ba-982b-4202-8077-1e439be66720"
   },
   "outputs": [
    {
     "data": {
      "image/png": "[encoded data removed]",
      "text/plain": [
       "<Figure size 864x432 with 1 Axes>"
      ]
     },
     "metadata": {
      "needs_background": "light"
     },
     "output_type": "display_data"
    }
   ],
   "source": [
    "suptitle = 'Acidentes por Estado'\n",
    "title = 'Percentual de acidente por estado'\n",
    "\n",
    "percentual = round(df['uf'].value_counts(normalize=True) * 100, 2)\n",
    "percentual.plot.bar(width=0.95, figsize=(12, 6), rot=False, color=sns.color_palette('Greys_r', n_colors=50)).spines[['top', 'right']].set_visible(False)\n",
    "plt.suptitle(suptitle, fontsize=18, y=1.02, horizontalalignment='left', x=0.12, color='black', weight='bold')\n",
    "plt.title(title, fontsize=14, color='#646464', y=1.05, loc='left', x=-0.01)\n",
    "plt.ylabel('% acidentes', fontsize=14, horizontalalignment='left', y=0.75)\n",
    "plt.text(0, 7, '14%', fontsize=9, weight='bold', color='#FFFAF0', horizontalalignment='center')\n",
    "plt.ylim(0, 16)\n",
    "plt.grid(False)\n",
    "plt.show()"
   ]
  },
  {
   "cell_type": "markdown",
   "metadata": {},
   "source": [
    "> <p style='text-align: justify;'><font size=2.85>Minas Gerais é o estado com o maior índice de acidentes, provavelmente por possuir a maior malha rodoviária do país.</font></p>"
   ]
  },
  {
   "cell_type": "markdown",
   "metadata": {},
   "source": [
    "Vítimas fatais"
   ]
  },
  {
   "cell_type": "code",
   "execution_count": 20,
   "metadata": {
    "ExecuteTime": {
     "end_time": "2021-11-24T23:12:00.832903Z",
     "start_time": "2021-11-24T23:12:00.088902Z"
    },
    "colab": {},
    "colab_type": "code",
    "id": "Y0qAudiooyhL",
    "outputId": "8cb121ce-f534-41a5-a38e-920b18ad9a33"
   },
   "outputs": [
    {
     "data": {
      "image/png": "[encoded data removed]",
      "text/plain": [
       "<Figure size 864x432 with 1 Axes>"
      ]
     },
     "metadata": {
      "needs_background": "light"
     },
     "output_type": "display_data"
    }
   ],
   "source": [
    "suptitle = 'Vítimas fatais'\n",
    "title = 'Percentual de mortos por UF entre 2007 e 2021'\n",
    "\n",
    "mortos = df.groupby(['uf'])['mortos'].sum().sort_values(ascending=False)\n",
    "percentual = mortos/mortos.sum()*100\n",
    "percentual.plot.bar(width=0.95, figsize=(12, 6), rot=False, color=sns.color_palette('Greys_r', n_colors=50)).spines[['top', 'right']].set_visible(False)\n",
    "plt.suptitle(suptitle, fontsize=18, y=1.02, horizontalalignment='left', x=0.12, color='black', weight='bold')\n",
    "plt.title(title, fontsize=14, color='#646464', y=1.05, loc='left', x=-0.01)\n",
    "plt.ylabel('% mortos', fontsize=14, horizontalalignment='left', y=0.81)\n",
    "plt.text(0, 7, '14%', fontsize=9, weight='bold', color='#FFFAF0', horizontalalignment='center')\n",
    "plt.grid(False)\n",
    "plt.xlabel(None)\n",
    "plt.ylim(0, 16)\n",
    "plt.show()"
   ]
  },
  {
   "cell_type": "markdown",
   "metadata": {},
   "source": [
    "> <p style='text-align: justify;'><font size=2.85>Minas Gerais possui a maior quantidade de mortes em acidentes nas rodovias com 14.5%.</font></p>"
   ]
  },
  {
   "cell_type": "markdown",
   "metadata": {},
   "source": [
    "Minas Gerais"
   ]
  },
  {
   "cell_type": "code",
   "execution_count": 22,
   "metadata": {
    "ExecuteTime": {
     "end_time": "2021-11-24T23:12:37.704354Z",
     "start_time": "2021-11-24T23:12:37.028374Z"
    }
   },
   "outputs": [
    {
     "data": {
      "image/png": "[encoded data removed]",
      "text/plain": [
       "<Figure size 864x432 with 1 Axes>"
      ]
     },
     "metadata": {
      "needs_background": "light"
     },
     "output_type": "display_data"
    }
   ],
   "source": [
    "suptitle = 'Acidentes registrados em Minas Gerais'\n",
    "title = 'As 5 cidades mineiras com maior percentual de ocorrência de acidentes'\n",
    "\n",
    "colors=['#191970', '#808080', '#808080', '#808080', '#808080']\n",
    "\n",
    "municipios = municipios = df.query('uf== \"MG\"')\n",
    "percentual = round(municipios['municipio'].value_counts(normalize=True) * 100, 2).sort_values(ascending=False).head(5)\n",
    "percentual.plot.bar(width=0.99, alpha=0.5, figsize=(12, 6), rot=False, color=colors).spines[['top', 'right']].set_visible(False)\n",
    "plt.suptitle(suptitle, fontsize=18, y=1.02, horizontalalignment='left', x=0.12, color='black', weight='bold')\n",
    "plt.title(title, fontsize=14, color='#646464', y=1.05, loc='left', x=-0.01)\n",
    "plt.text(0, 3, '6.7%', fontsize=14, weight='bold', horizontalalignment='center')\n",
    "plt.grid(False)\n",
    "plt.show()"
   ]
  },
  {
   "cell_type": "markdown",
   "metadata": {},
   "source": [
    "> <p style='text-align: justify;'><font size=2.85>Betim assume a liderança, sendo a cidade mineira com maior registro de ocorrências de acidentes.</font></p>"
   ]
  },
  {
   "cell_type": "markdown",
   "metadata": {},
   "source": [
    "Causas de acidentes"
   ]
  },
  {
   "cell_type": "code",
   "execution_count": 15,
   "metadata": {
    "ExecuteTime": {
     "end_time": "2021-11-24T23:11:17.302275Z",
     "start_time": "2021-11-24T23:11:16.444820Z"
    },
    "colab": {},
    "colab_type": "code",
    "id": "X1ppMJxVoyhI",
    "outputId": "a2b886d8-d3f0-421c-a18e-ead804b7be6f"
   },
   "outputs": [
    {
     "data": {
      "image/png": "[encoded data removed]",
      "text/plain": [
       "<Figure size 864x432 with 1 Axes>"
      ]
     },
     "metadata": {
      "needs_background": "light"
     },
     "output_type": "display_data"
    }
   ],
   "source": [
    "suptitle = 'Causas de acidentes'\n",
    "title = 'As 5 principais causas de ocorrência de acidentes'\n",
    "\n",
    "colors=['#191970', '#808080', '#808080', '#808080', '#808080']\n",
    "\n",
    "percentual = round(df['causa_acidente'].value_counts(normalize=True)*100, 2).head(5)\n",
    "percentual.plot.barh(width=0.97, alpha=0.5, figsize=(12, 6), rot=False, color=colors).spines[['top', 'right']].set_visible(False)\n",
    "plt.suptitle(suptitle, fontsize=18, y=1.02, horizontalalignment='left', x=0.12, color='black', weight='bold')\n",
    "plt.title(title, fontsize=14, color='#646464', y=1.05, loc='left', x=-0.01)\n",
    "plt.xlabel('% acidentes', fontsize=14, horizontalalignment='left', x=-0.01)\n",
    "plt.text(18, -0.1, '32.8%', fontsize=14, weight='bold', horizontalalignment='center')\n",
    "plt.xlim(0, 35)\n",
    "plt.grid(False)\n",
    "plt.show()"
   ]
  },
  {
   "cell_type": "markdown",
   "metadata": {},
   "source": [
    "> <p style='text-align: justify;'><font size=2.85>A principal causa de acidentes é a falta de atenção, com 33% de ocorrências nesse período.</font></p>"
   ]
  },
  {
   "cell_type": "markdown",
   "metadata": {},
   "source": [
    "Fase do dia"
   ]
  },
  {
   "cell_type": "code",
   "execution_count": 23,
   "metadata": {
    "ExecuteTime": {
     "end_time": "2021-11-24T23:13:30.894671Z",
     "start_time": "2021-11-24T23:13:30.217072Z"
    }
   },
   "outputs": [
    {
     "data": {
      "image/png": "[encoded data removed]",
      "text/plain": [
       "<Figure size 864x432 with 1 Axes>"
      ]
     },
     "metadata": {
      "needs_background": "light"
     },
     "output_type": "display_data"
    }
   ],
   "source": [
    "suptitle = 'Fase do dia'\n",
    "title = 'Percentual de acidentes ocorridos em cada fase do dia'\n",
    "\n",
    "colors=['#191970', '#808080', '#808080', '#808080']\n",
    "\n",
    "percentual = round(df['fase_dia'].value_counts(normalize=True) * 100, 2)\n",
    "percentual.plot.bar(width=0.987, alpha=0.5, figsize=(12, 6), rot=False, color=colors).spines[['top', 'right']].set_visible(False)\n",
    "plt.suptitle(suptitle, fontsize=18, y=1.02, horizontalalignment='left', x=0.12, color='black', weight='bold')\n",
    "plt.title(title, fontsize=14, color='#646464', y=1.05, loc='left', x=-0.01)\n",
    "plt.ylabel('% acidentes', fontsize=14, horizontalalignment='left', y=0.75)\n",
    "plt.text(0, 27, '57.5%', fontsize=14, weight='bold', horizontalalignment='center')\n",
    "plt.grid(False)\n",
    "plt.show()"
   ]
  },
  {
   "cell_type": "markdown",
   "metadata": {},
   "source": [
    "> <p style='text-align: justify;'><font size=2.85>Em média, 57% dos acidentes ocorreram durante o dia</font></p>"
   ]
  },
  {
   "cell_type": "markdown",
   "metadata": {},
   "source": [
    "Traçado da via"
   ]
  },
  {
   "cell_type": "code",
   "execution_count": 26,
   "metadata": {
    "ExecuteTime": {
     "end_time": "2021-11-24T23:14:35.949170Z",
     "start_time": "2021-11-24T23:14:35.201931Z"
    }
   },
   "outputs": [
    {
     "data": {
      "image/png": "[encoded data removed]",
      "text/plain": [
       "<Figure size 864x432 with 1 Axes>"
      ]
     },
     "metadata": {
      "needs_background": "light"
     },
     "output_type": "display_data"
    }
   ],
   "source": [
    "suptitle = 'Traçado da via'\n",
    "title = 'OS 5 traçado das vias onde ocorreram mais acidentes'\n",
    "\n",
    "colors=['#191970', '#808080', '#808080', '#808080', '#808080']\n",
    "\n",
    "percentual = round(df['tracado_via'].value_counts(normalize=True) * 100, 2).sort_values(ascending=False).head(5)\n",
    "percentual.plot.barh(width=0.97, alpha=0.5, figsize=(12, 6), rot=False, color=colors).spines[['top', 'right']].set_visible(False)\n",
    "plt.suptitle(suptitle, fontsize=18, y=1.02, horizontalalignment='left', x=0.12, color='black', weight='bold')\n",
    "plt.title(title, fontsize=14, color='#646464', y=1.05, loc='left', x=-0.01)\n",
    "plt.xlabel('% acidentes', fontsize=14, horizontalalignment='left', x=-0.01)\n",
    "plt.text(35, -0.18, '70%', fontsize=14, weight='bold', horizontalalignment='center')\n",
    "plt.xlim(0, 75)\n",
    "plt.grid(False)\n",
    "plt.show()"
   ]
  },
  {
   "cell_type": "markdown",
   "metadata": {},
   "source": [
    "> <p style='text-align: justify;'><font size=2.85>Cerca de 70% das ocorrências foram em pistas com traçado reto.</font></p>"
   ]
  },
  {
   "cell_type": "markdown",
   "metadata": {},
   "source": [
    "Veículos"
   ]
  },
  {
   "cell_type": "code",
   "execution_count": 27,
   "metadata": {
    "ExecuteTime": {
     "end_time": "2021-11-24T23:14:54.918815Z",
     "start_time": "2021-11-24T23:14:54.508533Z"
    }
   },
   "outputs": [
    {
     "data": {
      "image/png": "[encoded data removed]",
      "text/plain": [
       "<Figure size 864x432 with 1 Axes>"
      ]
     },
     "metadata": {
      "needs_background": "light"
     },
     "output_type": "display_data"
    }
   ],
   "source": [
    "suptitle = 'Veículos envolvidos'\n",
    "title = 'Top 5 quantidade de veículos envolvidos nas ocorrências de acidentes'\n",
    "\n",
    "colors=['#191970', '#808080', '#808080', '#808080', '#808080']\n",
    "\n",
    "veiculos = round(df.groupby(['veiculos'])['id'].count()*100/len(df), 2).sort_values(ascending=False).head(5)\n",
    "veiculos.plot.bar(width=0.99, alpha=0.5, figsize=(12, 6), rot=False, color=colors).spines[['top', 'right']].set_visible(False)\n",
    "plt.suptitle(suptitle, fontsize=18, y=1.02, horizontalalignment='left', x=0.12, color='black', weight='bold')\n",
    "plt.title(title, fontsize=14, color='#646464', y=1.05, loc='left', x=-0.01)\n",
    "plt.ylabel('total de acidentes', fontsize=14, horizontalalignment='left', y=0.72)\n",
    "plt.text(0, 26, '52%', fontsize=14, weight='bold', horizontalalignment='center')\n",
    "plt.xlabel(None)\n",
    "plt.ylim(0, 60)\n",
    "plt.grid(False)\n",
    "plt.show()"
   ]
  },
  {
   "cell_type": "markdown",
   "metadata": {},
   "source": [
    "> <p style='text-align: justify;'><font size=2.85>A maioria dos acidentes envolveu dois veículos.</font></p>"
   ]
  },
  {
   "cell_type": "markdown",
   "metadata": {},
   "source": [
    "Condição meteorológica"
   ]
  },
  {
   "cell_type": "code",
   "execution_count": 29,
   "metadata": {
    "ExecuteTime": {
     "end_time": "2021-11-24T23:15:53.166900Z",
     "start_time": "2021-11-24T23:15:52.645459Z"
    }
   },
   "outputs": [
    {
     "data": {
      "image/png": "[encoded data removed]",
      "text/plain": [
       "<Figure size 864x432 with 1 Axes>"
      ]
     },
     "metadata": {
      "needs_background": "light"
     },
     "output_type": "display_data"
    }
   ],
   "source": [
    "suptitle = 'Condição meteorológica'\n",
    "title = 'Clima durante a maioria das ocorrências de acidentes'\n",
    "\n",
    "colors=['#191970', '#808080', '#808080', '#808080', '#808080']\n",
    "\n",
    "percentual = round((df.groupby(['condicao_metereologica'])['id'].count() * 100) / len(df), 2).sort_values(ascending=False).head(4)\n",
    "percentual.plot.bar(width=0.99, alpha=0.5, figsize=(12, 6), rot=False, color=colors).spines[['top', 'right']].set_visible(False)\n",
    "plt.suptitle(suptitle, fontsize=18, y=1.02, horizontalalignment='left', x=0.12, color='black', weight='bold')\n",
    "plt.title(title, fontsize=14, color='#646464', y=1.05, loc='left', x=-0.01)\n",
    "plt.ylabel('% acidentes', fontsize=14, horizontalalignment='left', y=0.72)\n",
    "plt.text(0, 26, '50%', fontsize=14, weight='bold', horizontalalignment='center')\n",
    "plt.xlabel(None)\n",
    "plt.grid(False)\n",
    "plt.show()"
   ]
  },
  {
   "cell_type": "markdown",
   "metadata": {},
   "source": [
    "> <p style='text-align: justify;'><font size=2.85>Metade dos acidentes ocorreram em dias de céu claro.</font></p>"
   ]
  },
  {
   "cell_type": "markdown",
   "metadata": {
    "colab_type": "text",
    "id": "mVhSbD7voyhR"
   },
   "source": [
    "### Dependência entre variáveis"
   ]
  },
  {
   "cell_type": "markdown",
   "metadata": {},
   "source": [
    "Estação do ano"
   ]
  },
  {
   "cell_type": "code",
   "execution_count": null,
   "metadata": {
    "ExecuteTime": {
     "end_time": "2021-11-24T21:17:05.091127Z",
     "start_time": "2021-11-24T21:17:05.091098Z"
    }
   },
   "outputs": [],
   "source": [
    "df['estacao_do_ano'] = df['data'].apply(estacaoAno)\n",
    "df.groupby(['estacao_do_ano'])['id'].count().to_frame().reset_index()"
   ]
  },
  {
   "cell_type": "code",
   "execution_count": null,
   "metadata": {
    "ExecuteTime": {
     "end_time": "2021-11-24T21:17:05.093481Z",
     "start_time": "2021-11-24T21:17:05.093451Z"
    }
   },
   "outputs": [],
   "source": [
    "suptitle = 'Estações do ano'\n",
    "title = 'Existe um aumento de acidentes dependendo da estação do ano?'\n",
    "\n",
    "percentual = round((df.groupby(['estacao_do_ano'])['id'].count() * 100) / len(df), 2).sort_values(ascending=False)\n",
    "percentual.plot.bar(width=1, alpha=0.5, figsize=(12, 6), rot=False, color='#191970').spines[['top', 'right']].set_visible(False)\n",
    "plt.suptitle(suptitle, fontsize=18, y=1.02, horizontalalignment='left', x=0.12, color='black', weight='bold')\n",
    "plt.title(title, fontsize=14, color='#646464', y=1.05, loc='left', x=-0.01)\n",
    "plt.ylabel('% acidentes', fontsize=14, horizontalalignment='left', y=0.72)\n",
    "plt.grid(False)\n",
    "plt.show()"
   ]
  },
  {
   "cell_type": "markdown",
   "metadata": {},
   "source": [
    "Dias da semana"
   ]
  },
  {
   "cell_type": "code",
   "execution_count": null,
   "metadata": {
    "ExecuteTime": {
     "end_time": "2021-11-24T21:17:05.095517Z",
     "start_time": "2021-11-24T21:17:05.095481Z"
    }
   },
   "outputs": [],
   "source": [
    "df['dia_semana'] = df['data'].apply(diaSemana)\n",
    "df.groupby(['dia_semana'])['id'].count().to_frame().reset_index()"
   ]
  },
  {
   "cell_type": "code",
   "execution_count": null,
   "metadata": {
    "ExecuteTime": {
     "end_time": "2021-11-24T21:17:05.097194Z",
     "start_time": "2021-11-24T21:17:05.097165Z"
    }
   },
   "outputs": [],
   "source": [
    "suptitle = 'Dias da semana'\n",
    "title = 'Existe um aumento de acidentes dependendo do dia da semana?'\n",
    "\n",
    "percentual = round((df.groupby(['dia_semana'])['id'].count() * 100) / len(df), 2).sort_values(ascending=False)\n",
    "percentual.plot.bar(width=1, alpha=0.5, figsize=(12, 6), rot=False, color='#191970').spines[['top', 'right']].set_visible(False)\n",
    "plt.suptitle(suptitle, fontsize=18, y=1.02, horizontalalignment='left', x=0.12, color='black', weight='bold')\n",
    "plt.title(title, fontsize=14, color='#646464', y=1.05, loc='left', x=-0.01)\n",
    "plt.ylabel('% acidentes', fontsize=14, horizontalalignment='left', y=0.72)\n",
    "plt.grid(False)\n",
    "plt.show()"
   ]
  },
  {
   "cell_type": "markdown",
   "metadata": {},
   "source": [
    "Região do Brasil"
   ]
  },
  {
   "cell_type": "code",
   "execution_count": null,
   "metadata": {
    "ExecuteTime": {
     "end_time": "2021-11-24T21:17:05.099302Z",
     "start_time": "2021-11-24T21:17:05.099272Z"
    }
   },
   "outputs": [],
   "source": [
    "df['regiao_pais'] = df['uf'].apply(regiaoPais)\n",
    "df.groupby(['regiao_pais'])['id'].count().to_frame().reset_index()"
   ]
  },
  {
   "cell_type": "code",
   "execution_count": null,
   "metadata": {
    "ExecuteTime": {
     "end_time": "2021-11-24T21:17:05.101287Z",
     "start_time": "2021-11-24T21:17:05.101257Z"
    }
   },
   "outputs": [],
   "source": [
    "suptitle = 'Regiões do Brasil'\n",
    "title = 'Existe um aumento de acidentes dependendo da região do país?'\n",
    "\n",
    "percentual = round((df.groupby(['regiao_pais'])['id'].count() * 100) / len(df), 2).sort_values(ascending=False)\n",
    "percentual.plot.bar(width=1, alpha=0.5, figsize=(12, 6), rot=False, color='#191970').spines[['top', 'right']].set_visible(False)\n",
    "plt.suptitle(suptitle, fontsize=18, y=1.02, horizontalalignment='left', x=0.12, color='black', weight='bold')\n",
    "plt.title(title, fontsize=14, color='#646464', y=1.05, loc='left', x=-0.01)\n",
    "plt.ylabel('% acidentes', fontsize=14, horizontalalignment='left', y=0.72)\n",
    "plt.grid(False)\n",
    "plt.show()"
   ]
  },
  {
   "cell_type": "markdown",
   "metadata": {
    "colab_type": "text",
    "id": "r7LZUv3coyhV"
   },
   "source": [
    "### Correlação entre variáveis"
   ]
  },
  {
   "cell_type": "code",
   "execution_count": null,
   "metadata": {
    "ExecuteTime": {
     "end_time": "2021-11-24T21:17:05.103286Z",
     "start_time": "2021-11-24T21:17:05.103251Z"
    }
   },
   "outputs": [],
   "source": [
    "suptitle = 'Correlação de Pearson'\n",
    "title = 'Análise da correlação entre as variáveis de interesse'\n",
    "\n",
    "df['estacao_do_ano'] = df['estacao_do_ano'].map(mapaEstacao)\n",
    "df['condicao_metereologica'] = df['condicao_metereologica'].map(mapaClima)\n",
    "corr = df.drop(['id'], axis=1).corr().round(3)\n",
    "\n",
    "plt.figure(figsize=(20, 8))\n",
    "sns.heatmap(corr, linewidths=0.1, vmax=1.0, square=True, cmap=plt.cm.viridis, linecolor='white', annot=True)\n",
    "plt.suptitle(suptitle, fontsize=18, y=1., horizontalalignment='left', x=0.445, color='black', weight='bold')\n",
    "plt.title(title, fontsize=14, color='#646464', y=1.05, loc='left', x=-0.001)\n",
    "plt.xticks(rotation=0, ha='center')\n",
    "plt.yticks(rotation=0, ha='right')\n",
    "plt.grid(False)\n",
    "plt.show()"
   ]
  },
  {
   "cell_type": "markdown",
   "metadata": {},
   "source": [
    "Estação do ano x acidente"
   ]
  },
  {
   "cell_type": "code",
   "execution_count": null,
   "metadata": {
    "ExecuteTime": {
     "end_time": "2021-11-24T21:17:05.104982Z",
     "start_time": "2021-11-24T21:17:05.104952Z"
    }
   },
   "outputs": [],
   "source": [
    "suptitle = 'Acidentes vs. estação do ano'\n",
    "title = 'Análise da correlação entre acidentes e estações do ano'\n",
    "\n",
    "plt.rcParams['figure.figsize'] = [12, 6]\n",
    "sns.scatterplot(x='classificacao_acidente', y='estacao_do_ano', data=df, color='#191970', s=50).spines[['top', 'right']].set_visible(False)\n",
    "plt.suptitle(suptitle, fontsize=18, y=1.02, horizontalalignment='left', x=0.125, color='black', weight='bold')\n",
    "plt.title(title, fontsize=14, color='#646464', y=1.05, loc='left', x=-0.001)\n",
    "plt.xlabel('Classificação acidentes', fontsize=14, horizontalalignment='right', x=0.12)\n",
    "plt.ylabel('Estações do ano', fontsize=14, horizontalalignment='left', y=0.68)\n",
    "plt.grid(False)\n",
    "plt.ylim(-1, 16)\n",
    "plt.show()"
   ]
  },
  {
   "cell_type": "markdown",
   "metadata": {},
   "source": [
    "Clima x acidente"
   ]
  },
  {
   "cell_type": "code",
   "execution_count": null,
   "metadata": {
    "ExecuteTime": {
     "end_time": "2021-11-24T21:17:05.106753Z",
     "start_time": "2021-11-24T21:17:05.106724Z"
    },
    "colab": {},
    "colab_type": "code",
    "id": "6kYfJ3xQoyhg"
   },
   "outputs": [],
   "source": [
    "suptitle = 'Acidente vs. clima'\n",
    "title = 'Análise da correlação entre acidentes e o clima'\n",
    "\n",
    "plt.rcParams['figure.figsize'] = [12, 6]\n",
    "sns.scatterplot(x='classificacao_acidente', y='condicao_metereologica', data=df, color='#191970', s=50).spines[['top', 'right']].set_visible(False)\n",
    "plt.suptitle(suptitle, fontsize=18, y=1.02, horizontalalignment='left', x=0.125, color='black', weight='bold')\n",
    "plt.title(title, fontsize=14, color='#646464', y=1.05, loc='left', x=-0.001)\n",
    "plt.xlabel('Classificação acidentes', fontsize=14, horizontalalignment='right', x=0.12)\n",
    "plt.ylabel('Clima', fontsize=14, horizontalalignment='left', y=0.68)\n",
    "plt.grid(False)\n",
    "plt.ylim(-1, 16)\n",
    "plt.show()"
   ]
  }
 ],
 "metadata": {
  "colab": {
   "collapsed_sections": [],
   "name": "template.ipynb",
   "provenance": []
  },
  "file_extension": ".py",
  "hide_input": false,
  "kernelspec": {
   "display_name": "Python 3 (ipykernel)",
   "language": "python",
   "name": "python3"
  },
  "language_info": {
   "codemirror_mode": {
    "name": "ipython",
    "version": 3
   },
   "file_extension": ".py",
   "mimetype": "text/x-python",
   "name": "python",
   "nbconvert_exporter": "python",
   "pygments_lexer": "ipython3",
   "version": "3.7.9"
  },
  "mimetype": "text/x-python",
  "name": "python",
  "nbTranslate": {
   "displayLangs": [
    "*"
   ],
   "hotkey": "alt-t",
   "langInMainMenu": true,
   "sourceLang": "en",
   "targetLang": "fr",
   "useGoogleTranslate": true
  },
  "npconvert_exporter": "python",
  "pygments_lexer": "ipython3",
  "toc": {
   "base_numbering": 1,
   "nav_menu": {},
   "number_sections": true,
   "sideBar": true,
   "skip_h1_title": false,
   "title_cell": "Table of Contents",
   "title_sidebar": "Contents",
   "toc_cell": false,
   "toc_position": {},
   "toc_section_display": true,
   "toc_window_display": false
  },
  "varInspector": {
   "cols": {
    "lenName": 16,
    "lenType": 16,
    "lenVar": 40
   },
   "kernels_config": {
    "python": {
     "delete_cmd_postfix": "",
     "delete_cmd_prefix": "del ",
     "library": "var_list.py",
     "varRefreshCmd": "print(var_dic_list())"
    },
    "r": {
     "delete_cmd_postfix": ") ",
     "delete_cmd_prefix": "rm(",
     "library": "var_list.r",
     "varRefreshCmd": "cat(var_dic_list()) "
    }
   },
   "types_to_exclude": [
    "module",
    "function",
    "builtin_function_or_method",
    "instance",
    "_Feature"
   ],
   "window_display": false
  },
  "version": 3
 },
 "nbformat": 4,
 "nbformat_minor": 1
}
