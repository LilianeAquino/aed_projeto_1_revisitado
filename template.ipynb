{
 "cells": [
  {
   "cell_type": "markdown",
   "metadata": {
    "colab_type": "text",
    "id": "CEtG6c4koygW"
   },
   "source": [
    "# [Revisitado] Projeto #1 - Análise Exploratória de Dados"
   ]
  },
  {
   "cell_type": "markdown",
   "metadata": {},
   "source": [
    "### Base de dados"
   ]
  },
  {
   "cell_type": "markdown",
   "metadata": {},
   "source": [
    "<p style='text-align: justify;'><font size=3.5>A base de dados escolhida foi <b>Acidentes rodovias federais Brasil Jan/07 a Set/21</b> do Portal da Polícia Rodoviária Federal que possui registros das ocorrências de acidentes entre os anos de 2007 a 2021.</font></p>\n",
    "\n",
    "<p style='text-align: justify;'><font size=3.5>Essa base foi selecionada com o objetivo de aplicar técnicas de mineração de padrões visando a descoberta de informações que possam auxiliar na prevenção de acidentes. A técnica de associação será usada para identificar a ocorrência de relações entre a classificação do acidente e as variáveis de risco na tentativa de descobrir relações entre esses fatores.</font></p>\n",
    "\n",
    "> Fonte: MINISTÉRIO DA JUSTIÇA E SEGURANÇA PÚBLICA (Brasil). Polícia Rodoviária\n",
    "Federal. **Dados Abertos: Acidentes**. [S. l.], 13 maio 2021. Disponível em:\n",
    "https://www.gov.br/prf/pt-br/acesso-a-informacao/dados-abertos/dados-abertos-\n",
    "acidentes. Acesso em: 13 nov. 2021."
   ]
  },
  {
   "cell_type": "markdown",
   "metadata": {},
   "source": [
    "### Dicionário dos dados"
   ]
  },
  {
   "cell_type": "markdown",
   "metadata": {
    "colab_type": "text",
    "id": "i-GPuu6Toygc",
    "lang": "en"
   },
   "source": [
    "| Atributo | Significado |\n",
    "| --- | --- |\n",
    "| id | identificador da ocorrência |\n",
    "| data_inversa | data da ocorrência |\n",
    "| dia_semana | dia da semana em que houve a ocorrência |\n",
    "| horario | horário do registro |\n",
    "| br  | números das BRs |\n",
    "| km | km em que houve a ocorrência |\n",
    "| municipio | cidades onde ocorreram os acidentes |\n",
    "| causa_acidente | causa do acidente |\n",
    "| tipo_acidente | tipo de acidente |\n",
    "| classificacao_acidente | se possui vítimas ou não |\n",
    "| fase_dia | período do dia |\n",
    "| sentido_via | se crescente ou decrescente |\n",
    "| condicao_metereologica | clima na data de ocorrência |\n",
    "| tipo_pista | se simples, dupla, etc. |\n",
    "| tracado_via | se reta, com curva, etc. |\n",
    "| uso_solo | uso rural ou urbano |\n",
    "| ano | ano da ocorrência |\n",
    "| pessoas | quantidade de pessoas envolvidas no acidente |\n",
    "| mortos | quantidade de mortos |\n",
    "| feridos_leves | quantidade de feridos leves |\n",
    "| feridos_graves | quantidade de feridos graves |\n",
    "| ilesos | quantidade de ilesos |\n",
    "| ignorados | registros ignorados, sem classificação |\n",
    "| feridos | quantidade de feridos leves e/ou graves |\n",
    "| veiculos | quantidade de veículos envolvidos na ocorrência |"
   ]
  },
  {
   "cell_type": "markdown",
   "metadata": {
    "lang": "fr"
   },
   "source": [
    "#### Observação\n",
    "> <p style='text-align: justify;'><font size=2.85>Os seguintes atributos foram descartados por não agregarem nenhum valor e possuir uma alta taxa de valores ausentes: uop, latitude, longitude, regional e delegacia.</font></p>"
   ]
  },
  {
   "cell_type": "markdown",
   "metadata": {},
   "source": [
    "### Bibliotecas básicas e outros imports"
   ]
  },
  {
   "cell_type": "code",
   "execution_count": null,
   "metadata": {
    "ExecuteTime": {
     "end_time": "2021-11-22T23:20:06.835441Z",
     "start_time": "2021-11-22T23:20:05.784855Z"
    },
    "colab": {},
    "colab_type": "code",
    "id": "4bG6r2Bwoyge"
   },
   "outputs": [],
   "source": [
    "import warnings\n",
    "import numpy as np\n",
    "import pandas as pd\n",
    "import seaborn as sns\n",
    "import matplotlib\n",
    "import matplotlib.pyplot as plt\n",
    "\n",
    "%run modules/text.py\n",
    "\n",
    "%matplotlib inline\n",
    "plt.rcParams['font.family'] = 'Arial, Helvetica, sans-serif'\n",
    "\n",
    "warnings.filterwarnings('ignore')\n",
    "pd.set_option('display.max_rows', 1000)\n",
    "pd.set_option('display.max_columns', 200)\n",
    "np.set_printoptions(suppress=True, precision=3)"
   ]
  },
  {
   "cell_type": "markdown",
   "metadata": {},
   "source": [
    "### Carregamento dos dados"
   ]
  },
  {
   "cell_type": "code",
   "execution_count": null,
   "metadata": {
    "ExecuteTime": {
     "end_time": "2021-11-22T23:25:43.383424Z",
     "start_time": "2021-11-22T23:25:34.395230Z"
    },
    "colab": {},
    "colab_type": "code",
    "id": "H8Xxqiwcoygh",
    "outputId": "eff81565-4230-4ba0-9ea0-e634e493df06"
   },
   "outputs": [],
   "source": [
    "dados_acidentes = pd.read_csv('dataset/acidentes_rodovias_brasileiras_2007_a_2021.csv', low_memory=False)\n",
    "print(f'Linhas: {dados_acidentes.shape[0]} | Coluna:  {dados_acidentes.shape[1]}')\n",
    "dados_acidentes.head(2)"
   ]
  },
  {
   "cell_type": "markdown",
   "metadata": {
    "ExecuteTime": {
     "end_time": "2021-11-21T11:15:25.983964Z",
     "start_time": "2021-11-21T11:15:25.733994Z"
    }
   },
   "source": [
    "### Remoção registros nulos"
   ]
  },
  {
   "cell_type": "code",
   "execution_count": null,
   "metadata": {
    "ExecuteTime": {
     "end_time": "2021-11-22T22:21:15.156496Z",
     "start_time": "2021-11-22T22:21:13.654811Z"
    },
    "colab": {},
    "colab_type": "code",
    "id": "1T7-yJrRoygl",
    "outputId": "09691e6c-6014-4819-cb6f-623de80b5483"
   },
   "outputs": [],
   "source": [
    "for col in dados_acidentes.columns:\n",
    "    dados_acidentes.drop(dados_acidentes[dados_acidentes[col] == '(null)'].index, inplace=True)"
   ]
  },
  {
   "cell_type": "markdown",
   "metadata": {
    "ExecuteTime": {
     "end_time": "2021-11-21T11:18:44.057820Z",
     "start_time": "2021-11-21T11:18:43.811816Z"
    }
   },
   "source": [
    "### Verificação dados nulos e duplicados"
   ]
  },
  {
   "cell_type": "code",
   "execution_count": null,
   "metadata": {
    "ExecuteTime": {
     "end_time": "2021-11-22T22:21:16.735641Z",
     "start_time": "2021-11-22T22:21:16.183781Z"
    },
    "colab": {},
    "colab_type": "code",
    "id": "x1_IsStmoygs",
    "outputId": "341832b4-abd9-4b7e-b4d3-38dfdfe15ee9"
   },
   "outputs": [],
   "source": [
    "print('Porcentagem de dados duplicados: ', dados_acidentes.duplicated().sum())\n",
    "print('Porcentagem de dados ausentes: ', dados_acidentes.isnull().sum().sum())"
   ]
  },
  {
   "cell_type": "markdown",
   "metadata": {},
   "source": [
    "### Amostra aleatória dos dados\n",
    "> <p style='text-align: justify;'><font size=2.8>Por uma questão de recurso computacional, trabalharemos com uma amostra aleatória dos dados</font></p>"
   ]
  },
  {
   "cell_type": "code",
   "execution_count": null,
   "metadata": {},
   "outputs": [],
   "source": [
    "df = dados_acidentes.groupby('classificacao_acidente').apply(lambda x : x.sample(n=10000, replace=False))\n",
    "df.to_csv('dataset/sample_acidentes_rodovias_brasileiras_2007_a_2021.csv', index=False)\n",
    "print(f'Linhas: {df.shape[0]} | Coluna:  {df.shape[1]}')"
   ]
  },
  {
   "cell_type": "markdown",
   "metadata": {},
   "source": [
    "### Limpeza dos dados"
   ]
  },
  {
   "cell_type": "code",
   "execution_count": null,
   "metadata": {
    "ExecuteTime": {
     "end_time": "2021-11-22T22:33:07.778621Z",
     "start_time": "2021-11-22T22:24:00.269117Z"
    }
   },
   "outputs": [],
   "source": [
    "for col in df.columns:\n",
    "    df[col] = df[col].apply(cleaning)    \n",
    "df.to_csv('dataset/sample_acidentes_rodovias_brasileiras_2007_a_2021.csv', index=False, encoding='utf8')  "
   ]
  },
  {
   "cell_type": "markdown",
   "metadata": {},
   "source": [
    "### Informação dos dados"
   ]
  },
  {
   "cell_type": "code",
   "execution_count": null,
   "metadata": {},
   "outputs": [],
   "source": [
    "df.info()"
   ]
  },
  {
   "cell_type": "markdown",
   "metadata": {},
   "source": [
    "### Correção tipagem dados"
   ]
  },
  {
   "cell_type": "code",
   "execution_count": null,
   "metadata": {
    "colab": {},
    "colab_type": "code",
    "id": "QEi98pIQoyg1",
    "outputId": "14f71ecd-a121-426c-8841-2dd7827129bb"
   },
   "outputs": [],
   "source": [
    "cols = ['id', 'mortos', 'ilesos', 'pessoas', 'feridos', 'veiculos']\n",
    "for c in cols:\n",
    "    df[c] = df[c].astype('int16')"
   ]
  },
  {
   "cell_type": "markdown",
   "metadata": {},
   "source": [
    "### Tratamento coluna data"
   ]
  },
  {
   "cell_type": "code",
   "execution_count": null,
   "metadata": {
    "colab": {},
    "colab_type": "code",
    "id": "p0jLB_BNoyg4",
    "outputId": "bc8133e8-8119-46f2-bea9-e7aa29b05aa7"
   },
   "outputs": [],
   "source": [
    "df['data'] = pd.to_datetime(df['data_inversa'].map(str) + ' ' + df['horario'])\n",
    "# df['data'] = pd.to_datetime(df['data'])\n",
    "df['mes'] = df['data'].dt.month\n",
    "df.drop(['data_inversa', 'horario'], axis=1, inplace=True)"
   ]
  },
  {
   "cell_type": "markdown",
   "metadata": {
    "colab": {},
    "colab_type": "code",
    "id": "imPY_mPMoyhA"
   },
   "source": [
    "### Distribuição das variáveis"
   ]
  },
  {
   "cell_type": "markdown",
   "metadata": {
    "ExecuteTime": {
     "end_time": "2021-11-21T20:22:36.504291Z",
     "start_time": "2021-11-21T20:22:36.498860Z"
    }
   },
   "source": [
    "Classificação de acidentes"
   ]
  },
  {
   "cell_type": "code",
   "execution_count": null,
   "metadata": {
    "colab": {},
    "colab_type": "code",
    "id": "cbr12NG0oyhC",
    "outputId": "6f7e7d00-7138-4cb7-de55-b54189f6d147"
   },
   "outputs": [],
   "source": [
    "suptitle = 'Classificação de acidentes em relação às vítimas'\n",
    "title = '% de acidente por tipo de vítima'\n",
    "colors=['#191970', '#808080', '#808080', '#808080']\n",
    "\n",
    "percentual = round(df['classificacao_acidente'].value_counts(normalize=True) * 100, 2)\n",
    "percentual.plot.bar(width=1, alpha=0.5, figsize=(12, 6), rot=False, color=colors).spines[['top', 'right']].set_visible(False)\n",
    "plt.suptitle(suptitle, fontsize=18, y=1.02, horizontalalignment='left', x=0.12, color='black', weight='bold')\n",
    "plt.title(title, fontsize=14, color='#646464', y=1.05, loc='left', x=-0.01)\n",
    "plt.ylabel('% acidentes', fontsize=14, horizontalalignment='left', y=0.72)\n",
    "plt.grid(False)\n",
    "plt.text(0, 0.3, '55%', fontsize=14, weight='bold', horizontalalignment='center')\n",
    "plt.text(2.5, 0.6, aviso, fontsize=12, horizontalalignment='left', color='#646464')\n",
    "plt.show()"
   ]
  },
  {
   "cell_type": "markdown",
   "metadata": {},
   "source": [
    "Estados"
   ]
  },
  {
   "cell_type": "code",
   "execution_count": null,
   "metadata": {
    "colab": {},
    "colab_type": "code",
    "id": "m3uqZKMmoyhF",
    "outputId": "7a4374ba-982b-4202-8077-1e439be66720"
   },
   "outputs": [],
   "source": [
    "suptitle = 'Acidentes por Estado'\n",
    "title = '% de acidente por estado'\n",
    "\n",
    "percentual = round(df['uf'].value_counts(normalize=True) * 100, 2)\n",
    "percentual.plot.bar(width=1, alpha=0.5, figsize=(12, 6), rot=False, color='#191970').spines[['top', 'right']].set_visible(False)\n",
    "plt.suptitle(suptitle, fontsize=18, y=1.02, horizontalalignment='left', x=0.12, color='black', weight='bold')\n",
    "plt.title(title, fontsize=14, color='#646464', y=1.05, loc='left', x=-0.01)\n",
    "plt.ylabel('% acidentes', fontsize=14, horizontalalignment='left', y=0.72)\n",
    "plt.grid(False)\n",
    "plt.show()"
   ]
  },
  {
   "cell_type": "markdown",
   "metadata": {},
   "source": [
    "Minas Gerais"
   ]
  },
  {
   "cell_type": "code",
   "execution_count": null,
   "metadata": {},
   "outputs": [],
   "source": [
    "suptitle = 'Acidentes registrados em Minas Gerais'\n",
    "title = 'As 10 cidades mineiras com maior % de ocorrência de acidentes'\n",
    "\n",
    "municipios = df[df_2007_2018['uf'] == 'MG']\n",
    "percentual = municipios['municipio'].value_counts(normalize=True).sort_values(ascending=False).head(10)\n",
    "percentual.plot.bar(width=1, alpha=0.5, figsize=(12, 6), rot=False, color='#191970').spines[['top', 'right']].set_visible(False)\n",
    "plt.suptitle(suptitle, fontsize=18, y=1.02, horizontalalignment='left', x=0.12, color='black', weight='bold')\n",
    "plt.title(title, fontsize=14, color='#646464', y=1.05, loc='left', x=-0.01)\n",
    "plt.ylabel('% acidentes', fontsize=14, horizontalalignment='left', y=0.72)\n",
    "plt.grid(False)\n",
    "plt.show()"
   ]
  },
  {
   "cell_type": "markdown",
   "metadata": {},
   "source": [
    "Causas de acidentes"
   ]
  },
  {
   "cell_type": "code",
   "execution_count": null,
   "metadata": {
    "colab": {},
    "colab_type": "code",
    "id": "X1ppMJxVoyhI",
    "outputId": "a2b886d8-d3f0-421c-a18e-ead804b7be6f"
   },
   "outputs": [],
   "source": [
    "suptitle = 'Causas de acidentes'\n",
    "title = 'As 10 principais causas de ocorrência de acidentes'\n",
    "\n",
    "percentual = df['causa_acidente'].value_counts(normalize=True).head(10)\n",
    "percentual.plot.bar(width=1, alpha=0.5, figsize=(12, 6), rot=False, color='#191970').spines[['top', 'right']].set_visible(False)\n",
    "plt.suptitle(suptitle, fontsize=18, y=1.02, horizontalalignment='left', x=0.12, color='black', weight='bold')\n",
    "plt.title(title, fontsize=14, color='#646464', y=1.05, loc='left', x=-0.01)\n",
    "plt.ylabel('% acidentes', fontsize=14, horizontalalignment='left', y=0.72)\n",
    "plt.grid(False)\n",
    "plt.show()"
   ]
  },
  {
   "cell_type": "markdown",
   "metadata": {},
   "source": [
    "Vítimas fatais"
   ]
  },
  {
   "cell_type": "code",
   "execution_count": null,
   "metadata": {
    "colab": {},
    "colab_type": "code",
    "id": "Y0qAudiooyhL",
    "outputId": "8cb121ce-f534-41a5-a38e-920b18ad9a33"
   },
   "outputs": [],
   "source": [
    "suptitle = 'Vítimas fatais'\n",
    "title = 'Quantidade de mortos por UF entre 2007 e 2021'\n",
    "\n",
    "mortos = df.groupby(['uf'])['mortos'].sum().sort_values(ascending=False)\n",
    "mortos.plot.bar(width=1, alpha=0.5, figsize=(12, 6), rot=False, color='#191970').spines[['top', 'right']].set_visible(False)\n",
    "plt.suptitle(suptitle, fontsize=18, y=1.02, horizontalalignment='left', x=0.12, color='black', weight='bold')\n",
    "plt.title(title, fontsize=14, color='#646464', y=1.05, loc='left', x=-0.01)\n",
    "plt.ylabel('total de mortos', fontsize=14, horizontalalignment='left', y=0.72)\n",
    "plt.grid(False)\n",
    "plt.show()"
   ]
  },
  {
   "cell_type": "markdown",
   "metadata": {},
   "source": [
    "Fase do dia"
   ]
  },
  {
   "cell_type": "code",
   "execution_count": null,
   "metadata": {},
   "outputs": [],
   "source": [
    "suptitle = 'Fase do dia'\n",
    "title = 'Fase do dia em que ocorreram os acidentes'\n",
    "\n",
    "percentual = round(df['fase_dia'].value_counts(normalize=True) * 100, 2)\n",
    "percentual.plot.bar(width=1, alpha=0.5, figsize=(12, 6), rot=False, color='#191970').spines[['top', 'right']].set_visible(False)\n",
    "plt.suptitle(suptitle, fontsize=18, y=1.02, horizontalalignment='left', x=0.12, color='black', weight='bold')\n",
    "plt.title(title, fontsize=14, color='#646464', y=1.05, loc='left', x=-0.01)\n",
    "plt.ylabel('% acidentes', fontsize=14, horizontalalignment='left', y=0.72)\n",
    "plt.grid(False)\n",
    "plt.show()"
   ]
  },
  {
   "cell_type": "markdown",
   "metadata": {},
   "source": [
    "Traçado da via"
   ]
  },
  {
   "cell_type": "code",
   "execution_count": null,
   "metadata": {},
   "outputs": [],
   "source": [
    "suptitle = 'Traçado da via'\n",
    "title = 'Traçado das vias onde ocorreram os acidentes'\n",
    "\n",
    "percentual = round(df['tracado_via'].value_counts(normalize=True) * 100, 2)\n",
    "percentual.plot.bar(width=1, alpha=0.5, figsize=(12, 6), rot=False, color='#191970').spines[['top', 'right']].set_visible(False)\n",
    "plt.suptitle(suptitle, fontsize=18, y=1.02, horizontalalignment='left', x=0.12, color='black', weight='bold')\n",
    "plt.title(title, fontsize=14, color='#646464', y=1.05, loc='left', x=-0.01)\n",
    "plt.ylabel('% acidentes', fontsize=14, horizontalalignment='left', y=0.72)\n",
    "plt.grid(False)\n",
    "plt.show()"
   ]
  },
  {
   "cell_type": "markdown",
   "metadata": {},
   "source": [
    "Veículos"
   ]
  },
  {
   "cell_type": "code",
   "execution_count": null,
   "metadata": {},
   "outputs": [],
   "source": [
    "suptitle = 'Veículos envolvidos'\n",
    "title = 'Top 5 da quantidade de veículos envolvidos nas ocorrências de acidentes'\n",
    "\n",
    "veiculos = df.groupby(['veiculos'])['id'].count().sort_values(ascending=False).head(5)\n",
    "veiculos.plot.bar(width=1, alpha=0.5, figsize=(12, 6), rot=False, color='#191970').spines[['top', 'right']].set_visible(False)\n",
    "plt.suptitle(suptitle, fontsize=18, y=1.02, horizontalalignment='left', x=0.12, color='black', weight='bold')\n",
    "plt.title(title, fontsize=14, color='#646464', y=1.05, loc='left', x=-0.01)\n",
    "plt.ylabel('total de acidentes', fontsize=14, horizontalalignment='left', y=0.72)\n",
    "plt.grid(False)\n",
    "plt.show()"
   ]
  },
  {
   "cell_type": "markdown",
   "metadata": {},
   "source": [
    "Condição meteorológica"
   ]
  },
  {
   "cell_type": "code",
   "execution_count": null,
   "metadata": {},
   "outputs": [],
   "source": [
    "suptitle = 'Condição meteorológica'\n",
    "title = 'Clima durante a ocorrência de acidentes'\n",
    "\n",
    "df['condicao_metereologica'] = df['condicao_metereologica'].apply(padronizaTexto)\n",
    "percentual = round((df.groupby(['condicao_metereologica'])['id'].count() * 100) / len(df), 2).sort_values(ascending=False)\n",
    "percentual.plot.bar(width=1, alpha=0.5, figsize=(12, 6), rot=False, color='#191970').spines[['top', 'right']].set_visible(False)\n",
    "plt.suptitle(suptitle, fontsize=18, y=1.02, horizontalalignment='left', x=0.12, color='black', weight='bold')\n",
    "plt.title(title, fontsize=14, color='#646464', y=1.05, loc='left', x=-0.01)\n",
    "plt.ylabel('% acidentes', fontsize=14, horizontalalignment='left', y=0.72)\n",
    "plt.grid(False)\n",
    "plt.show()"
   ]
  },
  {
   "cell_type": "markdown",
   "metadata": {
    "colab_type": "text",
    "id": "mVhSbD7voyhR"
   },
   "source": [
    "### Dependência entre variáveis"
   ]
  },
  {
   "cell_type": "markdown",
   "metadata": {},
   "source": [
    "Estação do ano"
   ]
  },
  {
   "cell_type": "code",
   "execution_count": null,
   "metadata": {},
   "outputs": [],
   "source": [
    "df['estacao_do_ano'] = df['data'].apply(estacaoAno)\n",
    "df.groupby(['estacao_do_ano'])['id'].count().to_frame().reset_index()"
   ]
  },
  {
   "cell_type": "code",
   "execution_count": null,
   "metadata": {},
   "outputs": [],
   "source": [
    "suptitle = 'Estações do ano'\n",
    "title = 'Existe um aumento de acidentes dependendo da estação do ano?'\n",
    "\n",
    "percentual = round((df.groupby(['estacao_do_ano'])['id'].count() * 100) / len(df), 2).sort_values(ascending=False)\n",
    "percentual.plot.bar(width=1, alpha=0.5, figsize=(12, 6), rot=False, color='#191970').spines[['top', 'right']].set_visible(False)\n",
    "plt.suptitle(suptitle, fontsize=18, y=1.02, horizontalalignment='left', x=0.12, color='black', weight='bold')\n",
    "plt.title(title, fontsize=14, color='#646464', y=1.05, loc='left', x=-0.01)\n",
    "plt.ylabel('% acidentes', fontsize=14, horizontalalignment='left', y=0.72)\n",
    "plt.grid(False)\n",
    "plt.show()"
   ]
  },
  {
   "cell_type": "markdown",
   "metadata": {},
   "source": [
    "Dias da semana"
   ]
  },
  {
   "cell_type": "code",
   "execution_count": null,
   "metadata": {},
   "outputs": [],
   "source": [
    "df['dia_semana'] = df['data'].apply(diaSemana)\n",
    "df.groupby(['dia_semana'])['id'].count().to_frame().reset_index()"
   ]
  },
  {
   "cell_type": "code",
   "execution_count": null,
   "metadata": {},
   "outputs": [],
   "source": [
    "suptitle = 'Dias da semana'\n",
    "title = 'Existe um aumento de acidentes dependendo do dia da semana?'\n",
    "\n",
    "percentual = round((df.groupby(['dia_semana'])['id'].count() * 100) / len(df), 2).sort_values(ascending=False)\n",
    "percentual.plot.bar(width=1, alpha=0.5, figsize=(12, 6), rot=False, color='#191970').spines[['top', 'right']].set_visible(False)\n",
    "plt.suptitle(suptitle, fontsize=18, y=1.02, horizontalalignment='left', x=0.12, color='black', weight='bold')\n",
    "plt.title(title, fontsize=14, color='#646464', y=1.05, loc='left', x=-0.01)\n",
    "plt.ylabel('% acidentes', fontsize=14, horizontalalignment='left', y=0.72)\n",
    "plt.grid(False)\n",
    "plt.show()"
   ]
  },
  {
   "cell_type": "markdown",
   "metadata": {},
   "source": [
    "Região do Brasil"
   ]
  },
  {
   "cell_type": "code",
   "execution_count": null,
   "metadata": {},
   "outputs": [],
   "source": [
    "df['regiao_pais'] = df['uf'].apply(regiaoPais)\n",
    "df.groupby(['regiao_pais'])['id'].count().to_frame().reset_index()"
   ]
  },
  {
   "cell_type": "code",
   "execution_count": null,
   "metadata": {},
   "outputs": [],
   "source": [
    "suptitle = 'Regiões do Brasil'\n",
    "title = 'Existe um aumento de acidentes dependendo da região do país?'\n",
    "\n",
    "percentual = round((df.groupby(['regiao_pais'])['id'].count() * 100) / len(df), 2).sort_values(ascending=False)\n",
    "percentual.plot.bar(width=1, alpha=0.5, figsize=(12, 6), rot=False, color='#191970').spines[['top', 'right']].set_visible(False)\n",
    "plt.suptitle(suptitle, fontsize=18, y=1.02, horizontalalignment='left', x=0.12, color='black', weight='bold')\n",
    "plt.title(title, fontsize=14, color='#646464', y=1.05, loc='left', x=-0.01)\n",
    "plt.ylabel('% acidentes', fontsize=14, horizontalalignment='left', y=0.72)\n",
    "plt.grid(False)\n",
    "plt.show()"
   ]
  },
  {
   "cell_type": "markdown",
   "metadata": {
    "colab_type": "text",
    "id": "r7LZUv3coyhV"
   },
   "source": [
    "### Correlação entre variáveis"
   ]
  },
  {
   "cell_type": "code",
   "execution_count": null,
   "metadata": {},
   "outputs": [],
   "source": [
    "suptitle = 'Correlação de Pearson'\n",
    "title = 'Análise da correlação entre as variáveis de interesse'\n",
    "\n",
    "df['estacao_do_ano'] = df['estacao_do_ano'].map(mapaEstacao)\n",
    "df['condicao_metereologica'] = df['condicao_metereologica'].map(mapaClima)\n",
    "corr = df.drop(['id'], axis=1).corr().round(3)\n",
    "\n",
    "plt.figure(figsize=(20, 8))\n",
    "sns.heatmap(corr, linewidths=0.1, vmax=1.0, square=True, cmap=plt.cm.viridis, linecolor='white', annot=True)\n",
    "plt.suptitle(suptitle, fontsize=18, y=1., horizontalalignment='left', x=0.445, color='black', weight='bold')\n",
    "plt.title(title, fontsize=14, color='#646464', y=1.05, loc='left', x=-0.001)\n",
    "plt.xticks(rotation=0, ha='center')\n",
    "plt.yticks(rotation=0, ha='right')\n",
    "plt.grid(False)\n",
    "plt.show()"
   ]
  },
  {
   "cell_type": "markdown",
   "metadata": {},
   "source": [
    "Estação do ano x acidente"
   ]
  },
  {
   "cell_type": "code",
   "execution_count": null,
   "metadata": {},
   "outputs": [],
   "source": [
    "suptitle = 'Acidentes vs. estação do ano'\n",
    "title = 'Análise da correlação entre acidentes e estações do ano'\n",
    "\n",
    "plt.rcParams['figure.figsize'] = [12, 6]\n",
    "sns.scatterplot(x='classificacao_acidente', y='estacao_do_ano', data=df, color='#191970', s=50).spines[['top', 'right']].set_visible(False)\n",
    "plt.suptitle(suptitle, fontsize=18, y=1.02, horizontalalignment='left', x=0.125, color='black', weight='bold')\n",
    "plt.title(title, fontsize=14, color='#646464', y=1.05, loc='left', x=-0.001)\n",
    "plt.xlabel('Classificação acidentes', fontsize=14, horizontalalignment='right', x=0.12)\n",
    "plt.ylabel('Estações do ano', fontsize=14, horizontalalignment='left', y=0.68)\n",
    "plt.grid(False)\n",
    "plt.ylim(-1, 16)\n",
    "plt.show()"
   ]
  },
  {
   "cell_type": "markdown",
   "metadata": {},
   "source": [
    "Clima x acidente"
   ]
  },
  {
   "cell_type": "code",
   "execution_count": null,
   "metadata": {
    "colab": {},
    "colab_type": "code",
    "id": "6kYfJ3xQoyhg"
   },
   "outputs": [],
   "source": [
    "suptitle = 'Acidente vs. clima'\n",
    "title = 'Análise da correlação entre acidentes e o clima'\n",
    "\n",
    "plt.rcParams['figure.figsize'] = [12, 6]\n",
    "sns.scatterplot(x='classificacao_acidente', y='condicao_metereologica', data=df, color='#191970', s=50).spines[['top', 'right']].set_visible(False)\n",
    "plt.suptitle(suptitle, fontsize=18, y=1.02, horizontalalignment='left', x=0.125, color='black', weight='bold')\n",
    "plt.title(title, fontsize=14, color='#646464', y=1.05, loc='left', x=-0.001)\n",
    "plt.xlabel('Classificação acidentes', fontsize=14, horizontalalignment='right', x=0.12)\n",
    "plt.ylabel('Clima', fontsize=14, horizontalalignment='left', y=0.68)\n",
    "plt.grid(False)\n",
    "plt.ylim(-1, 16)\n",
    "plt.show()"
   ]
  }
 ],
 "metadata": {
  "colab": {
   "collapsed_sections": [],
   "name": "template.ipynb",
   "provenance": []
  },
  "file_extension": ".py",
  "hide_input": false,
  "kernelspec": {
   "display_name": "Python 3 (ipykernel)",
   "language": "python",
   "name": "python3"
  },
  "language_info": {
   "codemirror_mode": {
    "name": "ipython",
    "version": 3
   },
   "file_extension": ".py",
   "mimetype": "text/x-python",
   "name": "python",
   "nbconvert_exporter": "python",
   "pygments_lexer": "ipython3",
   "version": "3.7.9"
  },
  "mimetype": "text/x-python",
  "name": "python",
  "nbTranslate": {
   "displayLangs": [
    "*"
   ],
   "hotkey": "alt-t",
   "langInMainMenu": true,
   "sourceLang": "en",
   "targetLang": "fr",
   "useGoogleTranslate": true
  },
  "npconvert_exporter": "python",
  "pygments_lexer": "ipython3",
  "toc": {
   "base_numbering": 1,
   "nav_menu": {},
   "number_sections": true,
   "sideBar": true,
   "skip_h1_title": false,
   "title_cell": "Table of Contents",
   "title_sidebar": "Contents",
   "toc_cell": false,
   "toc_position": {},
   "toc_section_display": true,
   "toc_window_display": false
  },
  "varInspector": {
   "cols": {
    "lenName": 16,
    "lenType": 16,
    "lenVar": 40
   },
   "kernels_config": {
    "python": {
     "delete_cmd_postfix": "",
     "delete_cmd_prefix": "del ",
     "library": "var_list.py",
     "varRefreshCmd": "print(var_dic_list())"
    },
    "r": {
     "delete_cmd_postfix": ") ",
     "delete_cmd_prefix": "rm(",
     "library": "var_list.r",
     "varRefreshCmd": "cat(var_dic_list()) "
    }
   },
   "types_to_exclude": [
    "module",
    "function",
    "builtin_function_or_method",
    "instance",
    "_Feature"
   ],
   "window_display": false
  },
  "version": 3
 },
 "nbformat": 4,
 "nbformat_minor": 1
}
