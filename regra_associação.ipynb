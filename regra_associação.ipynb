{
 "cells": [
  {
   "cell_type": "markdown",
   "metadata": {
    "id": "CEtG6c4koygW"
   },
   "source": [
    "# Projeto #1 - Mineração de padrões frequentes\n",
    "\n",
    "<p style='text-align: justify;'><font size=3.>Análise de acidentes nas rodovias federais brasileira entre 2007 e 2021.</font></p>"
   ]
  },
  {
   "cell_type": "markdown",
   "metadata": {},
   "source": [
    "> <p style='text-align: justify;'><font size=2.85>Esse projeto utiliza a versão 0.17.0 do mlxtend.</font></p>"
   ]
  },
  {
   "cell_type": "code",
   "execution_count": 1,
   "metadata": {
    "ExecuteTime": {
     "end_time": "2021-12-28T10:33:24.900926Z",
     "start_time": "2021-12-28T10:33:24.890231Z"
    },
    "colab": {
     "base_uri": "https://localhost:8080/"
    },
    "id": "nK7r-txzOlHu",
    "outputId": "21c5696a-ff01-4bdf-a37f-2d7e373ddac4"
   },
   "outputs": [
    {
     "name": "stdout",
     "output_type": "stream",
     "text": [
      "0.17.0\n"
     ]
    }
   ],
   "source": [
    "import mlxtend\n",
    "print(mlxtend.__version__)"
   ]
  },
  {
   "cell_type": "markdown",
   "metadata": {
    "id": "IGJiaCUD1ncA"
   },
   "source": [
    "### Bibliotecas básicas e outros imports"
   ]
  },
  {
   "cell_type": "code",
   "execution_count": 2,
   "metadata": {
    "ExecuteTime": {
     "end_time": "2021-12-28T10:33:26.772397Z",
     "start_time": "2021-12-28T10:33:25.074709Z"
    },
    "id": "4bG6r2Bwoyge"
   },
   "outputs": [],
   "source": [
    "import warnings\n",
    "import numpy as np\n",
    "import pandas as pd\n",
    "from mlxtend.preprocessing import TransactionEncoder\n",
    "from mlxtend.frequent_patterns import association_rules\n",
    "from mlxtend.frequent_patterns import fpgrowth\n",
    "\n",
    "warnings.filterwarnings('ignore')\n",
    "pd.set_option('display.max_rows', 1000)\n",
    "pd.set_option('display.max_columns', 200)\n",
    "np.set_printoptions(suppress=True, precision=3)\n",
    "\n",
    "%run modules/text.py"
   ]
  },
  {
   "cell_type": "markdown",
   "metadata": {
    "id": "rjtF8niV1ncF"
   },
   "source": [
    "### Carregamento dos dados"
   ]
  },
  {
   "cell_type": "code",
   "execution_count": 3,
   "metadata": {
    "ExecuteTime": {
     "end_time": "2021-12-28T10:33:44.328979Z",
     "start_time": "2021-12-28T10:33:26.776597Z"
    },
    "colab": {
     "base_uri": "https://localhost:8080/",
     "height": 134
    },
    "id": "H8Xxqiwcoygh",
    "outputId": "948da79f-e337-4029-b318-a0ef40832d18"
   },
   "outputs": [
    {
     "name": "stdout",
     "output_type": "stream",
     "text": [
      "Linhas: 1894736 | Coluna:  24\n"
     ]
    },
    {
     "data": {
      "text/html": [
       "<div>\n",
       "<style scoped>\n",
       "    .dataframe tbody tr th:only-of-type {\n",
       "        vertical-align: middle;\n",
       "    }\n",
       "\n",
       "    .dataframe tbody tr th {\n",
       "        vertical-align: top;\n",
       "    }\n",
       "\n",
       "    .dataframe thead th {\n",
       "        text-align: right;\n",
       "    }\n",
       "</style>\n",
       "<table border=\"1\" class=\"dataframe\">\n",
       "  <thead>\n",
       "    <tr style=\"text-align: right;\">\n",
       "      <th></th>\n",
       "      <th>id</th>\n",
       "      <th>dia_semana</th>\n",
       "      <th>uf</th>\n",
       "      <th>br</th>\n",
       "      <th>municipio</th>\n",
       "      <th>causa_acidente</th>\n",
       "      <th>tipo_acidente</th>\n",
       "      <th>classificacao_acidente</th>\n",
       "      <th>fase_dia</th>\n",
       "      <th>sentido_via</th>\n",
       "      <th>condicao_metereologica</th>\n",
       "      <th>tipo_pista</th>\n",
       "      <th>tracado_via</th>\n",
       "      <th>uso_solo</th>\n",
       "      <th>tipo_veiculo</th>\n",
       "      <th>tipo_envolvido</th>\n",
       "      <th>estado_fisico</th>\n",
       "      <th>data</th>\n",
       "      <th>mes</th>\n",
       "      <th>ano</th>\n",
       "      <th>estacao_do_ano</th>\n",
       "      <th>regiao_pais</th>\n",
       "      <th>estacao</th>\n",
       "      <th>clima</th>\n",
       "    </tr>\n",
       "  </thead>\n",
       "  <tbody>\n",
       "    <tr>\n",
       "      <th>0</th>\n",
       "      <td>83123214.0</td>\n",
       "      <td>quarta</td>\n",
       "      <td>SC</td>\n",
       "      <td>280</td>\n",
       "      <td>Rio negrinho</td>\n",
       "      <td>outras</td>\n",
       "      <td>saida de pista</td>\n",
       "      <td>ignorada</td>\n",
       "      <td>plena noite</td>\n",
       "      <td>decrescente</td>\n",
       "      <td>chuva</td>\n",
       "      <td>simples</td>\n",
       "      <td>curva</td>\n",
       "      <td>urbano</td>\n",
       "      <td>automovel</td>\n",
       "      <td>condutor</td>\n",
       "      <td>ignorada</td>\n",
       "      <td>2014-01-01</td>\n",
       "      <td>1</td>\n",
       "      <td>2014</td>\n",
       "      <td>verão</td>\n",
       "      <td>sul</td>\n",
       "      <td>3</td>\n",
       "      <td>1</td>\n",
       "    </tr>\n",
       "  </tbody>\n",
       "</table>\n",
       "</div>"
      ],
      "text/plain": [
       "           id dia_semana  uf   br     municipio causa_acidente  \\\n",
       "0  83123214.0     quarta  SC  280  Rio negrinho         outras   \n",
       "\n",
       "    tipo_acidente classificacao_acidente     fase_dia  sentido_via  \\\n",
       "0  saida de pista               ignorada  plena noite  decrescente   \n",
       "\n",
       "  condicao_metereologica tipo_pista tracado_via uso_solo tipo_veiculo  \\\n",
       "0                  chuva    simples       curva   urbano    automovel   \n",
       "\n",
       "  tipo_envolvido estado_fisico        data  mes   ano estacao_do_ano  \\\n",
       "0       condutor      ignorada  2014-01-01    1  2014          verão   \n",
       "\n",
       "  regiao_pais  estacao  clima  \n",
       "0         sul        3      1  "
      ]
     },
     "execution_count": 3,
     "metadata": {},
     "output_type": "execute_result"
    }
   ],
   "source": [
    "df = pd.read_csv('dataset/cleaned_acidentes_rodovias_brasileiras_2007_a_2021.csv', low_memory=False, encoding='utf-8')\n",
    "print(f'Linhas: {df.shape[0]} | Coluna:  {df.shape[1]}')\n",
    "df.head(1)"
   ]
  },
  {
   "cell_type": "markdown",
   "metadata": {},
   "source": [
    "### Remoção valores inválidos"
   ]
  },
  {
   "cell_type": "code",
   "execution_count": 4,
   "metadata": {
    "ExecuteTime": {
     "end_time": "2021-12-28T10:33:49.137920Z",
     "start_time": "2021-12-28T10:33:44.333120Z"
    },
    "colab": {
     "base_uri": "https://localhost:8080/"
    },
    "id": "fhavjBeHeylB",
    "outputId": "b98f7771-42ff-449f-cfa5-9e4e89c590fd"
   },
   "outputs": [
    {
     "name": "stdout",
     "output_type": "stream",
     "text": [
      "Linhas: 1844479 | Coluna:  24\n"
     ]
    }
   ],
   "source": [
    "df.drop(df[df['tipo_veiculo'] == 'nao identificado'].index, inplace=True)\n",
    "df.drop(df[df['tipo_veiculo'] == 'nao informado'].index, inplace=True)\n",
    "df.drop(df[df['classificacao_acidente'] == 'ignorada'].index, inplace=True)\n",
    "df.drop(df[df['condicao_metereologica'] == 'ignorada'].index, inplace=True)\n",
    "print(f'Linhas: {df.shape[0]} | Coluna:  {df.shape[1]}')"
   ]
  },
  {
   "cell_type": "markdown",
   "metadata": {
    "id": "yb5EHCOv0H8V"
   },
   "source": [
    "### Geração de features"
   ]
  },
  {
   "cell_type": "markdown",
   "metadata": {
    "id": "EXVxubGvdt6t"
   },
   "source": [
    "#### Agrupamento tipos de acidentes"
   ]
  },
  {
   "cell_type": "code",
   "execution_count": 5,
   "metadata": {
    "ExecuteTime": {
     "end_time": "2021-12-28T10:33:50.282471Z",
     "start_time": "2021-12-28T10:33:49.142096Z"
    },
    "id": "qMcc89EGXr_i"
   },
   "outputs": [],
   "source": [
    "df['tipo_acidente'] = df['tipo_acidente'].apply(mapTiposDeAcidentes)"
   ]
  },
  {
   "cell_type": "markdown",
   "metadata": {
    "id": "a0UU3N55TNII"
   },
   "source": [
    "#### Agrupamento fase do dia"
   ]
  },
  {
   "cell_type": "code",
   "execution_count": 6,
   "metadata": {
    "ExecuteTime": {
     "end_time": "2021-12-28T10:33:50.835006Z",
     "start_time": "2021-12-28T10:33:50.291056Z"
    },
    "id": "fpIOVcauV6Y7"
   },
   "outputs": [],
   "source": [
    "df['fase_dia'] = df['fase_dia'].map(mapFase)"
   ]
  },
  {
   "cell_type": "markdown",
   "metadata": {
    "id": "BrL5G_PdTQn2"
   },
   "source": [
    "#### Agrupamento dias da semana"
   ]
  },
  {
   "cell_type": "code",
   "execution_count": 7,
   "metadata": {
    "ExecuteTime": {
     "end_time": "2021-12-28T10:33:51.459364Z",
     "start_time": "2021-12-28T10:33:50.837807Z"
    },
    "id": "dLU74nI4WXUf"
   },
   "outputs": [],
   "source": [
    "df['dia_semana'] = df['dia_semana'].apply(mapDiasDaSemana)"
   ]
  },
  {
   "cell_type": "markdown",
   "metadata": {
    "id": "vXNcP-KP0OUQ"
   },
   "source": [
    "#### Agrupamento condição meteorológica"
   ]
  },
  {
   "cell_type": "code",
   "execution_count": 8,
   "metadata": {
    "ExecuteTime": {
     "end_time": "2021-12-28T10:33:51.734707Z",
     "start_time": "2021-12-28T10:33:51.462684Z"
    },
    "id": "c46u0QzOxzmx"
   },
   "outputs": [],
   "source": [
    "df['condicao_clima'] = df['condicao_metereologica'].map(mapClima)"
   ]
  },
  {
   "cell_type": "markdown",
   "metadata": {
    "id": "nTZ4TrYr0bRW"
   },
   "source": [
    "### Agrupamento tamanho veículos"
   ]
  },
  {
   "cell_type": "code",
   "execution_count": 9,
   "metadata": {
    "ExecuteTime": {
     "end_time": "2021-12-28T10:33:52.565894Z",
     "start_time": "2021-12-28T10:33:51.737219Z"
    },
    "id": "VTBOj1K1wgvR"
   },
   "outputs": [],
   "source": [
    "df['porte_veiculo'] = df['tipo_veiculo'].apply(mapTamanhoVeiculos)"
   ]
  },
  {
   "cell_type": "markdown",
   "metadata": {
    "id": "QGmpnau_qvqG"
   },
   "source": [
    "### Seleção dos recursos para análise"
   ]
  },
  {
   "cell_type": "code",
   "execution_count": 10,
   "metadata": {
    "ExecuteTime": {
     "end_time": "2021-12-28T10:33:53.863369Z",
     "start_time": "2021-12-28T10:33:52.568424Z"
    },
    "colab": {
     "base_uri": "https://localhost:8080/",
     "height": 204
    },
    "id": "qVu9PyRPXptD",
    "outputId": "fd8e9755-d243-4005-8e41-ad6a682aa9c7"
   },
   "outputs": [
    {
     "data": {
      "text/html": [
       "<div>\n",
       "<style scoped>\n",
       "    .dataframe tbody tr th:only-of-type {\n",
       "        vertical-align: middle;\n",
       "    }\n",
       "\n",
       "    .dataframe tbody tr th {\n",
       "        vertical-align: top;\n",
       "    }\n",
       "\n",
       "    .dataframe thead th {\n",
       "        text-align: right;\n",
       "    }\n",
       "</style>\n",
       "<table border=\"1\" class=\"dataframe\">\n",
       "  <thead>\n",
       "    <tr style=\"text-align: right;\">\n",
       "      <th></th>\n",
       "      <th>classificacao_acidente</th>\n",
       "      <th>tipo_acidente</th>\n",
       "      <th>fase_dia</th>\n",
       "      <th>condicao_clima</th>\n",
       "      <th>tracado_via</th>\n",
       "      <th>porte_veiculo</th>\n",
       "    </tr>\n",
       "  </thead>\n",
       "  <tbody>\n",
       "    <tr>\n",
       "      <th>1</th>\n",
       "      <td>sem vitimas</td>\n",
       "      <td>colisão</td>\n",
       "      <td>noite</td>\n",
       "      <td>tempo ruim</td>\n",
       "      <td>reta</td>\n",
       "      <td>pequeno porte</td>\n",
       "    </tr>\n",
       "    <tr>\n",
       "      <th>2</th>\n",
       "      <td>sem vitimas</td>\n",
       "      <td>atropelamento</td>\n",
       "      <td>noite</td>\n",
       "      <td>tempo bom</td>\n",
       "      <td>reta</td>\n",
       "      <td>pequeno porte</td>\n",
       "    </tr>\n",
       "    <tr>\n",
       "      <th>3</th>\n",
       "      <td>sem vitimas</td>\n",
       "      <td>colisão</td>\n",
       "      <td>noite</td>\n",
       "      <td>tempo bom</td>\n",
       "      <td>cruzamento</td>\n",
       "      <td>pequeno porte</td>\n",
       "    </tr>\n",
       "    <tr>\n",
       "      <th>4</th>\n",
       "      <td>com vitimas feridas</td>\n",
       "      <td>colisão</td>\n",
       "      <td>noite</td>\n",
       "      <td>nublado</td>\n",
       "      <td>reta</td>\n",
       "      <td>pequeno porte</td>\n",
       "    </tr>\n",
       "    <tr>\n",
       "      <th>5</th>\n",
       "      <td>sem vitimas</td>\n",
       "      <td>colisão</td>\n",
       "      <td>noite</td>\n",
       "      <td>nublado</td>\n",
       "      <td>reta</td>\n",
       "      <td>pequeno porte</td>\n",
       "    </tr>\n",
       "  </tbody>\n",
       "</table>\n",
       "</div>"
      ],
      "text/plain": [
       "  classificacao_acidente  tipo_acidente fase_dia condicao_clima tracado_via  \\\n",
       "1            sem vitimas        colisão    noite     tempo ruim        reta   \n",
       "2            sem vitimas  atropelamento    noite      tempo bom        reta   \n",
       "3            sem vitimas        colisão    noite      tempo bom  cruzamento   \n",
       "4    com vitimas feridas        colisão    noite        nublado        reta   \n",
       "5            sem vitimas        colisão    noite        nublado        reta   \n",
       "\n",
       "   porte_veiculo  \n",
       "1  pequeno porte  \n",
       "2  pequeno porte  \n",
       "3  pequeno porte  \n",
       "4  pequeno porte  \n",
       "5  pequeno porte  "
      ]
     },
     "execution_count": 10,
     "metadata": {},
     "output_type": "execute_result"
    }
   ],
   "source": [
    "cols = [\n",
    "        'classificacao_acidente',\n",
    "        'tipo_acidente', \n",
    "        'fase_dia',\n",
    "        'condicao_clima', \n",
    "        'tracado_via',\n",
    "        'porte_veiculo'\n",
    "        ]\n",
    "data = df[cols]\n",
    "data.head()"
   ]
  },
  {
   "cell_type": "markdown",
   "metadata": {
    "id": "xNuRewhZKNq3"
   },
   "source": [
    "### Agrupamento"
   ]
  },
  {
   "cell_type": "markdown",
   "metadata": {
    "id": "oP7FOF80G6qs"
   },
   "source": [
    "#### 1º cluster: Sem vítimas"
   ]
  },
  {
   "cell_type": "code",
   "execution_count": 11,
   "metadata": {
    "ExecuteTime": {
     "end_time": "2021-12-28T10:33:54.439892Z",
     "start_time": "2021-12-28T10:33:53.869837Z"
    },
    "colab": {
     "base_uri": "https://localhost:8080/"
    },
    "id": "t_3ACGNXFhDL",
    "outputId": "78131c71-603d-4d49-becf-873cacee6894"
   },
   "outputs": [
    {
     "name": "stdout",
     "output_type": "stream",
     "text": [
      "Linhas: 968151 | Coluna:  5\n"
     ]
    }
   ],
   "source": [
    "sem_vitimas = data.query('classificacao_acidente==\"sem vitimas\"')\n",
    "sem_vitimas.drop(['classificacao_acidente'], axis=1, inplace=True)\n",
    "print(f'Linhas: {sem_vitimas.shape[0]} | Coluna:  {sem_vitimas.shape[1]}')"
   ]
  },
  {
   "cell_type": "markdown",
   "metadata": {
    "id": "QtN1-_BHG99f"
   },
   "source": [
    "#### 2º cluster: Vítimas feridas\n",
    "\n"
   ]
  },
  {
   "cell_type": "code",
   "execution_count": 12,
   "metadata": {
    "ExecuteTime": {
     "end_time": "2021-12-28T10:33:54.708605Z",
     "start_time": "2021-12-28T10:33:54.449835Z"
    },
    "colab": {
     "base_uri": "https://localhost:8080/"
    },
    "id": "MlJ8Xv-DGYf-",
    "outputId": "33b2cd0b-55b3-4430-9e14-042a1d5807c5"
   },
   "outputs": [
    {
     "name": "stdout",
     "output_type": "stream",
     "text": [
      "Linhas: 797703 | Coluna:  5\n"
     ]
    }
   ],
   "source": [
    "vitimas_feridas = data.query('classificacao_acidente==\"com vitimas feridas\"')\n",
    "vitimas_feridas.drop(['classificacao_acidente'], axis=1, inplace=True)\n",
    "print(f'Linhas: {vitimas_feridas.shape[0]} | Coluna:  {vitimas_feridas.shape[1]}')"
   ]
  },
  {
   "cell_type": "markdown",
   "metadata": {
    "id": "enlW9-qKHAIp"
   },
   "source": [
    "#### 3º cluster: Vítimas fatais"
   ]
  },
  {
   "cell_type": "code",
   "execution_count": 13,
   "metadata": {
    "ExecuteTime": {
     "end_time": "2021-12-28T10:33:54.791279Z",
     "start_time": "2021-12-28T10:33:54.711719Z"
    },
    "colab": {
     "base_uri": "https://localhost:8080/"
    },
    "id": "VsRW2tzUF2OW",
    "outputId": "607c7107-baaf-4060-f69e-8616d33f30e2"
   },
   "outputs": [
    {
     "name": "stdout",
     "output_type": "stream",
     "text": [
      "Linhas: 78625 | Coluna:  5\n"
     ]
    }
   ],
   "source": [
    "vitimas_fatais = data.query('classificacao_acidente==\"com vitimas fatais\"')\n",
    "vitimas_fatais.drop(['classificacao_acidente'], axis=1, inplace=True)\n",
    "print(f'Linhas: {vitimas_fatais.shape[0]} | Coluna:  {vitimas_fatais.shape[1]}')"
   ]
  },
  {
   "cell_type": "markdown",
   "metadata": {},
   "source": [
    "## Mineração das regras"
   ]
  },
  {
   "cell_type": "markdown",
   "metadata": {
    "id": "T1YYGHdClZ38"
   },
   "source": [
    "#### Enconder da base"
   ]
  },
  {
   "cell_type": "code",
   "execution_count": 14,
   "metadata": {
    "ExecuteTime": {
     "end_time": "2021-12-28T10:33:54.800734Z",
     "start_time": "2021-12-28T10:33:54.794711Z"
    },
    "id": "CgaH3OV8QtVj"
   },
   "outputs": [],
   "source": [
    "def transactionEncoderData(dados:np.ndarray) -> pd.DataFrame:\n",
    "    transEncoder = TransactionEncoder()\n",
    "    a_data = transEncoder.fit(dados).transform(dados)\n",
    "    dados = pd.DataFrame(a_data, columns=transEncoder.columns_)\n",
    "    return dados*1"
   ]
  },
  {
   "cell_type": "markdown",
   "metadata": {
    "id": "1FpVb2CL2kWB"
   },
   "source": [
    "#### Itens frequentes\n",
    "> <p style='text-align: justify;'><font size=2.85>Fpgrowth foi escolhido por ser mais eficiente</font></p>"
   ]
  },
  {
   "cell_type": "code",
   "execution_count": 15,
   "metadata": {
    "ExecuteTime": {
     "end_time": "2021-12-28T10:33:54.844787Z",
     "start_time": "2021-12-28T10:33:54.803790Z"
    },
    "id": "4evChwtQ2qjG"
   },
   "outputs": [],
   "source": [
    "def getFrequentItemsets(encoderData:pd.DataFrame, minsup:float=0.3, useColnames:bool=True) -> pd.DataFrame:\n",
    "    return fpgrowth(encoderData, min_support=minsup, use_colnames=useColnames)"
   ]
  },
  {
   "cell_type": "markdown",
   "metadata": {
    "id": "BsOyG43pHRRm"
   },
   "source": [
    "#### Regras"
   ]
  },
  {
   "cell_type": "code",
   "execution_count": 16,
   "metadata": {
    "ExecuteTime": {
     "end_time": "2021-12-28T10:33:54.852900Z",
     "start_time": "2021-12-28T10:33:54.847950Z"
    },
    "id": "o-KPHCjY2y3P"
   },
   "outputs": [],
   "source": [
    "def getAssociationRules(itemsets:pd.DataFrame, metric:str='lift', minThreshold:int=1) -> pd.DataFrame:\n",
    "    return association_rules(itemsets, metric=metric, min_threshold=minThreshold)"
   ]
  },
  {
   "cell_type": "markdown",
   "metadata": {
    "id": "t_XpQYLHHFPz"
   },
   "source": [
    "### Acidentes sem vítimas"
   ]
  },
  {
   "cell_type": "code",
   "execution_count": 17,
   "metadata": {
    "ExecuteTime": {
     "end_time": "2021-12-28T10:34:18.384791Z",
     "start_time": "2021-12-28T10:33:54.855859Z"
    },
    "colab": {
     "base_uri": "https://localhost:8080/",
     "height": 1000
    },
    "id": "tudotWwZS1aO",
    "outputId": "fbe2ad58-d9ed-479a-ad87-1a63aa63dc04"
   },
   "outputs": [
    {
     "data": {
      "text/html": [
       "<div>\n",
       "<style scoped>\n",
       "    .dataframe tbody tr th:only-of-type {\n",
       "        vertical-align: middle;\n",
       "    }\n",
       "\n",
       "    .dataframe tbody tr th {\n",
       "        vertical-align: top;\n",
       "    }\n",
       "\n",
       "    .dataframe thead th {\n",
       "        text-align: right;\n",
       "    }\n",
       "</style>\n",
       "<table border=\"1\" class=\"dataframe\">\n",
       "  <thead>\n",
       "    <tr style=\"text-align: right;\">\n",
       "      <th></th>\n",
       "      <th>antecedents</th>\n",
       "      <th>consequents</th>\n",
       "      <th>confidence</th>\n",
       "      <th>lift</th>\n",
       "      <th>leverage</th>\n",
       "      <th>conviction</th>\n",
       "    </tr>\n",
       "  </thead>\n",
       "  <tbody>\n",
       "    <tr>\n",
       "      <th>0</th>\n",
       "      <td>(dia, reta)</td>\n",
       "      <td>(colisão)</td>\n",
       "      <td>0.798857</td>\n",
       "      <td>1.122588</td>\n",
       "      <td>0.040903</td>\n",
       "      <td>1.433702</td>\n",
       "    </tr>\n",
       "    <tr>\n",
       "      <th>1</th>\n",
       "      <td>(dia, tempo bom)</td>\n",
       "      <td>(colisão)</td>\n",
       "      <td>0.797706</td>\n",
       "      <td>1.120971</td>\n",
       "      <td>0.036762</td>\n",
       "      <td>1.425544</td>\n",
       "    </tr>\n",
       "    <tr>\n",
       "      <th>2</th>\n",
       "      <td>(pequeno porte, tempo bom)</td>\n",
       "      <td>(colisão)</td>\n",
       "      <td>0.791467</td>\n",
       "      <td>1.112204</td>\n",
       "      <td>0.031334</td>\n",
       "      <td>1.382896</td>\n",
       "    </tr>\n",
       "    <tr>\n",
       "      <th>3</th>\n",
       "      <td>(colisão, tempo bom)</td>\n",
       "      <td>(dia)</td>\n",
       "      <td>0.737754</td>\n",
       "      <td>1.108844</td>\n",
       "      <td>0.033439</td>\n",
       "      <td>1.276146</td>\n",
       "    </tr>\n",
       "    <tr>\n",
       "      <th>4</th>\n",
       "      <td>(colisão, tempo bom)</td>\n",
       "      <td>(reta)</td>\n",
       "      <td>0.785558</td>\n",
       "      <td>1.106479</td>\n",
       "      <td>0.034906</td>\n",
       "      <td>1.352525</td>\n",
       "    </tr>\n",
       "    <tr>\n",
       "      <th>5</th>\n",
       "      <td>(reta, tempo bom)</td>\n",
       "      <td>(colisão)</td>\n",
       "      <td>0.785705</td>\n",
       "      <td>1.104108</td>\n",
       "      <td>0.034202</td>\n",
       "      <td>1.345716</td>\n",
       "    </tr>\n",
       "    <tr>\n",
       "      <th>6</th>\n",
       "      <td>(reta, pequeno porte)</td>\n",
       "      <td>(colisão)</td>\n",
       "      <td>0.781354</td>\n",
       "      <td>1.097993</td>\n",
       "      <td>0.032525</td>\n",
       "      <td>1.318935</td>\n",
       "    </tr>\n",
       "    <tr>\n",
       "      <th>7</th>\n",
       "      <td>(pequeno porte, tempo bom)</td>\n",
       "      <td>(reta)</td>\n",
       "      <td>0.769513</td>\n",
       "      <td>1.083880</td>\n",
       "      <td>0.023370</td>\n",
       "      <td>1.258371</td>\n",
       "    </tr>\n",
       "    <tr>\n",
       "      <th>8</th>\n",
       "      <td>(tempo bom)</td>\n",
       "      <td>(reta)</td>\n",
       "      <td>0.760412</td>\n",
       "      <td>1.071061</td>\n",
       "      <td>0.030629</td>\n",
       "      <td>1.210572</td>\n",
       "    </tr>\n",
       "    <tr>\n",
       "      <th>9</th>\n",
       "      <td>(dia, tempo bom)</td>\n",
       "      <td>(reta)</td>\n",
       "      <td>0.759582</td>\n",
       "      <td>1.069891</td>\n",
       "      <td>0.021190</td>\n",
       "      <td>1.206391</td>\n",
       "    </tr>\n",
       "    <tr>\n",
       "      <th>10</th>\n",
       "      <td>(tempo bom)</td>\n",
       "      <td>(colisão)</td>\n",
       "      <td>0.760555</td>\n",
       "      <td>1.068765</td>\n",
       "      <td>0.029709</td>\n",
       "      <td>1.204367</td>\n",
       "    </tr>\n",
       "    <tr>\n",
       "      <th>11</th>\n",
       "      <td>(reta)</td>\n",
       "      <td>(colisão)</td>\n",
       "      <td>0.760012</td>\n",
       "      <td>1.068001</td>\n",
       "      <td>0.034356</td>\n",
       "      <td>1.201640</td>\n",
       "    </tr>\n",
       "    <tr>\n",
       "      <th>12</th>\n",
       "      <td>(colisão)</td>\n",
       "      <td>(reta)</td>\n",
       "      <td>0.758240</td>\n",
       "      <td>1.068001</td>\n",
       "      <td>0.034356</td>\n",
       "      <td>1.199696</td>\n",
       "    </tr>\n",
       "    <tr>\n",
       "      <th>13</th>\n",
       "      <td>(dia, colisão)</td>\n",
       "      <td>(reta)</td>\n",
       "      <td>0.757710</td>\n",
       "      <td>1.067254</td>\n",
       "      <td>0.023604</td>\n",
       "      <td>1.197069</td>\n",
       "    </tr>\n",
       "    <tr>\n",
       "      <th>14</th>\n",
       "      <td>(dia, pequeno porte)</td>\n",
       "      <td>(colisão)</td>\n",
       "      <td>0.758031</td>\n",
       "      <td>1.065218</td>\n",
       "      <td>0.020507</td>\n",
       "      <td>1.191803</td>\n",
       "    </tr>\n",
       "    <tr>\n",
       "      <th>15</th>\n",
       "      <td>(colisão, pequeno porte)</td>\n",
       "      <td>(reta)</td>\n",
       "      <td>0.751971</td>\n",
       "      <td>1.059171</td>\n",
       "      <td>0.020360</td>\n",
       "      <td>1.169372</td>\n",
       "    </tr>\n",
       "    <tr>\n",
       "      <th>16</th>\n",
       "      <td>(tempo bom)</td>\n",
       "      <td>(dia)</td>\n",
       "      <td>0.703396</td>\n",
       "      <td>1.057203</td>\n",
       "      <td>0.023107</td>\n",
       "      <td>1.128318</td>\n",
       "    </tr>\n",
       "    <tr>\n",
       "      <th>17</th>\n",
       "      <td>(reta, tempo bom)</td>\n",
       "      <td>(dia)</td>\n",
       "      <td>0.702628</td>\n",
       "      <td>1.056049</td>\n",
       "      <td>0.017216</td>\n",
       "      <td>1.125403</td>\n",
       "    </tr>\n",
       "    <tr>\n",
       "      <th>18</th>\n",
       "      <td>(dia)</td>\n",
       "      <td>(colisão)</td>\n",
       "      <td>0.742985</td>\n",
       "      <td>1.044075</td>\n",
       "      <td>0.020868</td>\n",
       "      <td>1.122035</td>\n",
       "    </tr>\n",
       "    <tr>\n",
       "      <th>19</th>\n",
       "      <td>(pequeno porte)</td>\n",
       "      <td>(colisão)</td>\n",
       "      <td>0.731682</td>\n",
       "      <td>1.028192</td>\n",
       "      <td>0.013288</td>\n",
       "      <td>1.074769</td>\n",
       "    </tr>\n",
       "  </tbody>\n",
       "</table>\n",
       "</div>"
      ],
      "text/plain": [
       "                   antecedents consequents  confidence      lift  leverage  \\\n",
       "0                  (dia, reta)   (colisão)    0.798857  1.122588  0.040903   \n",
       "1             (dia, tempo bom)   (colisão)    0.797706  1.120971  0.036762   \n",
       "2   (pequeno porte, tempo bom)   (colisão)    0.791467  1.112204  0.031334   \n",
       "3         (colisão, tempo bom)       (dia)    0.737754  1.108844  0.033439   \n",
       "4         (colisão, tempo bom)      (reta)    0.785558  1.106479  0.034906   \n",
       "5            (reta, tempo bom)   (colisão)    0.785705  1.104108  0.034202   \n",
       "6        (reta, pequeno porte)   (colisão)    0.781354  1.097993  0.032525   \n",
       "7   (pequeno porte, tempo bom)      (reta)    0.769513  1.083880  0.023370   \n",
       "8                  (tempo bom)      (reta)    0.760412  1.071061  0.030629   \n",
       "9             (dia, tempo bom)      (reta)    0.759582  1.069891  0.021190   \n",
       "10                 (tempo bom)   (colisão)    0.760555  1.068765  0.029709   \n",
       "11                      (reta)   (colisão)    0.760012  1.068001  0.034356   \n",
       "12                   (colisão)      (reta)    0.758240  1.068001  0.034356   \n",
       "13              (dia, colisão)      (reta)    0.757710  1.067254  0.023604   \n",
       "14        (dia, pequeno porte)   (colisão)    0.758031  1.065218  0.020507   \n",
       "15    (colisão, pequeno porte)      (reta)    0.751971  1.059171  0.020360   \n",
       "16                 (tempo bom)       (dia)    0.703396  1.057203  0.023107   \n",
       "17           (reta, tempo bom)       (dia)    0.702628  1.056049  0.017216   \n",
       "18                       (dia)   (colisão)    0.742985  1.044075  0.020868   \n",
       "19             (pequeno porte)   (colisão)    0.731682  1.028192  0.013288   \n",
       "\n",
       "    conviction  \n",
       "0     1.433702  \n",
       "1     1.425544  \n",
       "2     1.382896  \n",
       "3     1.276146  \n",
       "4     1.352525  \n",
       "5     1.345716  \n",
       "6     1.318935  \n",
       "7     1.258371  \n",
       "8     1.210572  \n",
       "9     1.206391  \n",
       "10    1.204367  \n",
       "11    1.201640  \n",
       "12    1.199696  \n",
       "13    1.197069  \n",
       "14    1.191803  \n",
       "15    1.169372  \n",
       "16    1.128318  \n",
       "17    1.125403  \n",
       "18    1.122035  \n",
       "19    1.074769  "
      ]
     },
     "execution_count": 17,
     "metadata": {},
     "output_type": "execute_result"
    }
   ],
   "source": [
    "sem_vitimas = transactionEncoderData(sem_vitimas.values)\n",
    "frequent_itemsets = getFrequentItemsets(sem_vitimas)\n",
    "rules_sem_vitimas = getAssociationRules(frequent_itemsets)\n",
    "rules_sem_vitimas = rules_sem_vitimas.sort_values(by='lift', ascending=False)\n",
    "rules_sem_vitimas[['antecedents', 'consequents', 'confidence', 'lift', 'leverage', 'conviction']].query('confidence>=0.70').reset_index(drop=True)"
   ]
  },
  {
   "cell_type": "markdown",
   "metadata": {
    "id": "S9Wu4VLaUbTT"
   },
   "source": [
    "> <p style='text-align: justify;'><font size=2.85>Nos resultados da análise das regras para acidentes sem vítimas, tivemos duas regras com o maior valor de Lift de 1.12 e elas mostram que há, principalmente, colisões que ocorrem durante o dia e com o tempo bom em pistas com traçado reto. Avaliando as demais regras, temos que a maioria dos acidentes envolvem veículos de pequeno porte sendo o tipo de acidente mais comum as colisões.</font></p>"
   ]
  },
  {
   "cell_type": "markdown",
   "metadata": {
    "id": "fMRXKf_nTgyD"
   },
   "source": [
    "### Acidentes com vítimas feridas"
   ]
  },
  {
   "cell_type": "code",
   "execution_count": 18,
   "metadata": {
    "ExecuteTime": {
     "end_time": "2021-12-28T10:34:37.795172Z",
     "start_time": "2021-12-28T10:34:18.387727Z"
    },
    "colab": {
     "base_uri": "https://localhost:8080/",
     "height": 1000
    },
    "id": "zX8vTtdaTg7l",
    "outputId": "9a5d7270-c781-4def-d9b0-02cfb182e79a"
   },
   "outputs": [
    {
     "data": {
      "text/html": [
       "<div>\n",
       "<style scoped>\n",
       "    .dataframe tbody tr th:only-of-type {\n",
       "        vertical-align: middle;\n",
       "    }\n",
       "\n",
       "    .dataframe tbody tr th {\n",
       "        vertical-align: top;\n",
       "    }\n",
       "\n",
       "    .dataframe thead th {\n",
       "        text-align: right;\n",
       "    }\n",
       "</style>\n",
       "<table border=\"1\" class=\"dataframe\">\n",
       "  <thead>\n",
       "    <tr style=\"text-align: right;\">\n",
       "      <th></th>\n",
       "      <th>antecedents</th>\n",
       "      <th>consequents</th>\n",
       "      <th>confidence</th>\n",
       "      <th>lift</th>\n",
       "      <th>leverage</th>\n",
       "      <th>conviction</th>\n",
       "    </tr>\n",
       "  </thead>\n",
       "  <tbody>\n",
       "    <tr>\n",
       "      <th>0</th>\n",
       "      <td>(colisão)</td>\n",
       "      <td>(reta)</td>\n",
       "      <td>0.719559</td>\n",
       "      <td>1.058877</td>\n",
       "      <td>0.023274</td>\n",
       "      <td>1.142668</td>\n",
       "    </tr>\n",
       "    <tr>\n",
       "      <th>1</th>\n",
       "      <td>(reta)</td>\n",
       "      <td>(colisão)</td>\n",
       "      <td>0.615961</td>\n",
       "      <td>1.058877</td>\n",
       "      <td>0.023274</td>\n",
       "      <td>1.089183</td>\n",
       "    </tr>\n",
       "    <tr>\n",
       "      <th>2</th>\n",
       "      <td>(reta)</td>\n",
       "      <td>(tempo bom)</td>\n",
       "      <td>0.687916</td>\n",
       "      <td>1.050160</td>\n",
       "      <td>0.022328</td>\n",
       "      <td>1.105284</td>\n",
       "    </tr>\n",
       "    <tr>\n",
       "      <th>3</th>\n",
       "      <td>(tempo bom)</td>\n",
       "      <td>(reta)</td>\n",
       "      <td>0.713635</td>\n",
       "      <td>1.050160</td>\n",
       "      <td>0.022328</td>\n",
       "      <td>1.119029</td>\n",
       "    </tr>\n",
       "    <tr>\n",
       "      <th>4</th>\n",
       "      <td>(dia)</td>\n",
       "      <td>(tempo bom)</td>\n",
       "      <td>0.686486</td>\n",
       "      <td>1.047977</td>\n",
       "      <td>0.019321</td>\n",
       "      <td>1.100243</td>\n",
       "    </tr>\n",
       "    <tr>\n",
       "      <th>5</th>\n",
       "      <td>(tempo bom)</td>\n",
       "      <td>(dia)</td>\n",
       "      <td>0.644279</td>\n",
       "      <td>1.047977</td>\n",
       "      <td>0.019321</td>\n",
       "      <td>1.082917</td>\n",
       "    </tr>\n",
       "    <tr>\n",
       "      <th>6</th>\n",
       "      <td>(colisão)</td>\n",
       "      <td>(tempo bom)</td>\n",
       "      <td>0.682275</td>\n",
       "      <td>1.041548</td>\n",
       "      <td>0.015832</td>\n",
       "      <td>1.085660</td>\n",
       "    </tr>\n",
       "    <tr>\n",
       "      <th>7</th>\n",
       "      <td>(tempo bom)</td>\n",
       "      <td>(colisão)</td>\n",
       "      <td>0.605880</td>\n",
       "      <td>1.041548</td>\n",
       "      <td>0.015832</td>\n",
       "      <td>1.061324</td>\n",
       "    </tr>\n",
       "    <tr>\n",
       "      <th>8</th>\n",
       "      <td>(colisão)</td>\n",
       "      <td>(dia)</td>\n",
       "      <td>0.626630</td>\n",
       "      <td>1.019269</td>\n",
       "      <td>0.006891</td>\n",
       "      <td>1.031727</td>\n",
       "    </tr>\n",
       "    <tr>\n",
       "      <th>9</th>\n",
       "      <td>(pequeno porte)</td>\n",
       "      <td>(dia)</td>\n",
       "      <td>0.615903</td>\n",
       "      <td>1.001820</td>\n",
       "      <td>0.000560</td>\n",
       "      <td>1.002913</td>\n",
       "    </tr>\n",
       "  </tbody>\n",
       "</table>\n",
       "</div>"
      ],
      "text/plain": [
       "       antecedents  consequents  confidence      lift  leverage  conviction\n",
       "0        (colisão)       (reta)    0.719559  1.058877  0.023274    1.142668\n",
       "1           (reta)    (colisão)    0.615961  1.058877  0.023274    1.089183\n",
       "2           (reta)  (tempo bom)    0.687916  1.050160  0.022328    1.105284\n",
       "3      (tempo bom)       (reta)    0.713635  1.050160  0.022328    1.119029\n",
       "4            (dia)  (tempo bom)    0.686486  1.047977  0.019321    1.100243\n",
       "5      (tempo bom)        (dia)    0.644279  1.047977  0.019321    1.082917\n",
       "6        (colisão)  (tempo bom)    0.682275  1.041548  0.015832    1.085660\n",
       "7      (tempo bom)    (colisão)    0.605880  1.041548  0.015832    1.061324\n",
       "8        (colisão)        (dia)    0.626630  1.019269  0.006891    1.031727\n",
       "9  (pequeno porte)        (dia)    0.615903  1.001820  0.000560    1.002913"
      ]
     },
     "execution_count": 18,
     "metadata": {},
     "output_type": "execute_result"
    }
   ],
   "source": [
    "vitimas_feridas = transactionEncoderData(vitimas_feridas.values)\n",
    "frequent_itemsets = getFrequentItemsets(vitimas_feridas)\n",
    "rules_vitimas_feridas = getAssociationRules(frequent_itemsets)\n",
    "rules_vitimas_feridas = rules_vitimas_feridas.sort_values(by='lift', ascending=False)\n",
    "rules_vitimas_feridas[['antecedents', 'consequents', 'confidence', 'lift', 'leverage', 'conviction']].query('confidence>=0.60').reset_index(drop=True)"
   ]
  },
  {
   "cell_type": "markdown",
   "metadata": {
    "id": "_R47pdI5b4Kl"
   },
   "source": [
    "> <p style='text-align: justify;'><font size=2.85>Para o cluster de vítimas feridas, temos a principal regra com um lift de 1.06 indicando que quando ocorrem colisões em pistas retas é provável que os envolvidos sofram algum tipo de ferimento. Também temos nesse grupo que os acidentes que causam ferimentos ocorrem em condições de tempo bom, durante o período do dia e também envolvem veículos de pequeno porte.</font></p>"
   ]
  },
  {
   "cell_type": "markdown",
   "metadata": {
    "id": "Y4Zu5TUaThG3"
   },
   "source": [
    "### Acidentes com vítimas fatais"
   ]
  },
  {
   "cell_type": "code",
   "execution_count": 19,
   "metadata": {
    "ExecuteTime": {
     "end_time": "2021-12-28T10:34:39.821690Z",
     "start_time": "2021-12-28T10:34:37.799545Z"
    },
    "colab": {
     "base_uri": "https://localhost:8080/",
     "height": 514
    },
    "id": "YHMVetl6ThQh",
    "outputId": "c8b60217-c184-4167-fec3-9ecb0419215a"
   },
   "outputs": [
    {
     "data": {
      "text/html": [
       "<div>\n",
       "<style scoped>\n",
       "    .dataframe tbody tr th:only-of-type {\n",
       "        vertical-align: middle;\n",
       "    }\n",
       "\n",
       "    .dataframe tbody tr th {\n",
       "        vertical-align: top;\n",
       "    }\n",
       "\n",
       "    .dataframe thead th {\n",
       "        text-align: right;\n",
       "    }\n",
       "</style>\n",
       "<table border=\"1\" class=\"dataframe\">\n",
       "  <thead>\n",
       "    <tr style=\"text-align: right;\">\n",
       "      <th></th>\n",
       "      <th>antecedents</th>\n",
       "      <th>consequents</th>\n",
       "      <th>confidence</th>\n",
       "      <th>lift</th>\n",
       "      <th>leverage</th>\n",
       "      <th>conviction</th>\n",
       "    </tr>\n",
       "  </thead>\n",
       "  <tbody>\n",
       "    <tr>\n",
       "      <th>0</th>\n",
       "      <td>(noite)</td>\n",
       "      <td>(reta)</td>\n",
       "      <td>0.735494</td>\n",
       "      <td>1.054720</td>\n",
       "      <td>0.019965</td>\n",
       "      <td>1.144262</td>\n",
       "    </tr>\n",
       "    <tr>\n",
       "      <th>1</th>\n",
       "      <td>(dia)</td>\n",
       "      <td>(colisão)</td>\n",
       "      <td>0.641352</td>\n",
       "      <td>1.052148</td>\n",
       "      <td>0.015156</td>\n",
       "      <td>1.088631</td>\n",
       "    </tr>\n",
       "    <tr>\n",
       "      <th>2</th>\n",
       "      <td>(dia)</td>\n",
       "      <td>(tempo bom)</td>\n",
       "      <td>0.696116</td>\n",
       "      <td>1.044407</td>\n",
       "      <td>0.014112</td>\n",
       "      <td>1.097398</td>\n",
       "    </tr>\n",
       "    <tr>\n",
       "      <th>3</th>\n",
       "      <td>(reta)</td>\n",
       "      <td>(tempo bom)</td>\n",
       "      <td>0.692548</td>\n",
       "      <td>1.039053</td>\n",
       "      <td>0.018151</td>\n",
       "      <td>1.084661</td>\n",
       "    </tr>\n",
       "    <tr>\n",
       "      <th>4</th>\n",
       "      <td>(tempo bom)</td>\n",
       "      <td>(reta)</td>\n",
       "      <td>0.724568</td>\n",
       "      <td>1.039053</td>\n",
       "      <td>0.018151</td>\n",
       "      <td>1.098873</td>\n",
       "    </tr>\n",
       "    <tr>\n",
       "      <th>5</th>\n",
       "      <td>(pequeno porte)</td>\n",
       "      <td>(reta)</td>\n",
       "      <td>0.710476</td>\n",
       "      <td>1.018843</td>\n",
       "      <td>0.005890</td>\n",
       "      <td>1.045385</td>\n",
       "    </tr>\n",
       "    <tr>\n",
       "      <th>6</th>\n",
       "      <td>(colisão)</td>\n",
       "      <td>(reta)</td>\n",
       "      <td>0.706637</td>\n",
       "      <td>1.013339</td>\n",
       "      <td>0.005670</td>\n",
       "      <td>1.031707</td>\n",
       "    </tr>\n",
       "    <tr>\n",
       "      <th>7</th>\n",
       "      <td>(reta)</td>\n",
       "      <td>(colisão)</td>\n",
       "      <td>0.617695</td>\n",
       "      <td>1.013339</td>\n",
       "      <td>0.005670</td>\n",
       "      <td>1.021268</td>\n",
       "    </tr>\n",
       "  </tbody>\n",
       "</table>\n",
       "</div>"
      ],
      "text/plain": [
       "       antecedents  consequents  confidence      lift  leverage  conviction\n",
       "0          (noite)       (reta)    0.735494  1.054720  0.019965    1.144262\n",
       "1            (dia)    (colisão)    0.641352  1.052148  0.015156    1.088631\n",
       "2            (dia)  (tempo bom)    0.696116  1.044407  0.014112    1.097398\n",
       "3           (reta)  (tempo bom)    0.692548  1.039053  0.018151    1.084661\n",
       "4      (tempo bom)       (reta)    0.724568  1.039053  0.018151    1.098873\n",
       "5  (pequeno porte)       (reta)    0.710476  1.018843  0.005890    1.045385\n",
       "6        (colisão)       (reta)    0.706637  1.013339  0.005670    1.031707\n",
       "7           (reta)    (colisão)    0.617695  1.013339  0.005670    1.021268"
      ]
     },
     "execution_count": 19,
     "metadata": {},
     "output_type": "execute_result"
    }
   ],
   "source": [
    "vitimas_fatais = transactionEncoderData(vitimas_fatais.values)\n",
    "frequent_itemsets = getFrequentItemsets(vitimas_fatais)\n",
    "rules_vitimas_fatais = getAssociationRules(frequent_itemsets)\n",
    "rules_vitimas_fatais = rules_vitimas_fatais.sort_values(by='lift', ascending=False)\n",
    "rules_vitimas_fatais[['antecedents', 'consequents', 'confidence', 'lift', 'leverage', 'conviction']].query('confidence>=0.60').reset_index(drop=True)"
   ]
  },
  {
   "cell_type": "markdown",
   "metadata": {
    "id": "kH752yh1cZsZ"
   },
   "source": [
    "> <p style='text-align: justify;'><font size=2.85>Em acidentes com vítimas fatais, a nossa principal regra, com lift de 1.05, nos mostra que nesse cluster os acidentes com mortes ocorrem, principalmente, durante a noite e em pistas com traçado reto. Boa parte também ocorre no período do dia e com um tempo bom. O tipo de acidente mais recorrente são as colisões e essas ocorrências também envolvem veículos de pequeno porte.</font></p>"
   ]
  }
 ],
 "metadata": {
  "colab": {
   "collapsed_sections": [],
   "name": "regra_associação.ipynb",
   "provenance": []
  },
  "file_extension": ".py",
  "hide_input": false,
  "kernelspec": {
   "display_name": "Python 3 (ipykernel)",
   "language": "python",
   "name": "python3"
  },
  "language_info": {
   "codemirror_mode": {
    "name": "ipython",
    "version": 3
   },
   "file_extension": ".py",
   "mimetype": "text/x-python",
   "name": "python",
   "nbconvert_exporter": "python",
   "pygments_lexer": "ipython3",
   "version": "3.7.9"
  },
  "mimetype": "text/x-python",
  "name": "python",
  "nbTranslate": {
   "displayLangs": [
    "*"
   ],
   "hotkey": "alt-t",
   "langInMainMenu": true,
   "sourceLang": "en",
   "targetLang": "fr",
   "useGoogleTranslate": true
  },
  "npconvert_exporter": "python",
  "pygments_lexer": "ipython3",
  "toc": {
   "base_numbering": 1,
   "nav_menu": {},
   "number_sections": true,
   "sideBar": true,
   "skip_h1_title": false,
   "title_cell": "Table of Contents",
   "title_sidebar": "Contents",
   "toc_cell": false,
   "toc_position": {},
   "toc_section_display": true,
   "toc_window_display": false
  },
  "varInspector": {
   "cols": {
    "lenName": 16,
    "lenType": 16,
    "lenVar": 40
   },
   "kernels_config": {
    "python": {
     "delete_cmd_postfix": "",
     "delete_cmd_prefix": "del ",
     "library": "var_list.py",
     "varRefreshCmd": "print(var_dic_list())"
    },
    "r": {
     "delete_cmd_postfix": ") ",
     "delete_cmd_prefix": "rm(",
     "library": "var_list.r",
     "varRefreshCmd": "cat(var_dic_list()) "
    }
   },
   "types_to_exclude": [
    "module",
    "function",
    "builtin_function_or_method",
    "instance",
    "_Feature"
   ],
   "window_display": false
  },
  "version": 3
 },
 "nbformat": 4,
 "nbformat_minor": 1
}
