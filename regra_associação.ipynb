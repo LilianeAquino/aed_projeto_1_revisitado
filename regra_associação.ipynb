{
 "cells": [
  {
   "cell_type": "markdown",
   "metadata": {
    "id": "CEtG6c4koygW"
   },
   "source": [
    "# Mineração de padrões frequentes"
   ]
  },
  {
   "cell_type": "markdown",
   "metadata": {},
   "source": [
    "> Esse projeto usa a versão 0.17.0 do mlxtend"
   ]
  },
  {
   "cell_type": "code",
   "execution_count": 22,
   "metadata": {
    "colab": {
     "base_uri": "https://localhost:8080/"
    },
    "id": "nK7r-txzOlHu",
    "outputId": "10a15a3c-1f7f-4692-d07a-2ec157040d98"
   },
   "outputs": [
    {
     "name": "stdout",
     "output_type": "stream",
     "text": [
      "0.17.0\n"
     ]
    }
   ],
   "source": [
    "import mlxtend\n",
    "print(mlxtend.__version__)"
   ]
  },
  {
   "cell_type": "markdown",
   "metadata": {
    "id": "IGJiaCUD1ncA"
   },
   "source": [
    "### Bibliotecas básicas e outros imports"
   ]
  },
  {
   "cell_type": "code",
   "execution_count": 23,
   "metadata": {
    "ExecuteTime": {
     "end_time": "2021-11-26T09:51:52.818407Z",
     "start_time": "2021-11-26T09:51:50.872942Z"
    },
    "id": "4bG6r2Bwoyge"
   },
   "outputs": [],
   "source": [
    "import warnings\n",
    "import numpy as np\n",
    "import pandas as pd\n",
    "from mlxtend.preprocessing import TransactionEncoder\n",
    "from mlxtend.frequent_patterns import association_rules\n",
    "from mlxtend.frequent_patterns import fpgrowth\n",
    "\n",
    "warnings.filterwarnings('ignore')\n",
    "pd.set_option('display.max_rows', 1000)\n",
    "pd.set_option('display.max_columns', 200)\n",
    "np.set_printoptions(suppress=True, precision=3)"
   ]
  },
  {
   "cell_type": "markdown",
   "metadata": {
    "id": "rjtF8niV1ncF"
   },
   "source": [
    "### Carregamento dos dados"
   ]
  },
  {
   "cell_type": "code",
   "execution_count": 24,
   "metadata": {
    "ExecuteTime": {
     "end_time": "2021-11-26T09:52:05.795368Z",
     "start_time": "2021-11-26T09:51:52.821968Z"
    },
    "colab": {
     "base_uri": "https://localhost:8080/",
     "height": 134
    },
    "id": "H8Xxqiwcoygh",
    "outputId": "ee00842a-951b-4791-93e2-637aab5a0ef5"
   },
   "outputs": [
    {
     "name": "stdout",
     "output_type": "stream",
     "text": [
      "Linhas: 1898820 | Coluna:  25\n"
     ]
    },
    {
     "data": {
      "text/html": [
       "<div>\n",
       "<style scoped>\n",
       "    .dataframe tbody tr th:only-of-type {\n",
       "        vertical-align: middle;\n",
       "    }\n",
       "\n",
       "    .dataframe tbody tr th {\n",
       "        vertical-align: top;\n",
       "    }\n",
       "\n",
       "    .dataframe thead th {\n",
       "        text-align: right;\n",
       "    }\n",
       "</style>\n",
       "<table border=\"1\" class=\"dataframe\">\n",
       "  <thead>\n",
       "    <tr style=\"text-align: right;\">\n",
       "      <th></th>\n",
       "      <th>id</th>\n",
       "      <th>dia_semana</th>\n",
       "      <th>uf</th>\n",
       "      <th>br</th>\n",
       "      <th>km</th>\n",
       "      <th>municipio</th>\n",
       "      <th>causa_acidente</th>\n",
       "      <th>tipo_acidente</th>\n",
       "      <th>classificacao_acidente</th>\n",
       "      <th>fase_dia</th>\n",
       "      <th>sentido_via</th>\n",
       "      <th>condicao_metereologica</th>\n",
       "      <th>tipo_pista</th>\n",
       "      <th>tracado_via</th>\n",
       "      <th>pessoas</th>\n",
       "      <th>mortos</th>\n",
       "      <th>ilesos</th>\n",
       "      <th>ignorados</th>\n",
       "      <th>feridos</th>\n",
       "      <th>veiculos</th>\n",
       "      <th>data</th>\n",
       "      <th>mes</th>\n",
       "      <th>ano</th>\n",
       "      <th>severidade_acidente</th>\n",
       "      <th>estacao</th>\n",
       "    </tr>\n",
       "  </thead>\n",
       "  <tbody>\n",
       "    <tr>\n",
       "      <th>0</th>\n",
       "      <td>1035523.0</td>\n",
       "      <td>domingo</td>\n",
       "      <td>SC</td>\n",
       "      <td>282</td>\n",
       "      <td>513.7</td>\n",
       "      <td>Xaxim</td>\n",
       "      <td>velocidade incompativel</td>\n",
       "      <td>saida de pista</td>\n",
       "      <td>com vitimas feridas</td>\n",
       "      <td>pleno dia</td>\n",
       "      <td>crescente</td>\n",
       "      <td>sol</td>\n",
       "      <td>simples</td>\n",
       "      <td>curva</td>\n",
       "      <td>2</td>\n",
       "      <td>0</td>\n",
       "      <td>1</td>\n",
       "      <td>0</td>\n",
       "      <td>1</td>\n",
       "      <td>1</td>\n",
       "      <td>2012-01-01</td>\n",
       "      <td>Jan</td>\n",
       "      <td>2012</td>\n",
       "      <td>feridos</td>\n",
       "      <td>verão</td>\n",
       "    </tr>\n",
       "  </tbody>\n",
       "</table>\n",
       "</div>"
      ],
      "text/plain": [
       "          id dia_semana  uf   br     km municipio           causa_acidente  \\\n",
       "0  1035523.0    domingo  SC  282  513.7     Xaxim  velocidade incompativel   \n",
       "\n",
       "    tipo_acidente classificacao_acidente   fase_dia sentido_via  \\\n",
       "0  saida de pista    com vitimas feridas  pleno dia   crescente   \n",
       "\n",
       "  condicao_metereologica tipo_pista tracado_via  pessoas  mortos  ilesos  \\\n",
       "0                    sol    simples       curva        2       0       1   \n",
       "\n",
       "   ignorados  feridos veiculos        data  mes   ano severidade_acidente  \\\n",
       "0          0        1        1  2012-01-01  Jan  2012             feridos   \n",
       "\n",
       "  estacao  \n",
       "0   verão  "
      ]
     },
     "execution_count": 24,
     "metadata": {},
     "output_type": "execute_result"
    }
   ],
   "source": [
    "df = pd.read_csv('dataset/preprocess_acidentes_rodovias_brasileiras_2007_a_2021.csv', low_memory=False)\n",
    "df['veiculos'] = df['veiculos'].apply(lambda x : str(x))\n",
    "print(f'Linhas: {df.shape[0]} | Coluna:  {df.shape[1]}')\n",
    "df.head(1)"
   ]
  },
  {
   "cell_type": "markdown",
   "metadata": {},
   "source": [
    "### Seleção de features"
   ]
  },
  {
   "cell_type": "code",
   "execution_count": 25,
   "metadata": {
    "id": "qVu9PyRPXptD"
   },
   "outputs": [],
   "source": [
    "cols = ['classificacao_acidente',\n",
    "        'causa_acidente', \n",
    "        'tipo_acidente', \n",
    "        'fase_dia',\t\n",
    "        'sentido_via', \n",
    "        'condicao_metereologica', \n",
    "        'tipo_pista', \n",
    "        'tracado_via', \n",
    "        'veiculos', \n",
    "        'estacao']\n",
    "\n",
    "data = df[cols]"
   ]
  },
  {
   "cell_type": "markdown",
   "metadata": {
    "id": "xNuRewhZKNq3"
   },
   "source": [
    "### Agrupamento pela classificação do acidente"
   ]
  },
  {
   "cell_type": "markdown",
   "metadata": {
    "id": "oP7FOF80G6qs"
   },
   "source": [
    "#### 1º cluster: Sem vítimas"
   ]
  },
  {
   "cell_type": "code",
   "execution_count": 26,
   "metadata": {
    "colab": {
     "base_uri": "https://localhost:8080/"
    },
    "id": "t_3ACGNXFhDL",
    "outputId": "9880c5fc-1683-477e-a059-834adcfc4c6c"
   },
   "outputs": [
    {
     "name": "stdout",
     "output_type": "stream",
     "text": [
      "Linhas: 984719 | Coluna:  9\n"
     ]
    }
   ],
   "source": [
    "sem_vitimas = data.query('classificacao_acidente==\"sem vitimas\"')\n",
    "sem_vitimas.drop(['classificacao_acidente'], axis=1, inplace=True)\n",
    "print(f'Linhas: {sem_vitimas.shape[0]} | Coluna:  {sem_vitimas.shape[1]}')"
   ]
  },
  {
   "cell_type": "markdown",
   "metadata": {
    "id": "QtN1-_BHG99f"
   },
   "source": [
    "#### 2º cluster: Vítimas feridas"
   ]
  },
  {
   "cell_type": "code",
   "execution_count": 27,
   "metadata": {
    "colab": {
     "base_uri": "https://localhost:8080/"
    },
    "id": "MlJ8Xv-DGYf-",
    "outputId": "b3cd8f19-86b2-4378-9ca6-758442d0b616"
   },
   "outputs": [
    {
     "name": "stdout",
     "output_type": "stream",
     "text": [
      "Linhas: 817393 | Coluna:  9\n"
     ]
    }
   ],
   "source": [
    "vitimas_feridas = data.query('classificacao_acidente==\"com vitimas feridas\"')\n",
    "vitimas_feridas.drop(['classificacao_acidente'], axis=1, inplace=True)\n",
    "print(f'Linhas: {vitimas_feridas.shape[0]} | Coluna:  {vitimas_feridas.shape[1]}')"
   ]
  },
  {
   "cell_type": "markdown",
   "metadata": {
    "id": "enlW9-qKHAIp"
   },
   "source": [
    "#### 3º cluster: Vítimas fatais"
   ]
  },
  {
   "cell_type": "code",
   "execution_count": 28,
   "metadata": {
    "colab": {
     "base_uri": "https://localhost:8080/"
    },
    "id": "VsRW2tzUF2OW",
    "outputId": "21bd6426-cbb0-4a03-921e-3e531f0f42a6"
   },
   "outputs": [
    {
     "name": "stdout",
     "output_type": "stream",
     "text": [
      "Linhas: 85048 | Coluna:  9\n"
     ]
    }
   ],
   "source": [
    "vitimas_fatais = data.query('classificacao_acidente==\"com vitimas fatais\"')\n",
    "vitimas_fatais.drop(['classificacao_acidente'], axis=1, inplace=True)\n",
    "print(f'Linhas: {vitimas_fatais.shape[0]} | Coluna:  {vitimas_fatais.shape[1]}')"
   ]
  },
  {
   "cell_type": "markdown",
   "metadata": {
    "id": "T1YYGHdClZ38"
   },
   "source": [
    "#### Enconder da base"
   ]
  },
  {
   "cell_type": "code",
   "execution_count": 29,
   "metadata": {
    "id": "CgaH3OV8QtVj"
   },
   "outputs": [],
   "source": [
    "def transactionEncoderData(dados:np.ndarray) -> pd.DataFrame:\n",
    "    transEncoder = TransactionEncoder()\n",
    "    a_data = transEncoder.fit(dados).transform(dados)\n",
    "    dados = pd.DataFrame(a_data, columns=transEncoder.columns_)\n",
    "    return dados*1"
   ]
  },
  {
   "cell_type": "markdown",
   "metadata": {
    "id": "1FpVb2CL2kWB"
   },
   "source": [
    "#### Itens frequentes\n",
    "\n",
    "> Fpgrowth foi escolhido por ser mais eficiente"
   ]
  },
  {
   "cell_type": "code",
   "execution_count": 30,
   "metadata": {
    "id": "4evChwtQ2qjG"
   },
   "outputs": [],
   "source": [
    "def getFrequentItemsets(encoderData:pd.DataFrame, minsup:float=0.3, useColnames:bool=True) -> pd.DataFrame:\n",
    "    return fpgrowth(encoderData, min_support=minsup, use_colnames=useColnames)"
   ]
  },
  {
   "cell_type": "markdown",
   "metadata": {
    "id": "BsOyG43pHRRm"
   },
   "source": [
    "#### Regras"
   ]
  },
  {
   "cell_type": "code",
   "execution_count": 31,
   "metadata": {
    "id": "o-KPHCjY2y3P"
   },
   "outputs": [],
   "source": [
    "def getAssociationRules(itemsets:pd.DataFrame, metric:str='lift', minThreshold:int=1) -> pd.DataFrame:\n",
    "    return association_rules(itemsets, metric=metric, min_threshold=minThreshold)"
   ]
  },
  {
   "cell_type": "markdown",
   "metadata": {
    "id": "t_XpQYLHHFPz"
   },
   "source": [
    "### Acidentes sem vítimas"
   ]
  },
  {
   "cell_type": "code",
   "execution_count": 32,
   "metadata": {
    "colab": {
     "base_uri": "https://localhost:8080/",
     "height": 421
    },
    "id": "tudotWwZS1aO",
    "outputId": "7bbfe6eb-c2fc-4d5a-ec61-be0786ef3c9f"
   },
   "outputs": [
    {
     "data": {
      "text/html": [
       "<div>\n",
       "<style scoped>\n",
       "    .dataframe tbody tr th:only-of-type {\n",
       "        vertical-align: middle;\n",
       "    }\n",
       "\n",
       "    .dataframe tbody tr th {\n",
       "        vertical-align: top;\n",
       "    }\n",
       "\n",
       "    .dataframe thead th {\n",
       "        text-align: right;\n",
       "    }\n",
       "</style>\n",
       "<table border=\"1\" class=\"dataframe\">\n",
       "  <thead>\n",
       "    <tr style=\"text-align: right;\">\n",
       "      <th></th>\n",
       "      <th>antecedents</th>\n",
       "      <th>consequents</th>\n",
       "      <th>antecedent support</th>\n",
       "      <th>consequent support</th>\n",
       "      <th>support</th>\n",
       "      <th>confidence</th>\n",
       "      <th>lift</th>\n",
       "      <th>leverage</th>\n",
       "      <th>conviction</th>\n",
       "    </tr>\n",
       "  </thead>\n",
       "  <tbody>\n",
       "    <tr>\n",
       "      <th>1</th>\n",
       "      <td>(pleno dia)</td>\n",
       "      <td>(2)</td>\n",
       "      <td>0.611618</td>\n",
       "      <td>0.558529</td>\n",
       "      <td>0.368865</td>\n",
       "      <td>0.603096</td>\n",
       "      <td>1.079794</td>\n",
       "      <td>0.027258</td>\n",
       "      <td>1.112288</td>\n",
       "    </tr>\n",
       "    <tr>\n",
       "      <th>0</th>\n",
       "      <td>(2)</td>\n",
       "      <td>(pleno dia)</td>\n",
       "      <td>0.558529</td>\n",
       "      <td>0.611618</td>\n",
       "      <td>0.368865</td>\n",
       "      <td>0.660422</td>\n",
       "      <td>1.079794</td>\n",
       "      <td>0.027258</td>\n",
       "      <td>1.143718</td>\n",
       "    </tr>\n",
       "    <tr>\n",
       "      <th>3</th>\n",
       "      <td>(reta)</td>\n",
       "      <td>(2)</td>\n",
       "      <td>0.711196</td>\n",
       "      <td>0.558529</td>\n",
       "      <td>0.427526</td>\n",
       "      <td>0.601137</td>\n",
       "      <td>1.076286</td>\n",
       "      <td>0.030303</td>\n",
       "      <td>1.106824</td>\n",
       "    </tr>\n",
       "    <tr>\n",
       "      <th>2</th>\n",
       "      <td>(2)</td>\n",
       "      <td>(reta)</td>\n",
       "      <td>0.558529</td>\n",
       "      <td>0.711196</td>\n",
       "      <td>0.427526</td>\n",
       "      <td>0.765450</td>\n",
       "      <td>1.076286</td>\n",
       "      <td>0.030303</td>\n",
       "      <td>1.231313</td>\n",
       "    </tr>\n",
       "    <tr>\n",
       "      <th>8</th>\n",
       "      <td>(ceu claro)</td>\n",
       "      <td>(reta)</td>\n",
       "      <td>0.466580</td>\n",
       "      <td>0.711196</td>\n",
       "      <td>0.354938</td>\n",
       "      <td>0.760723</td>\n",
       "      <td>1.069639</td>\n",
       "      <td>0.023108</td>\n",
       "      <td>1.206985</td>\n",
       "    </tr>\n",
       "    <tr>\n",
       "      <th>9</th>\n",
       "      <td>(reta)</td>\n",
       "      <td>(ceu claro)</td>\n",
       "      <td>0.711196</td>\n",
       "      <td>0.466580</td>\n",
       "      <td>0.354938</td>\n",
       "      <td>0.499072</td>\n",
       "      <td>1.069639</td>\n",
       "      <td>0.023108</td>\n",
       "      <td>1.064864</td>\n",
       "    </tr>\n",
       "    <tr>\n",
       "      <th>10</th>\n",
       "      <td>(dupla)</td>\n",
       "      <td>(reta)</td>\n",
       "      <td>0.433331</td>\n",
       "      <td>0.711196</td>\n",
       "      <td>0.321288</td>\n",
       "      <td>0.741437</td>\n",
       "      <td>1.042522</td>\n",
       "      <td>0.013105</td>\n",
       "      <td>1.116960</td>\n",
       "    </tr>\n",
       "    <tr>\n",
       "      <th>11</th>\n",
       "      <td>(reta)</td>\n",
       "      <td>(dupla)</td>\n",
       "      <td>0.711196</td>\n",
       "      <td>0.433331</td>\n",
       "      <td>0.321288</td>\n",
       "      <td>0.451757</td>\n",
       "      <td>1.042522</td>\n",
       "      <td>0.013105</td>\n",
       "      <td>1.033609</td>\n",
       "    </tr>\n",
       "    <tr>\n",
       "      <th>4</th>\n",
       "      <td>(pleno dia)</td>\n",
       "      <td>(decrescente)</td>\n",
       "      <td>0.611618</td>\n",
       "      <td>0.490767</td>\n",
       "      <td>0.301073</td>\n",
       "      <td>0.492256</td>\n",
       "      <td>1.003033</td>\n",
       "      <td>0.000910</td>\n",
       "      <td>1.002932</td>\n",
       "    </tr>\n",
       "    <tr>\n",
       "      <th>5</th>\n",
       "      <td>(decrescente)</td>\n",
       "      <td>(pleno dia)</td>\n",
       "      <td>0.490767</td>\n",
       "      <td>0.611618</td>\n",
       "      <td>0.301073</td>\n",
       "      <td>0.613473</td>\n",
       "      <td>1.003033</td>\n",
       "      <td>0.000910</td>\n",
       "      <td>1.004799</td>\n",
       "    </tr>\n",
       "    <tr>\n",
       "      <th>6</th>\n",
       "      <td>(reta)</td>\n",
       "      <td>(decrescente)</td>\n",
       "      <td>0.711196</td>\n",
       "      <td>0.490767</td>\n",
       "      <td>0.349663</td>\n",
       "      <td>0.491655</td>\n",
       "      <td>1.001809</td>\n",
       "      <td>0.000631</td>\n",
       "      <td>1.001747</td>\n",
       "    </tr>\n",
       "    <tr>\n",
       "      <th>7</th>\n",
       "      <td>(decrescente)</td>\n",
       "      <td>(reta)</td>\n",
       "      <td>0.490767</td>\n",
       "      <td>0.711196</td>\n",
       "      <td>0.349663</td>\n",
       "      <td>0.712483</td>\n",
       "      <td>1.001809</td>\n",
       "      <td>0.000631</td>\n",
       "      <td>1.004475</td>\n",
       "    </tr>\n",
       "  </tbody>\n",
       "</table>\n",
       "</div>"
      ],
      "text/plain": [
       "      antecedents    consequents  antecedent support  consequent support  \\\n",
       "1     (pleno dia)            (2)            0.611618            0.558529   \n",
       "0             (2)    (pleno dia)            0.558529            0.611618   \n",
       "3          (reta)            (2)            0.711196            0.558529   \n",
       "2             (2)         (reta)            0.558529            0.711196   \n",
       "8     (ceu claro)         (reta)            0.466580            0.711196   \n",
       "9          (reta)    (ceu claro)            0.711196            0.466580   \n",
       "10        (dupla)         (reta)            0.433331            0.711196   \n",
       "11         (reta)        (dupla)            0.711196            0.433331   \n",
       "4     (pleno dia)  (decrescente)            0.611618            0.490767   \n",
       "5   (decrescente)    (pleno dia)            0.490767            0.611618   \n",
       "6          (reta)  (decrescente)            0.711196            0.490767   \n",
       "7   (decrescente)         (reta)            0.490767            0.711196   \n",
       "\n",
       "     support  confidence      lift  leverage  conviction  \n",
       "1   0.368865    0.603096  1.079794  0.027258    1.112288  \n",
       "0   0.368865    0.660422  1.079794  0.027258    1.143718  \n",
       "3   0.427526    0.601137  1.076286  0.030303    1.106824  \n",
       "2   0.427526    0.765450  1.076286  0.030303    1.231313  \n",
       "8   0.354938    0.760723  1.069639  0.023108    1.206985  \n",
       "9   0.354938    0.499072  1.069639  0.023108    1.064864  \n",
       "10  0.321288    0.741437  1.042522  0.013105    1.116960  \n",
       "11  0.321288    0.451757  1.042522  0.013105    1.033609  \n",
       "4   0.301073    0.492256  1.003033  0.000910    1.002932  \n",
       "5   0.301073    0.613473  1.003033  0.000910    1.004799  \n",
       "6   0.349663    0.491655  1.001809  0.000631    1.001747  \n",
       "7   0.349663    0.712483  1.001809  0.000631    1.004475  "
      ]
     },
     "execution_count": 32,
     "metadata": {},
     "output_type": "execute_result"
    }
   ],
   "source": [
    "sem_vitimas = transactionEncoderData(sem_vitimas.values)\n",
    "frequent_itemsets = getFrequentItemsets(sem_vitimas)\n",
    "rules_sem_vitimas = getAssociationRules(frequent_itemsets)\n",
    "rules_sem_vitimas.sort_values(by='lift', ascending=False)"
   ]
  },
  {
   "cell_type": "markdown",
   "metadata": {
    "id": "S9Wu4VLaUbTT"
   },
   "source": [
    "> <p style='text-align: justify;'><font size=2.85>As regras demonstram que em casos de acidentes sem vítimas, são comuns ocorrências que envolvem 2 veículos em pleno dia ou em pistas com traçado reto. Temos também acidentes em pleno dia ou em pistas com traçado reto, ambos no sentido decrescente e em dias de céu claro ou em pista dupla, ambos com traçado reto.</font></p>"
   ]
  },
  {
   "cell_type": "markdown",
   "metadata": {
    "id": "fMRXKf_nTgyD"
   },
   "source": [
    "### Acidentes com vítimas feridas"
   ]
  },
  {
   "cell_type": "code",
   "execution_count": 33,
   "metadata": {
    "colab": {
     "base_uri": "https://localhost:8080/",
     "height": 235
    },
    "id": "zX8vTtdaTg7l",
    "outputId": "962c7593-ee26-47bd-e4ad-0f98d585e477"
   },
   "outputs": [
    {
     "data": {
      "text/html": [
       "<div>\n",
       "<style scoped>\n",
       "    .dataframe tbody tr th:only-of-type {\n",
       "        vertical-align: middle;\n",
       "    }\n",
       "\n",
       "    .dataframe tbody tr th {\n",
       "        vertical-align: top;\n",
       "    }\n",
       "\n",
       "    .dataframe thead th {\n",
       "        text-align: right;\n",
       "    }\n",
       "</style>\n",
       "<table border=\"1\" class=\"dataframe\">\n",
       "  <thead>\n",
       "    <tr style=\"text-align: right;\">\n",
       "      <th></th>\n",
       "      <th>antecedents</th>\n",
       "      <th>consequents</th>\n",
       "      <th>antecedent support</th>\n",
       "      <th>consequent support</th>\n",
       "      <th>support</th>\n",
       "      <th>confidence</th>\n",
       "      <th>lift</th>\n",
       "      <th>leverage</th>\n",
       "      <th>conviction</th>\n",
       "    </tr>\n",
       "  </thead>\n",
       "  <tbody>\n",
       "    <tr>\n",
       "      <th>0</th>\n",
       "      <td>(2)</td>\n",
       "      <td>(reta)</td>\n",
       "      <td>0.485206</td>\n",
       "      <td>0.683091</td>\n",
       "      <td>0.353152</td>\n",
       "      <td>0.727839</td>\n",
       "      <td>1.065508</td>\n",
       "      <td>0.021712</td>\n",
       "      <td>1.164418</td>\n",
       "    </tr>\n",
       "    <tr>\n",
       "      <th>1</th>\n",
       "      <td>(reta)</td>\n",
       "      <td>(2)</td>\n",
       "      <td>0.683091</td>\n",
       "      <td>0.485206</td>\n",
       "      <td>0.353152</td>\n",
       "      <td>0.516991</td>\n",
       "      <td>1.065508</td>\n",
       "      <td>0.021712</td>\n",
       "      <td>1.065806</td>\n",
       "    </tr>\n",
       "    <tr>\n",
       "      <th>4</th>\n",
       "      <td>(ceu claro)</td>\n",
       "      <td>(reta)</td>\n",
       "      <td>0.529979</td>\n",
       "      <td>0.683091</td>\n",
       "      <td>0.380233</td>\n",
       "      <td>0.717450</td>\n",
       "      <td>1.050299</td>\n",
       "      <td>0.018209</td>\n",
       "      <td>1.121602</td>\n",
       "    </tr>\n",
       "    <tr>\n",
       "      <th>5</th>\n",
       "      <td>(reta)</td>\n",
       "      <td>(ceu claro)</td>\n",
       "      <td>0.683091</td>\n",
       "      <td>0.529979</td>\n",
       "      <td>0.380233</td>\n",
       "      <td>0.556636</td>\n",
       "      <td>1.050299</td>\n",
       "      <td>0.018209</td>\n",
       "      <td>1.060125</td>\n",
       "    </tr>\n",
       "    <tr>\n",
       "      <th>2</th>\n",
       "      <td>(decrescente)</td>\n",
       "      <td>(reta)</td>\n",
       "      <td>0.479751</td>\n",
       "      <td>0.683091</td>\n",
       "      <td>0.327881</td>\n",
       "      <td>0.683441</td>\n",
       "      <td>1.000512</td>\n",
       "      <td>0.000168</td>\n",
       "      <td>1.001105</td>\n",
       "    </tr>\n",
       "    <tr>\n",
       "      <th>3</th>\n",
       "      <td>(reta)</td>\n",
       "      <td>(decrescente)</td>\n",
       "      <td>0.683091</td>\n",
       "      <td>0.479751</td>\n",
       "      <td>0.327881</td>\n",
       "      <td>0.479997</td>\n",
       "      <td>1.000512</td>\n",
       "      <td>0.000168</td>\n",
       "      <td>1.000472</td>\n",
       "    </tr>\n",
       "  </tbody>\n",
       "</table>\n",
       "</div>"
      ],
      "text/plain": [
       "     antecedents    consequents  antecedent support  consequent support  \\\n",
       "0            (2)         (reta)            0.485206            0.683091   \n",
       "1         (reta)            (2)            0.683091            0.485206   \n",
       "4    (ceu claro)         (reta)            0.529979            0.683091   \n",
       "5         (reta)    (ceu claro)            0.683091            0.529979   \n",
       "2  (decrescente)         (reta)            0.479751            0.683091   \n",
       "3         (reta)  (decrescente)            0.683091            0.479751   \n",
       "\n",
       "    support  confidence      lift  leverage  conviction  \n",
       "0  0.353152    0.727839  1.065508  0.021712    1.164418  \n",
       "1  0.353152    0.516991  1.065508  0.021712    1.065806  \n",
       "4  0.380233    0.717450  1.050299  0.018209    1.121602  \n",
       "5  0.380233    0.556636  1.050299  0.018209    1.060125  \n",
       "2  0.327881    0.683441  1.000512  0.000168    1.001105  \n",
       "3  0.327881    0.479997  1.000512  0.000168    1.000472  "
      ]
     },
     "execution_count": 33,
     "metadata": {},
     "output_type": "execute_result"
    }
   ],
   "source": [
    "vitimas_feridas = transactionEncoderData(vitimas_feridas.values)\n",
    "frequent_itemsets = getFrequentItemsets(vitimas_feridas)\n",
    "rules_vitimas_feridas = getAssociationRules(frequent_itemsets)\n",
    "rules_vitimas_feridas.sort_values(by='lift', ascending=False)"
   ]
  },
  {
   "cell_type": "markdown",
   "metadata": {
    "id": "_R47pdI5b4Kl"
   },
   "source": [
    "> <p style='text-align: justify;'><font size=2.85>Em casos de acidentes com vítimas feridas, temos o envolvimento de 2 veículos em pista com traçado reto, além de ocorrências em dias de céu claro ou em sentido decrescente, ambos em vias de traçado reto.</font></p>"
   ]
  },
  {
   "cell_type": "markdown",
   "metadata": {
    "id": "Y4Zu5TUaThG3"
   },
   "source": [
    "### Acidentes com vítimas fatais"
   ]
  },
  {
   "cell_type": "code",
   "execution_count": 34,
   "metadata": {
    "colab": {
     "base_uri": "https://localhost:8080/",
     "height": 545
    },
    "id": "YHMVetl6ThQh",
    "outputId": "fe637d9b-73c4-4f1c-b1f4-0b46cfb727fb"
   },
   "outputs": [
    {
     "data": {
      "text/html": [
       "<div>\n",
       "<style scoped>\n",
       "    .dataframe tbody tr th:only-of-type {\n",
       "        vertical-align: middle;\n",
       "    }\n",
       "\n",
       "    .dataframe tbody tr th {\n",
       "        vertical-align: top;\n",
       "    }\n",
       "\n",
       "    .dataframe thead th {\n",
       "        text-align: right;\n",
       "    }\n",
       "</style>\n",
       "<table border=\"1\" class=\"dataframe\">\n",
       "  <thead>\n",
       "    <tr style=\"text-align: right;\">\n",
       "      <th></th>\n",
       "      <th>antecedents</th>\n",
       "      <th>consequents</th>\n",
       "      <th>antecedent support</th>\n",
       "      <th>consequent support</th>\n",
       "      <th>support</th>\n",
       "      <th>confidence</th>\n",
       "      <th>lift</th>\n",
       "      <th>leverage</th>\n",
       "      <th>conviction</th>\n",
       "    </tr>\n",
       "  </thead>\n",
       "  <tbody>\n",
       "    <tr>\n",
       "      <th>4</th>\n",
       "      <td>(2)</td>\n",
       "      <td>(simples)</td>\n",
       "      <td>0.490147</td>\n",
       "      <td>0.704296</td>\n",
       "      <td>0.385676</td>\n",
       "      <td>0.786859</td>\n",
       "      <td>1.117227</td>\n",
       "      <td>0.040468</td>\n",
       "      <td>1.387361</td>\n",
       "    </tr>\n",
       "    <tr>\n",
       "      <th>5</th>\n",
       "      <td>(simples)</td>\n",
       "      <td>(2)</td>\n",
       "      <td>0.704296</td>\n",
       "      <td>0.490147</td>\n",
       "      <td>0.385676</td>\n",
       "      <td>0.547605</td>\n",
       "      <td>1.117227</td>\n",
       "      <td>0.040468</td>\n",
       "      <td>1.127009</td>\n",
       "    </tr>\n",
       "    <tr>\n",
       "      <th>14</th>\n",
       "      <td>(plena noite)</td>\n",
       "      <td>(reta)</td>\n",
       "      <td>0.485161</td>\n",
       "      <td>0.709446</td>\n",
       "      <td>0.364230</td>\n",
       "      <td>0.750739</td>\n",
       "      <td>1.058204</td>\n",
       "      <td>0.020034</td>\n",
       "      <td>1.165661</td>\n",
       "    </tr>\n",
       "    <tr>\n",
       "      <th>15</th>\n",
       "      <td>(reta)</td>\n",
       "      <td>(plena noite)</td>\n",
       "      <td>0.709446</td>\n",
       "      <td>0.485161</td>\n",
       "      <td>0.364230</td>\n",
       "      <td>0.513400</td>\n",
       "      <td>1.058204</td>\n",
       "      <td>0.020034</td>\n",
       "      <td>1.058032</td>\n",
       "    </tr>\n",
       "    <tr>\n",
       "      <th>2</th>\n",
       "      <td>(ceu claro)</td>\n",
       "      <td>(reta)</td>\n",
       "      <td>0.566057</td>\n",
       "      <td>0.709446</td>\n",
       "      <td>0.417858</td>\n",
       "      <td>0.738191</td>\n",
       "      <td>1.040517</td>\n",
       "      <td>0.016271</td>\n",
       "      <td>1.109793</td>\n",
       "    </tr>\n",
       "    <tr>\n",
       "      <th>3</th>\n",
       "      <td>(reta)</td>\n",
       "      <td>(ceu claro)</td>\n",
       "      <td>0.709446</td>\n",
       "      <td>0.566057</td>\n",
       "      <td>0.417858</td>\n",
       "      <td>0.588992</td>\n",
       "      <td>1.040517</td>\n",
       "      <td>0.016271</td>\n",
       "      <td>1.055802</td>\n",
       "    </tr>\n",
       "    <tr>\n",
       "      <th>6</th>\n",
       "      <td>(2)</td>\n",
       "      <td>(reta)</td>\n",
       "      <td>0.490147</td>\n",
       "      <td>0.709446</td>\n",
       "      <td>0.353283</td>\n",
       "      <td>0.720770</td>\n",
       "      <td>1.015961</td>\n",
       "      <td>0.005550</td>\n",
       "      <td>1.040551</td>\n",
       "    </tr>\n",
       "    <tr>\n",
       "      <th>7</th>\n",
       "      <td>(reta)</td>\n",
       "      <td>(2)</td>\n",
       "      <td>0.709446</td>\n",
       "      <td>0.490147</td>\n",
       "      <td>0.353283</td>\n",
       "      <td>0.497970</td>\n",
       "      <td>1.015961</td>\n",
       "      <td>0.005550</td>\n",
       "      <td>1.015583</td>\n",
       "    </tr>\n",
       "    <tr>\n",
       "      <th>8</th>\n",
       "      <td>(crescente)</td>\n",
       "      <td>(simples)</td>\n",
       "      <td>0.531159</td>\n",
       "      <td>0.704296</td>\n",
       "      <td>0.377834</td>\n",
       "      <td>0.711338</td>\n",
       "      <td>1.009999</td>\n",
       "      <td>0.003740</td>\n",
       "      <td>1.024395</td>\n",
       "    </tr>\n",
       "    <tr>\n",
       "      <th>9</th>\n",
       "      <td>(simples)</td>\n",
       "      <td>(crescente)</td>\n",
       "      <td>0.704296</td>\n",
       "      <td>0.531159</td>\n",
       "      <td>0.377834</td>\n",
       "      <td>0.536470</td>\n",
       "      <td>1.009999</td>\n",
       "      <td>0.003740</td>\n",
       "      <td>1.011457</td>\n",
       "    </tr>\n",
       "    <tr>\n",
       "      <th>0</th>\n",
       "      <td>(ceu claro)</td>\n",
       "      <td>(simples)</td>\n",
       "      <td>0.566057</td>\n",
       "      <td>0.704296</td>\n",
       "      <td>0.399998</td>\n",
       "      <td>0.706639</td>\n",
       "      <td>1.003326</td>\n",
       "      <td>0.001326</td>\n",
       "      <td>1.007984</td>\n",
       "    </tr>\n",
       "    <tr>\n",
       "      <th>1</th>\n",
       "      <td>(simples)</td>\n",
       "      <td>(ceu claro)</td>\n",
       "      <td>0.704296</td>\n",
       "      <td>0.566057</td>\n",
       "      <td>0.399998</td>\n",
       "      <td>0.567939</td>\n",
       "      <td>1.003326</td>\n",
       "      <td>0.001326</td>\n",
       "      <td>1.004357</td>\n",
       "    </tr>\n",
       "    <tr>\n",
       "      <th>10</th>\n",
       "      <td>(crescente)</td>\n",
       "      <td>(reta)</td>\n",
       "      <td>0.531159</td>\n",
       "      <td>0.709446</td>\n",
       "      <td>0.377187</td>\n",
       "      <td>0.710121</td>\n",
       "      <td>1.000951</td>\n",
       "      <td>0.000358</td>\n",
       "      <td>1.002327</td>\n",
       "    </tr>\n",
       "    <tr>\n",
       "      <th>11</th>\n",
       "      <td>(reta)</td>\n",
       "      <td>(crescente)</td>\n",
       "      <td>0.709446</td>\n",
       "      <td>0.531159</td>\n",
       "      <td>0.377187</td>\n",
       "      <td>0.531664</td>\n",
       "      <td>1.000951</td>\n",
       "      <td>0.000358</td>\n",
       "      <td>1.001078</td>\n",
       "    </tr>\n",
       "    <tr>\n",
       "      <th>12</th>\n",
       "      <td>(ceu claro)</td>\n",
       "      <td>(crescente)</td>\n",
       "      <td>0.566057</td>\n",
       "      <td>0.531159</td>\n",
       "      <td>0.300677</td>\n",
       "      <td>0.531179</td>\n",
       "      <td>1.000037</td>\n",
       "      <td>0.000011</td>\n",
       "      <td>1.000042</td>\n",
       "    </tr>\n",
       "    <tr>\n",
       "      <th>13</th>\n",
       "      <td>(crescente)</td>\n",
       "      <td>(ceu claro)</td>\n",
       "      <td>0.531159</td>\n",
       "      <td>0.566057</td>\n",
       "      <td>0.300677</td>\n",
       "      <td>0.566078</td>\n",
       "      <td>1.000037</td>\n",
       "      <td>0.000011</td>\n",
       "      <td>1.000048</td>\n",
       "    </tr>\n",
       "  </tbody>\n",
       "</table>\n",
       "</div>"
      ],
      "text/plain": [
       "      antecedents    consequents  antecedent support  consequent support  \\\n",
       "4             (2)      (simples)            0.490147            0.704296   \n",
       "5       (simples)            (2)            0.704296            0.490147   \n",
       "14  (plena noite)         (reta)            0.485161            0.709446   \n",
       "15         (reta)  (plena noite)            0.709446            0.485161   \n",
       "2     (ceu claro)         (reta)            0.566057            0.709446   \n",
       "3          (reta)    (ceu claro)            0.709446            0.566057   \n",
       "6             (2)         (reta)            0.490147            0.709446   \n",
       "7          (reta)            (2)            0.709446            0.490147   \n",
       "8     (crescente)      (simples)            0.531159            0.704296   \n",
       "9       (simples)    (crescente)            0.704296            0.531159   \n",
       "0     (ceu claro)      (simples)            0.566057            0.704296   \n",
       "1       (simples)    (ceu claro)            0.704296            0.566057   \n",
       "10    (crescente)         (reta)            0.531159            0.709446   \n",
       "11         (reta)    (crescente)            0.709446            0.531159   \n",
       "12    (ceu claro)    (crescente)            0.566057            0.531159   \n",
       "13    (crescente)    (ceu claro)            0.531159            0.566057   \n",
       "\n",
       "     support  confidence      lift  leverage  conviction  \n",
       "4   0.385676    0.786859  1.117227  0.040468    1.387361  \n",
       "5   0.385676    0.547605  1.117227  0.040468    1.127009  \n",
       "14  0.364230    0.750739  1.058204  0.020034    1.165661  \n",
       "15  0.364230    0.513400  1.058204  0.020034    1.058032  \n",
       "2   0.417858    0.738191  1.040517  0.016271    1.109793  \n",
       "3   0.417858    0.588992  1.040517  0.016271    1.055802  \n",
       "6   0.353283    0.720770  1.015961  0.005550    1.040551  \n",
       "7   0.353283    0.497970  1.015961  0.005550    1.015583  \n",
       "8   0.377834    0.711338  1.009999  0.003740    1.024395  \n",
       "9   0.377834    0.536470  1.009999  0.003740    1.011457  \n",
       "0   0.399998    0.706639  1.003326  0.001326    1.007984  \n",
       "1   0.399998    0.567939  1.003326  0.001326    1.004357  \n",
       "10  0.377187    0.710121  1.000951  0.000358    1.002327  \n",
       "11  0.377187    0.531664  1.000951  0.000358    1.001078  \n",
       "12  0.300677    0.531179  1.000037  0.000011    1.000042  \n",
       "13  0.300677    0.566078  1.000037  0.000011    1.000048  "
      ]
     },
     "execution_count": 34,
     "metadata": {},
     "output_type": "execute_result"
    }
   ],
   "source": [
    "vitimas_fatais = transactionEncoderData(vitimas_fatais.values)\n",
    "frequent_itemsets = getFrequentItemsets(vitimas_fatais)\n",
    "rules_vitimas_fatais = getAssociationRules(frequent_itemsets)\n",
    "rules_vitimas_fatais.sort_values(by='lift', ascending=False)"
   ]
  },
  {
   "cell_type": "markdown",
   "metadata": {
    "id": "kH752yh1cZsZ"
   },
   "source": [
    "> <p style='text-align: justify;'><font size=2.85>Em acidentes com vítimas fatais, as regras nos mostra o envolvimento de 2 veículos em pistas do tipo simples ou em via de traçado reto. Em dias de céu claro, são comuns ocorrências em pistas simples ou em vias com traçado reto ou em sentido crescente. Temos ocorrências em plena noite em vias de traçado reto, além de acidentes em pistas simples no sentido crescente ou em pistas com traçado reto também no sentido crescente.</font></p>"
   ]
  }
 ],
 "metadata": {
  "colab": {
   "collapsed_sections": [],
   "name": "regra_associação.ipynb",
   "provenance": []
  },
  "file_extension": ".py",
  "hide_input": false,
  "kernelspec": {
   "display_name": "Python 3 (ipykernel)",
   "language": "python",
   "name": "python3"
  },
  "language_info": {
   "codemirror_mode": {
    "name": "ipython",
    "version": 3
   },
   "file_extension": ".py",
   "mimetype": "text/x-python",
   "name": "python",
   "nbconvert_exporter": "python",
   "pygments_lexer": "ipython3",
   "version": "3.7.9"
  },
  "mimetype": "text/x-python",
  "name": "python",
  "nbTranslate": {
   "displayLangs": [
    "*"
   ],
   "hotkey": "alt-t",
   "langInMainMenu": true,
   "sourceLang": "en",
   "targetLang": "fr",
   "useGoogleTranslate": true
  },
  "npconvert_exporter": "python",
  "pygments_lexer": "ipython3",
  "toc": {
   "base_numbering": 1,
   "nav_menu": {},
   "number_sections": true,
   "sideBar": true,
   "skip_h1_title": false,
   "title_cell": "Table of Contents",
   "title_sidebar": "Contents",
   "toc_cell": false,
   "toc_position": {},
   "toc_section_display": true,
   "toc_window_display": false
  },
  "varInspector": {
   "cols": {
    "lenName": 16,
    "lenType": 16,
    "lenVar": 40
   },
   "kernels_config": {
    "python": {
     "delete_cmd_postfix": "",
     "delete_cmd_prefix": "del ",
     "library": "var_list.py",
     "varRefreshCmd": "print(var_dic_list())"
    },
    "r": {
     "delete_cmd_postfix": ") ",
     "delete_cmd_prefix": "rm(",
     "library": "var_list.r",
     "varRefreshCmd": "cat(var_dic_list()) "
    }
   },
   "types_to_exclude": [
    "module",
    "function",
    "builtin_function_or_method",
    "instance",
    "_Feature"
   ],
   "window_display": false
  },
  "version": 3
 },
 "nbformat": 4,
 "nbformat_minor": 1
}
