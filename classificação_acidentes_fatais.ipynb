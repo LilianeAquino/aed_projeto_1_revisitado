{
 "cells": [
  {
   "cell_type": "markdown",
   "metadata": {
    "id": "CEtG6c4koygW"
   },
   "source": [
    "# Projeto #1 - Classificação\n",
    "\n",
    "<p style='text-align: justify;'><font size=3.>Análise de acidentes nas rodovias federais brasileira entre 2007 e 2021.</font></p>"
   ]
  },
  {
   "cell_type": "markdown",
   "metadata": {
    "id": "IGJiaCUD1ncA"
   },
   "source": [
    "### Bibliotecas básicas e outros imports"
   ]
  },
  {
   "cell_type": "code",
   "execution_count": 1,
   "metadata": {
    "ExecuteTime": {
     "end_time": "2022-02-15T22:13:55.979926Z",
     "start_time": "2022-02-15T22:13:54.803420Z"
    },
    "id": "4bG6r2Bwoyge"
   },
   "outputs": [],
   "source": [
    "import warnings\n",
    "import matplotlib\n",
    "import numpy as np\n",
    "import pandas as pd\n",
    "import seaborn as sns\n",
    "import matplotlib.pyplot as plt\n",
    "from sklearn.preprocessing import LabelEncoder\n",
    "from sklearn.neural_network import MLPClassifier\n",
    "from sklearn.model_selection import train_test_split, cross_val_score\n",
    "from sklearn.metrics import plot_confusion_matrix, classification_report, roc_auc_score, roc_curve, accuracy_score\n",
    "\n",
    "%run modules/text.py\n",
    "\n",
    "%matplotlib inline\n",
    "plt.rcParams['font.family'] = 'Arial, Helvetica, sans-serif'\n",
    "\n",
    "warnings.filterwarnings('ignore')\n",
    "pd.set_option('display.max_rows', 1000)\n",
    "pd.set_option('display.max_columns', 200)\n",
    "np.set_printoptions(suppress=True, precision=3)"
   ]
  },
  {
   "cell_type": "markdown",
   "metadata": {
    "id": "rjtF8niV1ncF"
   },
   "source": [
    "### Carregamento dos dados"
   ]
  },
  {
   "cell_type": "code",
   "execution_count": 2,
   "metadata": {
    "ExecuteTime": {
     "end_time": "2022-02-15T22:14:00.178970Z",
     "start_time": "2022-02-15T22:13:55.981576Z"
    },
    "colab": {
     "base_uri": "https://localhost:8080/",
     "height": 134
    },
    "id": "H8Xxqiwcoygh",
    "outputId": "948da79f-e337-4029-b318-a0ef40832d18"
   },
   "outputs": [
    {
     "name": "stdout",
     "output_type": "stream",
     "text": [
      "Linhas: 1635078 | Coluna:  24\n"
     ]
    }
   ],
   "source": [
    "df = pd.read_csv('dataset/classifier_acidentes_rodovias_brasileiras_2007_a_2021.csv', low_memory=False, encoding='utf-8')\n",
    "print(f'Linhas: {df.shape[0]} | Coluna:  {df.shape[1]}')"
   ]
  },
  {
   "cell_type": "markdown",
   "metadata": {},
   "source": [
    "### Remove variáveis possíveis outliers\n",
    "> Condutores com mais de 100 e menos de 10 anos"
   ]
  },
  {
   "cell_type": "code",
   "execution_count": 3,
   "metadata": {
    "ExecuteTime": {
     "end_time": "2022-02-15T22:14:28.353792Z",
     "start_time": "2022-02-15T22:14:00.180286Z"
    }
   },
   "outputs": [],
   "source": [
    "df['outlier'] = df.apply(lambda x: identifierConductorsOver100OrUnder10YearsOld(x.tipo_envolvido, x.idade), axis=1)\n",
    "df.drop(df[df['outlier'] == 'outlier'].index, inplace=True)\n",
    "df.drop(['outlier'], axis=1, inplace=True)"
   ]
  },
  {
   "cell_type": "markdown",
   "metadata": {},
   "source": [
    "### Geração de features"
   ]
  },
  {
   "cell_type": "markdown",
   "metadata": {},
   "source": [
    "Causa presumível do acidente com base nas características"
   ]
  },
  {
   "cell_type": "code",
   "execution_count": 4,
   "metadata": {
    "ExecuteTime": {
     "end_time": "2022-02-15T22:14:29.220623Z",
     "start_time": "2022-02-15T22:14:28.355773Z"
    }
   },
   "outputs": [],
   "source": [
    "df['causa_presumivel_acidente'] = df['causa_acidente'].apply(mapCausaAcidentes)"
   ]
  },
  {
   "cell_type": "markdown",
   "metadata": {},
   "source": [
    "Define o horário do acidente"
   ]
  },
  {
   "cell_type": "code",
   "execution_count": 5,
   "metadata": {
    "ExecuteTime": {
     "end_time": "2022-02-15T22:14:29.553219Z",
     "start_time": "2022-02-15T22:14:29.222055Z"
    }
   },
   "outputs": [],
   "source": [
    "df['horario_acidente'] = df['horario'].apply(mapHorarioAcidentes)"
   ]
  },
  {
   "cell_type": "markdown",
   "metadata": {},
   "source": [
    "Categorização do ano de fabricação do veículo com base na data do acidente"
   ]
  },
  {
   "cell_type": "code",
   "execution_count": 6,
   "metadata": {
    "ExecuteTime": {
     "end_time": "2022-02-15T22:14:29.599138Z",
     "start_time": "2022-02-15T22:14:29.554505Z"
    }
   },
   "outputs": [],
   "source": [
    "labels = ['ate dez anos', 'mais de dez anos']\n",
    "classes = [0, 10, 170]\n",
    "\n",
    "df['tempo_fabricacao_no_ano_do_acidente'] = df['ano'] - df['ano_fabricacao_veiculo']\n",
    "df['faixa_ano_fabricacao'] = pd.cut(x=df['tempo_fabricacao_no_ano_do_acidente'], bins=classes, labels=labels, include_lowest=True)"
   ]
  },
  {
   "cell_type": "markdown",
   "metadata": {},
   "source": [
    "Agrupamento tipo de envolvido"
   ]
  },
  {
   "cell_type": "code",
   "execution_count": 7,
   "metadata": {
    "ExecuteTime": {
     "end_time": "2022-02-15T22:14:57.121764Z",
     "start_time": "2022-02-15T22:14:29.600336Z"
    }
   },
   "outputs": [],
   "source": [
    "df['tipo_envolvido'] = df.apply(lambda x: mapTipoEnvolvido(x.tipo_veiculo, x.tipo_envolvido), axis=1)"
   ]
  },
  {
   "cell_type": "markdown",
   "metadata": {},
   "source": [
    "Combinação das variáveis tipo de veículo e tipo de envolvido\n",
    "\n",
    "> Identifica a forma como se deu a participação da vítima no acidente"
   ]
  },
  {
   "cell_type": "code",
   "execution_count": 8,
   "metadata": {
    "ExecuteTime": {
     "end_time": "2022-02-15T22:15:25.832675Z",
     "start_time": "2022-02-15T22:14:57.123246Z"
    }
   },
   "outputs": [],
   "source": [
    "df['condicao_envolvimento'] = df.apply(lambda x: mapCondicaoEnvolvimento(x.tipo_envolvido, x.tipo_veiculo), axis=1)\n",
    "df.drop(df[df['condicao_envolvimento'] == 'outros'].index, inplace=True)"
   ]
  },
  {
   "cell_type": "markdown",
   "metadata": {},
   "source": [
    "Agrupamento dos tipos de acidentes"
   ]
  },
  {
   "cell_type": "code",
   "execution_count": 9,
   "metadata": {
    "ExecuteTime": {
     "end_time": "2022-02-15T22:15:26.254312Z",
     "start_time": "2022-02-15T22:15:25.834020Z"
    }
   },
   "outputs": [],
   "source": [
    "df['tipo_acidente'] = df['tipo_acidente'].apply(mapTiposDeAcidentes)"
   ]
  },
  {
   "cell_type": "markdown",
   "metadata": {},
   "source": [
    "Agrupamento traçado da via"
   ]
  },
  {
   "cell_type": "code",
   "execution_count": 10,
   "metadata": {
    "ExecuteTime": {
     "end_time": "2022-02-15T22:15:26.487194Z",
     "start_time": "2022-02-15T22:15:26.257034Z"
    }
   },
   "outputs": [],
   "source": [
    "df['tracado_via'] = df['tracado_via'].apply(mapTracadoVia)"
   ]
  },
  {
   "cell_type": "markdown",
   "metadata": {},
   "source": [
    "Agrupamento idade"
   ]
  },
  {
   "cell_type": "code",
   "execution_count": 11,
   "metadata": {
    "ExecuteTime": {
     "end_time": "2022-02-15T22:15:26.524604Z",
     "start_time": "2022-02-15T22:15:26.488492Z"
    }
   },
   "outputs": [],
   "source": [
    "labels = ['criança', 'adolescente', 'jovem', 'adulto', 'idoso']\n",
    "classes = [0, 11, 17, 29, 59, 99]\n",
    "df['faixa_etaria'] = pd.cut(x=df['idade'], bins=classes, labels=labels, include_lowest=True)"
   ]
  },
  {
   "cell_type": "markdown",
   "metadata": {},
   "source": [
    "### Agrupamento estado físico"
   ]
  },
  {
   "cell_type": "code",
   "execution_count": 12,
   "metadata": {
    "ExecuteTime": {
     "end_time": "2022-02-15T22:15:26.775131Z",
     "start_time": "2022-02-15T22:15:26.526450Z"
    }
   },
   "outputs": [
    {
     "name": "stdout",
     "output_type": "stream",
     "text": [
      "sem mortos    98.1\n",
      "com mortos     1.9\n",
      "Name: estado_fisico, dtype: float64\n"
     ]
    }
   ],
   "source": [
    "df['estado_fisico'] = df['estado_fisico'].map({'morto': 'com mortos', 'ferido leve': 'sem mortos', 'ferido grave': 'sem mortos', 'ileso': 'sem mortos'})\n",
    "print((df['estado_fisico'].value_counts(normalize=True)*100).round(1))"
   ]
  },
  {
   "cell_type": "markdown",
   "metadata": {},
   "source": [
    "### Balanceamento da base"
   ]
  },
  {
   "cell_type": "code",
   "execution_count": 14,
   "metadata": {
    "ExecuteTime": {
     "end_time": "2022-02-15T22:16:05.599985Z",
     "start_time": "2022-02-15T22:16:04.225002Z"
    }
   },
   "outputs": [
    {
     "data": {
      "text/plain": [
       "com mortos    30352\n",
       "sem mortos    30352\n",
       "Name: estado_fisico, dtype: int64"
      ]
     },
     "execution_count": 14,
     "metadata": {},
     "output_type": "execute_result"
    }
   ],
   "source": [
    "com_mortos = df.query('estado_fisico==\"com mortos\"')\n",
    "sem_mortos = df.query('estado_fisico!=\"com mortos\"').groupby('estado_fisico').apply(lambda x : x.sample(n=30352, replace=False))\n",
    "sample = pd.concat([com_mortos, sem_mortos]).reset_index(drop=True)\n",
    "sample['estado_fisico'].value_counts()"
   ]
  },
  {
   "cell_type": "markdown",
   "metadata": {},
   "source": [
    "### Seleção de features"
   ]
  },
  {
   "cell_type": "code",
   "execution_count": 15,
   "metadata": {
    "ExecuteTime": {
     "end_time": "2022-02-15T22:16:10.005578Z",
     "start_time": "2022-02-15T22:16:09.943973Z"
    },
    "scrolled": true
   },
   "outputs": [
    {
     "name": "stdout",
     "output_type": "stream",
     "text": [
      "Linhas: 60704 | Coluna:  16\n"
     ]
    },
    {
     "data": {
      "text/html": [
       "<div>\n",
       "<style scoped>\n",
       "    .dataframe tbody tr th:only-of-type {\n",
       "        vertical-align: middle;\n",
       "    }\n",
       "\n",
       "    .dataframe tbody tr th {\n",
       "        vertical-align: top;\n",
       "    }\n",
       "\n",
       "    .dataframe thead th {\n",
       "        text-align: right;\n",
       "    }\n",
       "</style>\n",
       "<table border=\"1\" class=\"dataframe\">\n",
       "  <thead>\n",
       "    <tr style=\"text-align: right;\">\n",
       "      <th></th>\n",
       "      <th>dia_semana</th>\n",
       "      <th>uf</th>\n",
       "      <th>br</th>\n",
       "      <th>tipo_acidente</th>\n",
       "      <th>sentido_via</th>\n",
       "      <th>condicao_metereologica</th>\n",
       "      <th>tipo_pista</th>\n",
       "      <th>tracado_via</th>\n",
       "      <th>uso_solo</th>\n",
       "      <th>sexo</th>\n",
       "      <th>causa_presumivel_acidente</th>\n",
       "      <th>horario_acidente</th>\n",
       "      <th>faixa_ano_fabricacao</th>\n",
       "      <th>condicao_envolvimento</th>\n",
       "      <th>faixa_etaria</th>\n",
       "      <th>estado_fisico</th>\n",
       "    </tr>\n",
       "  </thead>\n",
       "  <tbody>\n",
       "    <tr>\n",
       "      <th>0</th>\n",
       "      <td>quarta</td>\n",
       "      <td>BA</td>\n",
       "      <td>242</td>\n",
       "      <td>saída da pista</td>\n",
       "      <td>decrescente</td>\n",
       "      <td>ceu claro</td>\n",
       "      <td>simples</td>\n",
       "      <td>curva</td>\n",
       "      <td>rural</td>\n",
       "      <td>feminino</td>\n",
       "      <td>outros aspectos não identificados</td>\n",
       "      <td>tarde</td>\n",
       "      <td>ate dez anos</td>\n",
       "      <td>ocupante de caminhonete/camioneta</td>\n",
       "      <td>adulto</td>\n",
       "      <td>com mortos</td>\n",
       "    </tr>\n",
       "  </tbody>\n",
       "</table>\n",
       "</div>"
      ],
      "text/plain": [
       "  dia_semana  uf   br   tipo_acidente  sentido_via condicao_metereologica  \\\n",
       "0     quarta  BA  242  saída da pista  decrescente              ceu claro   \n",
       "\n",
       "  tipo_pista tracado_via uso_solo      sexo  \\\n",
       "0    simples       curva    rural  feminino   \n",
       "\n",
       "           causa_presumivel_acidente horario_acidente faixa_ano_fabricacao  \\\n",
       "0  outros aspectos não identificados            tarde         ate dez anos   \n",
       "\n",
       "               condicao_envolvimento faixa_etaria estado_fisico  \n",
       "0  ocupante de caminhonete/camioneta       adulto    com mortos  "
      ]
     },
     "execution_count": 15,
     "metadata": {},
     "output_type": "execute_result"
    }
   ],
   "source": [
    "colunas = [\n",
    "    'dia_semana',\n",
    "    'uf',\n",
    "    'br',\n",
    "    'tipo_acidente',\n",
    "    'sentido_via',\n",
    "    'condicao_metereologica',\n",
    "    'tipo_pista',\n",
    "    'tracado_via',\n",
    "    'uso_solo',\n",
    "    'sexo',\n",
    "    'causa_presumivel_acidente',\n",
    "    'horario_acidente',\n",
    "    'faixa_ano_fabricacao',\n",
    "    'condicao_envolvimento',\n",
    "    'faixa_etaria',\n",
    "    'estado_fisico'\n",
    "]\n",
    "\n",
    "dados = sample[colunas]\n",
    "print(f'Linhas: {dados.shape[0]} | Coluna:  {dados.shape[1]}')\n",
    "dados.head(1)"
   ]
  },
  {
   "cell_type": "markdown",
   "metadata": {},
   "source": [
    "### Separação dos dados"
   ]
  },
  {
   "cell_type": "code",
   "execution_count": 16,
   "metadata": {
    "ExecuteTime": {
     "end_time": "2022-02-15T22:16:54.067044Z",
     "start_time": "2022-02-15T22:16:54.054649Z"
    }
   },
   "outputs": [],
   "source": [
    "X = dados.drop(['estado_fisico'], axis=1)\n",
    "y = dados['estado_fisico']"
   ]
  },
  {
   "cell_type": "markdown",
   "metadata": {
    "lang": "en"
   },
   "source": [
    "### Label encoder"
   ]
  },
  {
   "cell_type": "code",
   "execution_count": 17,
   "metadata": {
    "ExecuteTime": {
     "end_time": "2022-02-15T22:16:54.123783Z",
     "start_time": "2022-02-15T22:16:54.069882Z"
    }
   },
   "outputs": [],
   "source": [
    "le = LabelEncoder()\n",
    "y = le.fit_transform(y)"
   ]
  },
  {
   "cell_type": "markdown",
   "metadata": {},
   "source": [
    "### Vetorização dos dados categóricos"
   ]
  },
  {
   "cell_type": "code",
   "execution_count": 18,
   "metadata": {
    "ExecuteTime": {
     "end_time": "2022-02-15T22:16:54.346497Z",
     "start_time": "2022-02-15T22:16:54.125072Z"
    }
   },
   "outputs": [],
   "source": [
    "encoder = LabelEncoder()\n",
    "for col in X.columns:\n",
    "    X[col] = encoder.fit_transform(X[col].astype(str))"
   ]
  },
  {
   "cell_type": "markdown",
   "metadata": {},
   "source": [
    "### Divisão em treino e teste"
   ]
  },
  {
   "cell_type": "code",
   "execution_count": 19,
   "metadata": {
    "ExecuteTime": {
     "end_time": "2022-02-15T22:16:54.371571Z",
     "start_time": "2022-02-15T22:16:54.348998Z"
    }
   },
   "outputs": [
    {
     "name": "stdout",
     "output_type": "stream",
     "text": [
      "(42492, 15) (42492,) (18212, 15) (18212,)\n"
     ]
    }
   ],
   "source": [
    "X_train, X_test, y_train, y_test = train_test_split(X, y, test_size=0.3, shuffle=True, stratify=y)\n",
    "print(X_train.shape, y_train.shape, X_test.shape, y_test.shape)"
   ]
  },
  {
   "cell_type": "markdown",
   "metadata": {},
   "source": [
    "### Modelagem dos dados"
   ]
  },
  {
   "cell_type": "markdown",
   "metadata": {},
   "source": [
    "Modelo"
   ]
  },
  {
   "cell_type": "code",
   "execution_count": 20,
   "metadata": {
    "ExecuteTime": {
     "end_time": "2022-02-15T22:16:54.376617Z",
     "start_time": "2022-02-15T22:16:54.373070Z"
    }
   },
   "outputs": [],
   "source": [
    "clf = MLPClassifier(hidden_layer_sizes=[512, 256, 128], \n",
    "                    activation='relu', \n",
    "                    solver='adam', alpha=1e-5, max_iter=60, batch_size=100, shuffle=True, verbose=False)"
   ]
  },
  {
   "cell_type": "markdown",
   "metadata": {},
   "source": [
    "Validação cruzada"
   ]
  },
  {
   "cell_type": "code",
   "execution_count": 21,
   "metadata": {
    "ExecuteTime": {
     "end_time": "2022-02-15T22:31:56.692572Z",
     "start_time": "2022-02-15T22:16:54.377830Z"
    }
   },
   "outputs": [
    {
     "name": "stderr",
     "output_type": "stream",
     "text": [
      "[Parallel(n_jobs=2)]: Using backend LokyBackend with 2 concurrent workers.\n"
     ]
    },
    {
     "name": "stdout",
     "output_type": "stream",
     "text": [
      "Accuracy: 0.72 (+/- 0.03)\n"
     ]
    },
    {
     "name": "stderr",
     "output_type": "stream",
     "text": [
      "[Parallel(n_jobs=2)]: Done   5 out of   5 | elapsed: 15.0min finished\n"
     ]
    }
   ],
   "source": [
    "scores = cross_val_score(clf, X, y, cv=5, scoring='accuracy', verbose=True, n_jobs=2)\n",
    "print('Accuracy: %0.2f (+/- %0.2f)' % (scores.mean(), scores.std() * 2))"
   ]
  },
  {
   "cell_type": "markdown",
   "metadata": {},
   "source": [
    "Relatório de classificação"
   ]
  },
  {
   "cell_type": "code",
   "execution_count": 22,
   "metadata": {
    "ExecuteTime": {
     "end_time": "2022-02-15T22:35:49.064473Z",
     "start_time": "2022-02-15T22:31:56.694004Z"
    }
   },
   "outputs": [
    {
     "name": "stderr",
     "output_type": "stream",
     "text": [
      "/home/liliane_aquino/Hop/jupyter_projetos_hop/jupyter_env/lib/python3.7/site-packages/sklearn/neural_network/_multilayer_perceptron.py:696: ConvergenceWarning: Stochastic Optimizer: Maximum iterations (60) reached and the optimization hasn't converged yet.\n",
      "  ConvergenceWarning,\n",
      "/home/liliane_aquino/Hop/jupyter_projetos_hop/jupyter_env/lib/python3.7/site-packages/sklearn/neural_network/_multilayer_perceptron.py:696: ConvergenceWarning: Stochastic Optimizer: Maximum iterations (60) reached and the optimization hasn't converged yet.\n",
      "  ConvergenceWarning,\n"
     ]
    },
    {
     "name": "stdout",
     "output_type": "stream",
     "text": [
      "              precision    recall  f1-score   support\n",
      "\n",
      "  com mortos       0.72      0.74      0.73      9106\n",
      "  sem mortos       0.73      0.71      0.72      9106\n",
      "\n",
      "    accuracy                           0.73     18212\n",
      "   macro avg       0.73      0.73      0.73     18212\n",
      "weighted avg       0.73      0.73      0.73     18212\n",
      "\n"
     ]
    }
   ],
   "source": [
    "clf.fit(X_train, y_train)\n",
    "y_pred = clf.predict(X_test)\n",
    "print(classification_report(y_test, y_pred, target_names=le.classes_.tolist()))"
   ]
  },
  {
   "cell_type": "markdown",
   "metadata": {},
   "source": [
    "Curva ROC - AUC"
   ]
  },
  {
   "cell_type": "code",
   "execution_count": 23,
   "metadata": {
    "ExecuteTime": {
     "end_time": "2022-02-15T22:35:49.621113Z",
     "start_time": "2022-02-15T22:35:49.066402Z"
    }
   },
   "outputs": [
    {
     "name": "stdout",
     "output_type": "stream",
     "text": [
      "AUC: 0.73\n"
     ]
    },
    {
     "data": {
      "image/png": "[encoded data removed]",
      "text/plain": [
       "<Figure size 432x288 with 1 Axes>"
      ]
     },
     "metadata": {
      "needs_background": "light"
     },
     "output_type": "display_data"
    }
   ],
   "source": [
    "auc = round(roc_auc_score(y_test, y_pred), 2)\n",
    "print(f'AUC: {auc}')\n",
    "\n",
    "y_prob = clf.predict_proba(X_test)[:,1]\n",
    "fpr, tpr, _ = roc_curve(y_test,  y_prob)\n",
    "plt.rcParams['figure.figsize'] = [6, 4]\n",
    "plt.plot(fpr, tpr, label='MLP - auc='+str(auc), color='black')\n",
    "plt.plot(np.linspace(0, 1, 100), np.linspace(0, 1, 100), linestyle='--', label='Baseline')\n",
    "plt.legend(loc=4)\n",
    "plt.title('AUC', y=1.03, size=14)\n",
    "plt.ylabel('True Positive Rate')\n",
    "plt.xlabel('False Positive rate')\n",
    "plt.grid(False)\n",
    "plt.savefig('img/auc_acidentes_fatais.png')\n",
    "plt.show()"
   ]
  },
  {
   "cell_type": "markdown",
   "metadata": {},
   "source": [
    "Matriz de confusão"
   ]
  },
  {
   "cell_type": "code",
   "execution_count": 24,
   "metadata": {
    "ExecuteTime": {
     "end_time": "2022-02-15T22:35:50.281546Z",
     "start_time": "2022-02-15T22:35:49.622520Z"
    }
   },
   "outputs": [
    {
     "data": {
      "image/png": "[encoded data removed]",
      "text/plain": [
       "<Figure size 720x360 with 2 Axes>"
      ]
     },
     "metadata": {
      "needs_background": "light"
     },
     "output_type": "display_data"
    }
   ],
   "source": [
    "np.set_printoptions(precision=2)\n",
    "plt.rcParams['figure.figsize'] = [10, 5]\n",
    "disp = plot_confusion_matrix(clf, X_test, y_test,\n",
    "                                 display_labels=le.classes_.tolist(),\n",
    "                                 cmap=plt.cm.afmhot_r,\n",
    "                                 normalize='true'\n",
    "                                 )\n",
    "disp.ax_.set_title('Normalized confusion matrix', y=1.05)\n",
    "plt.grid(False)\n",
    "plt.savefig('img/matriz_confusao_acidentes_fatais.png')\n",
    "plt.show()"
   ]
  }
 ],
 "metadata": {
  "colab": {
   "collapsed_sections": [],
   "name": "regra_associação.ipynb",
   "provenance": []
  },
  "file_extension": ".py",
  "hide_input": false,
  "kernelspec": {
   "display_name": "Python 3 (ipykernel)",
   "language": "python",
   "name": "python3"
  },
  "language_info": {
   "codemirror_mode": {
    "name": "ipython",
    "version": 3
   },
   "file_extension": ".py",
   "mimetype": "text/x-python",
   "name": "python",
   "nbconvert_exporter": "python",
   "pygments_lexer": "ipython3",
   "version": "3.7.9"
  },
  "mimetype": "text/x-python",
  "name": "python",
  "nbTranslate": {
   "displayLangs": [
    "*"
   ],
   "hotkey": "alt-t",
   "langInMainMenu": true,
   "sourceLang": "en",
   "targetLang": "fr",
   "useGoogleTranslate": true
  },
  "npconvert_exporter": "python",
  "pygments_lexer": "ipython3",
  "toc": {
   "base_numbering": 1,
   "nav_menu": {},
   "number_sections": true,
   "sideBar": true,
   "skip_h1_title": false,
   "title_cell": "Table of Contents",
   "title_sidebar": "Contents",
   "toc_cell": false,
   "toc_position": {},
   "toc_section_display": true,
   "toc_window_display": false
  },
  "varInspector": {
   "cols": {
    "lenName": 16,
    "lenType": 16,
    "lenVar": 40
   },
   "kernels_config": {
    "python": {
     "delete_cmd_postfix": "",
     "delete_cmd_prefix": "del ",
     "library": "var_list.py",
     "varRefreshCmd": "print(var_dic_list())"
    },
    "r": {
     "delete_cmd_postfix": ") ",
     "delete_cmd_prefix": "rm(",
     "library": "var_list.r",
     "varRefreshCmd": "cat(var_dic_list()) "
    }
   },
   "types_to_exclude": [
    "module",
    "function",
    "builtin_function_or_method",
    "instance",
    "_Feature"
   ],
   "window_display": false
  },
  "version": 3
 },
 "nbformat": 4,
 "nbformat_minor": 1
}
