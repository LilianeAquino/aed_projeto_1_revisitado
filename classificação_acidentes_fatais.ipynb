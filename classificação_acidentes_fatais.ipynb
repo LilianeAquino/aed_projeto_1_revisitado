{
 "cells": [
  {
   "cell_type": "markdown",
   "metadata": {
    "id": "CEtG6c4koygW"
   },
   "source": [
    "# Projeto #1 - Classificação\n",
    "\n",
    "<p style='text-align: justify;'><font size=3.>Análise de acidentes nas rodovias federais brasileira entre 2007 e 2021.</font></p>"
   ]
  },
  {
   "cell_type": "markdown",
   "metadata": {
    "id": "IGJiaCUD1ncA"
   },
   "source": [
    "### Bibliotecas básicas e outros imports"
   ]
  },
  {
   "cell_type": "code",
   "execution_count": 15,
   "metadata": {
    "ExecuteTime": {
     "end_time": "2022-01-27T22:07:29.462298Z",
     "start_time": "2022-01-27T22:07:29.450679Z"
    },
    "id": "4bG6r2Bwoyge"
   },
   "outputs": [],
   "source": [
    "import warnings\n",
    "import matplotlib\n",
    "import numpy as np\n",
    "import pandas as pd\n",
    "import seaborn as sns\n",
    "import matplotlib.pyplot as plt\n",
    "from sklearn.preprocessing import LabelEncoder\n",
    "from sklearn.model_selection import train_test_split\n",
    "from sklearn.svm import SVC\n",
    "from sklearn.linear_model import RidgeClassifier\n",
    "from sklearn.neighbors import KNeighborsClassifier\n",
    "from sklearn.linear_model import LogisticRegression\n",
    "from sklearn.model_selection import cross_val_score\n",
    "from sklearn.pipeline import Pipeline, FeatureUnion\n",
    "from sklearn.feature_extraction.text import TfidfVectorizer\n",
    "from sklearn.ensemble import ExtraTreesClassifier, RandomForestClassifier\n",
    "from sklearn.neural_network import MLPClassifier\n",
    "from sklearn.model_selection import cross_val_score\n",
    "from sklearn.metrics import plot_confusion_matrix, classification_report, roc_auc_score, roc_curve, accuracy_score\n",
    "\n",
    "%run modules/text.py\n",
    "\n",
    "%matplotlib inline\n",
    "plt.rcParams['font.family'] = 'Arial, Helvetica, sans-serif'\n",
    "\n",
    "warnings.filterwarnings('ignore')\n",
    "pd.set_option('display.max_rows', 1000)\n",
    "pd.set_option('display.max_columns', 200)\n",
    "np.set_printoptions(suppress=True, precision=3)"
   ]
  },
  {
   "cell_type": "markdown",
   "metadata": {
    "id": "rjtF8niV1ncF"
   },
   "source": [
    "### Carregamento dos dados"
   ]
  },
  {
   "cell_type": "code",
   "execution_count": 2,
   "metadata": {
    "ExecuteTime": {
     "end_time": "2022-01-27T21:31:41.363787Z",
     "start_time": "2022-01-27T21:31:34.787110Z"
    },
    "colab": {
     "base_uri": "https://localhost:8080/",
     "height": 134
    },
    "id": "H8Xxqiwcoygh",
    "outputId": "948da79f-e337-4029-b318-a0ef40832d18"
   },
   "outputs": [
    {
     "name": "stdout",
     "output_type": "stream",
     "text": [
      "Linhas: 1707393 | Coluna:  28\n"
     ]
    },
    {
     "data": {
      "text/html": [
       "<div>\n",
       "<style scoped>\n",
       "    .dataframe tbody tr th:only-of-type {\n",
       "        vertical-align: middle;\n",
       "    }\n",
       "\n",
       "    .dataframe tbody tr th {\n",
       "        vertical-align: top;\n",
       "    }\n",
       "\n",
       "    .dataframe thead th {\n",
       "        text-align: right;\n",
       "    }\n",
       "</style>\n",
       "<table border=\"1\" class=\"dataframe\">\n",
       "  <thead>\n",
       "    <tr style=\"text-align: right;\">\n",
       "      <th></th>\n",
       "      <th>id</th>\n",
       "      <th>dia_semana</th>\n",
       "      <th>uf</th>\n",
       "      <th>br</th>\n",
       "      <th>municipio</th>\n",
       "      <th>causa_acidente</th>\n",
       "      <th>tipo_acidente</th>\n",
       "      <th>classificacao_acidente</th>\n",
       "      <th>fase_dia</th>\n",
       "      <th>sentido_via</th>\n",
       "      <th>condicao_metereologica</th>\n",
       "      <th>tipo_pista</th>\n",
       "      <th>tracado_via</th>\n",
       "      <th>uso_solo</th>\n",
       "      <th>tipo_veiculo</th>\n",
       "      <th>tipo_envolvido</th>\n",
       "      <th>estado_fisico</th>\n",
       "      <th>idade</th>\n",
       "      <th>sexo</th>\n",
       "      <th>data</th>\n",
       "      <th>mes</th>\n",
       "      <th>ano</th>\n",
       "      <th>tipo_acidente_agrupado</th>\n",
       "      <th>fase_dia_agrupado</th>\n",
       "      <th>dia_semana_agrupado</th>\n",
       "      <th>condicao_metereologica_agrupado</th>\n",
       "      <th>porte_veiculo</th>\n",
       "      <th>faixa_etaria</th>\n",
       "    </tr>\n",
       "  </thead>\n",
       "  <tbody>\n",
       "    <tr>\n",
       "      <th>0</th>\n",
       "      <td>83123216.0</td>\n",
       "      <td>quarta</td>\n",
       "      <td>SC</td>\n",
       "      <td>101</td>\n",
       "      <td>Balneario Camboriu</td>\n",
       "      <td>nao guardar distancia de seguranca</td>\n",
       "      <td>colisao traseira</td>\n",
       "      <td>sem vitimas</td>\n",
       "      <td>plena noite</td>\n",
       "      <td>decrescente</td>\n",
       "      <td>chuva</td>\n",
       "      <td>simples</td>\n",
       "      <td>reta</td>\n",
       "      <td>urbano</td>\n",
       "      <td>automovel</td>\n",
       "      <td>condutor</td>\n",
       "      <td>ileso</td>\n",
       "      <td>29</td>\n",
       "      <td>masculino</td>\n",
       "      <td>2014-01-01</td>\n",
       "      <td>1</td>\n",
       "      <td>2014</td>\n",
       "      <td>colisão</td>\n",
       "      <td>noite</td>\n",
       "      <td>dia útil</td>\n",
       "      <td>tempo ruim</td>\n",
       "      <td>pequeno porte</td>\n",
       "      <td>jovem</td>\n",
       "    </tr>\n",
       "  </tbody>\n",
       "</table>\n",
       "</div>"
      ],
      "text/plain": [
       "           id dia_semana  uf   br           municipio  \\\n",
       "0  83123216.0     quarta  SC  101  Balneario Camboriu   \n",
       "\n",
       "                       causa_acidente     tipo_acidente  \\\n",
       "0  nao guardar distancia de seguranca  colisao traseira   \n",
       "\n",
       "  classificacao_acidente     fase_dia  sentido_via condicao_metereologica  \\\n",
       "0            sem vitimas  plena noite  decrescente                  chuva   \n",
       "\n",
       "  tipo_pista tracado_via uso_solo tipo_veiculo tipo_envolvido estado_fisico  \\\n",
       "0    simples        reta   urbano    automovel       condutor         ileso   \n",
       "\n",
       "   idade       sexo        data  mes   ano tipo_acidente_agrupado  \\\n",
       "0     29  masculino  2014-01-01    1  2014                colisão   \n",
       "\n",
       "  fase_dia_agrupado dia_semana_agrupado condicao_metereologica_agrupado  \\\n",
       "0             noite            dia útil                      tempo ruim   \n",
       "\n",
       "   porte_veiculo faixa_etaria  \n",
       "0  pequeno porte        jovem  "
      ]
     },
     "execution_count": 2,
     "metadata": {},
     "output_type": "execute_result"
    }
   ],
   "source": [
    "df = pd.read_csv('dataset/classifier_acidentes_rodovias_brasileiras_2007_a_2021.csv', low_memory=False, encoding='utf-8')\n",
    "print(f'Linhas: {df.shape[0]} | Coluna:  {df.shape[1]}')\n",
    "df.head(1)"
   ]
  },
  {
   "cell_type": "markdown",
   "metadata": {},
   "source": [
    "### Agrupamento estado físico"
   ]
  },
  {
   "cell_type": "code",
   "execution_count": 3,
   "metadata": {
    "ExecuteTime": {
     "end_time": "2022-01-27T21:31:41.612031Z",
     "start_time": "2022-01-27T21:31:41.364999Z"
    }
   },
   "outputs": [
    {
     "name": "stdout",
     "output_type": "stream",
     "text": [
      "Proporção de dados na base:\n",
      "sem mortos    98.0\n",
      "com mortos     2.0\n",
      "Name: classe, dtype: float64\n"
     ]
    }
   ],
   "source": [
    "df['classe'] = df['estado_fisico'].map(mapEstadoFisico)\n",
    "print('Proporção de dados na base:')\n",
    "print((df['classe'].value_counts(normalize=True)*100).round(1))"
   ]
  },
  {
   "cell_type": "markdown",
   "metadata": {},
   "source": [
    "### Balanceamento da base"
   ]
  },
  {
   "cell_type": "code",
   "execution_count": 4,
   "metadata": {
    "ExecuteTime": {
     "end_time": "2022-01-27T21:31:43.270635Z",
     "start_time": "2022-01-27T21:31:41.613780Z"
    }
   },
   "outputs": [
    {
     "name": "stdout",
     "output_type": "stream",
     "text": [
      "Proporção de dados na base:\n",
      "com mortos    50.0\n",
      "sem mortos    50.0\n",
      "Name: classe, dtype: float64\n"
     ]
    }
   ],
   "source": [
    "com_mortos = df.query('classe==\"com mortos\"')\n",
    "sem_mortos = df.query('classe!=\"com mortos\"').groupby('classe').apply(lambda x : x.sample(n=34253, replace=False))\n",
    "sample = pd.concat([com_mortos, sem_mortos]).reset_index(drop=True)\n",
    "print('Proporção de dados na base:')\n",
    "print((sample['classe'].value_counts(normalize=True)*100).round(1))"
   ]
  },
  {
   "cell_type": "markdown",
   "metadata": {},
   "source": [
    "### Seleção de features"
   ]
  },
  {
   "cell_type": "code",
   "execution_count": 5,
   "metadata": {
    "ExecuteTime": {
     "end_time": "2022-01-27T21:31:43.304089Z",
     "start_time": "2022-01-27T21:31:43.272393Z"
    },
    "scrolled": true
   },
   "outputs": [
    {
     "data": {
      "text/html": [
       "<div>\n",
       "<style scoped>\n",
       "    .dataframe tbody tr th:only-of-type {\n",
       "        vertical-align: middle;\n",
       "    }\n",
       "\n",
       "    .dataframe tbody tr th {\n",
       "        vertical-align: top;\n",
       "    }\n",
       "\n",
       "    .dataframe thead th {\n",
       "        text-align: right;\n",
       "    }\n",
       "</style>\n",
       "<table border=\"1\" class=\"dataframe\">\n",
       "  <thead>\n",
       "    <tr style=\"text-align: right;\">\n",
       "      <th></th>\n",
       "      <th>dia_semana</th>\n",
       "      <th>fase_dia</th>\n",
       "      <th>tipo_pista</th>\n",
       "      <th>sentido_via</th>\n",
       "      <th>tracado_via</th>\n",
       "      <th>condicao_metereologica</th>\n",
       "      <th>tipo_acidente</th>\n",
       "      <th>tipo_veiculo</th>\n",
       "      <th>uf</th>\n",
       "      <th>br</th>\n",
       "      <th>sexo</th>\n",
       "      <th>faixa_etaria</th>\n",
       "      <th>classe</th>\n",
       "    </tr>\n",
       "  </thead>\n",
       "  <tbody>\n",
       "    <tr>\n",
       "      <th>0</th>\n",
       "      <td>quarta</td>\n",
       "      <td>pleno dia</td>\n",
       "      <td>simples</td>\n",
       "      <td>decrescente</td>\n",
       "      <td>curva</td>\n",
       "      <td>ceu claro</td>\n",
       "      <td>saida de pista</td>\n",
       "      <td>caminhonete</td>\n",
       "      <td>BA</td>\n",
       "      <td>242</td>\n",
       "      <td>feminino</td>\n",
       "      <td>adulto</td>\n",
       "      <td>com mortos</td>\n",
       "    </tr>\n",
       "  </tbody>\n",
       "</table>\n",
       "</div>"
      ],
      "text/plain": [
       "  dia_semana   fase_dia tipo_pista  sentido_via tracado_via  \\\n",
       "0     quarta  pleno dia    simples  decrescente       curva   \n",
       "\n",
       "  condicao_metereologica   tipo_acidente tipo_veiculo  uf   br      sexo  \\\n",
       "0              ceu claro  saida de pista  caminhonete  BA  242  feminino   \n",
       "\n",
       "  faixa_etaria      classe  \n",
       "0       adulto  com mortos  "
      ]
     },
     "execution_count": 5,
     "metadata": {},
     "output_type": "execute_result"
    }
   ],
   "source": [
    "colunas = [\n",
    "    'dia_semana',\n",
    "    'fase_dia',\n",
    "    'tipo_pista',\n",
    "    'sentido_via',\n",
    "    'tracado_via',\n",
    "    'condicao_metereologica',\n",
    "    'tipo_acidente',\n",
    "    'tipo_veiculo',\n",
    "    'uf',\n",
    "    'br',\n",
    "    'sexo',\n",
    "    'faixa_etaria',\n",
    "    'classe'\n",
    "]\n",
    "\n",
    "dados = sample[colunas]\n",
    "dados.head(1)"
   ]
  },
  {
   "cell_type": "markdown",
   "metadata": {},
   "source": [
    "### Separação dos dados"
   ]
  },
  {
   "cell_type": "code",
   "execution_count": 6,
   "metadata": {
    "ExecuteTime": {
     "end_time": "2022-01-27T21:31:43.313010Z",
     "start_time": "2022-01-27T21:31:43.305319Z"
    }
   },
   "outputs": [],
   "source": [
    "X = dados.drop(['classe'], axis=1)\n",
    "y = dados['classe']"
   ]
  },
  {
   "cell_type": "markdown",
   "metadata": {
    "lang": "en"
   },
   "source": [
    "### Label encoder"
   ]
  },
  {
   "cell_type": "code",
   "execution_count": 7,
   "metadata": {
    "ExecuteTime": {
     "end_time": "2022-01-27T21:31:43.328034Z",
     "start_time": "2022-01-27T21:31:43.314816Z"
    }
   },
   "outputs": [],
   "source": [
    "le = LabelEncoder()\n",
    "y = le.fit_transform(y)"
   ]
  },
  {
   "cell_type": "markdown",
   "metadata": {},
   "source": [
    "### Vetorização dos dados categóricos"
   ]
  },
  {
   "cell_type": "code",
   "execution_count": 8,
   "metadata": {
    "ExecuteTime": {
     "end_time": "2022-01-27T21:31:43.539791Z",
     "start_time": "2022-01-27T21:31:43.329424Z"
    }
   },
   "outputs": [],
   "source": [
    "encoder = LabelEncoder()\n",
    "for col in X.columns:\n",
    "    X[col] = encoder.fit_transform(X[col].astype(str))"
   ]
  },
  {
   "cell_type": "markdown",
   "metadata": {},
   "source": [
    "### Divisão em treino e teste"
   ]
  },
  {
   "cell_type": "code",
   "execution_count": 9,
   "metadata": {
    "ExecuteTime": {
     "end_time": "2022-01-27T21:31:43.570736Z",
     "start_time": "2022-01-27T21:31:43.540993Z"
    }
   },
   "outputs": [
    {
     "name": "stdout",
     "output_type": "stream",
     "text": [
      "Shapes: \n",
      "(47954, 12) (47954,)\n",
      "(20552, 12) (20552,)\n"
     ]
    }
   ],
   "source": [
    "X_train, X_test, y_train, y_test = train_test_split(X, y, \n",
    "                                                    test_size=0.3, \n",
    "                                                    shuffle=True, \n",
    "                                                    stratify=y)\n",
    "print('Shapes: ')\n",
    "print(X_train.shape, y_train.shape)\n",
    "print(X_test.shape, y_test.shape)"
   ]
  },
  {
   "cell_type": "markdown",
   "metadata": {},
   "source": [
    "### Testando famílias de algoritmos"
   ]
  },
  {
   "cell_type": "code",
   "execution_count": 14,
   "metadata": {
    "ExecuteTime": {
     "end_time": "2022-01-27T22:07:29.069967Z",
     "start_time": "2022-01-27T22:02:02.241657Z"
    },
    "scrolled": false
   },
   "outputs": [
    {
     "name": "stdout",
     "output_type": "stream",
     "text": [
      "Resultado para o classificador RandomForestClassifier(max_depth=3, n_estimators=700)\n",
      "0.7048462436745816\n",
      "----------------------------------------------\n",
      "Resultado para o classificador SVC()\n",
      "0.6640716231996886\n",
      "----------------------------------------------\n",
      "Resultado para o classificador ExtraTreesClassifier(max_depth=3, n_estimators=300)\n",
      "0.6642175943947061\n",
      "----------------------------------------------\n",
      "Resultado para o classificador KNeighborsClassifier(n_neighbors=10)\n",
      "0.6716621253405994\n",
      "----------------------------------------------\n",
      "Resultado para o classificador RidgeClassifier(alpha=0.01)\n",
      "0.6386239782016349\n",
      "----------------------------------------------\n",
      "Resultado para o classificador MLPClassifier(alpha=1e-05, batch_size=100, hidden_layer_sizes=[512, 256, 128],\n",
      "              max_iter=35)\n",
      "0.738224990268587\n",
      "----------------------------------------------\n"
     ]
    }
   ],
   "source": [
    "estimators = [\n",
    "    RandomForestClassifier(n_estimators=700, max_depth=3),\n",
    "    SVC(C=1.0, kernel='rbf'),\n",
    "    ExtraTreesClassifier(n_estimators=300, max_depth=3),\n",
    "    KNeighborsClassifier(n_neighbors=10),\n",
    "    RidgeClassifier(alpha=0.01),\n",
    "    MLPClassifier(hidden_layer_sizes=[512, 256, 128], activation='relu', solver='adam', alpha=1e-5, max_iter=35, batch_size=100, shuffle=True, verbose=False)\n",
    "]\n",
    "\n",
    "for clf in estimators:\n",
    "    clf.fit(X_train, y_train)\n",
    "    y_pred = clf.predict(X_test)\n",
    "    print(f'Resultado para o classificador {clf}')\n",
    "    print(accuracy_score(y_test, y_pred))\n",
    "    print('----------------------------------------------')"
   ]
  },
  {
   "cell_type": "markdown",
   "metadata": {},
   "source": [
    "### Modelagem dos dados"
   ]
  },
  {
   "cell_type": "markdown",
   "metadata": {},
   "source": [
    "Modelo"
   ]
  },
  {
   "cell_type": "code",
   "execution_count": null,
   "metadata": {},
   "outputs": [],
   "source": [
    "clf = MLPClassifier(hidden_layer_sizes=[512, 256, 128], \n",
    "                    activation='relu', \n",
    "                    solver='adam', alpha=1e-5, max_iter=35, batch_size=100, shuffle=True, verbose=False)"
   ]
  },
  {
   "cell_type": "markdown",
   "metadata": {},
   "source": [
    "Validação cruzada"
   ]
  },
  {
   "cell_type": "code",
   "execution_count": null,
   "metadata": {},
   "outputs": [],
   "source": [
    "scores = cross_val_score(clf, X, y, cv=5, scoring='accuracy', verbose=True, n_jobs=2)\n",
    "print('Accuracy: %0.2f (+/- %0.2f)' % (scores.mean(), scores.std() * 2))"
   ]
  },
  {
   "cell_type": "markdown",
   "metadata": {},
   "source": [
    "Relatório de classificação"
   ]
  },
  {
   "cell_type": "code",
   "execution_count": null,
   "metadata": {},
   "outputs": [],
   "source": [
    "clf.fit(X_train, y_train)\n",
    "y_pred = clf.predict(X_test)\n",
    "print(classification_report(y_test, y_pred, target_names=le.classes_.tolist()))"
   ]
  },
  {
   "cell_type": "markdown",
   "metadata": {},
   "source": [
    "Curva ROC - AUC"
   ]
  },
  {
   "cell_type": "code",
   "execution_count": null,
   "metadata": {},
   "outputs": [],
   "source": [
    "auc = round(roc_auc_score(y_test, y_pred), 2)\n",
    "print(f'AUC: {auc}', '/n')\n",
    "\n",
    "y_prob = clf.predict_proba(X_test)[:,1]\n",
    "fpr, tpr, _ = roc_curve(y_test,  y_prob)\n",
    "plt.rcParams['figure.figsize'] = [6, 4]\n",
    "plt.plot(fpr, tpr, label='MLP - auc='+str(auc), color='black')\n",
    "plt.plot(np.linspace(0, 1, 100), np.linspace(0, 1, 100), linestyle='--', label='Baseline')\n",
    "plt.legend(loc=4)\n",
    "plt.title('AUC', y=1.03, size=14)\n",
    "plt.ylabel('True Positive Rate')\n",
    "plt.xlabel('False Positive rate')\n",
    "plt.grid(False)\n",
    "plt.savefig('auc_acidentes_fatais.png')\n",
    "plt.show()"
   ]
  },
  {
   "cell_type": "markdown",
   "metadata": {},
   "source": [
    "Matriz de confusão"
   ]
  },
  {
   "cell_type": "code",
   "execution_count": null,
   "metadata": {},
   "outputs": [],
   "source": [
    "np.set_printoptions(precision=2)\n",
    "plt.rcParams['figure.figsize'] = [10, 5]\n",
    "disp = plot_confusion_matrix(clf, X_test, y_test,\n",
    "                                 display_labels=le.classes_.tolist(),\n",
    "                                 cmap=plt.cm.afmhot_r,\n",
    "                                 normalize='true'\n",
    "                                 )\n",
    "disp.ax_.set_title('Normalized confusion matrix', y=1.05)\n",
    "plt.grid(False)\n",
    "plt.savefig('matriz_confusao_acidentes_fatais.png')\n",
    "plt.show()"
   ]
  }
 ],
 "metadata": {
  "colab": {
   "collapsed_sections": [],
   "name": "regra_associação.ipynb",
   "provenance": []
  },
  "file_extension": ".py",
  "hide_input": false,
  "kernelspec": {
   "display_name": "Python 3 (ipykernel)",
   "language": "python",
   "name": "python3"
  },
  "language_info": {
   "codemirror_mode": {
    "name": "ipython",
    "version": 3
   },
   "file_extension": ".py",
   "mimetype": "text/x-python",
   "name": "python",
   "nbconvert_exporter": "python",
   "pygments_lexer": "ipython3",
   "version": "3.7.9"
  },
  "mimetype": "text/x-python",
  "name": "python",
  "nbTranslate": {
   "displayLangs": [
    "*"
   ],
   "hotkey": "alt-t",
   "langInMainMenu": true,
   "sourceLang": "en",
   "targetLang": "fr",
   "useGoogleTranslate": true
  },
  "npconvert_exporter": "python",
  "pygments_lexer": "ipython3",
  "toc": {
   "base_numbering": 1,
   "nav_menu": {},
   "number_sections": true,
   "sideBar": true,
   "skip_h1_title": false,
   "title_cell": "Table of Contents",
   "title_sidebar": "Contents",
   "toc_cell": false,
   "toc_position": {},
   "toc_section_display": true,
   "toc_window_display": false
  },
  "varInspector": {
   "cols": {
    "lenName": 16,
    "lenType": 16,
    "lenVar": 40
   },
   "kernels_config": {
    "python": {
     "delete_cmd_postfix": "",
     "delete_cmd_prefix": "del ",
     "library": "var_list.py",
     "varRefreshCmd": "print(var_dic_list())"
    },
    "r": {
     "delete_cmd_postfix": ") ",
     "delete_cmd_prefix": "rm(",
     "library": "var_list.r",
     "varRefreshCmd": "cat(var_dic_list()) "
    }
   },
   "types_to_exclude": [
    "module",
    "function",
    "builtin_function_or_method",
    "instance",
    "_Feature"
   ],
   "window_display": false
  },
  "version": 3
 },
 "nbformat": 4,
 "nbformat_minor": 1
}
